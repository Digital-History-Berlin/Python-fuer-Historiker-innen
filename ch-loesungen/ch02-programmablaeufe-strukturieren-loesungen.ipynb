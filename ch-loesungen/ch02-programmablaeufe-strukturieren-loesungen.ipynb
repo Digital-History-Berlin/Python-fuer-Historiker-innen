{
 "cells": [
  {
   "cell_type": "markdown",
   "id": "27dfe711",
   "metadata": {},
   "source": [
    "# Lösungen zu den Aufgaben aus dem Abschnitt Programmabläufe strukturieren\n"
   ]
  },
  {
   "cell_type": "markdown",
   "id": "838797ee",
   "metadata": {},
   "source": [
    "## Lösung: Aufgabe Bedingte Anweisungen\n",
    "\n",
    "Schreiben Sie ein kleines Programm, das eine:n Nutzer:in fragt, aus welchem Jahr die Magna Carta stammt. Abhängig von der Eingabe sollen verschiedene `print`-Kommandos ausgeführt werden: \"Die Magna Carta stammt aus einem späteren Jahr.\", \"Die Vereinbarungen stammen aus einem früheren Jahr.\", \"Die Eingabe ist korrekt!\". \n",
    "Denken Sie dabei daran, dass Sie den Wert der `input`-Funktion in ein `integer` umwandeln müssen."
   ]
  },
  {
   "cell_type": "code",
   "execution_count": null,
   "id": "a65f037f",
   "metadata": {},
   "outputs": [],
   "source": [
    "# guessing game\n",
    "\n",
    "# Initiale Nutzer:inneneingabe, da ein Zahlenwert weiterverarbeitet werden soll, \n",
    "# wird die Eingabe direkt in ein Integer umgewandelt\n",
    "user_input = int(input(\"Aus welchem Jahr stammt die Magna Carta? (Geben Sie eine Jahreszahl ein.)\"))\n",
    "\n",
    "# Zuweisung der gesuchten korrekten Antwort zu einer Variablen\n",
    "correct_answer = 1215\n",
    "\n",
    "# Prüfung, ob die Nutzer:inneneingabe der gesuchten Antwort entspricht oder zu hoch\n",
    "# bzw. zu niedrig ist\n",
    "if user_input == correct_answer:\n",
    "    print(\"Die Eingabe ist korrekt!\")\n",
    "elif user_input > correct_answer:\n",
    "    print(\"Die Vereinbarungen stammen aus einem früheren Jahr.\")\n",
    "else:\n",
    "    print(\"Die Magna Carta stammt aus einem späteren Jahr.\")"
   ]
  },
  {
   "cell_type": "markdown",
   "id": "570e3852",
   "metadata": {},
   "source": [
    "## Lösung: Aufgaben While-Schleife\n",
    "\n",
    "**Aufgabe 1** Schreiben Sie ein kurzes Programm, das prüft, ob ein durch ein:e Nutzer:in eingegebenes Wort in dem vorgegebenen ersten Absatz eines [Tagungsberichts](https://www.hsozkult.de/conferencereport/id/tagungsberichte-6455?title=digitale-metamorphose-digital-humanities-und-editionswissenschaft&recno=2313&page=116&q=&sort=&fq=&total=8538) vorkommt. Wenn das Wort vorkommt, dann soll eine entsprechende Bestätigung ausgegeben werden. Kommt das Wort nicht im Text vor, soll der:die Nutzer:in die Möglichkeit erhalten, erneut eine Eingabe zu tätigen. Möchte der:die Nutzer:in keine weitere Eingabe tätigen, dann soll das Programm eine Abschlussmeldung ausgeben und beendet werden. "
   ]
  },
  {
   "cell_type": "code",
   "execution_count": null,
   "id": "10678fe6",
   "metadata": {},
   "outputs": [],
   "source": [
    "# data\n",
    "report = '''Die Editionswissenschaft erlebt nicht zuletzt wegen einer \n",
    "            erfolgreichen Kombination von traditionellen Arbeitsweisen \n",
    "            mit Methoden der Digital Humanities einen regelrechten Hype. \n",
    "            Digitale Methoden drängen sich besonders an den Stellen auf, \n",
    "            wo sie eine Überwindung der Beschränkungen des analogen Drucks versprechen. \n",
    "            Zugleich zeichnet sich ab, dass mit einem Wechsel zu digitalen Editionsformen \n",
    "            nicht nur neue Werkzeuge genutzt werden, sondern dass sich prinzipielle \n",
    "            strukturelle Änderungen ergeben: so können analoge Editionen angereichert \n",
    "            werden oder Editionen können als Hybrid durch eine gleichwertige digitale und \n",
    "            analoge Version repräsentiert werden. Editoren werden angesichts dieser neuen\n",
    "            Möglichkeiten vor neue Herausforderungen gestellt. Gleiches gilt für Infrastrukturen, \n",
    "            die die Produkte der Editionswissenschaft publizieren und langfristig \n",
    "            verfügbar machen sollen. Grundlegende Fragen der Qualitätsmessung \n",
    "            und -bewertung, der Arbeitsorganisation, Vernetzung und Distribution \n",
    "            müssen bei der digitalen Editionswissenschaft anders bzw. neu gestellt \n",
    "            und bewertet werden. Die vom Forschungsverbund Marbach Weimar Wolfenbüttel \n",
    "            veranstaltete Tagung “Digitale Metamorphose: Digital Humanities und Editionswissenschaft” \n",
    "            betrachtete diese neuen Möglichkeiten kritisch und ging dabei auch der Frage nach, \n",
    "            welche Grenzen und Gefahren es jenseits der offensichtlichen Vorteile für \n",
    "            die Editionswissenschaft gibt.'''\n",
    "\n",
    "# Start des Programms mit einer Nutzereingabe, die genutzt werden kann, um eine sichere Abbruchbedingung \n",
    "# für die while-Schleife zu formulieren; \n",
    "# lower() wird genutzt, um die Eingabe robuster zu machen (nicht mehr case sensitive)\n",
    "user_input = input(\"Möchten Sie das Programm zur Vorkommens-Prüfung starten? (J=Ja, N=Nein)\").lower()\n",
    "\n",
    "# while-Schleife, um zu gewährleisten, dass das Programm so lange läuft, \n",
    "# wie ein*e Nutzer*in eine Eingabe tätigen möchte.\n",
    "# Sobald user_input nicht mehr \"j\" entspricht, wird die Schleife abgebrochen \n",
    "# und das Programm springt in die letzte Zeile\n",
    "while user_input == \"j\":\n",
    "    \n",
    "    # Nutzereingabe für das Wort, das geprüft werden soll\n",
    "    word = input(\"Für welches Wort möchten Sie prüfen, ob es im Text enthalten ist? \")\n",
    "    \n",
    "    # Prüfung des Vorkommens mit entsprechender Mitteilung und Möglichkeit ein weiteres Wort zu suchen.\n",
    "    if word in report:\n",
    "        print(\"Jawohl, dieses Wort ist im Text enthalten.\")\n",
    "        user_input = input(\"Möchten Sie ein weiteres Wort suchen? (J=Ja, N=Nein)\").lower()  \n",
    "    else:\n",
    "        print(\"Das Wort ist leider nicht im Text enthalten.\")\n",
    "        user_input = input(\"Möchten Sie ein weiteres Wort suchen? (J=Ja, N=Nein)\").lower()\n",
    "        \n",
    "print(\"Das Programm ist jetzt beendet. Vielen Dank fürs Mitmachen!\")"
   ]
  },
  {
   "cell_type": "markdown",
   "id": "86150bb1",
   "metadata": {},
   "source": [
    "**Aufgabe 2 \"Same but different\":** Schreiben Sie ein kurzes Programm, das eine Benutzer:in angeben lässt, in welchem Jahr die Französische Revolution begann. Das Programm soll dabei erst beendet werden, wenn das richtige Jahr angegeben wurde. Wurde ein falsches Jahr angegeben, soll der Nutzer:in mitgeteilt werden, ob die Angabe zu groß, oder zu klein war. Testen Sie Ihr Programm mit unterschiedlichen Eingaben um herauszufinden, ob es funktioniert."
   ]
  },
  {
   "cell_type": "code",
   "execution_count": null,
   "id": "df04feab",
   "metadata": {},
   "outputs": [],
   "source": [
    "# Initiale Nutzer:inneneingabe, da ein Zahlenwert weiterverarbeitet werden soll, \n",
    "# wird die Eingabe direkt in ein Integer umgewandelt\n",
    "user_input = int(input(\"In welchem Jahr begann die Französische Revolution? \"))\n",
    "\n",
    "# Zuweisung der gesuchten korrekten Antwort zu einer Variablen\n",
    "correct_date = 1789\n",
    "\n",
    "# while-Schleife, um zu gewährleisten, dass das Programm so lange läuft, wie die Nutzer:inneneingabe nicht \n",
    "# der gesuchten Anwort entspricht.\n",
    "while user_input != correct_date:\n",
    "    \n",
    "    # Prüfung, ob die Nutzer:inneneingabe zu groß ist mit Option, einen neuen Tipp abzugeben\n",
    "    if user_input > correct_date:\n",
    "        user_input = int(input(\"Die Angabe war leider zu spät. Versuchen Sie es noch mal: \"))\n",
    "    else:\n",
    "        user_input = int(input(\"Die Angabe war leider zu früh. Versuchen Sie es noch mal: \")) \n",
    "\n",
    "# Wurde das korrekte Jahr eingegeben, dann ist die Bedingung der While-Schleife nicht mehr erfüllt\n",
    "# und sie wird beendet, damit ist dann auch unser Programm am Ende angelangt.\n",
    "print(\"Das ist korrekt.\")"
   ]
  },
  {
   "cell_type": "markdown",
   "id": "3472fb5d",
   "metadata": {},
   "source": [
    "(lösung-aufgabe-primzahlen-ausgeben)=\n",
    "## Lösung: Aufgabe Primzahlen ausgeben\n",
    "\n",
    "**Knobelaufgabe für Zahlenbegeisterte** \n",
    "\n",
    "Wenden Sie das Gelernte an, indem Sie ein Programm schreiben, das mit `print()` alle [Primzahlen](https://de.wikipedia.org/wiki/Primzahl) zwischen 3 und 200 ausgibt. Zur Erinnerung: Primzahlen sind natürliche Zahlen, die nur durch 1 und durch sich selbst, nicht aber durch andere Zahlen kleiner als sie selbst teilbar sind. Falls Ihnen der Anfang schwer fällt, schauen Sie sich nochmal die Rechenoperatoren aus dem letzten Notebook an. Gegebenenfalls hilft es auch, wenn Sie sich ein Blatt Papier nehmen und in natürlicher Sprache eine auf Stichworten basierende Schritt-für-Schritt-Anleitung schreiben. Diese können Sie dann in Programmcode übersetzen."
   ]
  },
  {
   "cell_type": "code",
   "execution_count": null,
   "id": "b53df51a",
   "metadata": {},
   "outputs": [],
   "source": [
    "# Wir legen einen Schalter fest, um eine boolesche Bedingung zu prüfen\n",
    "is_prime = False\n",
    "\n",
    "# Erste for-Schleife: Wir gehen alle Zahlen von 3 bis 200 durch und prüfen jedes Mal, \n",
    "# ob es sich um eine Primzahl handelt.\n",
    "for number in range(3, 201):\n",
    "    # Zweite for-Schleife: Für jede Zahl prüfen wir, ob sie sich durch eine Zahl kleiner \n",
    "    # als sie selbst teilen lässt.\n",
    "    for divisor in range(2, number):\n",
    "        # Wenn eine Zahl durch eine andere teilbar ist, ist der Rest der Division 0.\n",
    "        # Wenn dieser Fall eintritt, kann es sich nicht um eine Primzahl handeln.\n",
    "        if number % divisor == 0:\n",
    "            is_prime = False\n",
    "            break\n",
    "        else:\n",
    "            # An dieser Stelle dürfen wir die Schleife noch nicht abbrechen. \n",
    "            # Evtl. ist die zu prüfenden\n",
    "            # Zahl i ja noch durch eine größere Zahl als der aktuelle Wert von j teilbar.\n",
    "            is_prime = True\n",
    "    \n",
    "    # Erst wenn wir i durch alle Zahlen kleiner als sich selbst geteilt haben \n",
    "    # und bei jeder Division ein Rest übrig geblieben ist, \n",
    "    # können wir sicher sein, dass es sich um eine Primzahl handelt.\n",
    "    if is_prime:\n",
    "        print(number)"
   ]
  }
 ],
 "metadata": {
  "kernelspec": {
   "display_name": "Python 3 (ipykernel)",
   "language": "python",
   "name": "python3"
  },
  "language_info": {
   "codemirror_mode": {
    "name": "ipython",
    "version": 3
   },
   "file_extension": ".py",
   "mimetype": "text/x-python",
   "name": "python",
   "nbconvert_exporter": "python",
   "pygments_lexer": "ipython3",
   "version": "3.8.12"
  },
  "toc": {
   "base_numbering": 1,
   "nav_menu": {},
   "number_sections": false,
   "sideBar": true,
   "skip_h1_title": false,
   "title_cell": "Table of Contents",
   "title_sidebar": "Contents",
   "toc_cell": false,
   "toc_position": {},
   "toc_section_display": true,
   "toc_window_display": true
  }
 },
 "nbformat": 4,
 "nbformat_minor": 5
}
