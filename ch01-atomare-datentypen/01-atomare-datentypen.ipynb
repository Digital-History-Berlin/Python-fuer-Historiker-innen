{
 "cells": [
  {
   "cell_type": "markdown",
   "id": "cc6f0a9e-b86a-4fc8-8b9a-b3a0d1543779",
   "metadata": {
    "id": "v0oo9UoAwkQV",
    "tags": []
   },
   "source": [
    "# Arbeiten mit atomaren Datentypen"
   ]
  },
  {
   "cell_type": "markdown",
   "id": "317942dc-04df-4a6c-8418-f02c84ab19f7",
   "metadata": {
    "id": "x6-80JzpwkQ0",
    "tags": []
   },
   "source": [
    "## Lernziele\n",
    "\n",
    "Was Sie am Ende dieser Lektion beantworten können sollen:\n",
    "\n",
    "-  Was sind Variabeln?\n",
    "-  Was sind Werte?\n",
    "-  Wie weist man einen Wert einer Variabeln zu?\n",
    "-  Was sind Datentypen?\n",
    "-  Was sind Kommentare?\n",
    "-  Welche arithmetischen Operatoren gibt es?\n",
    "-  Was sind *integers*?\n",
    "-  Was sind *floats*?\n",
    "-  Was sind *strings*?\n",
    "-  Wie können Informationen ein- und ausgegeben werden?\n",
    "-  Wie können wir Strings manipulieren?\n",
    "-  Wie kann der Computer als Taschenrechner verwendet werden?\n",
    "-  Wie lese ich Fehlermeldungen?"
   ]
  },
  {
   "cell_type": "markdown",
   "id": "ecd2172e",
   "metadata": {},
   "source": [
    "## Let´s code"
   ]
  },
  {
   "cell_type": "markdown",
   "id": "0885da23-9eb4-4b53-bd12-c404eaeb20e9",
   "metadata": {
    "id": "3DgMQQNMKoR3",
    "tags": []
   },
   "source": [
    ":::{note}\n",
    "Führen Sie die Beispiel-Codeblöcke bitte stets aus. Wenn Sie Binder nutzen, können Sie jederzeit weitere Text- oder Codeblöcke einfügen, um Informationen zu ergänzen oder frei zu coden.\n",
    ":::"
   ]
  }
 ],
 "metadata": {
  "kernelspec": {
   "display_name": "Python 3 (ipykernel)",
   "language": "python",
   "name": "python3"
  },
  "language_info": {
   "codemirror_mode": {
    "name": "ipython",
    "version": 3
   },
   "file_extension": ".py",
   "mimetype": "text/x-python",
   "name": "python",
   "nbconvert_exporter": "python",
   "pygments_lexer": "ipython3",
   "version": "3.8.12"
  }
 },
 "nbformat": 4,
 "nbformat_minor": 5
}
