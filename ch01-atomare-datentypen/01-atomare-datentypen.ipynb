{
 "cells": [
  {
   "cell_type": "markdown",
   "id": "cc6f0a9e-b86a-4fc8-8b9a-b3a0d1543779",
   "metadata": {
    "id": "v0oo9UoAwkQV",
    "tags": []
   },
   "source": [
    "# Arbeiten mit atomaren Datentypen"
   ]
  },
  {
   "cell_type": "markdown",
   "id": "8fbfd46d-d3f6-4148-bdee-956b702357a3",
   "metadata": {
    "id": "4AS4MASC6clz"
   },
   "source": [
    "## Ressourcen \n",
    "\n",
    "Die [umfangreiche Dokumentation](https://docs.python.org/3/) zu Python bietet hilfreiche Tutorials, ein Glossar und vor allem die Spezifikationen der einzelnen Bibliotheken beziehungsweise *libraries*.[1] Sie werden immer wieder auf sie zurückgreifen. \n",
    " \n",
    "Eine weitere wichtige Ressource, die Sie immer wieder aufsuchen werden, gleich ob Sie gerade anfangen, zu programmieren oder schon länger dabei sind, ist: [Stackoverflow](https://stackoverflow.com/). Sie werden gerade in den ersten Wochen und Monaten auf kaum ein Problem stoßen, auf das nicht zu irgendeinem Zeitpunkt in der Vergangenheit jemand vor Ihnen gestoßen ist. Lernen Sie voneinander! Wir Historiker\\*innen sitzen zwar gerne alleine am Schreibtisch, aber wenn es ums Coden geht, dann dürfen, ja *sollten* wir miteinander arbeiten. **Aber wichtig:** Auch beim Schreiben von Programmcode sollte man Zitierregeln beachten und angeben, wenn man einige Zeilen Code von jemand anderem übernommen hat."
   ]
  },
  {
   "cell_type": "markdown",
   "id": "feac84ac-e0bd-44b7-a37a-f5d08c39eaa8",
   "metadata": {
    "id": "JF9Mk8KPwkQs"
   },
   "source": [
    "## Tutorials\n",
    "\n",
    "Das *World Wide Web* ist voll mit vielen nützlichen Tutorials. Auch auf YouTube finden Sie viele empfehlenswerte Kanäle mit gut nachvollziehbaren Erklärungen, die Ihnen den Einstieg erleichtern und auch spezielle Programmbibliotheken praxisorientiert erläutern. Der Großteil der verfügbaren Angebote ist aber nicht unbedingt auf geisteswissenschaftliche Bedürfnisse zugeschnitten. Wir haben hier daher einige Empfehlungen für Sie zusammengetragen, die Ihnen im weiteren Verlauf nützlich sein können:\n",
    "\n",
    "- Ein freies Lehrbuch ist zum Beispiel [\"A Byte of Python\"](https://python.swaroopch.com/index.html). Hier werden keine Vorkenntnisse benötigt. Es stellt sicherlich auch eine gute Ergänzung für diesen Kurs dar.\n",
    "\n",
    "- Sehr gut geeignet für Einsteiger\\*innen mit geisteswissenschaftlichen Forschungsinteressen ist [\"Automate the Boring Stuff with Python\"](https://automatetheboringstuff.com/) von Al Sweigart.\n",
    "\n",
    "- Folgert Karsdorp hat eine [interaktive Einführung](https://www.karsdorp.io/python-course/) speziell für Geisteswissenschaftler\\*innen erstellt, die ebenfalls sehr einsteigerfreundlich ist. Hier finden Sie weitere Jupyter-Notebooks, die Sie begleitend zu dieser Übung bearbeiten können, wenn Sie noch mehr coden wollen. Zudem finden Sie einige Themenblöcke, die wir im Rahmen dieser Übung nicht anschneiden können.\n",
    "\n",
    "- Paul Vierthaler hat auf seinem YouTube-Kanal Tutorials für seinen [Kurs zur Textanalyse](https://www.youtube.com/playlist?list=PL6kqrM2i6BPIpEF5yHPNkYhjHm-FYWh17) zur Verfügung gestellt.\n",
    "\n",
    "- Auch auf [The Programming Historian](https://programminghistorian.org/en/lessons/?topic=python) finden Sie zahlreiche Python-Lektionen für spezifische geisteswissenschaftliche Anwendungsszenarien.\n",
    "\n",
    "- [Corey Schafer](https://www.youtube.com/user/schafer5/videos) bietet auf seinem YouTube-Kanal etliche Tutorials rundum Pythongrundlagen, Softwareentwicklung, aber auch Data Science. Dieser Kanal könnte für Sie vor allem im Anschluss an diesen Kurs interessant sein.\n",
    "\n",
    "- Auf der Seite [PythonHumanities.com](https://pythonhumanities.com/) stellt William Mattingly ebenfalls zahlreiche Videos mit Bezug Python und Digital Humanities frei zur Verfügung.\n"
   ]
  },
  {
   "cell_type": "markdown",
   "id": "317942dc-04df-4a6c-8418-f02c84ab19f7",
   "metadata": {
    "id": "x6-80JzpwkQ0",
    "tags": []
   },
   "source": [
    "## Lernziele\n",
    "\n",
    "Was Sie am Ende dieser Lektion beantworten können sollen:\n",
    "\n",
    "-  Was sind Variabeln?\n",
    "-  Was sind Werte?\n",
    "-  Wie weist man einen Wert einer Variabeln zu?\n",
    "-  Was sind Datentypen?\n",
    "-  Was sind Kommentare?\n",
    "-  Welche arithmetischen Operatoren gibt es?\n",
    "-  Was sind *integers*?\n",
    "-  Was sind *floats*?\n",
    "-  Was sind *strings*?\n",
    "-  Wie können Informationen ein- und ausgegeben werden?\n",
    "-  Wie können wir Strings manipulieren?\n",
    "-  Wie kann der Computer als Taschenrechner verwendet werden?\n",
    "-  Wie lese ich Fehlermeldungen?"
   ]
  },
  {
   "cell_type": "markdown",
   "id": "eaf89095-fbf8-4ad1-babb-c15c9d916b6a",
   "metadata": {
    "id": "43W7_7bxXH5G"
   },
   "source": [
    "Speziell für diese Übungseinheit empfehlen wir Ihnen die folgenden Ressourcen:\n",
    "\n",
    "- Wie funktionieren Jupyter Notebooks? \n",
    " - [Jupyter-Notebook-Dokumentation](https://jupyter-notebook.readthedocs.io/en/stable/)\n",
    " - [Einführung von Quinn Dombrowski et al. auf The Programming Historian](https://programminghistorian.org/en/lessons/jupyter-notebooks)\n",
    " - [YouTube-Tutorial von Michael Fudge (Kurzüberblick: 7 Minuten)](https://www.youtube.com/watch?v=jZ952vChhuI)\n",
    " - [YouTube-Tutorial von Corey Schafer (ausführlich: 30 Minuten)](https://www.youtube.com/watch?v=HW29067qVWk)\n",
    "\n",
    "- Grundlagen Python:\n",
    " - [Hacking the Humanities](https://www.youtube.com/playlist?list=PL6kqrM2i6BPIpEF5yHPNkYhjHm-FYWh17) Episoden 1-5"
   ]
  },
  {
   "cell_type": "markdown",
   "id": "0885da23-9eb4-4b53-bd12-c404eaeb20e9",
   "metadata": {
    "id": "3DgMQQNMKoR3",
    "tags": []
   },
   "source": [
    "## Let's code\n",
    "\n",
    "Hinweis: Führen Sie Beispiel-Codeblöcke bitte stets aus. Wenn Sie das Notebook über Binder ausführen, können Sie jederzeit weitere Text- oder Codeblöcke einfügen, um Informationen zu ergänzen oder frei zu coden."
   ]
  },
  {
   "cell_type": "markdown",
   "id": "9f078949-d18e-43ed-a695-17751af12fc2",
   "metadata": {
    "id": "ejHRRe1w5nO1"
   },
   "source": [
    "**Anmerkungen:** \n",
    "\n",
    "[1] Eine *library* ist eine modulare Sammlung von Funktionen und Methoden, die Ihnen den Programmier-Alltag erleichtert, da sie Ihnen viele Zeilen Code erspart. Sie werden feststellen, dass es durchaus sinnvoll ist, sich genau anzuschauen, was Ihnen da konkret für Arbeit abgenommen wird. "
   ]
  }
 ],
 "metadata": {
  "kernelspec": {
   "display_name": "Python 3 (ipykernel)",
   "language": "python",
   "name": "python3"
  },
  "language_info": {
   "codemirror_mode": {
    "name": "ipython",
    "version": 3
   },
   "file_extension": ".py",
   "mimetype": "text/x-python",
   "name": "python",
   "nbconvert_exporter": "python",
   "pygments_lexer": "ipython3",
   "version": "3.8.12"
  }
 },
 "nbformat": 4,
 "nbformat_minor": 5
}
