{
 "cells": [
  {
   "cell_type": "markdown",
   "metadata": {},
   "source": [
    "(aufgabe-skript-schreiben)=\n",
    "# Aufgabe: Skript schreiben\n",
    "\n",
    "Nun haben Sie schon einige erste Grundlagen zur Programmierung in Python kennengelernt, mit denen Sie ein kleines Skript schreiben können, das textbasierte Informationen auf Basis einer Eingabe verarbeitet und wieder ausgibt.\n",
    "Wenden Sie das Gelernte an und schreiben Sie ein kurzes, kommentiertes Programm, das die bisher kennengelernten Funktionen zur Eingabe und Ausgabe, aber auch zur Manipulation und Beschreibung von Strings beinhaltet und beliebig kombiniert. Da wir als Historiker:innen viel mit Textquellen arbeiten, ist es wichtig, mit diesem Datentyp und seinen Funktionalitäten vertraut zu sein.\n",
    "\n",
    "Hier können Sie Ihrer Kreativität aber erst einmal freien Lauf lassen. Es gibt kein *richtig* oder *falsch*, d.h. es gibt keine Musterlösung. "
   ]
  },
  {
   "cell_type": "code",
   "execution_count": null,
   "metadata": {},
   "outputs": [],
   "source": [
    "# insert your code"
   ]
  },
  {
   "cell_type": "markdown",
   "metadata": {},
   "source": [
    "Wenn Ihre Programmierkenntnisse fortgeschrittener sind, können Sie auf dieses erste Programm zurückblicken und haben vielleicht schon ein paar Ideen zur Optimierung oder Erweiterung. "
   ]
  }
 ],
 "metadata": {
  "kernelspec": {
   "display_name": "Python 3.8.3 ('base')",
   "language": "python",
   "name": "python3"
  },
  "language_info": {
   "name": "python",
   "version": "3.8.3"
  },
  "orig_nbformat": 4,
  "vscode": {
   "interpreter": {
    "hash": "fb539783ae425cb9a41fd0e05fac6b0c01245dc8f3eb338114414f2eedb48908"
   }
  }
 },
 "nbformat": 4,
 "nbformat_minor": 2
}
