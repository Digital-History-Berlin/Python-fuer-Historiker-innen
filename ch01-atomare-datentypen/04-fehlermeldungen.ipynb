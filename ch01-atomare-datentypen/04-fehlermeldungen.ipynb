{
 "cells": [
  {
   "cell_type": "markdown",
   "id": "79f1e8e1-4c58-4dd8-b21a-9d309c316a64",
   "metadata": {},
   "source": [
    "# Fehlermeldungen\n",
    "\n",
    ":::{index} Fehlermeldung\n",
    ":name: fehlermeldung\n",
    ":::\n",
    "\n",
    "Bevor Sie sich an die erste richtige Übungsaufgabe setzen, sollten wir uns noch mit etwas auseinandersetzen, das Ihnen im Laufe des Codens immer wieder begegnen wird: mit Fehlern. Sie werden immer wieder Fehler machen und das ist überhaupt nichts Schlimmes. Auch die erfahrensten Programmierer:innen machen noch Fehler. Lassen Sie sich davon also nicht entmutigen. Wichtig ist, dass Sie lernen, Fehlermeldungen zu lesen, zu verstehen und mit ihnen umzugehen.\n",
    "Wir schauen uns hier drei Fehlertypen genauer an, die gerade am Anfang häufig auftreten können: `NameError`, `SyntaxError` und `IndentationError`. \n",
    "\n",
    ":::{index} NameError\n",
    ":name: nameerror\n",
    ":::\n",
    "\n",
    "## NameError\n",
    "\n",
    "Auf den `NameError` stößt man insbesondere dann, wenn man das Programmieren mit Jupyter Notebooks lernt. Führen wir den folgenden Code aus und sehen uns die Fehlermeldung genauer an:"
   ]
  },
  {
   "cell_type": "code",
   "execution_count": null,
   "id": "f795da3c-d927-4dfd-ad76-d2c89fd0e5f9",
   "metadata": {},
   "outputs": [],
   "source": [
    "# error no. 1\n",
    "print(not_defined_variable)"
   ]
  },
  {
   "cell_type": "markdown",
   "id": "a1aa2af9-cec7-40e2-af6f-777a06363dd3",
   "metadata": {},
   "source": [
    "Die nun im Ausgabebereich angezeigte Fehlermeldung zeigt Ihnen zunächst, welche Art von Fehler vorliegt. Über den langen Pfeil (`---->`) werden Sie darauf hingewiesen, wo im Code der {term}`Interpreter` auf den Fehler gestoßen ist. Darunter finden Sie eine knappe Erläuterung des Fehlertyps.\n",
    "\n",
    "Was Ihnen die Fehlermeldung nun sagt, ist, dass Sie mit einer Variablen arbeiten, die bislang im Programmdurchlauf nicht definiert worden ist, d.h., es wurde ihr noch kein Wert zugewiesen, der Container ist also \"leer\". \n",
    "\n",
    "Auftreten kann der Fehler zum Beispiel dann, wenn Sie anfangen Ihr Notebook zu bearbeiten und es schließen, um es später weiter zu bearbeiten. Sie können unter Umständen beim nächsten Aufruf des Notebooks nicht unmittelbar dort weiter arbeiten, wo Sie aufgehört haben, wenn das, was Sie tun wollen in mehreren, aufeinander aufbauenden Codeblöcken über das Notebook verstreut ist. Der Computer ist gewissermaßen vergesslich: Beim Schließen des Notebooks wird der Speicher - oder das Gedächtnis -, in dem alle Wert-Variablen-Zuweisungen abgelegt sind, gelöscht. Beim nächsten Öffnen des Notebooks muss also der zusammenhängende Code erst wieder der Reihe nach ausgeführt werden.\n",
    "\n",
    ":::{index} SyntaxError\n",
    ":name: syntaxerror\n",
    ":::\n",
    "\n",
    "## SyntaxError\n",
    "\n",
    "Ein anderer häufiger Fehlertyp ist der `SyntaxError`, der immer dann vorkommt, wenn wir keinen validen Python-Code schreiben, wie beispielsweise in diesem Codeblock:"
   ]
  },
  {
   "cell_type": "code",
   "execution_count": null,
   "id": "41a6ba53-8f58-41cb-bfa6-56869d53f855",
   "metadata": {},
   "outputs": [],
   "source": [
    "# error no. 2\n",
    "for element in \"Textsequenz\"\n",
    "    print(element)"
   ]
  },
  {
   "cell_type": "markdown",
   "id": "c54a1a6e-459a-4971-b5fe-962a4faeb9bd",
   "metadata": {},
   "source": [
    "Diese Fehlermeldung zeigt uns nicht nur an, in welcher Zeile der {term}`Interpreter` auf fehlerhaften Code gestoßen ist, sondern auch an welcher Stelle etwas nicht so gelaufen ist, wie es der {term}`Interpreter` erwarten würde. Was fehlt hier?\n",
    "\n",
    "Was wir hier sehen ist eine `for`-Schleife, die in Python nach einem ganz bestimmten Muster aufgebaut ist und dazu dient, in kontrollierter Weise eine {term}`Anweisung` oder eine Gruppe von Anweisungen auszuführen. Sie entspricht dem folgenden Prinzip:\n",
    "\n",
    "```\n",
    "für jedes Element in einer Sequenz:\n",
    "\n",
    "        mach etwas (mit diesem Element)\n",
    "```\n",
    "\n",
    "Mit der `for`-Schleife können Sie also jedes Element eines sequenziellen Objekts, wie beispielsweise eine Zeichenkette, über die {term}`Zuweisung` zu einer Variablen bearbeiten oder als Bedingung für eine {term}`Anweisung` nutzen. Im nächsten Kapitel beschäftigen Sie sich ausführlicher damit. Was hier wichtig ist: Die Schleife muss korrekt aufgebaut sein, um ausgeführt werden zu können. Was in unserem obigen {term}`Codeblock` fehlt, ist der Doppelpunkt, der zur Einleitung einer `for`-Schleife zwingend dazu gehört. Fügen wir ihn hinzu, dann wird alles korrekt ausgeführt:\n",
    "\n"
   ]
  },
  {
   "cell_type": "code",
   "execution_count": null,
   "id": "6cf4061a-88f9-4949-a587-35a910b9a412",
   "metadata": {},
   "outputs": [],
   "source": [
    "# error no. 2 solved\n",
    "for element in \"Textsequenz\":\n",
    "    print(element)"
   ]
  },
  {
   "cell_type": "markdown",
   "id": "314491cc-c9b3-4c5a-849b-654948523b12",
   "metadata": {},
   "source": [
    ":::{index} IndentationError\n",
    ":name: indentationerror\n",
    ":::\n",
    "\n",
    ":::{index} Indentation\n",
    ":name: indentation\n",
    ":::\n",
    "\n",
    "## IndentationError\n",
    "\n",
    "Nach dem Doppelpunkt ist der Code in der Zeile darunter eingerückt. Das hatten wir bislang noch nicht thematisiert, sollte aber unbedingt beachtet werden. \n",
    "Viele bekannte Programmiersprachen wie C, C++ oder Java nutzen geschweifte Klammern (\"`{}`\"), um zusammenhängende Codeblöcke zu definieren. Python nutzt demgegenüber die Einrückung (*indentation*). Demnach beginnt ein Codeblock (also bspw. eine `for`-Schleife) mit einer Einrückung und endet mit der ersten nicht (oder weniger) eingerückten Zeile. Die Anzahl der Einrückungen je Codeblock-Ebene steht theoretisch den Nutzer:innen frei, um allerdings den gefürchteten `IndentationError` zu vermeiden, sollten wir stets die von Jupyter vorgegebene Variante nutzen, die Tabs entspricht (alternativ: 4 Whitespaces pro Einrückung).\n",
    "\n",
    "Wenn Sie sich nicht an das Gebot der Einrückung halten, dann erhalten Sie die folgende Fehlermeldung:"
   ]
  },
  {
   "cell_type": "code",
   "execution_count": null,
   "id": "9cc462c8-c251-4ff3-a831-cb723382291b",
   "metadata": {},
   "outputs": [],
   "source": [
    "# error no. 3\n",
    "for element in \"Textsequenz\":\n",
    "print(element)"
   ]
  },
  {
   "cell_type": "markdown",
   "id": "3feff929",
   "metadata": {},
   "source": [
    "Es gibt noch viele weitere Typen von Fehlern. Wenn Sie einmal bei einer Fehlermeldung nicht direkt verstehen, was sie Ihnen sagen will, dann hilft es schlicht und ergreifend, die Meldung zu googlen. In der Regel stoßen Sie auf Diskussionen oder Dokumentationseinträge, die Ihnen Aufschluss darüber geben, wie Sie Ihren Code korrigieren können ... und dann sind Sie wieder um einiges erfahrener."
   ]
  }
 ],
 "metadata": {
  "kernelspec": {
   "display_name": "Python 3.8.3 ('base')",
   "language": "python",
   "name": "python3"
  },
  "language_info": {
   "codemirror_mode": {
    "name": "ipython",
    "version": 3
   },
   "file_extension": ".py",
   "mimetype": "text/x-python",
   "name": "python",
   "nbconvert_exporter": "python",
   "pygments_lexer": "ipython3",
   "version": "3.8.3"
  },
  "vscode": {
   "interpreter": {
    "hash": "fb539783ae425cb9a41fd0e05fac6b0c01245dc8f3eb338114414f2eedb48908"
   }
  }
 },
 "nbformat": 4,
 "nbformat_minor": 5
}
