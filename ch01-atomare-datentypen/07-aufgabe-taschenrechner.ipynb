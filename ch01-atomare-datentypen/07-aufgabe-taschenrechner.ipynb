{
 "cells": [
  {
   "cell_type": "markdown",
   "id": "1efcba15-b2cf-4fbe-8136-16ade5b46869",
   "metadata": {
    "id": "OYWMMR7bxeIR"
   },
   "source": [
    "(aufgabe-computer-als-taschenrechner)=\n",
    "# Aufgabe: Der Computer als Taschenrechner\n",
    "\n",
    "Zum Abschluss dieser Lektion sollen Sie ein kleines Skript schreiben, das eine einfache mathematische Rechnung enthält. In welcher Form Sie diese integrieren bleibt Ihnen überlassen. Ihr Programmcode sollte zudem mindestens eine Eingabe-Funktion sowie eine formatierte Ausgabe enthalten. Beziehen Sie außerdem nach eigenem Ermessen aus allen Lektionsinhalten Komponenten in Ihr Skript ein.\n",
    "\n",
    "**Ihre Lösung könnte zum Beispiel aussehen wie dieser einfache Prozentrechner:**"
   ]
  },
  {
   "cell_type": "code",
   "execution_count": null,
   "id": "0e55a06f-bdc0-47c7-b4fc-5faf5b808359",
   "metadata": {
    "id": "GcqWpBA8yyEK"
   },
   "outputs": [],
   "source": [
    "# percentage calculator\n",
    "print(\"Mit diesem Rechner erfahren Sie, wie viel Sie sparen können und wie hoch der Kaufbetrag ist.\")\n",
    "\n",
    "# input\n",
    "base = float(input(\"Geben Sie den Grundwert ein (Euro): \"))\n",
    "percentage = int(input(\"Geben Sie den Rabatt ein (%): \"))\n",
    "\n",
    "# calculate the percentage value and the remaining purchase amount\n",
    "value = (base/100) * percentage\n",
    "netto = base - value\n",
    "\n",
    "# output\n",
    "print(f\"Sie sparen {value} Euro und müssen noch {netto} Euro bezahlen.\")"
   ]
  },
  {
   "cell_type": "markdown",
   "metadata": {},
   "source": [
    "**Ihr Skript:**"
   ]
  },
  {
   "cell_type": "code",
   "execution_count": null,
   "metadata": {},
   "outputs": [],
   "source": [
    "# your code"
   ]
  }
 ],
 "metadata": {
  "kernelspec": {
   "display_name": "Python 3.8.3 ('base')",
   "language": "python",
   "name": "python3"
  },
  "language_info": {
   "name": "python",
   "version": "3.8.3"
  },
  "orig_nbformat": 4,
  "vscode": {
   "interpreter": {
    "hash": "fb539783ae425cb9a41fd0e05fac6b0c01245dc8f3eb338114414f2eedb48908"
   }
  }
 },
 "nbformat": 4,
 "nbformat_minor": 2
}
