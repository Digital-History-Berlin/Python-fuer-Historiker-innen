{
 "cells": [
  {
   "cell_type": "markdown",
   "id": "04a2aaab-a314-4fe7-ad0d-acd15ce4f659",
   "metadata": {
    "id": "HC5lLIymakye"
   },
   "source": [
    "# Komplexe Datenstrukturen\n",
    "\n",
    "Inzwischen haben Sie schon einige grundlegende Pythonkenntnisse erworben. Sie können bereits mit einfachen Datentypen wie Zeichenketten oder Zahlen Berechnungen anstellen, Bedingungen und Schleifen formulieren sowie interaktive Programme schreiben und ausführen. In dieser Übungseinheit wollen wir nun noch ein paar Schritte weitergehen. Sie werden komplexe Datenstrukturen kennenlernen, die Ihnen die ein oder andere bereits gestellt Aufgabe erleichtern können und ganz neue Gestaltungsmöglichkeiten bieten. \n",
    "\n",
    "Was sind Datenstrukturen? Grundsätzlich nichts anderes als eine bestimmte Anordnung und Organisation von miteinander in Beziehung stehenden Daten. In Python gibt es vier eingebaute Datenstrukturen: *list*, *tuple*, *set* und *dictionary*. Sie bieten Ihnen einige grundlegende Funktionalitäten zur Modellierung von Daten."
   ]
  },
  {
   "cell_type": "markdown",
   "id": "ae273d7a-c53b-499b-85d8-1af8673c94c8",
   "metadata": {
    "id": "0ntpOihRORAN",
    "tags": []
   },
   "source": [
    "## Lernziele\n",
    "\n",
    "Was Sie am Ende der Lektion beantworten können sollen:\n",
    "\n",
    "- Was sind Listen?\n",
    "- Was sind Tupel?\n",
    "- Was sind Sets?\n",
    "- Was sind Dictionaries?\n",
    "\n",
    "und schließlich sollten Sie am Ende des Kapitels dazu in der Lage sein, mit diesen Datenstrukturen flexibel zu arbeiten. \n",
    "\n",
    "In den folgenden Abschnitten erwarten Sie statt einer größeren Aufgabe mehrere kleinere Teilaufgaben. Die Teilaufgaben zu Listen, Sets und Dictionaries ergeben zusammengenommen ein Miniprojekt. Sie werden einen Text aufbauend auf den vorherigen Abschnitten und den neuen Inhalten vorverarbeiten und basale textanalytische Auswertungsmethoden programmieren. \n",
    "\n",
    "## Ressourcen\n",
    "\n",
    "Für diese Übungseinheit werden die folgenden Ressourcen zusätzlich empfohlen:\n",
    "- [Hacking the Humanities](https://www.youtube.com/playlist?list=PL6kqrM2i6BPIpEF5yHPNkYhjHm-FYWh17): Episoden 6 und 9\n",
    "- [Automate the Boring Stuff: Lists](https://automatetheboringstuff.com/2e/chapter4/)\n",
    "- [Automate the Boring Stuff: Dictionaries and Structuring Data](https://automatetheboringstuff.com/2e/chapter5/)"
   ]
  }
 ],
 "metadata": {
  "kernelspec": {
   "display_name": "Python 3 (ipykernel)",
   "language": "python",
   "name": "python3"
  },
  "language_info": {
   "codemirror_mode": {
    "name": "ipython",
    "version": 3
   },
   "file_extension": ".py",
   "mimetype": "text/x-python",
   "name": "python",
   "nbconvert_exporter": "python",
   "pygments_lexer": "ipython3",
   "version": "3.8.12"
  }
 },
 "nbformat": 4,
 "nbformat_minor": 5
}
