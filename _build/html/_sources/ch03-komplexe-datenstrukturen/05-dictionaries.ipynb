{
 "cells": [
  {
   "cell_type": "markdown",
   "id": "c1b5afe0-5143-45f2-8650-744e5adf1a4b",
   "metadata": {
    "id": "M62ZleLEimTu"
   },
   "source": [
    "# [Dictionaries](https://docs.python.org/3.7/tutorial/datastructures.html#dictionaries)\n",
    "\n",
    ":::{index} Dictionary\n",
    ":name: dictionary\n",
    "::: \n",
    "\n",
    "Eine weitere zentrale Datenstruktur in Python, mit der Daten auf mächtige Art und Weise organisiert werden können, ist das sogenannte Dictionary. Sie können sich die Funktionsweise vorstellen wie bei Glossaren, Wörterbüchern oder Lexika: Auf Basis eines Schlüsselbegriffs können Sie unterschiedlich detailreiche Informationen zu diesem Begriff abrufen.\n",
    "\n",
    ":::{index} single: Dictionary ; Schlüssel-Wert-Paare\n",
    ":name: schluessel_wert_paare\n",
    ":::\n",
    "\n",
    "Wie bei einer Liste handelt es sich um eine veränderbare Sammlung von potentiell unterschiedlichen Werten. Anders als bei Listen allerdings erfolgt der Zugriff nicht automatisch über Integers als Positionsangabe, sondern über die sogenannten *keys*, denn Dictionaries bestehen aus Schlüssel-Wert-Paaren (*key-value pairs*). Die *keys* können aus unterschiedlichen Datentypen bestehen. Für das jeweilige Dictionary müssen Sie allerdings einzigartig sein, damit unmissverständlich die gespeicherten Informationen abgerufen werden können.\n",
    "\n",
    "Ein weiterer Unterschied zu Listen ist, dass Dicitionaries nicht geordnet sind. Während die Ordnung bei Listen durchaus ein Kriterium dafür ist, ob zwei Listen identisch sind, spielt dies für Dictionaries keine Rolle."
   ]
  },
  {
   "cell_type": "markdown",
   "id": "e2c63331",
   "metadata": {},
   "source": [
    "## Dictionaries erstellen\n",
    "\n",
    "Wie bei Sets werden Dicitionaries durch geschweifte Klammern `{}` interpretierbar. Sie unterscheiden sich aber hinsichtlich der Organisation der jeweils gespeicherten Daten. Ein Dictionary kann wie folgt aussehen:"
   ]
  },
  {
   "cell_type": "code",
   "execution_count": null,
   "id": "ca69aeae-fe83-4dc4-99a3-7750b893e281",
   "metadata": {
    "executionInfo": {
     "elapsed": 3,
     "status": "ok",
     "timestamp": 1644398811310,
     "user": {
      "displayName": "Martin Dröge",
      "photoUrl": "https://lh3.googleusercontent.com/a-/AOh14GjDUAoqLrc0VGVRwrz65Ow9v0C9CkY0wvhEhRv1=s64",
      "userId": "08475768952355690669"
     },
     "user_tz": -60
    },
    "id": "QZvqd384KDda"
   },
   "outputs": [],
   "source": [
    "books = {\"Franz Kafka\":\"Der Prozess\", \n",
    "         \"Charles Dickens\":\"Eine Geschichte aus zwei Städten\", \n",
    "         \"J. K. Rowling\":[\"Harry Potter und der Stein der Weisen\", \n",
    "                          \"Harry Potter und die Kammer des Schreckens\", \n",
    "                          \"Harry Potter und der Gefangene von Askaban\"]}"
   ]
  },
  {
   "cell_type": "markdown",
   "id": "12bfb59c-033f-4b5b-b041-d2a2a3ecb977",
   "metadata": {
    "id": "KmkWBgVoKZqk"
   },
   "source": [
    "::::{margin}\n",
    ":::{admonition} Wichtig!\n",
    ":class: note\n",
    "Dictionaries unterscheiden sich in ihrer Struktur von Sets.\n",
    ":::\n",
    "::::\n",
    "\n",
    ":::{index} single: Dictionary ; Keys\n",
    ":name: keys\n",
    ":::\n",
    "\n",
    ":::{index} single: Dictionary ; Values\n",
    ":name: values\n",
    ":::\n",
    "\n",
    "Mit dieser Codezeile wird ein Dictionary der Variable `books` zugewiesen. Die Schlüssel (*keys*) sind in diesem Beispiel die Namen der Autor:innen und die ihnen jeweils zugewiesenen Werte (*values*) sind korrespondierende Buchtitel. Die Zuordnung der Werte zu einem Schlüssel wird durch Doppelpunkte signalisiert, einzelne Instanzen sind durch Kommata voneinander abgegrenzt. Diese Struktur müssen Sie zur Unterscheidung von Sets beibehalten.\n",
    "\n",
    "Anhand des Eintrags zu `J. K. Rowling` wird ersichtlich, dass sich auch Dictionaries verschachteln lassen. Eine Liste als korrespondierender Wert zu einem Schlüssel bietet sich bspw. dann an, wenn Sie mit geordneten Daten arbeiten wollen. Ein *key* kann aber auch weitere Dictionaries enthalten. Das ermöglicht Ihnen, komplexe Datenstrukturen flexibel zu modellieren.\n",
    "\n",
    "Zugreifen können Sie nun auf diese Werte durch die Angabe des Schlüssels. Wie bei der Indizierung bei den bisher kennengelernten sequenziellen Datentypen werden auch hierzu eckige Klammern `[]` verwendet:[^fn1]"
   ]
  },
  {
   "cell_type": "code",
   "execution_count": null,
   "id": "fed1771c-6474-41e6-a5c0-2c02950e5544",
   "metadata": {
    "colab": {
     "base_uri": "https://localhost:8080/",
     "height": 36
    },
    "executionInfo": {
     "elapsed": 254,
     "status": "ok",
     "timestamp": 1644399560684,
     "user": {
      "displayName": "Martin Dröge",
      "photoUrl": "https://lh3.googleusercontent.com/a-/AOh14GjDUAoqLrc0VGVRwrz65Ow9v0C9CkY0wvhEhRv1=s64",
      "userId": "08475768952355690669"
     },
     "user_tz": -60
    },
    "id": "82U0awFLLHaV",
    "outputId": "24b79de4-9d43-4fdd-ce2a-485e83be829f"
   },
   "outputs": [],
   "source": [
    "\"Ein populäres Buch von Franz Kafka ist \\\"\" + books[\"Franz Kafka\"] + \"\\\".\""
   ]
  },
  {
   "cell_type": "code",
   "execution_count": null,
   "id": "5a30ef31-5388-4073-bcc5-7a0a9d786ecd",
   "metadata": {
    "colab": {
     "base_uri": "https://localhost:8080/",
     "height": 36
    },
    "executionInfo": {
     "elapsed": 299,
     "status": "ok",
     "timestamp": 1644399571102,
     "user": {
      "displayName": "Martin Dröge",
      "photoUrl": "https://lh3.googleusercontent.com/a-/AOh14GjDUAoqLrc0VGVRwrz65Ow9v0C9CkY0wvhEhRv1=s64",
      "userId": "08475768952355690669"
     },
     "user_tz": -60
    },
    "id": "ykIoCaTGLJAC",
    "outputId": "c8a74d65-4305-470b-8616-f38f2b222f42"
   },
   "outputs": [],
   "source": [
    "\"Der erste Teil in der Harry-Potter-Reihe heißt \\\"\" + books[\"J. K. Rowling\"][0] + \"\\\".\""
   ]
  },
  {
   "cell_type": "markdown",
   "id": "d2a9bd82-1a9f-4b2b-b4fe-429c5f98ef80",
   "metadata": {
    "id": "uqPcdeNwNN_0"
   },
   "source": [
    ":::{index} KeyError\n",
    ":name: keyerror\n",
    ":::\n",
    "\n",
    "Wenn Sie auf einen Schlüssel zugreifen wollen, der nicht im Dictionary hinterlegt ist, dann erhalten Sie eine `KeyError`-Fehlermeldung -- ganz ähnlich den *out of range* [`IndexError`-Fehlermeldungen](indexerror) bei Listen:"
   ]
  },
  {
   "cell_type": "code",
   "execution_count": null,
   "id": "7d5401d4-031a-4aff-b9c7-5cafdc9bc49c",
   "metadata": {
    "colab": {
     "base_uri": "https://localhost:8080/",
     "height": 189
    },
    "executionInfo": {
     "elapsed": 239,
     "status": "error",
     "timestamp": 1644399633095,
     "user": {
      "displayName": "Martin Dröge",
      "photoUrl": "https://lh3.googleusercontent.com/a-/AOh14GjDUAoqLrc0VGVRwrz65Ow9v0C9CkY0wvhEhRv1=s64",
      "userId": "08475768952355690669"
     },
     "user_tz": -60
    },
    "id": "QM8OGNv9Nu90",
    "outputId": "9db04844-107b-445f-e015-f84eacf615a5"
   },
   "outputs": [],
   "source": [
    "\"Albert Camus \\\"\" + books[\"Albert Camus\"] + \"\\\" wird in der Coronakrise wieder viel gelesen.\""
   ]
  },
  {
   "cell_type": "markdown",
   "id": "6fdf3158-a257-40d1-9aa4-d0c555db941e",
   "metadata": {
    "id": "LM9UpBuYOack"
   },
   "source": [
    "Falls wir das nicht vorhandene Schlüssel-Wert-Paar nun hinzufügen wollen, dann können wir dieselbe Schreibweise verwenden, die wir auch für den Zugriff gebrauchen, und in Kombination mit dem Zuweisungssymbol entsprechende Inhalte integrieren:"
   ]
  },
  {
   "cell_type": "code",
   "execution_count": null,
   "id": "9a2a9d09-ae95-40f6-bc52-b3ba18990bb2",
   "metadata": {
    "colab": {
     "base_uri": "https://localhost:8080/"
    },
    "executionInfo": {
     "elapsed": 278,
     "status": "ok",
     "timestamp": 1644399647712,
     "user": {
      "displayName": "Martin Dröge",
      "photoUrl": "https://lh3.googleusercontent.com/a-/AOh14GjDUAoqLrc0VGVRwrz65Ow9v0C9CkY0wvhEhRv1=s64",
      "userId": "08475768952355690669"
     },
     "user_tz": -60
    },
    "id": "A4VEDwQOArxp",
    "outputId": "fe2f8748-83cf-4bd8-db1a-c3a30808b31a"
   },
   "outputs": [],
   "source": [
    "books[\"Albert Camus\"] = \"Die Pest\"\n",
    "print(books[\"Albert Camus\"])"
   ]
  },
  {
   "cell_type": "markdown",
   "id": "37b524c5-2012-4eed-9369-e53a5d6dfa37",
   "metadata": {
    "id": "2SXX5f3618tQ"
   },
   "source": [
    "Das Dictionary `books` enthält nun ein Schlüssel-Wert-Paar bestehend aus `Albert Camus` und `Die Pest`. Auf diese Weise können beliebige Einträge hinzugefügt oder auch bearbeitet werden.\n",
    "\n"
   ]
  },
  {
   "cell_type": "markdown",
   "id": "6680bede-6b0c-41fd-aec0-8c24a8e12802",
   "metadata": {
    "id": "T7EzmACYBCAq"
   },
   "source": [
    ":::{index} single: Dictionary ; keys()\n",
    ":name: keys_\n",
    ":::\n",
    "\n",
    ":::{index} single: Dictionary ; values()\n",
    ":name: values_\n",
    ":::\n",
    "\n",
    ":::{index} single: Dictionary ; items()\n",
    ":name: items_\n",
    ":::\n",
    "\n",
    "## `keys()`, `values()` und `items()`\n",
    "\n",
    "Mit den drei Methoden `keys()`, `values()` und `items()` werden listenähnliche Objekte erzeugt, die allerdings nicht modifizierbar sind. Sie bieten einen einfachen Zugriff auf die im Dictionary gespeicherten Daten. Notieren Sie im Kommentarbereich, was die Methoden in der jeweiligen `for`-Schleife machen:"
   ]
  },
  {
   "cell_type": "code",
   "execution_count": null,
   "id": "ab68851f-6932-4e6c-9111-6f8d32eb22ab",
   "metadata": {
    "colab": {
     "base_uri": "https://localhost:8080/"
    },
    "executionInfo": {
     "elapsed": 249,
     "status": "ok",
     "timestamp": 1644399671876,
     "user": {
      "displayName": "Martin Dröge",
      "photoUrl": "https://lh3.googleusercontent.com/a-/AOh14GjDUAoqLrc0VGVRwrz65Ow9v0C9CkY0wvhEhRv1=s64",
      "userId": "08475768952355690669"
     },
     "user_tz": -60
    },
    "id": "q3hkIDGKCK2A",
    "outputId": "ba53b993-d829-4674-d5b1-2fed8cf8252a"
   },
   "outputs": [],
   "source": [
    "#\n",
    "print(type(books.keys()))\n",
    "for key in books.keys():\n",
    "    print(key)"
   ]
  },
  {
   "cell_type": "code",
   "execution_count": null,
   "id": "8c5a2e5e-9e99-4d87-bf4d-25ed0c4f277f",
   "metadata": {
    "colab": {
     "base_uri": "https://localhost:8080/"
    },
    "executionInfo": {
     "elapsed": 255,
     "status": "ok",
     "timestamp": 1644399683688,
     "user": {
      "displayName": "Martin Dröge",
      "photoUrl": "https://lh3.googleusercontent.com/a-/AOh14GjDUAoqLrc0VGVRwrz65Ow9v0C9CkY0wvhEhRv1=s64",
      "userId": "08475768952355690669"
     },
     "user_tz": -60
    },
    "id": "rqIpI8MfCkNe",
    "outputId": "dbaad423-d9e3-4ad7-b352-2ec92e32464b"
   },
   "outputs": [],
   "source": [
    "#\n",
    "print(type(books.values()))\n",
    "for value in books.values():\n",
    "    print(value)"
   ]
  },
  {
   "cell_type": "code",
   "execution_count": null,
   "id": "c1c5f6a0-ba39-4e60-bd85-53b027f1ce4b",
   "metadata": {
    "colab": {
     "base_uri": "https://localhost:8080/"
    },
    "executionInfo": {
     "elapsed": 323,
     "status": "ok",
     "timestamp": 1644399694167,
     "user": {
      "displayName": "Martin Dröge",
      "photoUrl": "https://lh3.googleusercontent.com/a-/AOh14GjDUAoqLrc0VGVRwrz65Ow9v0C9CkY0wvhEhRv1=s64",
      "userId": "08475768952355690669"
     },
     "user_tz": -60
    },
    "id": "DPuMU6E_CnW6",
    "outputId": "264c07bd-9b61-442b-8709-b5d6e3569de9"
   },
   "outputs": [],
   "source": [
    "# \n",
    "print(type(books.items()))\n",
    "for item in books.items():\n",
    "    print(item)"
   ]
  },
  {
   "cell_type": "markdown",
   "id": "ca0f273a-26d3-4d62-9b1c-53f58c28461c",
   "metadata": {
    "id": "0nGtvN3nEhLP"
   },
   "source": [
    "Diese Methoden können auch genutzt werden, um zu prüfen, ob bestimmte Werte oder Schlüssel in einem Dictionary vorhanden sind. Dazu können wieder, wie schon bei der Arbeit mit Listen, die Operatoren `in` und `not in` genutzt werden. Prüfen Sie jeweils für *keys* und *values*, ob Inhalte im `books`-Dictionary enthalten sind:"
   ]
  },
  {
   "cell_type": "code",
   "execution_count": null,
   "id": "3915ad1d-eac5-4c80-9739-628614c8b8d1",
   "metadata": {
    "id": "brcNEO64FjeT"
   },
   "outputs": [],
   "source": [
    "# your code"
   ]
  },
  {
   "cell_type": "markdown",
   "id": "ebd309cc-6c08-47f1-b312-a663217f0389",
   "metadata": {
    "id": "yQXCfBf4DMFa"
   },
   "source": [
    "Sollten Sie mit richtigen Listen weiterarbeiten wollen, dann können Sie die listenähnlichen Rückgabewerte einfach `list()` übergeben:"
   ]
  },
  {
   "cell_type": "code",
   "execution_count": null,
   "id": "7305dbdb-0234-4d71-8554-ff17a0d9026b",
   "metadata": {
    "colab": {
     "base_uri": "https://localhost:8080/"
    },
    "executionInfo": {
     "elapsed": 258,
     "status": "ok",
     "timestamp": 1644399733783,
     "user": {
      "displayName": "Martin Dröge",
      "photoUrl": "https://lh3.googleusercontent.com/a-/AOh14GjDUAoqLrc0VGVRwrz65Ow9v0C9CkY0wvhEhRv1=s64",
      "userId": "08475768952355690669"
     },
     "user_tz": -60
    },
    "id": "V4sd7SNIDemX",
    "outputId": "624da5da-31d4-4e30-fc83-dcfd8646f852"
   },
   "outputs": [],
   "source": [
    "authors = list(books.keys())\n",
    "print(type(authors))\n",
    "print(authors)"
   ]
  },
  {
   "cell_type": "markdown",
   "id": "bd839126-f499-4b3f-8715-215b6349b78e",
   "metadata": {
    "id": "CjnGPYPDF8DG"
   },
   "source": [
    ":::{index} single: Dictionary ; get()\n",
    ":name: get_\n",
    ":::\n",
    "\n",
    "## `get()`\n",
    "\n",
    "Die `get()`-Methode gibt den Wert für einen angegebenen Schlüssel zurück, wenn dieser im Dictionary existiert. Optional kann ein zweites Argument angegeben werden, das zurückgegeben werden soll, wenn der entsprechend angegebene Schlüssel fehlt. Per *default* wird `None` zurückgegeben, wenn kein Rückgabewert für diesen Fall spezifiziert wurde. "
   ]
  },
  {
   "cell_type": "code",
   "execution_count": null,
   "id": "ff0b2ab5-d90e-4005-b8b5-a1da51284ca6",
   "metadata": {
    "colab": {
     "base_uri": "https://localhost:8080/"
    },
    "executionInfo": {
     "elapsed": 243,
     "status": "ok",
     "timestamp": 1644399785491,
     "user": {
      "displayName": "Martin Dröge",
      "photoUrl": "https://lh3.googleusercontent.com/a-/AOh14GjDUAoqLrc0VGVRwrz65Ow9v0C9CkY0wvhEhRv1=s64",
      "userId": "08475768952355690669"
     },
     "user_tz": -60
    },
    "id": "vOIC8ZTqJnKk",
    "outputId": "66e79ddd-f871-4695-d9fb-3ac711731b08"
   },
   "outputs": [],
   "source": [
    "print(books.get(\"Charles Dickens\"))\n",
    "print(books.get(\"Edgar Allan Poe\"))\n",
    "print(books.get(\"Edgar Allan Poe\", \"kein Eintrag\"))"
   ]
  },
  {
   "cell_type": "markdown",
   "id": "f1ffde88-4905-455e-8477-21f7f4ed0d7f",
   "metadata": {
    "id": "JXeV7jC12iY6"
   },
   "source": [
    ":::{index} single: Dictionary ; del\n",
    ":name: dict_del_\n",
    ":::\n",
    "\n",
    ":::{index} single: Dictionary ; clear()\n",
    ":name: dict_clear_\n",
    ":::\n",
    "\n",
    "## Einträge entfernen\n",
    "\n",
    "Auch für Dictionaries stehen mit dem `del`-Statement und `clear()` Möglichkeiten zur Verfügung, um einzelne Elemente eines Dictionaries zu entfernen oder den gesamten Inhalt zu löschen:"
   ]
  },
  {
   "cell_type": "code",
   "execution_count": null,
   "id": "dc19b764-10e4-4f0a-bb59-25d566d0cccb",
   "metadata": {
    "colab": {
     "base_uri": "https://localhost:8080/"
    },
    "executionInfo": {
     "elapsed": 376,
     "status": "ok",
     "timestamp": 1644399949320,
     "user": {
      "displayName": "Martin Dröge",
      "photoUrl": "https://lh3.googleusercontent.com/a-/AOh14GjDUAoqLrc0VGVRwrz65Ow9v0C9CkY0wvhEhRv1=s64",
      "userId": "08475768952355690669"
     },
     "user_tz": -60
    },
    "id": "jWRQAo_E3Xiy",
    "outputId": "e7c7e7de-b35b-4031-dbb4-cc98c685d25a"
   },
   "outputs": [],
   "source": [
    "# delete entry on Albert Camus\n",
    "del books[\"Albert Camus\"]\n",
    "print(books)"
   ]
  },
  {
   "cell_type": "code",
   "execution_count": null,
   "id": "946358aa-05e0-42ce-b38f-6bec483b83f1",
   "metadata": {
    "colab": {
     "base_uri": "https://localhost:8080/"
    },
    "executionInfo": {
     "elapsed": 574,
     "status": "ok",
     "timestamp": 1644399953550,
     "user": {
      "displayName": "Martin Dröge",
      "photoUrl": "https://lh3.googleusercontent.com/a-/AOh14GjDUAoqLrc0VGVRwrz65Ow9v0C9CkY0wvhEhRv1=s64",
      "userId": "08475768952355690669"
     },
     "user_tz": -60
    },
    "id": "YldxxWCn3zAE",
    "outputId": "dcca4249-fb6c-4293-dce6-1676e00bc86d"
   },
   "outputs": [],
   "source": [
    "# remove all entries from dictionary\n",
    "books.clear()\n",
    "print(books)"
   ]
  },
  {
   "cell_type": "markdown",
   "id": "9cf77b2f-4a1f-4ba5-bd64-2bb790879fa2",
   "metadata": {
    "id": "5jRZkX6SirHH"
   },
   "source": [
    "(aufgabe-einfache-frequenzanalyse)=\n",
    "## Aufgabe: Einfache Frequenzanalyse\n",
    "\n",
    "Abschließend wollen wir auf Basis Ihres tokenisierten Textes ein kleines textanalytisches Programm gestalten, mit dem Sie die [absolute](https://de.wikipedia.org/wiki/Absolute_H%C3%A4ufigkeit) und [relative Frequenz](https://de.wikipedia.org/wiki/Relative_H%C3%A4ufigkeit) der in Ihrem Text enthaltenen Wörter ermitteln können. Die absolute Häufigkeit haben Sie bereits in der [Zwischenaufgabe zu den Sets](aufgaben-sets) ermittelt. Jetzt wollen wir die Funktionalitäten von Dictionaries dafür nutzen.\n",
    "\n",
    "Als Basis benötigen Sie dazu wieder Ihren tokenisierten Text. Für die Berechnung der Frequenzen definieren Sie zwei Funktionen:\n",
    "- `count_absolute_frequency()`\n",
    "  - Diese Funktion sollte ein Dictionary zurückgeben, das pro Wort (*key*) die Anzahl seines Vorkommens im Text (*value*) abspeichert.\n",
    "- `count_relative_frequency()`\n",
    "  - Diese Funktion sollte ein Dictionary zurückgeben, das die ermittelten absoluten Häufigkeiten ins Verhältnis zur Gesamtlänge des Textes setzt. Zusätzlich können Sie die so ermittelten Werte mit 1000 (zur Ermittlung der Häufigkeit pro 1000 Token) oder 100 (zur Ermittlung des prozentualen Anteils) multiplizieren, was die Vergleichbarkeit der ermittelten Werte zwischen verschieden langen Texten erleichtert.\n",
    "\n",
    "Geben Sie sowohl die absoluten als auch die relativen Häufigkeiten für Ihren Text aus.\n",
    "\n",
    "**Hinweise:**\n",
    "- Nutzen Sie Schleifen und Bedingungen \n",
    "- Für die Berechnung bei der ersten Funktion können Sie sich an Ihrer Herangehensweise im [Abschnitt über Sets](aufgaben-sets) orientieren; bei der zweiten Funktion helfen Division und Multiplikation"
   ]
  },
  {
   "cell_type": "code",
   "execution_count": null,
   "id": "2d8c7983-66f7-462c-806e-2cf9a88ab4b4",
   "metadata": {
    "id": "6mdqMcyoWqeS"
   },
   "outputs": [],
   "source": [
    "# your code"
   ]
  },
  {
   "cell_type": "markdown",
   "id": "d989c73d-ae5e-49d2-b3b6-489caeba126d",
   "metadata": {
    "id": "MdjT5ZYyLExE"
   },
   "source": [
    "\n",
    "\n",
    "---\n",
    "\n"
   ]
  },
  {
   "cell_type": "markdown",
   "id": "046f7a1a-9086-455c-87fe-284e50f7978f",
   "metadata": {
    "id": "JlrXk3Ii4Hw6"
   },
   "source": [
    "**Bemerkung:** \n",
    "\n",
    "In diesem Kapitel konnten wir Ihnen lediglich einen ersten Eindruck von der Arbeit mit Listen, Tupeln, Sets und Dictionaries vermitteln. Wenn Sie sich durch die {term}`Dokumentation` zu den einzelnen Datenstrukturen durcharbeiten, werden Sie feststellen, dass die Möglichkeiten noch sehr viel umfangreicher sind. Es bietet sich an, sich bedarfsweise und anwendungsorientiert immer tiefer einzuarbeiten.\n",
    "\n",
    "![alt text](https://res.cloudinary.com/practicaldev/image/fetch/s--AHhADEXH--/c_limit%2Cf_auto%2Cfl_progressive%2Cq_auto%2Cw_880/https://pics.me.me/trying-to-learn-any-programming-language-100-just-a-little-7917454.png)"
   ]
  },
  {
   "cell_type": "markdown",
   "id": "5903bec7",
   "metadata": {},
   "source": [
    "[^fn1]: Der Backslash in den Zeichenketten der obigen Notebookzellen dient dazu, Zeichen, die in Python nicht nur für sich selbst stehen, sondern eine besondere Funktion besitzen, wie in diesem Fall Anführungszeichen, von dieser Funktionalität zu entbinden. Das zweite Anführungszeichen in dieser Zeichenfolge `\"\\\"\"` wird vom Interpreter dann lediglich als Satzzeichen interpretiert und nicht als Abschluss des Datentyps *string*."
   ]
  }
 ],
 "metadata": {
  "kernelspec": {
   "display_name": "Python 3.8.3 ('base')",
   "language": "python",
   "name": "python3"
  },
  "language_info": {
   "codemirror_mode": {
    "name": "ipython",
    "version": 3
   },
   "file_extension": ".py",
   "mimetype": "text/x-python",
   "name": "python",
   "nbconvert_exporter": "python",
   "pygments_lexer": "ipython3",
   "version": "3.8.3"
  },
  "vscode": {
   "interpreter": {
    "hash": "fb539783ae425cb9a41fd0e05fac6b0c01245dc8f3eb338114414f2eedb48908"
   }
  }
 },
 "nbformat": 4,
 "nbformat_minor": 5
}
