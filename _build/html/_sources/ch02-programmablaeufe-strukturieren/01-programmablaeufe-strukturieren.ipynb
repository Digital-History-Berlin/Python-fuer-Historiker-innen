{
 "cells": [
  {
   "cell_type": "markdown",
   "id": "4863e406-e8b7-4003-9184-03f859b51cae",
   "metadata": {
    "id": "DciD3sIDjI_n"
   },
   "source": [
    "# Programmabläufe strukturieren\n",
    "\n",
    "Nachdem Sie nun bereits einige Grundlagen zur Programmierung in Python kennengelernt haben, werden wir diese nun ausbauen. Bisher hatten unsere Programme den folgenden Aufbau:\n",
    "\n",
    "*Anweisung 1*\n",
    "\n",
    "*Anweisung 2*\n",
    "\n",
    "*Anweisung 3*\n",
    "\n",
    "*usw.*\n",
    "\n",
    "also in tatsächlichem Code gesprochen:"
   ]
  },
  {
   "cell_type": "code",
   "execution_count": null,
   "id": "f304456f-d84b-43a5-8b83-74ddb4de819b",
   "metadata": {},
   "outputs": [],
   "source": [
    "# percentage calculator\n",
    "print('''Mit diesem Rechner erfahren Sie, \n",
    "wie viel Sie sparen können und wie hoch der Kaufbetrag ist.''')\n",
    "\n",
    "# input\n",
    "base = float(input(\"Geben Sie den Grundwert ein (Euro): \"))\n",
    "percentage = int(input(\"Geben Sie den Rabatt ein (%): \"))\n",
    "\n",
    "# calculate the percentage value and the remaining purchase amount\n",
    "value = (base/100) * percentage\n",
    "netto = base - value\n",
    "\n",
    "# output\n",
    "print(f\"Sie sparen {value} Euro und müssen noch {netto} Euro bezahlen.\")"
   ]
  },
  {
   "cell_type": "markdown",
   "id": "682fc0e8-f5aa-46b5-9d23-ac3800336e7e",
   "metadata": {},
   "source": [
    "Den obigen Codeblock kennen Sie ja bereits aus einer der Aufgabe aus der ersten Lektion.\n",
    "\n",
    "In dieser Einheit lernen Sie nun einige grundlegende Befehle kennen, mit denen Sie den Ablauf Ihrer Programme strukturieren können: Bedingte Anweisungen, Schleifen und Funktionen. \n",
    "\n",
    "Hintergrund: Oft wollen Sie Teile Ihres Programms nur dann ausführen lassen, wenn bestimmte Rahmenbedingungen herrschen -- bspw. wenn eine Variable einen bestimmten Wert hat. So könnten Sie die Berechnung im obigen Beispiel etwa von einem bestimmten Grundwert abhängig machen (das ist natürlich nur ein fiktives Szenario). An anderer Stelle sollen Teile Ihres Codes wiederholt ausgeführt werden, allerdings ohne, dass Sie die Anweisungen immer wieder mühevoll ausschreiben müssen. Das ist zum Beispiel relevant, wenn wir mehrere Dateien wie Textquellen verarbeiten wollen. Aber dazu erfahren Sie in späteren Kapiteln mehr.\n",
    "\n",
    "In dieser Lektion lernen wir erst einmal die Konzepte der bedingten Anweisungen, Schleifen und Funktionen kennen."
   ]
  },
  {
   "cell_type": "markdown",
   "id": "404253fa-7c2a-408c-bc5a-1969aa21e021",
   "metadata": {
    "id": "GlWmPdZxkbsD"
   },
   "source": [
    "## Lernziele\n",
    "\n",
    "Was Sie am Ende der Lektion beantworten können sollen:\n",
    "* Was sind Bedingte Anweisungen und wie lassen sie sich implementieren?\n",
    "* Was sind *booleans*?\n",
    "* Was sind Schleifen?\n",
    "* Was sind Funktionen?\n",
    "* Was ist Pseudocode?\n",
    "\n",
    "## Ressourcen\n",
    "\n",
    "Für diese Übungseinheit sind die folgenden Ressourcen zusätzlich hilfreich:\n",
    "\n",
    "* [Automate the Boring Stuff: Flow Control](https://automatetheboringstuff.com/2e/chapter2/)\n",
    "* [Automate the Boring Stuff: Functions](https://automatetheboringstuff.com/2e/chapter3/)\n",
    "* [Hacking the Humanities](https://www.youtube.com/playlist?list=PL6kqrM2i6BPIpEF5yHPNkYhjHm-FYWh17) Episoden 7, 8 und 12\n",
    "* [A Byte of Python: Control Flow](https://python.swaroopch.com/control_flow.html)\n",
    "* [A Byte of Python: Functions](https://python.swaroopch.com/functions.html)"
   ]
  },
  {
   "cell_type": "markdown",
   "id": "8b930182",
   "metadata": {},
   "source": []
  }
 ],
 "metadata": {
  "kernelspec": {
   "display_name": "Python 3 (ipykernel)",
   "language": "python",
   "name": "python3"
  },
  "language_info": {
   "codemirror_mode": {
    "name": "ipython",
    "version": 3
   },
   "file_extension": ".py",
   "mimetype": "text/x-python",
   "name": "python",
   "nbconvert_exporter": "python",
   "pygments_lexer": "ipython3",
   "version": "3.8.12"
  }
 },
 "nbformat": 4,
 "nbformat_minor": 5
}
