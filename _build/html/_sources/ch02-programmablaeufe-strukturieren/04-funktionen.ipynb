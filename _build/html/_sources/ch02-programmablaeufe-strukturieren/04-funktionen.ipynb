{
 "cells": [
  {
   "cell_type": "markdown",
   "id": "2344e5a8-b370-4649-be88-403e277a426d",
   "metadata": {
    "id": "Y9XiG4MOYjfm"
   },
   "source": [
    "# [Funktionen](https://www.python-kurs.eu/python3_funktionen.php)\n",
    "\n",
    ":::{index} Funktionen\n",
    ":name: funktionen\n",
    ":::\n",
    "\n",
    "## Definition von Funktionen\n",
    "\n",
    "Funktionen dienen dazu, Codeblöcke wiederverwendbar zu machen. Oft ist es erforderlich, bestimmte Aufgaben innerhalb eines Programms auch unabhängig von bestimmten Vorbedingungen (wie bei Schleifen) mehrfach auszuführen[^fn1]. Nehmen wir an, Sie möchten herausfinden, welche von zwei Zahlen größer ist als die andere:"
   ]
  },
  {
   "cell_type": "code",
   "execution_count": null,
   "id": "8e79b0a6-3e5a-4ee0-b0fd-52e1430610d6",
   "metadata": {
    "id": "XLBxF5b6Z8cr"
   },
   "outputs": [],
   "source": [
    "number_a = 42\n",
    "number_b = 23\n",
    "\n",
    "if number_a > number_b:\n",
    "    print(\"number_a ist größer als number_b\")\n",
    "elif number_a == number_b:\n",
    "    print(\"number_a und number_b sind gleich groß\")\n",
    "else:\n",
    "    print(\"number_b ist größer als number_a\")"
   ]
  },
  {
   "cell_type": "markdown",
   "id": "8296d46d-64ac-4c0e-ba21-447b936f0b93",
   "metadata": {
    "id": "NlTB8xOlaffj"
   },
   "source": [
    "Wenn Sie nun an einer anderen Stelle in Ihrem Programm wieder zwei Zahlen miteinander vergleichen möchten, könnten Sie natürlich den obigen Code kopieren und an anderer Stelle wieder einfügen. Das macht ihr Programm jedoch nicht nur umfangreicher und damit schlechter lesbar, sondern auch anfälliger für Fehler und schwieriger zu warten, wenn Sie zu einem späteren Zeitpunkt Änderungen vornehmen wollen. Sie können obigen Code daher in einer *Funktion* kapseln:"
   ]
  },
  {
   "cell_type": "code",
   "execution_count": null,
   "id": "35379efe-9c17-4de1-bc8c-fd5d6fdcdc77",
   "metadata": {
    "id": "XE8fbm_wbN_5"
   },
   "outputs": [],
   "source": [
    "def compare_numbers():\n",
    "    number_a = 42\n",
    "    number_b = 23\n",
    "\n",
    "    if number_a > number_b:\n",
    "        print(\"number_a ist größer als number_b\")\n",
    "    elif number_a == number_b:\n",
    "        print(\"number_a und number_b sind gleich groß\")\n",
    "    else:\n",
    "        print(\"number_b ist größer als number_a\")\n",
    "\n",
    "compare_numbers()\n",
    "compare_numbers()"
   ]
  },
  {
   "cell_type": "markdown",
   "id": "24ab7933-121d-49a9-abd7-b9b9383898bd",
   "metadata": {
    "id": "-nUMNnafblpP"
   },
   "source": [
    "::::{margin}\n",
    ":::{admonition} Wichtig!\n",
    ":class: note\n",
    "Die Anweisungen in einer Funktion werden eingerückt.\n",
    ":::\n",
    "::::\n",
    "\n",
    "Wie Sie sehen können, werden Funktionen mit dem {term}`Schlüsselwort` `def` definiert. Hinter dem durch Sie vergebenen Namen der Funktion müssen außerdem immer zwei Runde Klammern folgen. Das Einrücken von Codeblöcken kennen Sie bereits von `if` und `while`.\n",
    "\n",
    "In den Zeilen 12 und 13 sehen Sie, wie die Funktion jeweils einmal ausgeführt wird. Auch hier müssen auf den Namen der Funktion die runden Klammern folgen."
   ]
  },
  {
   "cell_type": "markdown",
   "id": "88d07b6d-93e3-478f-a6a0-6fbb86c4397b",
   "metadata": {
    "id": "mNXjfqppdrRq"
   },
   "source": [
    "## Parameter\n",
    "\n",
    ":::{index} single: Funktionen ; Parameter\n",
    ":name: funktionen_parameter\n",
    ":::\n",
    "\n",
    "So wie wir unsere Funktion konzipiert haben vergleicht sie immer nur die Zahlen 42 und 23 miteinander -- das ist natürlich sehr unflexibel und wenig hilfreich. Wie gehen wir also vor, wenn Sie zwei *beliebige* Zahlen miteinander vergleichen wollen? Schauen Sie sich den nächsten Codeblock an. Fällt Ihnen etwas auf?"
   ]
  },
  {
   "cell_type": "code",
   "execution_count": null,
   "id": "0c209968-b914-473f-9b37-bed87fb35802",
   "metadata": {
    "id": "8TkxUtD-eXKC"
   },
   "outputs": [],
   "source": [
    "def compare_numbers(number_a, number_b):\n",
    "    if number_a > number_b:\n",
    "        print(\"number_a ist größer als number_b\")\n",
    "    elif number_a == number_b:\n",
    "        print(\"number_a und number_b sind gleich groß\")\n",
    "    else:\n",
    "        print(\"number_b ist größer als number_a\")"
   ]
  },
  {
   "cell_type": "markdown",
   "id": "8eeb665e-1c76-4db2-8e7a-99135fb7ebac",
   "metadata": {
    "id": "iVAYYm10ekiI"
   },
   "source": [
    "Hier haben wir die Zuweisungen der Variablen `number_a` und `number_b` entfernt und diese Variablen stattdessen in den Klammern hinter dem Funktionsnamen erstmals genannt. Damit werden diese Variablen zu den *Parametern* der Funktion. Das sind Argumente, die der Funktion bei ihrem Aufruf übergeben werden. Mit diesen Argumenten arbeitet die Funktion dann auf eine bestimmte Art und Weise. Bei den konkreten Variablen-Bezeichnungen handelt es sich zunächst einmal um Platzhalter, die dann beim Aufruf der Funktion durch konkrete Werte ersetzt werden. Wie die Funktion die konkreten Argumente erhält, sehen Sie nachfolgend:"
   ]
  },
  {
   "cell_type": "code",
   "execution_count": null,
   "id": "e8bbd182-62e7-4273-bef8-04b132e49c44",
   "metadata": {
    "id": "Jp8pVkP2fC-i"
   },
   "outputs": [],
   "source": [
    "compare_numbers(12, 15)\n",
    "compare_numbers(16, 16)\n",
    "compare_numbers(15, 12)"
   ]
  },
  {
   "cell_type": "markdown",
   "id": "bfc37570-ee9f-44d2-809a-18ae327fe807",
   "metadata": {
    "id": "iUFjHYuHfh_s"
   },
   "source": [
    "Sowohl die Anzahl, als auch die Reihenfolge der Werte, die der Funktion als Parameter übergeben werden sind relevant. Beides ist bei der Definition der Funktion festgelegt. Folgende Aufrufe führen zu Fehlern:"
   ]
  },
  {
   "cell_type": "code",
   "execution_count": null,
   "id": "ad4eac0c-a9d8-444b-a630-2ecd15879ae3",
   "metadata": {
    "id": "tUtfrnXtf3iF"
   },
   "outputs": [],
   "source": [
    "compare_numbers(12)"
   ]
  },
  {
   "cell_type": "code",
   "execution_count": null,
   "id": "791109fd-1607-4547-8be8-4840f6ac3474",
   "metadata": {
    "id": "IfUYtzH0f6bU"
   },
   "outputs": [],
   "source": [
    "compare_numbers(12, 15, 23)"
   ]
  },
  {
   "cell_type": "markdown",
   "id": "50643b5c-628a-4900-b3ea-02a772613459",
   "metadata": {
    "id": "iBmvMdTHgJXP"
   },
   "source": [
    "Grundsätzlich kennen Sie die Syntax von Funktionen bereits aus einer der letzten Lektion. `print()`, `replace()` oder `type()` ruft jeweils anderswo definierten Programmcode auf und nimmt bei diesem Aufruf eine bestimmte Anzahl von Parametern an (wie bei `print(\"Hallo\")`; hier ist der String `\"Hallo\"` der übergebene Parameter)."
   ]
  },
  {
   "cell_type": "markdown",
   "id": "0f160d07-3416-43d1-aebd-08dc2ace7c63",
   "metadata": {
    "id": "PzPLKtBZlIaJ"
   },
   "source": [
    ":::{index} Namensraum\n",
    ":name: namensraum\n",
    ":::\n",
    "\n",
    "## Namensräume\n",
    "\n",
    "Bei der Arbeit mit Funktionen ist ein Konzept sehr wichtig: der sog. *Namensraum*. Namensräume bezeichnen Bereiche innerhalb Ihres Programms, in denen Variablen gültig sind. Das kennen Sie gewissermaßen auch aus alltäglichen Konzepten, wie Ihrem Familien- und Freundeskreis. Wenn Sie mit einer Ihnen nahestehenden Person über eine andere Person sprechen, reicht es oft, wenn Sie einfach einen Vornamen verwenden. Sie können Informationen reduzieren, weil Vieles bereits als bekannt vorausgesetzt werden kann. Flüchtigen Bekanntschaften gegenüber sind diese Informationen aber unter Umständen nicht bekannt und sie können mit einem einfachen Vornamen nichts anfangen. Ein anderes Beispiel sind Telefon- bzw. Handynummern, die innerhalb eines bestimmten Vorwahlbereichs Gültigkeit besitzen oder Matrikelnummern, die in Abhängigkeit von der jeweiligen Universität zu konkreten Personen verweisen, davon unabhängig aber keine Bedeutung haben.\n",
    "\n",
    "Wie gestaltet sich das nun in unseren Programmcodes? Sehen Sie sich den nachfolgenden Code an. Welches Ergebnis erwarten Sie? Führen Sie den Code anschließend aus."
   ]
  },
  {
   "cell_type": "code",
   "execution_count": null,
   "id": "edcfe12e-fc2e-40e7-a449-47a31690019e",
   "metadata": {
    "id": "tauMwEsTlgr0"
   },
   "outputs": [],
   "source": [
    "def my_function():\n",
    "    my_number = 2\n",
    "\n",
    "my_number = 5\n",
    "my_function()\n",
    "print(my_number)"
   ]
  },
  {
   "cell_type": "markdown",
   "id": "83336eea-669d-43e4-82e8-635995088d8e",
   "metadata": {
    "id": "t3gG66S7mYN-"
   },
   "source": [
    "Obwohl die Variable `my_number` durch den Aufruf der Funktion augenscheinlich ihren Wert ändern sollte, behält sie ihren ursprünglichen Wert von 5 bei. Das liegt daran, dass Python immer nur die Variablen kennt, die innerhalb eines bestimmten Kontextes (oder Namensraums) definiert wurden. Dies wird noch offensichtlicher, wenn wir obiges Programm etwas anpassen:"
   ]
  },
  {
   "cell_type": "code",
   "execution_count": null,
   "id": "33428a5e-a4a1-4502-ad51-be35014e7180",
   "metadata": {
    "id": "0Qqrl7sdnTzn"
   },
   "outputs": [],
   "source": [
    "def my_function():\n",
    "    print(my_number)\n",
    "    my_number = 2\n",
    "\n",
    "my_number = 5\n",
    "my_function()\n",
    "print(my_number)"
   ]
  },
  {
   "cell_type": "markdown",
   "id": "8d422315-bfb6-44dd-a31b-58ebdfaf18e3",
   "metadata": {
    "id": "r1fid6S6nbZE"
   },
   "source": [
    "Ein Fehler ist aufgetreten: Was ist passiert?\n",
    "\n",
    "In Zeile 2 ist dem Python-Interpreter die Variable `my_number` noch gar nicht bekannt. Zwar wurde schon vor dem Aufruf der Funktion (also bevor der Fehler auftritt) eine Variable `my_number` definiert, das jedoch in einem anderen Namensraum, nicht innerhalb der Funktion. Wenn Sie die in Zeile 5 deklarierte `my_number` innerhalb der Funktion verwenden möchten, müssen Sie ihr die Variable wie oben beschrieben als Parameter übergeben.\n",
    "\n",
    "Auch Funktionen, die von Funktionen aufgerufen werden haben dabei natürlich einen eigenen Namensraum:"
   ]
  },
  {
   "cell_type": "code",
   "execution_count": null,
   "id": "35c53b60-bf49-411e-9733-aa916caee996",
   "metadata": {
    "id": "gJ0pEHCfpUFn"
   },
   "outputs": [],
   "source": [
    "def another_function():\n",
    "    my_number = 10\n",
    "    print(my_number)\n",
    "\n",
    "def my_function():\n",
    "    my_number = 2\n",
    "    print(my_number)\n",
    "    another_function()\n",
    "\n",
    "my_number = 5\n",
    "my_function()\n",
    "print(my_number)"
   ]
  },
  {
   "cell_type": "markdown",
   "id": "439a0004-7bb0-428a-ba49-5a5752dbe176",
   "metadata": {},
   "source": [
    "Konnten Sie nachvollziehen, was hier passiert?"
   ]
  },
  {
   "cell_type": "code",
   "execution_count": null,
   "id": "d16dfd3f",
   "metadata": {},
   "outputs": [],
   "source": [
    "# your answer"
   ]
  },
  {
   "cell_type": "markdown",
   "id": "57513c2a-2e25-4e9f-a976-8ef381046cb5",
   "metadata": {
    "id": "XBKWsGb6p-l0"
   },
   "source": [
    "## Ergebnisse weiterverarbeiten\n",
    "\n",
    "Kehren wir nochmal zu unserem Ausgangsbeispiel zurück, bei dem zwei Zahlen miteinander verglichen werden:"
   ]
  },
  {
   "cell_type": "code",
   "execution_count": null,
   "id": "b80166d5-fc31-432a-8f2c-b3d1063dadf7",
   "metadata": {
    "id": "MJ0RkFeRrSKd"
   },
   "outputs": [],
   "source": [
    "def compare_numbers(number_a, number_b):\n",
    "    if number_a > number_b:\n",
    "        print(\"number_a ist größer als number_b\")\n",
    "    elif number_a == number_b:\n",
    "        print(\"number_a und number_b sind gleich groß\")\n",
    "    else:\n",
    "        print(\"number_b ist größer als number_a\")"
   ]
  },
  {
   "cell_type": "markdown",
   "id": "1fd46fab-7c3f-4219-b7b0-98d1cac8ffe5",
   "metadata": {
    "id": "gGdhpOz3rYHZ"
   },
   "source": [
    "Das Programm informiert uns zwar menschenlesbar über die Ausgabefunktionen, welches Ergebnis der Vergleich hat, automatisiert weiterverarbeiten lässt sich dieses jedoch noch nicht. Passen wir die Funktion so an, dass sie immer die größere der beiden Zahlen weiterverarbeitbar zurückgibt:"
   ]
  },
  {
   "cell_type": "code",
   "execution_count": null,
   "id": "da106ad5-9bad-4333-9332-a9c2fa15ebae",
   "metadata": {
    "id": "MWdh1vC5tGoo"
   },
   "outputs": [],
   "source": [
    "def compare_numbers(number_a, number_b):\n",
    "    if number_a > number_b:\n",
    "        return number_a\n",
    "    elif number_a == number_b:\n",
    "        return number_a\n",
    "    else:\n",
    "        return number_b"
   ]
  },
  {
   "cell_type": "markdown",
   "id": "140f6c19-dbac-425f-995f-ecbc378c9282",
   "metadata": {
    "id": "ngTXWPCDtbwx"
   },
   "source": [
    "Sobald der Python-Interpreter auf ein `return` trifft, wird die Funktion beendet und der Wert, den Sie nach `return` angeben, als Ergebnis zur Weiterverarbeitung übergeben. Wir können das Ergebnis entweder direkt in einer Variable speichern oder einer weiteren Funktion als Parameter übergeben:"
   ]
  },
  {
   "cell_type": "code",
   "execution_count": null,
   "id": "c44d215c-c35b-4727-86c8-4c5b7083c5ec",
   "metadata": {
    "id": "PT1hNaJqt2Af"
   },
   "outputs": [],
   "source": [
    "max_number = compare_numbers(12, 5)\n",
    "print(max_number)\n",
    "\n",
    "print(compare_numbers(6, 15))"
   ]
  },
  {
   "cell_type": "markdown",
   "id": "2fdacf59-7ccc-4222-92e6-35f803a1ae17",
   "metadata": {
    "id": "RajU_2q8vy40"
   },
   "source": [
    "**Erklären Sie kurz, was in der folgenden Codezeile passiert:**"
   ]
  },
  {
   "cell_type": "code",
   "execution_count": null,
   "id": "78c2da40-3780-485e-8d4d-0a73bc4e9cf6",
   "metadata": {
    "id": "UWWT-mykv3U5"
   },
   "outputs": [],
   "source": [
    "print(compare_numbers(12, compare_numbers(50, 80)))"
   ]
  },
  {
   "cell_type": "markdown",
   "id": "241a88c0-d1f7-45f5-b728-be0d05de25f9",
   "metadata": {
    "id": "DC2EiUEgv5m9"
   },
   "source": [
    "*Ihre Erklärung*"
   ]
  },
  {
   "cell_type": "code",
   "execution_count": null,
   "id": "32ee8877",
   "metadata": {},
   "outputs": [],
   "source": [
    "# your answer"
   ]
  },
  {
   "cell_type": "markdown",
   "id": "9c626ac7-bbe5-48a6-93a4-c4079e46ddd2",
   "metadata": {
    "id": "1kxtY8wruJ7g"
   },
   "source": [
    "Natürlich können wir auch Werte vom Typ Boolean zurückgeben, wenn wir eine Funktion schreiben wollen, die eine Aussage überprüfen soll:"
   ]
  },
  {
   "cell_type": "code",
   "execution_count": null,
   "id": "09213c6c-9b6b-44e5-9295-538068cfdcf4",
   "metadata": {
    "id": "7EMCnsysuU-7"
   },
   "outputs": [],
   "source": [
    "def is_greater(number_a, number_b):\n",
    "    if number_a > number_b:\n",
    "        return True\n",
    "    else:\n",
    "        return False\n",
    "\n",
    "print(is_greater(42, 21))\n",
    "print(is_greater(23, 50))"
   ]
  },
  {
   "cell_type": "markdown",
   "id": "c45648c1-c794-4b85-87d6-ccbd83a183d3",
   "metadata": {},
   "source": [
    "Damit kennen Sie nun einige Grundlagen zur Konzeption von Funktionen. Es gibt noch einige weitere Gestaltungsmöglichkeiten, z.B. die Angabe von Default-Werten, mit denen die Funktion arbeiten soll, wenn keine konkreten Parameter übergeben werden. Wenn Sie das Thema gerne vertiefen möchten, ist die  Website [Python3 - Tutorial: Funktionen](https://www.python-kurs.eu/python3_funktionen.php) zu empfehlen."
   ]
  },
  {
   "cell_type": "markdown",
   "id": "aebadebe",
   "metadata": {},
   "source": [
    "[^fn1]: Für das Konzept der *Funktion* gibt es in unterschiedlichen Programmiersprachen unterschiedliche Bezeichnungen. Oft ist auch von *Methoden* oder *(Sub-)Routinen* die Rede. Allgemein bedeuten diese Begriffe aber das Gleiche."
   ]
  }
 ],
 "metadata": {
  "kernelspec": {
   "display_name": "Python 3 (ipykernel)",
   "language": "python",
   "name": "python3"
  },
  "language_info": {
   "codemirror_mode": {
    "name": "ipython",
    "version": 3
   },
   "file_extension": ".py",
   "mimetype": "text/x-python",
   "name": "python",
   "nbconvert_exporter": "python",
   "pygments_lexer": "ipython3",
   "version": "3.8.12"
  }
 },
 "nbformat": 4,
 "nbformat_minor": 5
}
