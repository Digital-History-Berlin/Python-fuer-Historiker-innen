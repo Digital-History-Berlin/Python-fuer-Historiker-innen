{
 "cells": [
  {
   "cell_type": "markdown",
   "id": "9aeaa149-5eb4-44c0-8c99-4a3692a60b06",
   "metadata": {
    "id": "g6o61B37L_gc"
   },
   "source": [
    "# Dateien öffnen, lesen und bearbeiten\n",
    "\n",
    "Bislang haben wir Daten in Variablen gespeichert und Ergebnisse mit `print()` ausgegeben. In der Praxis wollen wir Daten natürlich dauerhaft (persistent) speichern, später wieder bearbeiten können, oder die Daten von Dritten weiterverarbeiten lassen."
   ]
  },
  {
   "cell_type": "markdown",
   "id": "83116b65-100d-4f1b-a908-36b54cd8dbe6",
   "metadata": {
    "id": "VnsOdptAcDE-"
   },
   "source": [
    "## Grundlagen Dateipfade\n",
    "\n",
    "Zu Beginn ein paar basale Grundlagen, die Ihnen vermutlich weitestgehend vertraut vorkommen.\n",
    "\n",
    "Eine Datei ist identifizierbar durch ihren Namen und ihren Dateityp. Außerdem lässt sich jede Datei irgendwo in einer Verzeichnisstruktur verorten (= sie ist in einem Ordner gespeichert, der zugleich ein Unterordner eines anderen ist).\n",
    "\n",
    "Name, Dateityp und Speicherdatei lassen sich als *Pfad* angeben. Auf Ihrem Rechner können Sie sich im Explorer/Dateimanager/Finder den Dateipfad auch einblenden lassen. Ein Beispiel: Der Dateipfad für ein Notebook kann so aussehen:\n",
    "\n",
    "für Linux und Mac:\n",
    "```\n",
    "/Users/username/Documents/Lehre/Python/dateien_verarbeiten.ipynb\n",
    "```\n",
    "\n",
    "für Windows:\n",
    "```\n",
    "C:\\Users\\username\\Documents\\Lehre\\Python\\dateien_verarbeiten.ipynb\n",
    "```\n",
    "\n",
    "Dies ist der *absolute* Dateipfad; unabhängig davon wo ich mich auf meinem Rechner befinde, zeigt er die genaue Position von `dateien_verarbeiten.ipynb` an. Die einzelnen Verzeichnisse sind dabei immer durch Slashes (/) getrennt. Beachten Sie bitte, dass das Betriebssystem Windows hier eine Ausnahme macht; dort werden Verzeichnisse durch Backslashes (\\\\) voneinander getrennt (hier beginnt der Pfad außerdem mit einem Laufwerksbuchstaben).\n",
    "\n",
    "Wenn Sie dieses Notebook auf Ihrem Rechner speichern, wird dessen Dateipfad natürlich völlig anders als in dem Beispiel aussehen. Daher ist es wichtig, so oft wie möglich mit *relativen* Pfaden zu arbeiten. Relative Pfade bezeichnen den Dateipfad ausgehend von der Position (bzw. der Position Ihres Notebooks) in der Verzeichnisstruktur. Angenommen, ein Notebook liegt (wie im obigen Beispiel) im Ordner \"Python\" auf einem Rechner. Der (relative) Dateipfad zum Notebook ausgehend vom Ordner \"Lehre\" wäre dann:\n",
    "```\n",
    "Python/dateien_verarbeiten.ipynb\n",
    "```\n",
    "Durch Angabe von \"..\" ist es möglich in einem Dateipfad einen Wechsel zu einem übergeordneten Verzeichnis anzugeben. Auf einem Rechner gibt es im Ordner \"Documents\" z.B. neben \"Lehre\" auch einen Ordner \"Publikationen\". Angenommen ich hätte ein Python-Skript im Ordner \"Publikationen\" gespeichert, das ebenfalls auf das Notebook zugreifen soll. Hier wäre der relative Dateipfad ausgehend vom Notebook im Ordner \"Python\" zu dem Skript dann:\n",
    "```\n",
    "../Publikationen/python_skript.py\n",
    "```"
   ]
  },
  {
   "cell_type": "markdown",
   "id": "863e11c0-5d1c-4396-a5e7-0d21e8a487f6",
   "metadata": {
    "id": "SM4Yf6QmPo8m"
   },
   "source": [
    "Beachten Sie, dass Sie Dateien, mit denen Sie in einem Notebook arbeiten wollen, an einer geeigneten Stelle in Ihrem Dateisystem ablegen, zum Beispiel dort, wo Sie Ihre Notebooks bearbeiten, dann können Sie ganz einfach darauf zugreifen. "
   ]
  },
  {
   "cell_type": "markdown",
   "id": "e49e0051-c065-419b-8507-640bd7d39d0f",
   "metadata": {
    "id": "v0sOxuqm03Kt"
   },
   "source": [
    "## Dateien öffnen, lesen und schreiben\n",
    "In dieser Einführung arbeiten wir ausschließlich mit textbasierten Dateiformaten (also z.B. txt, csv, json, html, tsv, md, tex, py, ...). Diese Dateien lassen sich einfach als String auslesen, der zugleich den Inhalt der Datei repräsentiert. Komplexe Formate, wie Bilder (jpgs, png, tiff, ...), PDFs, Worddokumente, Exceldateien oder Video- und Audioformate bestehen zwar letztlich auch nur aus Zeichenketten, sind aber auf eine bestimmte Weise *codiert*. Auch solche Dateien können Sie mit Python bearbeiten; hierfür werden aber bestimmte Programmbibliotheken benötigt. Falls Sie in einem eigenen Projekt mit einem dieser Formate arbeiten wollen, finden Sie die entsprechenden Bibliotheken meist nach einer kurzen Suche im Internet.\n",
    "\n",
    "Das Bearbeiten einer Datei beginnt immer mit der Funktion `open()`. Im folgenden Codeblock erstellen wir eine Testdatei, in der wir den ersten Satz aus Kafkas *Prozess* speichern."
   ]
  },
  {
   "cell_type": "code",
   "execution_count": null,
   "id": "32ca84f3-e641-4f31-82b5-7fe8eb2c7461",
   "metadata": {
    "id": "liQZYrG7_MzS"
   },
   "outputs": [],
   "source": [
    "first_sentence_prozess = '''Jemand musste Josef K. verleumdet haben, \n",
    "denn ohne dass er etwas Böses getan hätte, \n",
    "wurde er eines Morgens verhaftet. '''\n",
    "\n",
    "prozess_file = open(\"example_data/der_prozess.txt\", \"w\")\n",
    "prozess_file.write(first_sentence_prozess)\n",
    "prozess_file.close()"
   ]
  },
  {
   "cell_type": "markdown",
   "id": "27504fc0-24ae-42c2-ad2b-9722febafdb5",
   "metadata": {
    "id": "fWnDoqTCBWVx"
   },
   "source": [
    "Die Funktion `open()` erzeugt ein Objekt, das quasi als Schnittstelle zwischen Ihrem Programm und dem Betriebssystem fungiert. `open()` benötigt als Parameter den Namen bzw. Dateipfad der Datei sowie die Angabe in welchem Modus die Datei geöffnet werden soll. Da wir eine noch nicht existierende Datei neu beschreiben wollen, wählen wir hier \"w\" (write). Das File-Objekt (hier als `prozess_file` gespeichert) verfügt über verschiedene Funktionen zum Lesen und Schreiben von Dateien. Mit `write()` geben wir an, dass wir den String `first_sentence_prozess` (den wir ja in Zeile 1 definiert haben) als Inhalt der Datei speichern wollen. Mit `close()` teilen wir dem File-Objekt mit, dass wir keine Änderungen an der Datei mehr vornehmen möchten. Dieser Schritt muss immer erfolgen, wenn Sie mit Dateien arbeiten (andernfalls könnten Sie versehentlich Ressourcen Ihres Computers für das Beschreiben einer Datei binden, obwohl sie an anderer Stelle benötigt werden). Damit `close()` auch im Falle eines Fehlers ausgeführt wird, verwenden Sie am besten so oft es geht folgendes Statement:"
   ]
  },
  {
   "cell_type": "code",
   "execution_count": null,
   "id": "9e5dcd24-bf9d-4621-b260-c53674c9d9fc",
   "metadata": {
    "id": "e_EmFN3ZGhfT"
   },
   "outputs": [],
   "source": [
    "first_sentence_prozess = '''Jemand musste Josef K. verleumdet haben, \n",
    "denn ohne dass er etwas Böses getan hätte, \n",
    "wurde er eines Morgens verhaftet. '''\n",
    "\n",
    "with open(\"example_data/der_prozess.txt\", \"w\") as prozess_file:\n",
    "    prozess_file.write(first_sentence_prozess)"
   ]
  },
  {
   "cell_type": "markdown",
   "id": "880b4dd9-9343-42a4-820b-c10ba556a040",
   "metadata": {
    "id": "1c2i_2tcH5il"
   },
   "source": [
    "Wenn Sie \"w\" als zweiten Parameter für `open()` verwenden, wird der Inhalt der Datei immer komplett überschrieben. Je nachdem was Sie tun möchten, müssen Sie hier den richtigen Parameter wählen. Im Ordner \"example_data\" sollte sich nun die Datei \"der_prozess\" finden. \n",
    "\n",
    "Um etwas an einen bestehenden Dateiinhalt anzuhängen, verwenden Sie den Parameter \"a\" (append)."
   ]
  },
  {
   "cell_type": "code",
   "execution_count": null,
   "id": "9f1a8a6b-f39d-43de-928b-5b57666c231e",
   "metadata": {
    "id": "iDo2YunFI6XI"
   },
   "outputs": [],
   "source": [
    "second_sentence_prozess = '''\n",
    "Die Köchin der Frau Grubach, \n",
    "seiner Zimmervermieterin, \n",
    "die ihm jeden Tag gegen acht Uhr früh das Frühstück brachte, \n",
    "kam diesmal nicht.'''\n",
    "\n",
    "with open(\"example_data/der_prozess.txt\", \"a\") as prozess_file:\n",
    "    prozess_file.write(second_sentence_prozess)"
   ]
  },
  {
   "cell_type": "markdown",
   "id": "265aac53-777c-4b2a-81da-3012a19b4916",
   "metadata": {
    "id": "zJ57THbmJxdF"
   },
   "source": [
    "Um den Inhalt einer Datei auszulesen verwenden Sie \"r\" (read) als zweiten Parameter für `open()` sowie die Funktion `read()`. Diese gibt Ihnen den Inhalt der Datei als String zurück."
   ]
  },
  {
   "cell_type": "code",
   "execution_count": null,
   "id": "a59885c2-7803-4787-950b-672b350bf94a",
   "metadata": {
    "id": "pqd86ahKKC1e"
   },
   "outputs": [],
   "source": [
    "with open(\"example_data/der_prozess.txt\", \"r\") as prozess_file:\n",
    "    prozess_content = prozess_file.read()\n",
    "\n",
    "print(prozess_content)"
   ]
  },
  {
   "cell_type": "markdown",
   "id": "779e3e56-a85b-412c-a31e-679bbe8d9b4f",
   "metadata": {
    "id": "YXjm_StxKf5E"
   },
   "source": [
    "In einigen Fällen müssen Sie eine Datei Zeile für Zeile auslesen und weiterverarbeiten. In diesem Fall verwenden Sie die Funktion `readlines()`. Um den Unterschied zu `read()` besser erkennen zu können, geben wir noch die Länge des jeweiligen Strings aus:"
   ]
  },
  {
   "cell_type": "code",
   "execution_count": null,
   "id": "8a6a61a0-581b-404d-8dc4-5f1bff64dd95",
   "metadata": {
    "id": "NnU3kMFeKswX"
   },
   "outputs": [],
   "source": [
    "file_name = \"example_data/adliger_vergleich.txt\"\n",
    "\n",
    "with open(file_name, \"r\") as arbitration_file:\n",
    "    arbitration_content = arbitration_file.readlines()\n",
    "\n",
    "for line in arbitration_content:\n",
    "    print(\"Textzeile: \", line)\n",
    "    print(f\"Die Zeile ist {len(line)} Zeichen lang.\")\n",
    "    print('*' * 20)"
   ]
  },
  {
   "cell_type": "code",
   "execution_count": null,
   "id": "d64963eb-86e3-4995-b87d-6dce53546f4c",
   "metadata": {
    "id": "L6AVgLfRM_hc"
   },
   "outputs": [],
   "source": [
    "file_name = \"example_data/adliger_vergleich.txt\"\n",
    "\n",
    "with open(file_name, \"r\") as arbitration_file:\n",
    "    arbitration_content = arbitration_file.read()\n",
    "\n",
    "print(\"Dateiinhalt:\\n\" + arbitration_content + \"\\n\")\n",
    "print(f\"Der Dateiinhalt umfasst {len(arbitration_content)} Zeichen.\")"
   ]
  },
  {
   "cell_type": "markdown",
   "id": "fb84a474-35bf-4c89-887c-55ddeca3278f",
   "metadata": {
    "id": "mH3oIRXn6rDS"
   },
   "source": [
    "## Zeichenkodierung\n",
    "\n",
    "Möglicherweise haben Sie bei der Durchsicht der Ausgabeergebnisse festgestellt, dass manche Wörter etwas seltsam aufgelöst werden. Statt \"gräflich\" finden wir im Output bspw. die Zeichenfolge \"grÃ¤flich\". Hierbei handelt es sich um einen Konflikt bezüglich der Kodierung des Textbestandes. Die Daten sind anders kodiert als es unser Interpreter standardmäßig vermutet. \n",
    "\n",
    "Was heißt das konkret?\n",
    "Alles, was Ihnen auf dem Bildschirm Ihres Laptops, PCs, Handys oder Tablets angezeigt wird beruht im Kern auf einer Kombination von Nullen und Einsen, also auf dem Binärcode. Das heißt, dass alle Zeichen, die wir visuell auf dem Bildschirm wahrnehmen, aus einem solchen [Binärcode](https://de.wikipedia.org/wiki/Bin%C3%A4rcode) zusammengesetzt sind. Zur Repräsentation der verschiedenen Sprachfamilien haben sich im Laufe der Zeit verschiedene Kodierungssysteme herausgebildet, die das Konzept eines Zeichens mit einer graphischen Repräsentation verknüpfen. Ein früher Standard war [ASCII](https://de.wikipedia.org/wiki/American_Standard_Code_for_Information_Interchange), der aber beispielsweise keine Umlaute kodieren konnte. Heute ist vor allem [UTF-8](https://de.wikipedia.org/wiki/UTF-8) als Speicherformat für Unicode etabliert, mit dem theoretisch über eine Millionen Zeichen kodiert werden können. [Unicode](https://de.wikipedia.org/wiki/Unicode) basiert auf dem Konzept, jedes sinntragende Schriftzeichen oder Textelement aller Schriftkulturen und Zeichensysteme durch einen digitalen Code zu repräsentieren. Bei der konkreten Arbeit werden Sie aber feststellen, dass nicht alle Textdaten einer einheitlichen Kodierung entsprechen, was eben unter anderem an der Historizität von Kodierungssystemen und zum Teil sich verändernden Standards liegt.\n",
    "\n",
    "Wenn Sie Dateien einlesen oder schreiben, dann empfiehlt es sich, die Kodierung direkt zu spezifizieren. Das tun Sie, indem Sie bei Funktionen wie `open()`, `read()` oder `write()` etc. einen weiteren Parameter definieren: `encoding=\"\"`. Schauen Sie sich im folgenden Codeblock an, wie der Parameter verwendet wird:"
   ]
  },
  {
   "cell_type": "code",
   "execution_count": null,
   "id": "eb896777-5fb4-4961-acb4-bd980bb1d7cc",
   "metadata": {
    "id": "1Ln52Eu86rDS"
   },
   "outputs": [],
   "source": [
    "file_name = \"example_data/adliger_vergleich.txt\"\n",
    "\n",
    "with open(file_name, \"r\", encoding=\"utf8\") as arbitration_file:\n",
    "    arbitration_content = arbitration_file.read()\n",
    "\n",
    "print(\"Dateiinhalt:\\n\" + arbitration_content + \"\\n\")\n",
    "print(f\"Der Dateiinhalt umfasst {len(arbitration_content)} Zeichen.\")"
   ]
  },
  {
   "cell_type": "markdown",
   "id": "9dbb3588-6139-46e7-b22e-c09a6f7846ba",
   "metadata": {
    "id": "trcxam6ZNuDb"
   },
   "source": [
    "## Aufgabe: Textdaten speichern\n",
    "\n",
    "Für diese Aufgabe müssen Sie auf Ihren Code aus einem früheren Notebook zurückgreifen: Passen Sie den Programmcode aus der [Aufgabe zur Berechnung](aufgabe-primzahlen-ausgeben) der Primzahlen so an, dass die Ergebnisse nicht mehr mit `print()` ausgegeben, sondern in einer Textdatei gespeichert werden. Nach jeder Primzahl soll dabei ein Zeilenumbruch erfolgen. Falls Sie die Primzahlaufgabe nicht lösen konnten, orientieren Sie sich an der zur Verfügung gestellten [Musterlösung](loesung-aufgabe-primzahlen-ausgeben)."
   ]
  },
  {
   "cell_type": "code",
   "execution_count": null,
   "id": "dd4a6d1f-b9df-466e-a054-ef186de38975",
   "metadata": {
    "id": "4xrjUJDEOmsv"
   },
   "outputs": [],
   "source": [
    "# Ihr Code"
   ]
  },
  {
   "cell_type": "code",
   "execution_count": null,
   "id": "76f84fce-63d7-47fd-b501-1eb3cc973697",
   "metadata": {
    "tags": [
     "thebe-init",
     "hide-input"
    ]
   },
   "outputs": [],
   "source": [
    "# hidden cell creates content for using with Thebe Live-Code\n",
    "# >>>change paths, when Jupyter Book is published<<<\n",
    "\n",
    "import requests\n",
    "import os\n",
    "\n",
    "data_folder = 'example_data'\n",
    "\n",
    "try:\n",
    "    os.mkdir(data_folder)\n",
    "except:\n",
    "    pass\n",
    "\n",
    "iiif_folder = 'example_data/iiif-manifests'\n",
    "\n",
    "try:\n",
    "    os.mkdir(iiif_folder)\n",
    "except:\n",
    "    pass  \n",
    "  \n",
    "file_list_1 = [('adliger_vergleich.txt', 'https://raw.githubusercontent.com/martindroege/jb-example-data/main/adliger_vergleich.txt'),\n",
    "             ('books.csv', 'https://raw.githubusercontent.com/martindroege/jb-example-data/main/books.csv'),\n",
    "             ('library.json', 'https://raw.githubusercontent.com/martindroege/jb-example-data/main/library.json')]\n",
    "\n",
    "for file_name, url in file_list_1:\n",
    "    response = requests.get(url)\n",
    "\n",
    "    with open(f'example_data/{file_name}', 'w', encoding='UTF8') as f:\n",
    "        f.write(response.text)\n",
    "        \n",
    "file_list_2 = [1950, 2228, 2608, 2170, 2187, 2196]\n",
    "base_url = 'https://raw.githubusercontent.com/martindroege/jb-example-data/main/iiif-manifests/BnF.%20Departement%20des%20Manuscrits.%20Francais%20'\n",
    "base_file_name = 'BnF. Departement des Manuscrits. Francais '\n",
    "\n",
    "for i in file_list_2:\n",
    "    response = requests.get(f'{base_url}{str(i)}.json')\n",
    "\n",
    "    with open(f'{iiif_folder}/{base_file_name}{str(i)}.json', 'w', encoding='UTF8') as f:\n",
    "        f.write(response.text)"
   ]
  }
 ],
 "metadata": {
  "kernelspec": {
   "display_name": "Python 3 (ipykernel)",
   "language": "python",
   "name": "python3"
  },
  "language_info": {
   "codemirror_mode": {
    "name": "ipython",
    "version": 3
   },
   "file_extension": ".py",
   "mimetype": "text/x-python",
   "name": "python",
   "nbconvert_exporter": "python",
   "pygments_lexer": "ipython3",
   "version": "3.8.12"
  }
 },
 "nbformat": 4,
 "nbformat_minor": 5
}
