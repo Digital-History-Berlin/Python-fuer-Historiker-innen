{
 "cells": [
  {
   "cell_type": "markdown",
   "metadata": {},
   "source": [
    "(aufgabe-skript-schreiben)=\n",
    "# Aufgabe: Skript schreiben\n",
    "\n",
    "Nun haben Sie schon einige erste Grundlagen zur Programmierung in Python kennengelernt, mit denen Sie ein kleines Skript schreiben können, das textbasierte Informationen auf Basis einer Eingabe verarbeitet und wieder ausgibt.\n",
    "Wenden Sie das Gelernte an und schreiben Sie ein kurzes, kommentiertes Programm, das die bisher kennengelernten Funktionen zur Eingabe und Ausgabe, aber auch zur Manipulation und Beschreibung von Strings beinhaltet und beliebig kombiniert. \n",
    "\n",
    "Hier können Sie Ihrer Kreativität freien Lauf lassen. Es gibt kein *richtig* oder *falsch*, d.h. es gibt keine Musterlösung. "
   ]
  },
  {
   "cell_type": "code",
   "execution_count": null,
   "metadata": {},
   "outputs": [],
   "source": [
    "# insert your code"
   ]
  },
  {
   "cell_type": "markdown",
   "metadata": {},
   "source": [
    "Wenn Ihre Programmierkenntnisse fortgeschrittener sind, können Sie auf dieses erste Programm zurückblicken und haben vielleicht schon ein paar Ideen zur Optimierung oder Erweiterung. "
   ]
  }
 ],
 "metadata": {
  "language_info": {
   "name": "python"
  },
  "orig_nbformat": 4
 },
 "nbformat": 4,
 "nbformat_minor": 2
}
