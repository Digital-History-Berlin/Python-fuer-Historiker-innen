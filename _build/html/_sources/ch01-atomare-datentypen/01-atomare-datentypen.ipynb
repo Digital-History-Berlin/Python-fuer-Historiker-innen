{
 "cells": [
  {
   "cell_type": "markdown",
   "id": "cc6f0a9e-b86a-4fc8-8b9a-b3a0d1543779",
   "metadata": {
    "id": "v0oo9UoAwkQV",
    "tags": []
   },
   "source": [
    "# Arbeiten mit atomaren Datentypen\n",
    "\n",
    "In diesem Kapitel werden Sie Schritt für Schritt an die Grundlagen von Python herangeführt, mit denen Sie erste kleinere Programmieraufgaben lösen können. Sie werden die Arbeit mit Werten und Variablen kennenlernen, welche Datentypen es gibt und wie Sie Ihren Code durch Kommentare nachvollziehbar machen können. "
   ]
  },
  {
   "cell_type": "markdown",
   "id": "317942dc-04df-4a6c-8418-f02c84ab19f7",
   "metadata": {
    "id": "x6-80JzpwkQ0",
    "tags": []
   },
   "source": [
    "## Lernziele\n",
    "\n",
    "Was Sie am Ende dieser Lektion beantworten können sollen:\n",
    "\n",
    "-  Was sind Variabeln?\n",
    "-  Was sind Werte?\n",
    "-  Wie weist man einen Wert einer Variabeln zu?\n",
    "-  Was sind Datentypen?\n",
    "-  Was sind Kommentare?\n",
    "-  Welche arithmetischen Operatoren gibt es?\n",
    "-  Was sind *integers*?\n",
    "-  Was sind *floats*?\n",
    "-  Was sind *strings*?\n",
    "-  Wie können Informationen ein- und ausgegeben werden?\n",
    "-  Wie können wir Strings manipulieren?\n",
    "-  Wie kann der Computer als Taschenrechner verwendet werden?\n",
    "\n",
    "Prüfen Sie gerne am Ende jedes Kapitels, ob Sie diese Fragen für sich beantworten können.\n",
    "\n",
    "**Let's code!**"
   ]
  }
 ],
 "metadata": {
  "kernelspec": {
   "display_name": "Python 3 (ipykernel)",
   "language": "python",
   "name": "python3"
  },
  "language_info": {
   "codemirror_mode": {
    "name": "ipython",
    "version": 3
   },
   "file_extension": ".py",
   "mimetype": "text/x-python",
   "name": "python",
   "nbconvert_exporter": "python",
   "pygments_lexer": "ipython3",
   "version": "3.8.12"
  }
 },
 "nbformat": 4,
 "nbformat_minor": 5
}
