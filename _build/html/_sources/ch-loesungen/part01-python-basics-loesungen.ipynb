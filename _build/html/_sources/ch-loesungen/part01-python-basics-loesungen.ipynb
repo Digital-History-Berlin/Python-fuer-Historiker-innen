{
 "cells": [
  {
   "cell_type": "markdown",
   "metadata": {},
   "source": [
    "# Lösungen zu den Aufgaben aus Part Python Basics\n",
    "\n",
    ":::{note}\n",
    "Bei den Lösungen handelt es sich um Vorschläge. \n",
    "\n",
    "Es gibt nicht einen einzigen richtigen Lösungsweg.\n",
    ":::"
   ]
  }
 ],
 "metadata": {
  "language_info": {
   "name": "python"
  },
  "orig_nbformat": 4
 },
 "nbformat": 4,
 "nbformat_minor": 2
}
