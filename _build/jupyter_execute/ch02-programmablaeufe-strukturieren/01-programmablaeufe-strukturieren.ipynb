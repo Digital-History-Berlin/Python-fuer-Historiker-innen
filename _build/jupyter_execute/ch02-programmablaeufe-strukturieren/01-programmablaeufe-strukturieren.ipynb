{
 "cells": [
  {
   "cell_type": "markdown",
   "id": "4863e406-e8b7-4003-9184-03f859b51cae",
   "metadata": {
    "id": "DciD3sIDjI_n"
   },
   "source": [
    "# Programmabläufe strukturieren\n",
    "\n",
    "Nachdem Sie nun bereits einige Grundlagen zur Programmierung in Python kennengelernt haben, werden wir diese nun ausbauen. Bisher hatten unsere Programme den folgenden Aufbau:\n",
    "\n",
    "*Anweisung 1*\n",
    "\n",
    "*Anweisung 2*\n",
    "\n",
    "*Anweisung 3*\n",
    "\n",
    "*usw.*\n",
    "\n",
    "also in tatsächlichem Code gesprochen:"
   ]
  },
  {
   "cell_type": "code",
   "execution_count": 1,
   "id": "f304456f-d84b-43a5-8b83-74ddb4de819b",
   "metadata": {},
   "outputs": [
    {
     "name": "stdout",
     "output_type": "stream",
     "text": [
      "Mit diesem Rechner erfahren Sie kinderleicht, \n",
      "         wie viel Sie sparen können und wie hoch der Kaufbetrag ist.\n"
     ]
    },
    {
     "ename": "StdinNotImplementedError",
     "evalue": "raw_input was called, but this frontend does not support input requests.",
     "output_type": "error",
     "traceback": [
      "\u001b[1;31m---------------------------------------------------------------------------\u001b[0m",
      "\u001b[1;31mStdinNotImplementedError\u001b[0m                  Traceback (most recent call last)",
      "\u001b[1;32m~\\AppData\\Local\\Temp/ipykernel_20120/1273869717.py\u001b[0m in \u001b[0;36m<module>\u001b[1;34m\u001b[0m\n\u001b[0;32m      4\u001b[0m \u001b[1;33m\u001b[0m\u001b[0m\n\u001b[0;32m      5\u001b[0m \u001b[1;31m# input\u001b[0m\u001b[1;33m\u001b[0m\u001b[1;33m\u001b[0m\u001b[1;33m\u001b[0m\u001b[0m\n\u001b[1;32m----> 6\u001b[1;33m \u001b[0mbase\u001b[0m \u001b[1;33m=\u001b[0m \u001b[0mfloat\u001b[0m\u001b[1;33m(\u001b[0m\u001b[0minput\u001b[0m\u001b[1;33m(\u001b[0m\u001b[1;34m\"Geben Sie den Grundwert ein (Euro): \"\u001b[0m\u001b[1;33m)\u001b[0m\u001b[1;33m)\u001b[0m\u001b[1;33m\u001b[0m\u001b[1;33m\u001b[0m\u001b[0m\n\u001b[0m\u001b[0;32m      7\u001b[0m \u001b[0mpercentage\u001b[0m \u001b[1;33m=\u001b[0m \u001b[0mint\u001b[0m\u001b[1;33m(\u001b[0m\u001b[0minput\u001b[0m\u001b[1;33m(\u001b[0m\u001b[1;34m\"Geben Sie den Rabatt ein (%): \"\u001b[0m\u001b[1;33m)\u001b[0m\u001b[1;33m)\u001b[0m\u001b[1;33m\u001b[0m\u001b[1;33m\u001b[0m\u001b[0m\n\u001b[0;32m      8\u001b[0m \u001b[1;33m\u001b[0m\u001b[0m\n",
      "\u001b[1;32mC:\\JupyterLab\\resources\\jlab_server\\envs\\base2exp\\lib\\site-packages\\ipykernel\\kernelbase.py\u001b[0m in \u001b[0;36mraw_input\u001b[1;34m(self, prompt)\u001b[0m\n\u001b[0;32m   1001\u001b[0m         \"\"\"\n\u001b[0;32m   1002\u001b[0m         \u001b[1;32mif\u001b[0m \u001b[1;32mnot\u001b[0m \u001b[0mself\u001b[0m\u001b[1;33m.\u001b[0m\u001b[0m_allow_stdin\u001b[0m\u001b[1;33m:\u001b[0m\u001b[1;33m\u001b[0m\u001b[1;33m\u001b[0m\u001b[0m\n\u001b[1;32m-> 1003\u001b[1;33m             raise StdinNotImplementedError(\n\u001b[0m\u001b[0;32m   1004\u001b[0m                 \u001b[1;34m\"raw_input was called, but this frontend does not support input requests.\"\u001b[0m\u001b[1;33m\u001b[0m\u001b[1;33m\u001b[0m\u001b[0m\n\u001b[0;32m   1005\u001b[0m             )\n",
      "\u001b[1;31mStdinNotImplementedError\u001b[0m: raw_input was called, but this frontend does not support input requests."
     ]
    }
   ],
   "source": [
    "# percentage calculator\n",
    "print('''Mit diesem Rechner erfahren Sie kinderleicht, \n",
    "         wie viel Sie sparen können und wie hoch der Kaufbetrag ist.''')\n",
    "\n",
    "# input\n",
    "base = float(input(\"Geben Sie den Grundwert ein (Euro): \"))\n",
    "percentage = int(input(\"Geben Sie den Rabatt ein (%): \"))\n",
    "\n",
    "# calculate the percentage value and the remaining purchase amount\n",
    "value = (base/100) * percentage\n",
    "netto = base - value\n",
    "\n",
    "# output\n",
    "print(f\"Sie sparen {value} Euro und müssen noch {netto} Euro bezahlen.\")"
   ]
  },
  {
   "cell_type": "markdown",
   "id": "682fc0e8-f5aa-46b5-9d23-ac3800336e7e",
   "metadata": {},
   "source": [
    "Den obigen Codeblock kennen Sie ja bereits aus der Abschlussaufgabe des ersten Notebooks.\n",
    "\n",
    "In dieser Einheit lernen Sie nun einige grundlegende Befehle kennen, mit denen Sie den Ablauf Ihrer Programme strukturieren können: Bedingte Anweisungen, Schleifen und Funktionen. \n",
    "\n",
    "Hintergrund: Oft wollen Sie Teile Ihres Programms nur dann ausführen lassen, wenn bestimmte Rahmenbedingungen herrschen -- bspw. wenn eine Variable einen bestimmten Wert hat. So könnten Sie die Berechnung im obigen Beispiel etwa von einem bestimmten Grundwert abhängig machen (das ist natürlich nur ein fiktives Szenario). An anderer Stelle sollen Teile Ihres Codes wiederholt ausgeführt werden, allerdings ohne, dass Sie die Anweisungen immer wieder mühevoll ausschreiben müssen. Das ist zum Beispiel relevant, wenn wir mehrere Dateien wie Textquellen verarbeiten wollen. Aber dazu später im Semester mehr.\n",
    "\n",
    "In diesem Notebook lernen wir erst einmal die Konzepte der bedingten Anweisungen, Schleifen und Funktionen kennen."
   ]
  },
  {
   "cell_type": "markdown",
   "id": "404253fa-7c2a-408c-bc5a-1969aa21e021",
   "metadata": {
    "id": "GlWmPdZxkbsD"
   },
   "source": [
    "## Lernziele\n",
    "\n",
    "Was Sie am Ende der Lektion beantworten können sollen:\n",
    "* Was sind Bedingte Anweisungen und wie lassen sie sich implementieren?\n",
    "* Was sind *booleans*?\n",
    "* Was sind Schleifen?\n",
    "* Was sind Funktionen?\n",
    "\n",
    "## Ressourcen\n",
    "\n",
    "Für diese Übungseinheit sind die folgenden Ressourcen zusätzlich hilfreich:\n",
    "\n",
    "* [Automate the Boring Stuff: Flow Control](https://automatetheboringstuff.com/2e/chapter2/)\n",
    "* [Automate the Boring Stuff: Functions](https://automatetheboringstuff.com/2e/chapter3/)\n",
    "* [Hacking the Humanities](https://www.youtube.com/playlist?list=PL6kqrM2i6BPIpEF5yHPNkYhjHm-FYWh17) Episoden 7, 8 und 12\n",
    "* [A Byte of Python: Control Flow](https://python.swaroopch.com/control_flow.html)\n",
    "* [A Byte of Python: Functions](https://python.swaroopch.com/functions.html)"
   ]
  },
  {
   "cell_type": "code",
   "execution_count": null,
   "id": "94f4562a-ac79-4263-b2ac-628808bb2784",
   "metadata": {},
   "outputs": [],
   "source": []
  }
 ],
 "metadata": {
  "kernelspec": {
   "display_name": "Python 3 (ipykernel)",
   "language": "python",
   "name": "python3"
  },
  "language_info": {
   "codemirror_mode": {
    "name": "ipython",
    "version": 3
   },
   "file_extension": ".py",
   "mimetype": "text/x-python",
   "name": "python",
   "nbconvert_exporter": "python",
   "pygments_lexer": "ipython3",
   "version": "3.8.12"
  }
 },
 "nbformat": 4,
 "nbformat_minor": 5
}