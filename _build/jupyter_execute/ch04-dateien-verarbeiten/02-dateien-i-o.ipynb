{
 "cells": [
  {
   "cell_type": "markdown",
   "id": "9aeaa149-5eb4-44c0-8c99-4a3692a60b06",
   "metadata": {
    "id": "g6o61B37L_gc"
   },
   "source": [
    "## Dateien öffnen, lesen und bearbeiten\n",
    "\n",
    "Bislang haben wir Daten in Variablen gespeichert und Ergebnisse mit `print()` ausgegeben. In der Praxis wollen wir Daten natürlich dauerhaft (persistent) speichern, später wieder bearbeiten können, oder die Daten von Dritten weiterverarbeiten lassen."
   ]
  },
  {
   "cell_type": "markdown",
   "id": "83116b65-100d-4f1b-a908-36b54cd8dbe6",
   "metadata": {
    "id": "VnsOdptAcDE-"
   },
   "source": [
    "### Grundlagen\n",
    "Zu Beginn ein paar basale Grundlagen, die Ihnen vermutlich weitestgehend vertraut vorkommen.\n",
    "\n",
    "Eine Datei ist identifizierbar durch ihren Namen und ihren Dateityp. Außerdem lässt sich jede Datei irgendwo in einer Verzeichnisstruktur verorten (= sie ist in einem Order gespeichert, der zugleich ein Unterordner eines anderen ist).\n",
    "\n",
    "Name, Dateityp und Speicherdatei lassen sich als *Pfad* angeben. (Auf Ihrem Rechner können Sie sich im Explorer/Dateimanager/Finder den Dateipfad auch einblenden lassen.) Ein Beispiel: Der Dateipfad für dieses Notebook sieht auf meinem Rechner so aus:\n",
    "```\n",
    "/Users/pschneider/Documents/Lehre/Programmieren für Historiker*innen_WS_2020_21/Programmieraufgaben/4_Programmieren_f_Hist_Dateien_verarbeiten.ipynb.ipynb\n",
    "```\n",
    "Dies ist der *absolute* Dateipfad; unabhängig davon wo ich mich auf meinem Rechner befinde, zeigt er die genaue Position von `4_Programmieren_f_Hist_Dateien_verarbeiten.ipynb.ipynb` an. Die einzelnen Verzeichnisse sind dabei immer durch Slashes (/) getrennt. Beachten Sie bitte, dass das Betriebssystem Windows hier eine Ausnahme macht; dort werden Verzeichnisse durch Backslashes (\\\\) voneinander getrennt (hier beginnt der Pfad außerdem mit einem Laufwerksbuchstaben).\n",
    "\n",
    "Wenn Sie dieses Notebook auf Ihrem Rechner speichern, wird dessen Dateipfad natürlich völlig anders als bei mir aussehen. Daher ist es wichtig so oft wie möglich mit *relativen* Pfaden zu arbeiten. Relative Pfade bezeichen den Dateipfad ausgehend von meiner Position (bzw. der Position Ihres Python-Skripts) in der Verzeichnisstruktur. Angenommen, ich hätte ein Python-Skript im Ordner \"Lehre\" auf meinem Rechner liegen. Der (relative) Dateipfad des Notebooks wäre dann:\n",
    "```\n",
    "Programmieren für Historiker*innen_SS_2020/Programmieraufgaben/4_Programmieren_fuer_Historiker_innen_Dateien_verarbeiten.ipynb\n",
    "```\n",
    "Durch Angabe von \"..\" ist es möglich in einem Dateipfad einen Wechsel zu einem übergeordneten Verzeichnis anzugeben. Auf meinem Rechner gibt es im Ordner \"Documents\" z.B. neben \"Lehre\" auch einen Ordner \"Publikationen\". Angenommen ich hätte ein Python-Skript im Ordner \"Publikationen\" gespeichert, das ebenfalls auf das Notebook zugreifen soll. Hier wäre der relative Dateipfad dann:\n",
    "```\n",
    "../Lehre/Programmieren für Historiker*innen_SS_2020/Programmieraufgaben/4_Programmieren_fuer_Historiker_innen_Dateien_verarbeiten.ipynb\n",
    "```\n",
    "\n",
    "### Wichtige Hinweise zur Verwendung von Google Colab\n",
    "Für den Fall, dass Sie Google Colab verwenden, können Sie sich einen Überblick über die Verzeichnisstruktur verschaffen, indem Sie links, in der Seitenleiste, auf das kleine Ordnersymbol klicken. Wenn Sie Python auf Ihrem Rechner ausführen, berücksichtigen Sie für diese Übung bitte Ihre lokale Ordnerstruktur. Die Angabe eigener Dateipfade hängt dann davon ab, wie Sie Ihre Festplatte organisiert haben. Damit alle Codeblöcke in diesem Notebook funktionieren, speichern Sie bitte alle Dateien im selben Verzeichnis, in dem sich auch das Notebook befindet. Um Dateien in Google Colab hochzuladen können Sie entweder auf der linken Seite auf *Upload* klicken ODER folgenden Code ausführen:"
   ]
  },
  {
   "cell_type": "code",
   "execution_count": 1,
   "id": "db4cc3b9-e165-43ee-a16a-eea26235f04b",
   "metadata": {
    "id": "hmh0tF8lpeNO"
   },
   "outputs": [
    {
     "ename": "ModuleNotFoundError",
     "evalue": "No module named 'google'",
     "output_type": "error",
     "traceback": [
      "\u001b[1;31m---------------------------------------------------------------------------\u001b[0m",
      "\u001b[1;31mModuleNotFoundError\u001b[0m                       Traceback (most recent call last)",
      "\u001b[1;32m~\\AppData\\Local\\Temp/ipykernel_2696/2476318168.py\u001b[0m in \u001b[0;36m<module>\u001b[1;34m\u001b[0m\n\u001b[0;32m      1\u001b[0m \u001b[1;31m# Option 1, wenn Sie Google Colab nutzen\u001b[0m\u001b[1;33m\u001b[0m\u001b[1;33m\u001b[0m\u001b[1;33m\u001b[0m\u001b[0m\n\u001b[1;32m----> 2\u001b[1;33m \u001b[1;32mfrom\u001b[0m \u001b[0mgoogle\u001b[0m\u001b[1;33m.\u001b[0m\u001b[0mcolab\u001b[0m \u001b[1;32mimport\u001b[0m \u001b[0mfiles\u001b[0m\u001b[1;33m\u001b[0m\u001b[1;33m\u001b[0m\u001b[0m\n\u001b[0m\u001b[0;32m      3\u001b[0m \u001b[1;33m\u001b[0m\u001b[0m\n\u001b[0;32m      4\u001b[0m \u001b[0muploaded\u001b[0m \u001b[1;33m=\u001b[0m \u001b[0mfiles\u001b[0m\u001b[1;33m.\u001b[0m\u001b[0mupload\u001b[0m\u001b[1;33m(\u001b[0m\u001b[1;33m)\u001b[0m\u001b[1;33m\u001b[0m\u001b[1;33m\u001b[0m\u001b[0m\n\u001b[0;32m      5\u001b[0m \u001b[1;33m\u001b[0m\u001b[0m\n",
      "\u001b[1;31mModuleNotFoundError\u001b[0m: No module named 'google'"
     ]
    }
   ],
   "source": [
    "# Option 1, wenn Sie Google Colab nutzen\n",
    "from google.colab import files\n",
    "\n",
    "uploaded = files.upload()\n",
    "\n",
    "for filename in uploaded.keys():\n",
    "    print('User uploaded file \"{name}\" with length {length} bytes'.format(name=filename, length=len(uploaded[filename])))"
   ]
  },
  {
   "cell_type": "markdown",
   "id": "dc5f9cce-963e-49f5-b704-6dab35a5612b",
   "metadata": {
    "id": "HEmOczn5ptuR"
   },
   "source": [
    "Alternativ können Sie Ihren Google Drive einbinden. Passen Sie in diesem Fall bitte alle Dateilinks in diesem Notebook entprechend an."
   ]
  },
  {
   "cell_type": "code",
   "execution_count": null,
   "id": "0f0d476f-f04f-4e70-849b-1b4e323e936a",
   "metadata": {
    "id": "BxLiLvJDA8Rg"
   },
   "outputs": [],
   "source": [
    "# Option 2, wenn Sie Google Colab nutzen\n",
    "from google.colab import drive\n",
    "drive.mount('/content/drive')"
   ]
  },
  {
   "cell_type": "markdown",
   "id": "863e11c0-5d1c-4396-a5e7-0d21e8a487f6",
   "metadata": {
    "id": "SM4Yf6QmPo8m"
   },
   "source": [
    "Vergessen Sie nicht die Dateien für diese Übung zu entpacken (üblicherweise über das sich per Rechtsklick auf die Zip-Datei öffnende Kontextmenü) und an einer geeigneten Stelle in Ihrem Dateisystem abzulegen (zum Beispiel dort, wo Sie Ihre Notebooks bearbeiten, dann können Sie ganz einfach auf den Ordner mit den Beispieldateien für dieses Notebook zugreifen). \n",
    "\n",
    "In Google Colab geht das Entpacken mit diesem Befehl - natürlich nachdem Sie die Beispieldaten auf Ihrem Drive abgelegt haben und mittels der vorangegangenen Codeblocks Zugriff auf Ihr Drive erteilt haben (wenn Sie Anaconda nutzen, müssen Sie das nicht ausführen):"
   ]
  },
  {
   "cell_type": "code",
   "execution_count": null,
   "id": "5ecb74e6-d86b-4c6b-9d04-7ab5fce71a21",
   "metadata": {
    "id": "wxPKGmdtPxfk"
   },
   "outputs": [],
   "source": [
    "!unzip 4_Beispieldateien.zip"
   ]
  },
  {
   "cell_type": "markdown",
   "id": "e49e0051-c065-419b-8507-640bd7d39d0f",
   "metadata": {
    "id": "v0sOxuqm03Kt"
   },
   "source": [
    "### Dateien öffnen, lesen und schreiben\n",
    "In dieser Einführung arbeiten wir ausschließlich mit textbasierten Dateiformaten (also z.B. txt, csv, json, html, tsv, md, tex, py, ...). Diese Dateien lassen sich einfach als String auslesen, der zugleich den Inhalt der Datei repräsentiert. Komplexe Formate, wie Bilder (jpgs, png, tiff, ...), PDFs, Worddokumente, Exceldateien oder Video- und Audioformate bestehen zwar letztlich auch nur aus Zeichenketten, sind aber auf eine bestimmte Weise *codiert*. Auch solche Dateien können Sie mit Python bearbeiten; hierfür werden aber bestimmte Programmbibliotheken benötigt. Falls Sie in einem eigenen Projekt mit einem dieser Formate arbeiten wollen, finden Sie die entsprechenden Bibliotheken meist nach einer kurzen Suche im Internet.\n",
    "\n",
    "Das Bearbeiten einer Datei beginnt immer mit der Funktion `open()`. Im folgenden Codeblock erstellen wir eine Testdatei, in der wir den ersten Satz aus Kafkas *Prozess* speichern."
   ]
  },
  {
   "cell_type": "code",
   "execution_count": null,
   "id": "32ca84f3-e641-4f31-82b5-7fe8eb2c7461",
   "metadata": {
    "id": "liQZYrG7_MzS"
   },
   "outputs": [],
   "source": [
    "first_sentence_prozess = \"Jemand musste Josef K. verleumdet haben, denn ohne dass er etwas Böses getan hätte, wurde er eines Morgens verhaftet.\"\n",
    "\n",
    "prozess_file = open(\"4_Beispieldateien/Der Prozess.txt\", \"w\")\n",
    "prozess_file.write(first_sentence_prozess)\n",
    "prozess_file.close()"
   ]
  },
  {
   "cell_type": "markdown",
   "id": "27504fc0-24ae-42c2-ad2b-9722febafdb5",
   "metadata": {
    "id": "fWnDoqTCBWVx"
   },
   "source": [
    "Die Funktion `open()` erzeugt ein Objekt, das quasi als Schnittstelle zwischen Ihrem Programm und dem Betriebssystem fungiert. `open()` benötigt als Parameter den Namen bzw. Dateipfad der Datei sowie die Angabe in welchem Modus die Datei geöffnet werden soll. Da wir eine noch nicht existierende Datei neu beschreiben wollen, wählen wir hier \"w\" (write). Das File-Objekt (hier als `prozess_file` gespeichert) verfügt über verschiedene Funktionen zum Lesen und Schreiben von Dateien. Mit `write()` geben wir an, dass wir den String `first_sentence_prozess` (den wir ja in Zeile 1 definiert haben) als Inhalt der Datei speichern wollen. Mit `close()` teilen wir dem File-Objekt mit, dass wir keine Änderungen an der Datei mehr vornehmen möchten. Dieser Schritt muss immer erfolgen, wenn Sie mit Dateien arbeiten (andernfalls könnten Sie versehentlich Ressourcen Ihres Computers für das Beschreiben einer Datei binden, obwohl sie an anderer Stelle benötigt werden). Damit `close()` auch im Falle eines Fehlers ausgeführt wird, verwenden Sie am besten so oft es geht folgendes Statement:"
   ]
  },
  {
   "cell_type": "code",
   "execution_count": null,
   "id": "9e5dcd24-bf9d-4621-b260-c53674c9d9fc",
   "metadata": {
    "id": "e_EmFN3ZGhfT"
   },
   "outputs": [],
   "source": [
    "first_sentence_prozess = \"Jemand musste Josef K. verleumdet haben, denn ohne dass er etwas Böses getan hätte, wurde er eines Morgens verhaftet. \"\n",
    "\n",
    "with open(\"4_Beispieldateien/Der Prozess.txt\", \"w\") as prozess_file:\n",
    "    prozess_file.write(first_sentence_prozess)"
   ]
  },
  {
   "cell_type": "markdown",
   "id": "880b4dd9-9343-42a4-820b-c10ba556a040",
   "metadata": {
    "id": "1c2i_2tcH5il"
   },
   "source": [
    "Wenn Sie \"w\" als zweiten Parameter für `open()` verwenden, wird der Inhalt der Datei immer komplett überschrieben. Je nachdem was Sie tun möchten, müssen Sie hier den richtigen Parameter wählen. Schauen Sie doch mal im Ordner \"4_Beispieldateien\" nach, ob Sie darin die Datei \"Der Prozess\" finden. \n",
    "\n",
    "Um etwas an einen bestehenden Dateiinhalt anzuhängen, verwenden Sie den Parameter \"a\" (append)."
   ]
  },
  {
   "cell_type": "code",
   "execution_count": null,
   "id": "9f1a8a6b-f39d-43de-928b-5b57666c231e",
   "metadata": {
    "id": "iDo2YunFI6XI"
   },
   "outputs": [],
   "source": [
    "second_sentence_prozess = \"Die Köchin der Frau Grubach, seiner Zimmervermieterin, die ihm jeden Tag gegen acht Uhr früh das Frühstück brachte, kam diesmal nicht.\"\n",
    "\n",
    "with open(\"4_Beispieldateien/Der Prozess.txt\", \"a\") as prozess_file:\n",
    "    prozess_file.write(second_sentence_prozess)"
   ]
  },
  {
   "cell_type": "markdown",
   "id": "265aac53-777c-4b2a-81da-3012a19b4916",
   "metadata": {
    "id": "zJ57THbmJxdF"
   },
   "source": [
    "Um den Inhalt einer Datei auszulesen verwenden Sie \"r\" (read) als zweiten Parameter für `open()` sowie die Funktion `read()`. Diese gibt Ihnen den Inhalt der Datei als String zurück."
   ]
  },
  {
   "cell_type": "code",
   "execution_count": null,
   "id": "a59885c2-7803-4787-950b-672b350bf94a",
   "metadata": {
    "id": "pqd86ahKKC1e"
   },
   "outputs": [],
   "source": [
    "with open(\"4_Beispieldateien/Der Prozess.txt\", \"r\") as prozess_file:\n",
    "    prozess_content = prozess_file.read()\n",
    "\n",
    "print(prozess_content)"
   ]
  },
  {
   "cell_type": "markdown",
   "id": "779e3e56-a85b-412c-a31e-679bbe8d9b4f",
   "metadata": {
    "id": "YXjm_StxKf5E"
   },
   "source": [
    "In einigen Fällen müssen Sie eine Datei Zeile für Zeile auslesen und weiterverarbeiten. In diesem Fall verwenden Sie die Funktion `readlines()`. Um den Unterschied zu `read()` besser erkennen zu können, geben wir noch die Länge des jeweiligen Strings aus:"
   ]
  },
  {
   "cell_type": "code",
   "execution_count": null,
   "id": "8a6a61a0-581b-404d-8dc4-5f1bff64dd95",
   "metadata": {
    "id": "NnU3kMFeKswX"
   },
   "outputs": [],
   "source": [
    "file_name = \"4_Beispieldateien/Adliger Vergleich.txt\"\n",
    "\n",
    "with open(file_name, \"r\") as arbitration_file:\n",
    "    arbitration_content = arbitration_file.readlines()\n",
    "\n",
    "for line in arbitration_content:\n",
    "    print(\"Textzeile\", line)\n",
    "    print(\"Die Zeile ist {} Zeichen lang.\".format(len(line)))"
   ]
  },
  {
   "cell_type": "code",
   "execution_count": null,
   "id": "d64963eb-86e3-4995-b87d-6dce53546f4c",
   "metadata": {
    "id": "L6AVgLfRM_hc"
   },
   "outputs": [],
   "source": [
    "file_name = \"4_Beispieldateien/Adliger Vergleich.txt\"\n",
    "\n",
    "with open(file_name, \"r\") as arbitration_file:\n",
    "    arbitration_content = arbitration_file.read()\n",
    "\n",
    "print(\"Dateiinhalt:\\n\" + arbitration_content + \"\\n\")\n",
    "print(\"Der Dateiinhalt umfasst {} Zeichen.\".format(len(arbitration_content)))"
   ]
  },
  {
   "cell_type": "markdown",
   "id": "fb84a474-35bf-4c89-887c-55ddeca3278f",
   "metadata": {
    "id": "mH3oIRXn6rDS"
   },
   "source": [
    "### Zeichenkodierung\n",
    "\n",
    "Möglicherweise haben Sie bei der Durchsicht der Ausgabeergebnisse festgestellt, dass manche Wörter etwas seltsam aufgelöst werden. Statt \"gräflich\" finden wir im Output bspw. die Zeichenfolge \"grÃ¤flich\". Hierbei handelt es sich um einen Konflikt bezüglich der Kodierung des Textbestandes. Die Daten sind anders kodiert als es unser Interpreter standardmäßig vermutet. \n",
    "\n",
    "Was heißt das konkret?\n",
    "Alles, was Ihnen auf dem Bildschirm Ihres Laptops, PCs, Handys oder Tablets angezeigt wird beruht im Kern auf einer Kombination von Nullen und Einsen, also auf dem Binärcode. Das heißt, dass alle Zeichen, die wir visuell auf dem Bildschirm wahrnehmen, aus einem solchen [Binärcode](https://de.wikipedia.org/wiki/Bin%C3%A4rcode) zusammengesetzt sind. Zur Repräsentation der verschiedenen Sprachfamilien haben sich im Laufe der Zeit verschiedene Kodierungssysteme herausgebildet, die das Konzept eines Zeichens mit einer graphischen Repräsentation verknüpfen. Ein früher Standard war [ASCII](https://de.wikipedia.org/wiki/American_Standard_Code_for_Information_Interchange), der aber beispielsweise keine Umlaute kodieren konnte. Heute ist vor allem [UTF-8](https://de.wikipedia.org/wiki/UTF-8) als Speicherformat für Unicode etabliert, mit dem theoretisch über eine Millionen Zeichen kodiert werden können. [Unicode](https://de.wikipedia.org/wiki/Unicode) basiert auf dem Konzept, jedes sinntragende Schriftzeichen oder Textelement aller Schriftkulturen und Zeichensysteme durch einen digitalen Code zu repräsentieren. Bei der konkreten Arbeit werden Sie aber feststellen, dass nicht alle Textdaten einer einheitlichen Kodierung entsprechen, was eben unter anderem an der Historizität von Kodierungssystemen und zum Teil sich verändernden Standards liegt.\n",
    "\n",
    "Wenn Sie Dateien einlesen oder schreiben, dann empfiehlt es sich, die Kodierung direkt zu spezifizieren. Das tun Sie, indem Sie bei Funktionen wie `open()`, `read()` oder `write()` etc. einen weiteren Parameter definieren: `encoding=\"\"`. Schauen Sie sich im folgenden Codeblock an, wie der Parameter verwendet wird:"
   ]
  },
  {
   "cell_type": "code",
   "execution_count": null,
   "id": "eb896777-5fb4-4961-acb4-bd980bb1d7cc",
   "metadata": {
    "id": "1Ln52Eu86rDS"
   },
   "outputs": [],
   "source": [
    "file_name = \"4_Beispieldateien/Adliger Vergleich.txt\"\n",
    "\n",
    "with open(file_name, \"r\", encoding=\"UTF-8\") as arbitration_file:\n",
    "    arbitration_content = arbitration_file.read()\n",
    "\n",
    "print(\"Dateiinhalt:\\n\" + arbitration_content + \"\\n\")\n",
    "print(\"Der Dateiinhalt umfasst {} Zeichen.\".format(len(arbitration_content)))"
   ]
  },
  {
   "cell_type": "markdown",
   "id": "9dbb3588-6139-46e7-b22e-c09a6f7846ba",
   "metadata": {
    "id": "trcxam6ZNuDb"
   },
   "source": [
    "#### **Zwischenaufgabe: Textdaten speichern**\n",
    "Für diese Aufgabe müssen Sie auf Ihren Code aus einem früheren Notebook zurückgreifen: Passen Sie den Programmcode aus der Aufgabe zur Berechnung der Primzahlen aus dem zweiten Notebook so an, dass die Ergebnisse nicht mehr mit `print()` ausgegeben, sondern in einer Textdatei gespeichert werden. Nach jeder Primzahl soll dabei ein Zeilenumbruch erfolgen. (Falls Sie die Primzahlaufgabe nicht lösen konnten, orientieren Sie sich an der in Moodle zur Verfügung gestellten Musterlösung.)"
   ]
  },
  {
   "cell_type": "code",
   "execution_count": null,
   "id": "dd4a6d1f-b9df-466e-a054-ef186de38975",
   "metadata": {
    "id": "4xrjUJDEOmsv"
   },
   "outputs": [],
   "source": [
    "# Ihr Code"
   ]
  }
 ],
 "metadata": {
  "kernelspec": {
   "display_name": "Python 3 (ipykernel)",
   "language": "python",
   "name": "python3"
  },
  "language_info": {
   "codemirror_mode": {
    "name": "ipython",
    "version": 3
   },
   "file_extension": ".py",
   "mimetype": "text/x-python",
   "name": "python",
   "nbconvert_exporter": "python",
   "pygments_lexer": "ipython3",
   "version": "3.8.12"
  }
 },
 "nbformat": 4,
 "nbformat_minor": 5
}