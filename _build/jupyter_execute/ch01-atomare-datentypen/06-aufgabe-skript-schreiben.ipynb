{
 "cells": [
  {
   "cell_type": "markdown",
   "id": "1efcba15-b2cf-4fbe-8136-16ade5b46869",
   "metadata": {
    "id": "OYWMMR7bxeIR"
   },
   "source": [
    "(aufgabe-skript-schreiben)=\n",
    "# Aufgabe: Skript schreiben\n",
    "\n",
    "Nun haben Sie schon einige erste Grundlagen kennengelernt, mit denen Sie ein kleines Skript schreiben können, das Informationen auf Basis einer Eingabe verarbeitet und wieder ausgibt.\n",
    "Wenden Sie das Gelernte an und schreiben Sie ein kurzes, kommentiertes Programm, das die bisher kennengelernten Funktionen beinhaltet und beliebig kombiniert. "
   ]
  },
  {
   "cell_type": "code",
   "execution_count": null,
   "id": "0e55a06f-bdc0-47c7-b4fc-5faf5b808359",
   "metadata": {
    "id": "GcqWpBA8yyEK"
   },
   "outputs": [],
   "source": [
    "# insert your code"
   ]
  }
 ],
 "metadata": {
  "language_info": {
   "name": "python"
  }
 },
 "nbformat": 4,
 "nbformat_minor": 2
}