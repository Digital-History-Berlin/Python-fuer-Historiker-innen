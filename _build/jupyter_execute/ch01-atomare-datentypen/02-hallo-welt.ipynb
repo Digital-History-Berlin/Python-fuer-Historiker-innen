{
 "cells": [
  {
   "cell_type": "markdown",
   "id": "33e9ad21-a45f-4d02-b9d5-0cdb68c38619",
   "metadata": {
    "id": "rMw6M3zvwkQ6",
    "tags": []
   },
   "source": [
    "# Hallo, Welt!\n",
    "\n",
    ":::{admonition} Wichtiger Hinweis!\n",
    ":class: note\n",
    "**Führen Sie bitte alle Beispiel-Codeblöcke aus, da diese aufeinander aufbauen.**\n",
    "\n",
    "Wenn Sie die Codezellen des Jupyter Book mit {term}`Live Code` aktiviert haben, dann klicken Sie auf die Schaltfläche 'run'.\n",
    "\n",
    "Wenn Sie die Notebooks mit {term}`Binder` bearbeiten, können Sie die ausgewählte Codezelle ausführen, indem Sie 'SHIFT' und 'ENTER' drücken oder auf die Playtaste klicken.\n",
    ":::"
   ]
  },
  {
   "cell_type": "code",
   "execution_count": null,
   "id": "688ad884-d538-4e3d-ae16-f01a00496b83",
   "metadata": {
    "cellView": "code",
    "colab": {
     "base_uri": "https://localhost:8080/"
    },
    "executionInfo": {
     "elapsed": 6,
     "status": "ok",
     "timestamp": 1643728678404,
     "user": {
      "displayName": "Martin Dröge",
      "photoUrl": "https://lh3.googleusercontent.com/a-/AOh14GjDUAoqLrc0VGVRwrz65Ow9v0C9CkY0wvhEhRv1=s64",
      "userId": "08475768952355690669"
     },
     "user_tz": -60
    },
    "id": "einOVmsgMGWV",
    "outputId": "0fa719f8-c96b-4b47-ccd3-41017060fb32"
   },
   "outputs": [],
   "source": [
    "# hello world program\n",
    "\n",
    "\"\"\"These few lines of code are \n",
    "used to display the text \"Hello, World!\".\"\"\"\n",
    "\n",
    "my_variable = \"Hello, World!\" # assign value to variable\n",
    "print(my_variable)"
   ]
  },
  {
   "cell_type": "markdown",
   "id": "dbc2287c-3bc3-401b-8c48-c2f716d5f378",
   "metadata": {
    "id": "uYqdOmEtMQlg"
   },
   "source": [
    "Anhand des obigen, obligatorischen [Hallo-Welt-Programms](https://en.wikipedia.org/wiki/%22Hello,_World!%22_program), das in keiner Programmier-Einführung fehlen darf, können wir schon einige grundlegende Funktionsweisen von Python ablesen und zugleich testen, ob die Programmierumgebung ordnungsgemäß funktioniert. Das Programm macht im Prinzip nichts anderes, als Ihnen die Zeichenkette `Hello, World!` auf dem Bildschirm auszugeben. "
   ]
  },
  {
   "cell_type": "markdown",
   "id": "f0e15921-9dd9-4178-8959-7ad01a6ff0ab",
   "metadata": {
    "id": "p9_kqQz8rJbn"
   },
   "source": [
    "**Funktionsweise**\n",
    "\n",
    "Der Code wird vom Rechner Zeile für Zeile ausgeführt. Jede Zeile kann potentiell eine {term}`Anweisung` (*statement*) enthalten, die dem Rechner sagt, was zu tun ist. Die Reihenfolge der einzelnen Anweisungen ist zentral. Es gibt einfache und komplexe Anweisungen, die Sie nach und nach in den nachfolgenden Abschnitten und Lektionen kennenlernen werden.\n",
    "\n",
    ":::{index} Kommentar\n",
    ":name: kommentar\n",
    ":::\n",
    "\n",
    "Neben den Anweisungen können Programmcodes **Kommentare** enthalten, wie in den Zeilen 1, 3 und 4 unseres Beispielcodes zu sehen. Kommentare können und sollten dazu genutzt werden, Code-Schnipsel hinsichtlich ihrer Funktionalität zu erläutern. Mit der Raute (`#`) kann ein einfacher einzeiliger Kommentar geschrieben werden. Sobald der Interpreter auf die Raute stößt, wird der Text nicht mehr als auszuführender Code interpretiert und von der Maschine ignoriert. Möchte man über mehrere Zeilen kommentieren, dann kann man entweder in jede Zeile eine Raute setzen oder man nutzt dreimal einfache (`'`) beziehungsweise dreimal doppelte (`\"`) Anführungszeichen. Die letzte Variante wird üblicherweise für die {term}`Dokumentation` genutzt. Als {term}`docstrings` werden sie Ihnen in späteren Übungseinheiten wiederbegegnen, wenn **Funktionen** oder **Klassen** definiert und erklärt werden müssen. Die Kommentare dienen zur Kommunikation mit den Codeleser:innen.\n",
    "\n",
    ":::{index} Variable\n",
    ":name: variable\n",
    ":::\n",
    "\n",
    ":::{index} single: Variable ; Wert\n",
    ":name: variable_wert\n",
    ":::\n",
    "\n",
    "(variablen-definieren)=\n",
    "## Variablen definieren und ausgeben\n",
    " \n",
    "Mit der Anweisung in Zeile 6 beginnt der eigentliche Programmcode. Zuerst wird einer **Variable** mit dem Namen `my_variable` ein **Wert** zugewiesen.[^fn1] Die {term}`Zuweisung` des Werts zur Variablen wird durch das Gleichheitszeichen (=) indiziert. Es ist nicht mit dem mathematischen Gleichheitszeichen gleichzusetzen. Sie können sich eine Variable als eine Art Behälter (*container*) vorstellen, der für die Zeit des Programmdurchlaufs bestimmte Werte aufbewahrt und ansteuerbar macht. Anders als bei {term}`statisch typisierten` Programmiersprachen wie [C](https://en.wikipedia.org/wiki/C_(programming_language)) oder [Java](https://en.wikipedia.org/wiki/Java_(programming_language)) werden Variablen in Python {term}`dynamisch typisiert`. Das heißt, Variablen müssen nicht ausdrücklich dahingehend deklariert werden, ob es sich etwa um ein [*string*](https://docs.python.org/3/library/stdtypes.html#textseq) (Zeichenkette) oder *integer* (Ganzzahl) handelt. Durch die doppelten (`\"Hello, World\"`) oder einfachen (`'Hello, World'`) Anführungszeichen wird in Python automatisch der Datentyp *string* ermittelt. Beide Varianten sind möglich, bleiben Sie innerhalb eines Programmierprojekts aber bitte immer einheitlich![^fn2] Konkret heißt das für unser Beispiel, dass wir in Zeile 6 den Wert `Hello, World!` vom Typ *string* der Variable `my_variable` zugewiesen haben. Solange wir die Variable während eines Programmdurchlaufs nicht mit einem anderen Wert überschreiben, rufen wir immer diese Zeichenkette auf, wenn wir die Variable benutzen.\n",
    "\n",
    "Es gibt noch weitere Formen von Zuweisungen, die in unterschiedlichen Kontexten gebräuchlich sein können. Sie können beispielsweise mehrere Zuweisungen auf einen Schlag durchführen, wie im nachfolgenden {term}`Codeblock`."
   ]
  },
  {
   "cell_type": "code",
   "execution_count": null,
   "id": "f2cf1255-6782-4c98-b99c-8a4d1cc242d4",
   "metadata": {
    "colab": {
     "base_uri": "https://localhost:8080/"
    },
    "executionInfo": {
     "elapsed": 324,
     "status": "ok",
     "timestamp": 1643728689880,
     "user": {
      "displayName": "Martin Dröge",
      "photoUrl": "https://lh3.googleusercontent.com/a-/AOh14GjDUAoqLrc0VGVRwrz65Ow9v0C9CkY0wvhEhRv1=s64",
      "userId": "08475768952355690669"
     },
     "user_tz": -60
    },
    "id": "MPoruhWxiU2f",
    "outputId": "1e83d052-18c6-4e8b-dd78-9f1cb9c2ce10"
   },
   "outputs": [],
   "source": [
    "# assign multiple variables at once\n",
    "fruit, vegetable = \"apple\", \"cucumber\"\n",
    "breakfast = lunch = \"egg\"\n",
    "\n",
    "print(fruit)\n",
    "print(vegetable)\n",
    "print(breakfast)\n",
    "print(lunch)"
   ]
  },
  {
   "cell_type": "markdown",
   "id": "fe9ca0c7-4511-4081-b711-7b3a2a0beb3a",
   "metadata": {
    "id": "lTPH_bY1kL_z"
   },
   "source": [
    "In Zeile 2 haben wir platzsparend einerseits den Wert `apple` der Variable `fruit` zugewiesen, andererseits `cucumber` der Variable `vegetable`. Beachten Sie die Reihenfolge der einzelnen Elemente. Dagegen wurde in Zeile 3 der Wert `egg` sowohl der Variable `lunch` als auch der Variable `breakfast` zugewiesen. \n",
    "\n",
    ":::{index} single: Funktion ; print()\n",
    ":name: print_\n",
    ":::\n",
    "\n",
    "Geprüft werden kann die richtige {term}`Zuweisung` indem die in den Variablen gespeicherten Werte der Reihe nach ausgeben werden. Die runden Klammern hinter einem Wort, wie bei `print()`, zeigen an, dass es sich um einen {term}`Funktionsaufruf` handelt. Die [`print()`-Funktion](https://docs.python.org/3/library/functions.html#print) ist eine vordefinierte **Ausgabe-Funktion**. Vordefiniert heißt, dass sie bereits Teil der Python-Umgebung ist und der {term}`Interpreter` weiß, wo er die Definition findet, die vorgibt, was getan werden muss, wenn `print()` aufgerufen wird. Die Elemente zwischen den runden Klammern werden {term}`Argument` oder {term}`Parameter` genannt. Welche Argumente einer Funktion übergeben werden können, erfahren Sie in der [Python-Dokumentation](https://docs.python.org/3/).[^fn3] Hier wird als Argument eine Variable übergeben, die als Wert eine Zeichenkette (*string*) enthält. Mittels `print()` wird diese Zeichenkette nun als Ergebnis ausgegeben und auf Ihrem Bildschirm dargestellt. Sie können als Argumente für die `print()`-Funktion aber auch direkt Werte verwenden.\n",
    "Die kürzeste Variante unseres Hallo-Welt-Programms sieht in Python dann beispielsweise wie folgt aus:"
   ]
  },
  {
   "cell_type": "code",
   "execution_count": null,
   "id": "eddefe22-ad04-4c78-b719-8b7538d88f9e",
   "metadata": {
    "colab": {
     "base_uri": "https://localhost:8080/"
    },
    "executionInfo": {
     "elapsed": 325,
     "status": "ok",
     "timestamp": 1643728818811,
     "user": {
      "displayName": "Martin Dröge",
      "photoUrl": "https://lh3.googleusercontent.com/a-/AOh14GjDUAoqLrc0VGVRwrz65Ow9v0C9CkY0wvhEhRv1=s64",
      "userId": "08475768952355690669"
     },
     "user_tz": -60
    },
    "id": "ZshaUw-2ya90",
    "outputId": "efbf1a12-f25b-48ee-a210-6fa434ccf8f0"
   },
   "outputs": [],
   "source": [
    "print(\"Hello, World!\")"
   ]
  },
  {
   "cell_type": "code",
   "execution_count": null,
   "id": "155b9893-b91b-4867-8838-310c4f15d8e6",
   "metadata": {
    "colab": {
     "base_uri": "https://localhost:8080/"
    },
    "executionInfo": {
     "elapsed": 327,
     "status": "ok",
     "timestamp": 1643728847174,
     "user": {
      "displayName": "Martin Dröge",
      "photoUrl": "https://lh3.googleusercontent.com/a-/AOh14GjDUAoqLrc0VGVRwrz65Ow9v0C9CkY0wvhEhRv1=s64",
      "userId": "08475768952355690669"
     },
     "user_tz": -60
    },
    "id": "9gPPSkglH8pw",
    "outputId": "f9b4c6d0-2b99-4a75-850e-0fb90bc41c30"
   },
   "outputs": [],
   "source": [
    "help(print)"
   ]
  },
  {
   "cell_type": "markdown",
   "id": "d024f20c-a4f7-4191-bebd-9d59c9dc7fe8",
   "metadata": {
    "id": "sFQla1zEySOt"
   },
   "source": [
    ":::{index} Eingabe\n",
    ":name: eingabe\n",
    ":::\n",
    "\n",
    "## Eingabe\n",
    "\n",
    "Lassen Sie uns das Hallo-Welt-Programm nun etwas interaktiver gestalten, indem es uns nach unserem Namen fragt und persönlich begrüßt."
   ]
  },
  {
   "cell_type": "code",
   "execution_count": null,
   "id": "bca22245-94da-4e11-acef-3475c4bc34dd",
   "metadata": {
    "colab": {
     "base_uri": "https://localhost:8080/"
    },
    "executionInfo": {
     "elapsed": 4383,
     "status": "ok",
     "timestamp": 1643728868649,
     "user": {
      "displayName": "Martin Dröge",
      "photoUrl": "https://lh3.googleusercontent.com/a-/AOh14GjDUAoqLrc0VGVRwrz65Ow9v0C9CkY0wvhEhRv1=s64",
      "userId": "08475768952355690669"
     },
     "user_tz": -60
    },
    "id": "bJbtmdMUtLol",
    "outputId": "fd6c154e-23fc-445a-a074-779e8a6e05ed"
   },
   "outputs": [],
   "source": [
    "# hello user program\n",
    "name = input(\"What's your name? (press ENTER when finished)\")\n",
    "print(my_variable[:7] + name)"
   ]
  },
  {
   "cell_type": "markdown",
   "id": "c74fe612-7eca-475f-8768-359f4dba615f",
   "metadata": {
    "id": "mu771CM1t73b"
   },
   "source": [
    "**Was haben wir gemacht?**\n",
    "\n",
    "::::{margin}\n",
    ":::{admonition} Wichtig!\n",
    ":class: note\n",
    "Die `input()`-Funktion liefert immer einen String zurück!\n",
    ":::\n",
    "::::\n",
    "\n",
    ":::{index} single: Funktion ; input()\n",
    ":name: input_\n",
    ":::\n",
    "\n",
    "Neben verschiedenen Ausgabemöglichkeiten bietet Python auch einige **Eingabeoptionen**. Eine davon ist die [`input()`-Funktion](https://docs.python.org/3/library/functions.html#input) (siehe Zeile 2). Wird diese [Funktion](../ch02-programmablaeufe-strukturieren/04-funktionen.ipynb) im Programmdurchlauf aufgerufen, dann bleibt der Prozess solange angehalten bis die Nutzer:innen eine Eingabe über die Tastatur getätigt und mit der Return-Taste bestätigt haben. Die `input()`-Funktion nimmt den optionalen {term}`Parameter` *prompt* an, wodurch spezifiziert werden kann, welche Informationseingabe erwartet wird - im obigen Beispiel ein Name. Die Eingabe wird dann in der Variablen `name` gespeichert.\n",
    "\n",
    "Als Ausgabe zeigt uns die `print()`-Funktion anschließend die \"Summe\" aus der \"Addition\" der in den Variablen `my_variable` und `name` gespeicherten Zeichenketten. Die Zusammenfügung von Strings durch das **+**-Zeichen wird auch {term}`Konkatenierung` oder {term}`Verkettung` genannt. Zeichenketten in Python sind prinzipiell unveränderbar ({term}`immutable`). Operationen, die eine Zeichenkette verändern sollen, geben daher stets eine *neue* Zeichenkette zurück. Wollten wir also, statt die zusammengefügte Zeichenkette per `print()` direkt auszugeben, stattdessen mit ihr weiterarbeiten, dann müssten wir sie einer neuen Variablen zuweisen oder die alte überschreiben."
   ]
  },
  {
   "cell_type": "markdown",
   "id": "0a7c8e3f",
   "metadata": {},
   "source": [
    "[^fn1]: Enthält eine Variable mehrere Wörter, ist es in Python Konvention, diese mit Unterstrichen zu trennen. Ihr Programm wird auch funktionieren, wenn Sie sich nicht daran halten; die Lesbarkeit des Code verbessert sich aber dadurch. Leerzeichen dürfen Sie zur Trennung jedoch nicht verwenden.\n",
    "\n",
    "[^fn2]: Wenn Sie sich genauer dafür interessieren, was Datentypen und Variablen in Python sind, dann empfehlen wir Ihnen [diese Lektion](https://www.python-kurs.eu/python3_variablen.php) im Python-Kurs von Bernd Klein.\n",
    "\n",
    "[^fn3]: Die Dokumentation sollte für die Recherche von Funktionen stets Ihre erste Anlaufstelle sein. Python bietet allerdings auch eine eingebaute Hilfe, mit der Sie die bereits erwähnten *docstrings* aufrufen können. Das bietet oft schon einen ersten Eindruck von den Funktionalitäten."
   ]
  }
 ],
 "metadata": {
  "kernelspec": {
   "display_name": "Python 3 (ipykernel)",
   "language": "python",
   "name": "python3"
  },
  "language_info": {
   "codemirror_mode": {
    "name": "ipython",
    "version": 3
   },
   "file_extension": ".py",
   "mimetype": "text/x-python",
   "name": "python",
   "nbconvert_exporter": "python",
   "pygments_lexer": "ipython3",
   "version": "3.8.12"
  }
 },
 "nbformat": 4,
 "nbformat_minor": 5
}