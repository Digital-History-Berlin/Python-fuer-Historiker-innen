{
 "cells": [
  {
   "cell_type": "markdown",
   "id": "33e9ad21-a45f-4d02-b9d5-0cdb68c38619",
   "metadata": {
    "id": "rMw6M3zvwkQ6",
    "tags": []
   },
   "source": [
    "# Hallo, Welt!\n",
    "Führen Sie den nachfolgenden Codeblock aus."
   ]
  },
  {
   "cell_type": "code",
   "execution_count": 1,
   "id": "688ad884-d538-4e3d-ae16-f01a00496b83",
   "metadata": {
    "cellView": "code",
    "colab": {
     "base_uri": "https://localhost:8080/"
    },
    "executionInfo": {
     "elapsed": 6,
     "status": "ok",
     "timestamp": 1643728678404,
     "user": {
      "displayName": "Martin Dröge",
      "photoUrl": "https://lh3.googleusercontent.com/a-/AOh14GjDUAoqLrc0VGVRwrz65Ow9v0C9CkY0wvhEhRv1=s64",
      "userId": "08475768952355690669"
     },
     "user_tz": -60
    },
    "id": "einOVmsgMGWV",
    "outputId": "0fa719f8-c96b-4b47-ccd3-41017060fb32"
   },
   "outputs": [
    {
     "name": "stdout",
     "output_type": "stream",
     "text": [
      "Hello, World!\n"
     ]
    }
   ],
   "source": [
    "# hello world program\n",
    "\n",
    "\"\"\"These few lines of code are \n",
    "used to display the text \"Hello, World!\".\"\"\"\n",
    "\n",
    "my_variable = \"Hello, World!\" # assign value to variable\n",
    "print(my_variable)"
   ]
  },
  {
   "cell_type": "markdown",
   "id": "dbc2287c-3bc3-401b-8c48-c2f716d5f378",
   "metadata": {
    "id": "uYqdOmEtMQlg"
   },
   "source": [
    "Anhand des obigen, obligatorischen [Hallo-Welt-Programms](https://en.wikipedia.org/wiki/%22Hello,_World!%22_program), das in keiner Programmier-Einführung fehlen darf, können wir schon einige grundlegende Funktionsweisen von Python ablesen und zugleich testen, ob die Programmierumgebung ordnungsgemäß funktioniert. Das Programm macht im Prinzip nichts anderes, als Ihnen die Zeichenkette \"Hello, World!\" auf dem Bildschirm auszugeben. \n"
   ]
  },
  {
   "cell_type": "markdown",
   "id": "f0e15921-9dd9-4178-8959-7ad01a6ff0ab",
   "metadata": {
    "id": "p9_kqQz8rJbn"
   },
   "source": [
    "**Funktionsweise**\n",
    "\n",
    "Der Code wird vom Rechner Zeile für Zeile ausgeführt. Jede Zeile kann potentiell eine Anweisung (*statement*) enthalten, die dem Rechner sagt, was zu tun ist. Die Reihenfolge der einzelnen Anweisungen ist zentral. Es gibt einfache und komplexe Anweisungen, die Sie im Laufe des Semesters kennenlernen werden.\n",
    "\n",
    "Neben den Anweisungen können Programmcodes **Kommentare** enthalten, wie in den Zeilen 1, 3 und 4 unseres Beispielcodes zu sehen. Kommentare können und sollten dazu genutzt werden, Code-Schnipsel hinsichtlich ihrer Funktionalität zu erläutern. Mit der Raute (#) kann ein einfacher einzeiliger Kommentar geschrieben werden. Sobald der Interpreter auf die Raute stößt, wird der Text nicht mehr als auszuführender Code interpretiert und von der Maschine ignoriert. Möchte man über mehrere Zeilen kommentieren, dann kann man entweder in jede Zeile eine Raute setzen oder man nutzt dreimal einfache (''' text ''') beziehungsweise doppelte (\"\"\" text \"\"\") Anführungszeichen. Die letzte Variante wird üblicherweise für die Dokumentation genutzt. Als *docstrings* werden sie Ihnen in späteren Übungseinheiten wiederbegegnen, wenn **Funktionen** oder **Klassen** definiert und erklärt werden müssen. Die Kommentare dienen zur Kommunikation mit den Codeleser\\*innen.\n",
    " \n",
    "Mit der Anweisung in Zeile 6 beginnt der eigentliche Programmcode. Zuerst wird einer **Variable** mit dem Namen \"my_variable\" ein **Wert** zugewiesen.[1] Die Zuweisung des Werts zur Variablen wird durch das Gleichheitszeichen (=) indiziert. Es ist nicht mit dem mathematischen Gleichheitszeichen gleichzusetzen. Sie können sich eine Variable als eine Art Behälter (*container*) vorstellen, der für die Zeit des Programmdurchlaufs bestimmte Werte aufbewahrt und ansteuerbar macht. Anders als bei statisch typisierten Programmiersprachen wie [C](https://en.wikipedia.org/wiki/C_(programming_language)) oder [Java](https://en.wikipedia.org/wiki/Java_(programming_language)) werden Variablen in Python dynamisch typisiert. Das heißt, Variablen müssen nicht ausdrücklich dahingehend deklariert werden, ob es sich etwa um ein [*string*](https://docs.python.org/3/library/stdtypes.html#textseq) (Zeichenkette) oder *integer* (Ganzzahl) handelt. Durch die doppelten (\"Hello, World\") oder einfachen ('Hello, World') Anführungszeichen wird in Python automatisch der Datentyp *string* ermittelt. Beide Varianten sind möglich, bleiben Sie innerhalb eines Programmierprojekts aber bitte immer einheitlich![2] Konkret heißt das für unser Beispiel, dass wir in Zeile 6 den Wert \"Hello, World!\" vom Typ *string* der Variable \"my_variable\" zugewiesen haben. Solange wir die Variable während eines Programmdurchlaufs nicht mit einem anderen Wert überschreiben, rufen wir immer diese Zeichenkette auf, wenn wir die Variable benutzen.\n",
    "\n",
    "Es gibt noch weitere Formen von Zuweisungen, die in unterschiedlichen Kontexten gebräuchlich sein können. Sie können beispielsweise mehrere Zuweisungen auf einen Schlag durchführen, wie im nachfolgenden Codeblock."
   ]
  },
  {
   "cell_type": "code",
   "execution_count": 2,
   "id": "f2cf1255-6782-4c98-b99c-8a4d1cc242d4",
   "metadata": {
    "colab": {
     "base_uri": "https://localhost:8080/"
    },
    "executionInfo": {
     "elapsed": 324,
     "status": "ok",
     "timestamp": 1643728689880,
     "user": {
      "displayName": "Martin Dröge",
      "photoUrl": "https://lh3.googleusercontent.com/a-/AOh14GjDUAoqLrc0VGVRwrz65Ow9v0C9CkY0wvhEhRv1=s64",
      "userId": "08475768952355690669"
     },
     "user_tz": -60
    },
    "id": "MPoruhWxiU2f",
    "outputId": "1e83d052-18c6-4e8b-dd78-9f1cb9c2ce10"
   },
   "outputs": [
    {
     "name": "stdout",
     "output_type": "stream",
     "text": [
      "apple\n",
      "cucumber\n",
      "egg\n",
      "egg\n"
     ]
    }
   ],
   "source": [
    "# assign multiple variables at once\n",
    "fruit, vegetable = \"apple\", \"cucumber\"\n",
    "breakfast = lunch = \"egg\"\n",
    "\n",
    "print(fruit)\n",
    "print(vegetable)\n",
    "print(breakfast)\n",
    "print(lunch)"
   ]
  },
  {
   "cell_type": "markdown",
   "id": "fe9ca0c7-4511-4081-b711-7b3a2a0beb3a",
   "metadata": {
    "id": "lTPH_bY1kL_z"
   },
   "source": [
    "In Zeile 2 haben wir platzsparend einerseits den Wert \"apple\" der Variable \"fruit\" zugewiesen, andererseits \"cucumber\" der Variable \"vegetable\". Beachten Sie die Reihenfolge der einzelnen Elemente. Dagegen wurde in Zeile 3 der Wert \"egg\" sowohl der Variable \"lunch\" als auch der Variable \"breakfast\" zugewiesen. \n",
    "\n",
    "Geprüft werden kann die richtige Zuweisung indem die in den Variablen gespeicherten Werte der Reihe nach ausgeben werden. Die runden Klammern hinter einem Wort, wie bei print(), zeigen an, dass es sich um einen Funktionsaufruf handelt. Die [**Print-Funktion**](https://docs.python.org/3/library/functions.html#print) ist eine vordefinierte **Ausgabe-Funktion**. Vordefiniert heißt, dass sie bereits Teil der Python-Umgebung ist und der Interpreter weiß, wo er die Definition findet, die vorgibt, was getan werden muss, wenn print() aufgerufen wird. Die Elemente zwischen den runden Klammern werden Argument oder Parameter genannt. Welche Argumente einer Funktion übergeben werden können, erfahren Sie in der Dokumentation.[3] Hier wird als Argument eine Variable übergeben, die als Wert eine Zeichenkette (*string*) enthält. Mittels print() wird diese Zeichenkette nun als Ergebnis ausgegeben und auf Ihrem Bildschirm dargestellt. Sie können als Argumente für die Print-Funktion aber auch direkt Werte verwenden.\n",
    "Die kürzeste Variante unseres Hallo-Welt-Programms sieht in Python dann beispielsweise wie folgt aus:\n",
    "\n"
   ]
  },
  {
   "cell_type": "code",
   "execution_count": 3,
   "id": "eddefe22-ad04-4c78-b719-8b7538d88f9e",
   "metadata": {
    "colab": {
     "base_uri": "https://localhost:8080/"
    },
    "executionInfo": {
     "elapsed": 325,
     "status": "ok",
     "timestamp": 1643728818811,
     "user": {
      "displayName": "Martin Dröge",
      "photoUrl": "https://lh3.googleusercontent.com/a-/AOh14GjDUAoqLrc0VGVRwrz65Ow9v0C9CkY0wvhEhRv1=s64",
      "userId": "08475768952355690669"
     },
     "user_tz": -60
    },
    "id": "ZshaUw-2ya90",
    "outputId": "efbf1a12-f25b-48ee-a210-6fa434ccf8f0"
   },
   "outputs": [
    {
     "name": "stdout",
     "output_type": "stream",
     "text": [
      "Hello, World!\n"
     ]
    }
   ],
   "source": [
    "print(\"Hello, World!\")"
   ]
  },
  {
   "cell_type": "markdown",
   "id": "07023ee0-0e4d-48bb-920f-85d2cc7b428b",
   "metadata": {
    "id": "lRODBxn_yeQI"
   },
   "source": [
    "**Anmerkungen:**\n",
    "\n",
    "[1] Enthält eine Variable mehrere Wörter ist es in Python Konvention diese mit Unterstrichen zu trennen. Ihr Programm wird auch funktionieren, wenn Sie sich nicht daran halten; die Lesbarkeit des Code verbessert sich aber dadurch. Leerzeichen dürfen Sie zur Trennung jedoch nicht verwenden.\n",
    "\n",
    "[2] Wenn Sie sich genauer dafür interessieren, was Datentypen und Variablen in Python sind, dann empfehlen wir Ihnen [diese Lektion](https://www.python-kurs.eu/python3_variablen.php) im Python-Kurs von Bernd Klein.\n",
    "\n",
    "[3] Die Dokumentation sollte für die Recherche von Funktionen stets Ihre erste Anlaufstelle sein. Python bietet allerdings auch eine eingebaute Hilfe, mit der Sie die bereits erwähnten *docstrings* aufrufen können. Das bietet oft schon einen ersten Eindruck von den Funktionalitäten. Siehe zum Beispiel:"
   ]
  },
  {
   "cell_type": "code",
   "execution_count": 4,
   "id": "155b9893-b91b-4867-8838-310c4f15d8e6",
   "metadata": {
    "colab": {
     "base_uri": "https://localhost:8080/"
    },
    "executionInfo": {
     "elapsed": 327,
     "status": "ok",
     "timestamp": 1643728847174,
     "user": {
      "displayName": "Martin Dröge",
      "photoUrl": "https://lh3.googleusercontent.com/a-/AOh14GjDUAoqLrc0VGVRwrz65Ow9v0C9CkY0wvhEhRv1=s64",
      "userId": "08475768952355690669"
     },
     "user_tz": -60
    },
    "id": "9gPPSkglH8pw",
    "outputId": "f9b4c6d0-2b99-4a75-850e-0fb90bc41c30"
   },
   "outputs": [
    {
     "name": "stdout",
     "output_type": "stream",
     "text": [
      "Help on built-in function print in module builtins:\n",
      "\n",
      "print(...)\n",
      "    print(value, ..., sep=' ', end='\\n', file=sys.stdout, flush=False)\n",
      "    \n",
      "    Prints the values to a stream, or to sys.stdout by default.\n",
      "    Optional keyword arguments:\n",
      "    file:  a file-like object (stream); defaults to the current sys.stdout.\n",
      "    sep:   string inserted between values, default a space.\n",
      "    end:   string appended after the last value, default a newline.\n",
      "    flush: whether to forcibly flush the stream.\n",
      "\n"
     ]
    }
   ],
   "source": [
    "help(print)"
   ]
  },
  {
   "cell_type": "markdown",
   "id": "873ba3ec-94d7-407e-9de3-11018d6e5aee",
   "metadata": {
    "id": "cio0ly-e1BhS"
   },
   "source": [
    "---"
   ]
  },
  {
   "cell_type": "markdown",
   "id": "d024f20c-a4f7-4191-bebd-9d59c9dc7fe8",
   "metadata": {
    "id": "sFQla1zEySOt"
   },
   "source": [
    "Lassen Sie uns das Hallo-Welt-Programm nun etwas interaktiver gestalten, indem es uns nach unserem Namen fragt und persönlich begrüßt."
   ]
  },
  {
   "cell_type": "code",
   "execution_count": 5,
   "id": "bca22245-94da-4e11-acef-3475c4bc34dd",
   "metadata": {
    "colab": {
     "base_uri": "https://localhost:8080/"
    },
    "executionInfo": {
     "elapsed": 4383,
     "status": "ok",
     "timestamp": 1643728868649,
     "user": {
      "displayName": "Martin Dröge",
      "photoUrl": "https://lh3.googleusercontent.com/a-/AOh14GjDUAoqLrc0VGVRwrz65Ow9v0C9CkY0wvhEhRv1=s64",
      "userId": "08475768952355690669"
     },
     "user_tz": -60
    },
    "id": "bJbtmdMUtLol",
    "outputId": "fd6c154e-23fc-445a-a074-779e8a6e05ed"
   },
   "outputs": [
    {
     "ename": "StdinNotImplementedError",
     "evalue": "raw_input was called, but this frontend does not support input requests.",
     "output_type": "error",
     "traceback": [
      "\u001b[1;31m---------------------------------------------------------------------------\u001b[0m",
      "\u001b[1;31mStdinNotImplementedError\u001b[0m                  Traceback (most recent call last)",
      "\u001b[1;32m~\\AppData\\Local\\Temp/ipykernel_25868/1357967600.py\u001b[0m in \u001b[0;36m<module>\u001b[1;34m\u001b[0m\n\u001b[0;32m      1\u001b[0m \u001b[1;31m# hello user program\u001b[0m\u001b[1;33m\u001b[0m\u001b[1;33m\u001b[0m\u001b[1;33m\u001b[0m\u001b[0m\n\u001b[1;32m----> 2\u001b[1;33m \u001b[0mname\u001b[0m \u001b[1;33m=\u001b[0m \u001b[0minput\u001b[0m\u001b[1;33m(\u001b[0m\u001b[1;34m\"What's your name? (press ENTER when finished)\"\u001b[0m\u001b[1;33m)\u001b[0m\u001b[1;33m\u001b[0m\u001b[1;33m\u001b[0m\u001b[0m\n\u001b[0m\u001b[0;32m      3\u001b[0m \u001b[0mprint\u001b[0m\u001b[1;33m(\u001b[0m\u001b[0mmy_variable\u001b[0m\u001b[1;33m[\u001b[0m\u001b[1;33m:\u001b[0m\u001b[1;36m7\u001b[0m\u001b[1;33m]\u001b[0m \u001b[1;33m+\u001b[0m \u001b[0mname\u001b[0m\u001b[1;33m)\u001b[0m\u001b[1;33m\u001b[0m\u001b[1;33m\u001b[0m\u001b[0m\n",
      "\u001b[1;32mC:\\JupyterLab\\resources\\jlab_server\\envs\\base2exp\\lib\\site-packages\\ipykernel\\kernelbase.py\u001b[0m in \u001b[0;36mraw_input\u001b[1;34m(self, prompt)\u001b[0m\n\u001b[0;32m   1001\u001b[0m         \"\"\"\n\u001b[0;32m   1002\u001b[0m         \u001b[1;32mif\u001b[0m \u001b[1;32mnot\u001b[0m \u001b[0mself\u001b[0m\u001b[1;33m.\u001b[0m\u001b[0m_allow_stdin\u001b[0m\u001b[1;33m:\u001b[0m\u001b[1;33m\u001b[0m\u001b[1;33m\u001b[0m\u001b[0m\n\u001b[1;32m-> 1003\u001b[1;33m             raise StdinNotImplementedError(\n\u001b[0m\u001b[0;32m   1004\u001b[0m                 \u001b[1;34m\"raw_input was called, but this frontend does not support input requests.\"\u001b[0m\u001b[1;33m\u001b[0m\u001b[1;33m\u001b[0m\u001b[0m\n\u001b[0;32m   1005\u001b[0m             )\n",
      "\u001b[1;31mStdinNotImplementedError\u001b[0m: raw_input was called, but this frontend does not support input requests."
     ]
    }
   ],
   "source": [
    "# hello user program\n",
    "name = input(\"What's your name? (press ENTER when finished)\")\n",
    "print(my_variable[:7] + name)"
   ]
  },
  {
   "cell_type": "markdown",
   "id": "c74fe612-7eca-475f-8768-359f4dba615f",
   "metadata": {
    "id": "mu771CM1t73b"
   },
   "source": [
    "**Was haben wir gemacht?**\n",
    "\n",
    "Neben verschiedenen Ausgabemöglichkeiten bietet Python auch einige **Eingabeoptionen**. Eine davon ist die [**Input-Funktion**](https://docs.python.org/3/library/functions.html#input) (siehe Zeile 2). Wird diese Funktion im Programmdurchlauf aufgerufen, dann bleibt der Prozess solange angehalten bis die Nutzer\\*innen eine Eingabe über die Tastatur getätigt und mit der Return-Taste bestätigt haben. Die Input-Funktion nimmt den optionalen Parameter *prompt* an, wodurch spezifiziert werden kann, welche Informationseingabe erwartet wird - im obigen Beispiel ein Name. **Wichtig:** Die Input-Funktion liefert immer einen String zurück! Die Eingabe wird dann in der Variablen \"name\" gespeichert.\n",
    "\n",
    "Als Ausgabe zeigt uns die Print-Funktion anschließend die \"Summe\" aus der \"Addition\" der in den Variablen \"my_variable\" und \"name\" gespeicherten Zeichenketten. Die Zusammenfügung von Strings durch das **+**-Zeichen wird auch **Konkatenierung** oder **Verkettung** genannt. Zeichenketten in Python sind prinzipiell unveränderbar (*immutable*). Operationen, die eine Zeichenkette verändern sollen, geben daher stets eine *neue* Zeichenkette zurück. Wollten wir also, statt die zusammengefügte Zeichenkette per Print direkt auszugeben, stattdessen mit ihr weiterarbeiten, dann müssten wir sie einer neuen Variablen zuweisen oder die alte überschreiben.\n",
    "\n",
    "Allerdings benötigten wir für die Begrüßung nur einen Teil der \"Hello, World!\"-Zeichenkette. Als Zeichenkette gehören Strings zu den sequentiellen Datentypen, d.h. sie stellen eine geordnete Folge von Elementen dar, den einzelnen Zeichen (*characters*). Durch diese Ordnung und Rangfolge ist es möglich, jedes einzelne Element des Strings über **Indices** direkt anzusteuern, indem die gewünschte Indexposition durch eckige Klammern angegeben wird: das \"e\" beispielsweise durch den Ausdruck \"my_variable[1]\". \n",
    "\n",
    "Wundern Sie sich darüber, warum der zweite Buchstabe in der Zeichenkette an der Indexposition \"1\" steht? Schauen wir uns den String genauer an:\n",
    "\n",
    "![alt text](https://i.imgur.com/gGDkY0P.png)\n",
    "\n",
    "Ein String ist von links nach rechts durch nummeriert. **Achtung:** Die Zählung beginnt allerdings bei 0! Zeichenketten können auch umgekehrt gelesen werden, also von rechts nach links. Dann fangen wir bei -1 an. Auf diese Weise ist jedes Zeichen direkt ansteuerbar - auch Satzzeichen oder Leerzeichen, sogenannte *whitespaces*. Für unsere interaktive Abwandlung des Hallo-Welt-Programms haben wir in der Ausgabefunktion nur einen ganz bestimmten Wertbereich ausgewählt und zwar \"Hello, \". Diesen Wertebereich können wir durch Nutzung der Indexpositionen ausschneiden (*slicing*).\n",
    "\n",
    "Wie bei der Indizierung benutzen wir für das **Slicing** eckige Klammern, statt einem Wert benötigen wir allerdings eine Start- und eine Endposition. Führen Sie die folgenden Slicing-Anweisungen aus und erklären Sie die Funktionsweise.\n",
    "\n"
   ]
  },
  {
   "cell_type": "code",
   "execution_count": 6,
   "id": "f10ed9b4-6af9-4764-9deb-7ee8cf616c82",
   "metadata": {
    "colab": {
     "base_uri": "https://localhost:8080/",
     "height": 36
    },
    "executionInfo": {
     "elapsed": 292,
     "status": "ok",
     "timestamp": 1643729069334,
     "user": {
      "displayName": "Martin Dröge",
      "photoUrl": "https://lh3.googleusercontent.com/a-/AOh14GjDUAoqLrc0VGVRwrz65Ow9v0C9CkY0wvhEhRv1=s64",
      "userId": "08475768952355690669"
     },
     "user_tz": -60
    },
    "id": "bm9iB8W0DVcj",
    "outputId": "d86b102f-8643-46c3-a2ed-11ca1e1eb8b0"
   },
   "outputs": [
    {
     "data": {
      "application/vnd.google.colaboratory.intrinsic+json": {
       "type": "string"
      },
      "text/plain": [
       "'ello'"
      ]
     },
     "execution_count": 6,
     "metadata": {},
     "output_type": "execute_result"
    }
   ],
   "source": [
    "my_variable[1:5]"
   ]
  },
  {
   "cell_type": "markdown",
   "id": "287e2071-6e89-4e32-82e4-5a492e22617b",
   "metadata": {
    "id": "0CVdVIo4EwaF"
   },
   "source": [
    "*Ihre Erklärung*"
   ]
  },
  {
   "cell_type": "code",
   "execution_count": 7,
   "id": "06f36be2-dece-4aec-aa92-1315a849220c",
   "metadata": {
    "colab": {
     "base_uri": "https://localhost:8080/",
     "height": 36
    },
    "executionInfo": {
     "elapsed": 306,
     "status": "ok",
     "timestamp": 1643729076249,
     "user": {
      "displayName": "Martin Dröge",
      "photoUrl": "https://lh3.googleusercontent.com/a-/AOh14GjDUAoqLrc0VGVRwrz65Ow9v0C9CkY0wvhEhRv1=s64",
      "userId": "08475768952355690669"
     },
     "user_tz": -60
    },
    "id": "FWuemLIuDhxn",
    "outputId": "1fcb4eb2-35af-445f-e93c-77533613eff8"
   },
   "outputs": [
    {
     "data": {
      "application/vnd.google.colaboratory.intrinsic+json": {
       "type": "string"
      },
      "text/plain": [
       "'Hello, '"
      ]
     },
     "execution_count": 7,
     "metadata": {},
     "output_type": "execute_result"
    }
   ],
   "source": [
    "my_variable[:7]"
   ]
  },
  {
   "cell_type": "markdown",
   "id": "c2267e84-4b5e-4fd2-841b-215a51ba8735",
   "metadata": {
    "id": "u7zdkwTpE2ju"
   },
   "source": [
    "*Ihre Erklärung*"
   ]
  },
  {
   "cell_type": "code",
   "execution_count": 8,
   "id": "689b9238-27bb-4269-beec-f0fa58fd511a",
   "metadata": {
    "colab": {
     "base_uri": "https://localhost:8080/",
     "height": 36
    },
    "executionInfo": {
     "elapsed": 339,
     "status": "ok",
     "timestamp": 1643729081216,
     "user": {
      "displayName": "Martin Dröge",
      "photoUrl": "https://lh3.googleusercontent.com/a-/AOh14GjDUAoqLrc0VGVRwrz65Ow9v0C9CkY0wvhEhRv1=s64",
      "userId": "08475768952355690669"
     },
     "user_tz": -60
    },
    "id": "K7LGurh7DlDT",
    "outputId": "075a784e-372a-40be-df52-f22f1ed5e64f"
   },
   "outputs": [
    {
     "data": {
      "application/vnd.google.colaboratory.intrinsic+json": {
       "type": "string"
      },
      "text/plain": [
       "'o, World!'"
      ]
     },
     "execution_count": 8,
     "metadata": {},
     "output_type": "execute_result"
    }
   ],
   "source": [
    "my_variable[4:]"
   ]
  },
  {
   "cell_type": "markdown",
   "id": "6a3ac722-7a45-4371-a51c-f66aba4ed58b",
   "metadata": {
    "id": "2aWltbsME4Bw"
   },
   "source": [
    "*Ihre Erklärung*"
   ]
  },
  {
   "cell_type": "code",
   "execution_count": 9,
   "id": "ced92c92-620f-4f72-8b54-7f11f2489ea1",
   "metadata": {
    "colab": {
     "base_uri": "https://localhost:8080/",
     "height": 36
    },
    "executionInfo": {
     "elapsed": 505,
     "status": "ok",
     "timestamp": 1643729093019,
     "user": {
      "displayName": "Martin Dröge",
      "photoUrl": "https://lh3.googleusercontent.com/a-/AOh14GjDUAoqLrc0VGVRwrz65Ow9v0C9CkY0wvhEhRv1=s64",
      "userId": "08475768952355690669"
     },
     "user_tz": -60
    },
    "id": "T8x2XSjrD_9_",
    "outputId": "7cde14f1-652f-4ea7-e5e3-076c17aef287"
   },
   "outputs": [
    {
     "data": {
      "application/vnd.google.colaboratory.intrinsic+json": {
       "type": "string"
      },
      "text/plain": [
       "'Hello, World!'"
      ]
     },
     "execution_count": 9,
     "metadata": {},
     "output_type": "execute_result"
    }
   ],
   "source": [
    "my_variable[:]"
   ]
  },
  {
   "cell_type": "markdown",
   "id": "c75da104-6eeb-469b-8406-e7be4afac637",
   "metadata": {
    "id": "Fj0E_OJbE5Ea"
   },
   "source": [
    "*Ihre Erklärung*"
   ]
  },
  {
   "cell_type": "code",
   "execution_count": 10,
   "id": "01e9b764-4e85-4bde-96e1-edbda6e95797",
   "metadata": {
    "colab": {
     "base_uri": "https://localhost:8080/",
     "height": 36
    },
    "executionInfo": {
     "elapsed": 331,
     "status": "ok",
     "timestamp": 1643729096725,
     "user": {
      "displayName": "Martin Dröge",
      "photoUrl": "https://lh3.googleusercontent.com/a-/AOh14GjDUAoqLrc0VGVRwrz65Ow9v0C9CkY0wvhEhRv1=s64",
      "userId": "08475768952355690669"
     },
     "user_tz": -60
    },
    "id": "FNdhZ5RXEDrl",
    "outputId": "bda2e8bb-b60c-4759-ed5c-2b2f642ab117",
    "tags": []
   },
   "outputs": [
    {
     "data": {
      "application/vnd.google.colaboratory.intrinsic+json": {
       "type": "string"
      },
      "text/plain": [
       "'llo, '"
      ]
     },
     "execution_count": 10,
     "metadata": {},
     "output_type": "execute_result"
    }
   ],
   "source": [
    "my_variable[2:-6]"
   ]
  },
  {
   "cell_type": "markdown",
   "id": "b7b45a9c-eff5-4dd4-8d72-5713119302bd",
   "metadata": {
    "id": "XRwKWVzSE7RY"
   },
   "source": [
    "*Ihre Erklärung*"
   ]
  },
  {
   "cell_type": "code",
   "execution_count": 11,
   "id": "78b81ec3-e865-40e6-8b78-0177a24b6c47",
   "metadata": {
    "colab": {
     "base_uri": "https://localhost:8080/",
     "height": 36
    },
    "executionInfo": {
     "elapsed": 314,
     "status": "ok",
     "timestamp": 1643729100675,
     "user": {
      "displayName": "Martin Dröge",
      "photoUrl": "https://lh3.googleusercontent.com/a-/AOh14GjDUAoqLrc0VGVRwrz65Ow9v0C9CkY0wvhEhRv1=s64",
      "userId": "08475768952355690669"
     },
     "user_tz": -60
    },
    "id": "q31mw4BQEiy7",
    "outputId": "342b9160-a99e-4a59-eb0a-35519f202e59"
   },
   "outputs": [
    {
     "data": {
      "application/vnd.google.colaboratory.intrinsic+json": {
       "type": "string"
      },
      "text/plain": [
       "'Hlo ol'"
      ]
     },
     "execution_count": 11,
     "metadata": {},
     "output_type": "execute_result"
    }
   ],
   "source": [
    "my_variable[0:12:2]"
   ]
  },
  {
   "cell_type": "markdown",
   "id": "66f2f7f6-5c8d-49d7-9c51-81de3b30b49c",
   "metadata": {
    "id": "U2VRfDTSE8tT"
   },
   "source": [
    "*Ihre Erklärung*"
   ]
  },
  {
   "cell_type": "markdown",
   "id": "e68d3445-636b-40e9-8f5a-9e735c41df98",
   "metadata": {
    "id": "gczNazRppuHy"
   },
   "source": [
    "Üben wir das Ausschneiden von Strings noch ein wenig."
   ]
  },
  {
   "cell_type": "code",
   "execution_count": 2,
   "id": "3a4c4ae1-e855-4621-83cf-d3d03f77d89f",
   "metadata": {
    "executionInfo": {
     "elapsed": 366,
     "status": "ok",
     "timestamp": 1643729205093,
     "user": {
      "displayName": "Martin Dröge",
      "photoUrl": "https://lh3.googleusercontent.com/a-/AOh14GjDUAoqLrc0VGVRwrz65Ow9v0C9CkY0wvhEhRv1=s64",
      "userId": "08475768952355690669"
     },
     "user_tz": -60
    },
    "id": "9-58cpqWpsDF"
   },
   "outputs": [],
   "source": [
    "example_text = '''Jemand musste Josef K. verleumdet haben, \n",
    "                  denn ohne dass er etwas Böses getan hätte, \n",
    "                  wurde er eines Morgens verhaftet.'''\n",
    "\n",
    "# schneiden Sie die Zeichenfolge \"Josef K.\" aus\n",
    "\n",
    "\n",
    "# schneiden Sie das letzte Wort aus\n",
    "\n",
    "\n",
    "# schneiden Sie ab \"denn\" (also mit d beginnend) jedes 3. Zeichen aus\n",
    "\n"
   ]
  },
  {
   "cell_type": "markdown",
   "id": "1efcba15-b2cf-4fbe-8136-16ade5b46869",
   "metadata": {
    "id": "OYWMMR7bxeIR"
   },
   "source": [
    "## Aufgabe:\n",
    "\n",
    "Damit haben Sie schon einige erste Grundlagen kennengelernt, mit denen Sie ein kleines Programm schreiben können, das Informationen auf Basis einer Eingabe verarbeitet und wieder ausgibt.\n",
    "Wenden Sie das gelernte an und schreiben Sie ein kurzes, kommentiertes Programm, das die bisher kennengelernten Funktionen beinhaltet und beliebig kombiniert. "
   ]
  },
  {
   "cell_type": "code",
   "execution_count": null,
   "id": "0e55a06f-bdc0-47c7-b4fc-5faf5b808359",
   "metadata": {
    "id": "GcqWpBA8yyEK"
   },
   "outputs": [],
   "source": [
    "# insert your code"
   ]
  }
 ],
 "metadata": {
  "kernelspec": {
   "display_name": "Python 3 (ipykernel)",
   "language": "python",
   "name": "python3"
  },
  "language_info": {
   "codemirror_mode": {
    "name": "ipython",
    "version": 3
   },
   "file_extension": ".py",
   "mimetype": "text/x-python",
   "name": "python",
   "nbconvert_exporter": "python",
   "pygments_lexer": "ipython3",
   "version": "3.8.12"
  }
 },
 "nbformat": 4,
 "nbformat_minor": 5
}