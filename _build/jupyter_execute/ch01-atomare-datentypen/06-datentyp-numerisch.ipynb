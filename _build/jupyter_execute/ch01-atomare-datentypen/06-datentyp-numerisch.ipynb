{
 "cells": [
  {
   "cell_type": "markdown",
   "id": "67783dd0-83df-46f8-958f-c922f15113dc",
   "metadata": {
    "id": "8raBlCiO5PTa"
   },
   "source": [
    "# Numerische Datentypen\n",
    "\n",
    ":::{index} single: Funktion ; type()\n",
    ":name: type_\n",
    ":::\n",
    "\n",
    "Sie haben sich bereits eingehend mit dem Datentyp *string* auseinandergesetzt, aber Python bietet natürlich auch eine Reihe von [numerischen Datentypen](https://docs.python.org/3/library/stdtypes.html#typesnumeric), die wir auch als überwiegend mit textuellen Daten arbeitende Geisteswissenschaftler:innen kennenlernen sollten. Dabei können wir zugleich eine nützliche Funktion erlernen, die wir benötigen, wenn wir Daten sammeln, mit unbekannten Datenbanken arbeiten oder uns einfach so nicht mehr sicher sind, um welchen Datentyp es sich bei einer Variable handelt. Durch den Aufruf der Funktion `type()` können wir die Information einfach in Python erfragen."
   ]
  },
  {
   "cell_type": "code",
   "execution_count": null,
   "id": "0ad4d2ef-8e72-430e-a2c1-f5f27d3e53e5",
   "metadata": {
    "colab": {
     "base_uri": "https://localhost:8080/"
    },
    "executionInfo": {
     "elapsed": 323,
     "status": "ok",
     "timestamp": 1643729641092,
     "user": {
      "displayName": "Martin Dröge",
      "photoUrl": "https://lh3.googleusercontent.com/a-/AOh14GjDUAoqLrc0VGVRwrz65Ow9v0C9CkY0wvhEhRv1=s64",
      "userId": "08475768952355690669"
     },
     "user_tz": -60
    },
    "id": "NsEIIO65njiR",
    "outputId": "e81c545d-a21d-4d14-e983-5c500b883703"
   },
   "outputs": [],
   "source": [
    "# identify the datatype\n",
    "text = \"some text\"\n",
    "type(text)"
   ]
  },
  {
   "cell_type": "markdown",
   "id": "8bde3a5e-1bff-4b48-8456-7e8c1a1de9cc",
   "metadata": {
    "id": "FgHYLkvy5yii"
   },
   "source": [
    ":::{index} integers\n",
    ":name: integers\n",
    ":::\n",
    "\n",
    "## Ganzzahlen\n",
    "\n",
    "Bei *integers* handelt es sich um ganze Zahlen.\n",
    "\n"
   ]
  },
  {
   "cell_type": "code",
   "execution_count": null,
   "id": "ab40214c-32fd-494c-ba61-76b9a04972cf",
   "metadata": {
    "colab": {
     "base_uri": "https://localhost:8080/"
    },
    "executionInfo": {
     "elapsed": 438,
     "status": "ok",
     "timestamp": 1643729644115,
     "user": {
      "displayName": "Martin Dröge",
      "photoUrl": "https://lh3.googleusercontent.com/a-/AOh14GjDUAoqLrc0VGVRwrz65Ow9v0C9CkY0wvhEhRv1=s64",
      "userId": "08475768952355690669"
     },
     "user_tz": -60
    },
    "id": "XY3eU_ArnuoQ",
    "outputId": "7af301f8-3ff7-41d0-c7fb-792a14e6bd9c"
   },
   "outputs": [],
   "source": [
    "# identify the datatype\n",
    "x = 2\n",
    "type(x)"
   ]
  },
  {
   "cell_type": "markdown",
   "id": "05bbd752-95da-4de7-8d76-9d36e98cc376",
   "metadata": {
    "id": "wL2L6As66Aw_"
   },
   "source": [
    ":::{index} floats\n",
    ":name: floats\n",
    ":::\n",
    "\n",
    "::::{margin}\n",
    ":::{admonition} Wichtig!\n",
    ":class: note\n",
    "Beachten Sie, dass in Python Dezimalzahlen mit einem Punkt und **_nicht_** mit einem Komma geschrieben werden.\n",
    ":::\n",
    "::::\n",
    "\n",
    "## Gleitkommazahlen\n",
    "\n",
    "Bei *float* handelt es sich um Gleitkomma- beziehungsweise Dezimalzahlen. "
   ]
  },
  {
   "cell_type": "code",
   "execution_count": null,
   "id": "05a49f40-42ed-4273-8534-c3f349bee03f",
   "metadata": {
    "colab": {
     "base_uri": "https://localhost:8080/"
    },
    "executionInfo": {
     "elapsed": 318,
     "status": "ok",
     "timestamp": 1643729649750,
     "user": {
      "displayName": "Martin Dröge",
      "photoUrl": "https://lh3.googleusercontent.com/a-/AOh14GjDUAoqLrc0VGVRwrz65Ow9v0C9CkY0wvhEhRv1=s64",
      "userId": "08475768952355690669"
     },
     "user_tz": -60
    },
    "id": "sfE9XHv4nwvj",
    "outputId": "2b62cd6a-cbea-4e3b-b791-eb1e8c649d5b"
   },
   "outputs": [],
   "source": [
    "# identify the datatype\n",
    "y = 5.0\n",
    "type(y)"
   ]
  },
  {
   "cell_type": "markdown",
   "id": "597c569f-a986-476d-ba16-1b7459dda44a",
   "metadata": {
    "id": "7TJntaF1rgL9"
   },
   "source": [
    ":::{index} single: Funktion ; round()\n",
    ":name: round_\n",
    ":::\n",
    "\n",
    "Dezimalzahlen weisen nicht selten zahlreiche Nachkommastellen auf. Es kann dann gewünscht sein, diese durch Rundung zu verringern. Das können Sie mit der Funktion [`round()`](https://docs.python.org/3/library/functions.html#round) erledigen. Sie nimmt als erstes Argument den jeweiligen Wert, der gerundet werden soll, und optional als zweites Argument die Anzahl der gewünschten Nachkommastellen.\n",
    "\n",
    "**Zwei Beispiele:**"
   ]
  },
  {
   "cell_type": "code",
   "execution_count": null,
   "id": "3afb978d-1feb-4564-92a5-c306479efbdd",
   "metadata": {
    "colab": {
     "base_uri": "https://localhost:8080/"
    },
    "executionInfo": {
     "elapsed": 304,
     "status": "ok",
     "timestamp": 1643729675736,
     "user": {
      "displayName": "Martin Dröge",
      "photoUrl": "https://lh3.googleusercontent.com/a-/AOh14GjDUAoqLrc0VGVRwrz65Ow9v0C9CkY0wvhEhRv1=s64",
      "userId": "08475768952355690669"
     },
     "user_tz": -60
    },
    "id": "hv3HGrElq6Il",
    "outputId": "c31eba0b-1d21-4e22-fffe-7fa308c49235"
   },
   "outputs": [],
   "source": [
    "# example 1: round decimal\n",
    "round(5.7823432, 2)"
   ]
  },
  {
   "cell_type": "code",
   "execution_count": null,
   "id": "6f30e480-e18e-4361-94d7-e5e4cda5a100",
   "metadata": {
    "colab": {
     "base_uri": "https://localhost:8080/"
    },
    "executionInfo": {
     "elapsed": 834,
     "status": "ok",
     "timestamp": 1643729678569,
     "user": {
      "displayName": "Martin Dröge",
      "photoUrl": "https://lh3.googleusercontent.com/a-/AOh14GjDUAoqLrc0VGVRwrz65Ow9v0C9CkY0wvhEhRv1=s64",
      "userId": "08475768952355690669"
     },
     "user_tz": -60
    },
    "id": "3DzfTsJ9sfOj",
    "outputId": "9b0c2853-bc54-4d7a-9127-7f6cfc4d87b4"
   },
   "outputs": [],
   "source": [
    "# example 2: round decimal\n",
    "round(5.7823432)"
   ]
  },
  {
   "cell_type": "markdown",
   "id": "84403ffc-ceea-47d2-b4ef-214b66cd1bcb",
   "metadata": {
    "id": "7VJcZXb0s1qC"
   },
   "source": [
    "**Was ist beim zweiten Beispiel passiert? Prüfen Sie ggf. den Datentyp.** "
   ]
  },
  {
   "cell_type": "code",
   "execution_count": null,
   "id": "1e1cc952",
   "metadata": {},
   "outputs": [],
   "source": [
    "# your answer"
   ]
  },
  {
   "cell_type": "markdown",
   "id": "30dd43de-51b6-411b-917b-ab73650985c7",
   "metadata": {
    "id": "iwVsK1RN6MCr"
   },
   "source": [
    ":::{index} Komplexe Zahlen\n",
    ":name: komplexe_zahlen\n",
    ":::\n",
    "\n",
    "## Komplexe Zahlen\n",
    "\n",
    "Ein besonderer numerischer Datentyp sind die [komplexen Zahlen](https://en.wikipedia.org/wiki/Complex_number). Da dieser Datentyp in Szenarien, mit denen Historiker:innen programmatisch arbeiten, selten vorkommt, soll er an dieser Stelle nicht weiter erläutert werden -- dennoch sollter dieser zumindest kurz erwähnt werden."
   ]
  },
  {
   "cell_type": "code",
   "execution_count": null,
   "id": "cad6a720-a708-4f4f-a951-70a3a6c04a9b",
   "metadata": {
    "colab": {
     "base_uri": "https://localhost:8080/"
    },
    "executionInfo": {
     "elapsed": 416,
     "status": "ok",
     "timestamp": 1643729690732,
     "user": {
      "displayName": "Martin Dröge",
      "photoUrl": "https://lh3.googleusercontent.com/a-/AOh14GjDUAoqLrc0VGVRwrz65Ow9v0C9CkY0wvhEhRv1=s64",
      "userId": "08475768952355690669"
     },
     "user_tz": -60
    },
    "id": "8zHZUXjUn2Fx",
    "outputId": "a16c10a4-4270-471e-9eec-2a6b5d9fa07a"
   },
   "outputs": [],
   "source": [
    "# identify the datatype\n",
    "z = 1 + 2j\n",
    "type(z)"
   ]
  },
  {
   "cell_type": "markdown",
   "id": "a654ed18-bbe0-4f5e-9ba1-50d315c1b03e",
   "metadata": {
    "id": "z1D8pop9nt8K"
   },
   "source": [
    ":::{index} Datentyp ändern\n",
    ":name: datentyp-aendern\n",
    ":::\n",
    "\n",
    "## Datentyp ändern\n",
    "\n",
    "Wir hatten darauf hingewiesen, dass Variablen in Python {term}`dynamisch typisiert` werden, also dass automatisch ermittelt wird, ob es sich bei einem Wert um eine komplexe Zahl, ein Integer oder einen String handelt. Es kann aber vorkommen, dass wir bewusst den Datentyp ändern wollen. Einen solchen Fall haben wir mit der `input()`-Funktion kennengelernt. Sie erinnern sich: Die Eingabe wird immer als String gespeichert. Vielleicht möchten wir aber gerne mit Zahlen als Nutzer:inneneingaben arbeiten, dann können wir den String explizit umwandeln.\n",
    "\n",
    "**Zum Beispiel:**"
   ]
  },
  {
   "cell_type": "code",
   "execution_count": null,
   "id": "71d49e55-40b5-440e-b1ed-e56be0643461",
   "metadata": {
    "id": "55QeQmL-oxfG"
   },
   "outputs": [],
   "source": [
    "# normal input\n",
    "age = input(\"How old are you? \")\n",
    "print(f\"Die Eingabe ist vom Typ {type(age)}.\")"
   ]
  },
  {
   "cell_type": "code",
   "execution_count": null,
   "id": "fc7a4129-28f1-4acd-b29f-b75811c6e33d",
   "metadata": {
    "id": "Zl25cJhto-Xc"
   },
   "outputs": [],
   "source": [
    "# convert input\n",
    "age_int = int(input(\"How old are you? \"))\n",
    "print(f\"Die Eingabe ist vom Typ {type(age_int)}.\")"
   ]
  },
  {
   "cell_type": "markdown",
   "id": "00b7ea21-10b6-40d9-b5e2-fdcde84ad362",
   "metadata": {
    "id": "UhOtakjgpyXD"
   },
   "source": [
    ":::{index} single: Funktion ; complex()\n",
    ":name: complex_\n",
    ":::\n",
    "\n",
    ":::{index} single: Funktion ; str()\n",
    ":name: str_\n",
    ":::\n",
    "\n",
    ":::{index} single: Funktion ; int()\n",
    ":name: int_\n",
    ":::\n",
    "\n",
    ":::{index} single: Funktion ; float()\n",
    ":name: float_\n",
    ":::\n",
    "\n",
    "Mit der konvertierten Eingabe können nun auch bedarfsweise mathematische Berechnung angestellt werden. Konvertierungsfunktionen gibt es unter anderem für die komplexen Zahlen ([`complex()`](https://docs.python.org/3/library/functions.html#complex)), Strings ([`str()`](https://docs.python.org/3/library/functions.html#func-str)), Integers ([`int()`](https://docs.python.org/3/library/functions.html#int)) und Gleitkommazahlen ([`float()`](https://docs.python.org/3/library/functions.html#float))."
   ]
  },
  {
   "cell_type": "markdown",
   "id": "3942ab98-fde1-4e57-b516-699b80e112f4",
   "metadata": {
    "id": "4NrnJ7OF6lTM"
   },
   "source": [
    ":::{index} Arithmetische Operatoren\n",
    ":name: arithmetische_operatoren\n",
    ":::\n",
    "\n",
    "## Arithmetische Operatoren\n",
    "\n",
    "Python kann ganz einfach genutzt werden, um einfache und auch komplexere mathematische Berechnungen zu lösen. Sie können die Programmierumgebung gewissermaßen wie einen Taschenrechner benutzen oder kleine Programme schreiben, die Ihnen wiederkehrende Aufgaben, wie beispielsweise Prozentrechnung, abnehmen. \n",
    "\n",
    "Probieren Sie zunächst die nachfolgenden Berechnungen aus und erklären Sie, wofür die mathematischen Symbole (Operatoren) stehen. Sie werden feststellen, dass wir einige der Operatoren auch bei der Arbeit mit Zeichenketten genutzt haben."
   ]
  },
  {
   "cell_type": "code",
   "execution_count": null,
   "id": "cab2ae97-8d68-48d2-b39d-38792c89e0a5",
   "metadata": {
    "id": "kvu0N4oP6ttA"
   },
   "outputs": [],
   "source": [
    "2 + 3"
   ]
  },
  {
   "cell_type": "code",
   "execution_count": null,
   "id": "161dd58f-516a-4ba9-985d-5c0764261680",
   "metadata": {
    "id": "A1F9I2sNpOQq"
   },
   "outputs": [],
   "source": [
    "2 + -3"
   ]
  },
  {
   "cell_type": "code",
   "execution_count": null,
   "id": "d7b5212e-9c8c-41ce-920e-7ddba1b38ecf",
   "metadata": {
    "id": "5FTA_oxI677W"
   },
   "outputs": [],
   "source": [
    "2 - 3"
   ]
  },
  {
   "cell_type": "markdown",
   "id": "6ec267e9-9c96-40e7-abcb-a0c10dd03e3d",
   "metadata": {
    "id": "jkGZnrOa6qIr"
   },
   "source": [
    "**Wofür stehen die Operatoren + und - in diesen Beispielen?**"
   ]
  },
  {
   "cell_type": "code",
   "execution_count": 1,
   "id": "910460f6",
   "metadata": {},
   "outputs": [],
   "source": [
    "# your answer"
   ]
  },
  {
   "cell_type": "markdown",
   "id": "50b32b96",
   "metadata": {},
   "source": []
  },
  {
   "cell_type": "code",
   "execution_count": null,
   "id": "b7586976-df7a-4dc1-8021-cfd36889704e",
   "metadata": {
    "id": "SBE4QoPW7IpO"
   },
   "outputs": [],
   "source": [
    "2 * 3"
   ]
  },
  {
   "cell_type": "code",
   "execution_count": null,
   "id": "e4bc1f5d-7501-4932-9bf2-3a970086f0ad",
   "metadata": {
    "id": "O2nGNba_qvqQ"
   },
   "outputs": [],
   "source": [
    "(2 + 200) * 3"
   ]
  },
  {
   "cell_type": "code",
   "execution_count": null,
   "id": "6d6e4cb7-d44f-42ef-acb7-e63c088d909b",
   "metadata": {
    "id": "QgsW5OE6rEg-"
   },
   "outputs": [],
   "source": [
    "2 ** 10"
   ]
  },
  {
   "cell_type": "code",
   "execution_count": null,
   "id": "24322b56-40ae-496c-9132-a74962e95ce5",
   "metadata": {
    "id": "HDN91EC3rI0L"
   },
   "outputs": [],
   "source": [
    "24 ** 45"
   ]
  },
  {
   "cell_type": "markdown",
   "id": "7439da73-b8bd-4e02-b557-2876fe97010f",
   "metadata": {
    "id": "zxaVfXZCrVqD"
   },
   "source": [
    "**Wofür stehen die Operatoren * und \\*\\* in diesen Beispielen?** "
   ]
  },
  {
   "cell_type": "code",
   "execution_count": null,
   "id": "5ad20d1c",
   "metadata": {},
   "outputs": [],
   "source": [
    "# your answer"
   ]
  },
  {
   "cell_type": "markdown",
   "id": "6215c470",
   "metadata": {},
   "source": []
  },
  {
   "cell_type": "code",
   "execution_count": null,
   "id": "7c56d42b-2989-48dc-a2ed-c1de5c7172b7",
   "metadata": {
    "id": "BgDVrsy87jDc"
   },
   "outputs": [],
   "source": [
    "10 / 2"
   ]
  },
  {
   "cell_type": "code",
   "execution_count": null,
   "id": "eafad68d-5cba-410d-8313-15633cb5b24b",
   "metadata": {
    "id": "0a861u1pq5jN"
   },
   "outputs": [],
   "source": [
    "10 / 3"
   ]
  },
  {
   "cell_type": "code",
   "execution_count": null,
   "id": "5a82c80f-05e7-48b9-9fd6-ba0d0bdcf186",
   "metadata": {
    "id": "51FDKYjDq8J-"
   },
   "outputs": [],
   "source": [
    "10 // 2"
   ]
  },
  {
   "cell_type": "code",
   "execution_count": null,
   "id": "0c30f963-ff32-4d49-b7f3-b11734baaf0d",
   "metadata": {
    "id": "3gGH2CL-q9v4"
   },
   "outputs": [],
   "source": [
    "10 // 3"
   ]
  },
  {
   "cell_type": "markdown",
   "id": "3881a4cf-b30c-444a-b87c-3bbcbf641c0a",
   "metadata": {
    "id": "ti-2E-kK7Won"
   },
   "source": [
    "**Wodurch unterscheiden sich die Berechnungen mit / und //?**"
   ]
  },
  {
   "cell_type": "code",
   "execution_count": null,
   "id": "d28e2b2a",
   "metadata": {},
   "outputs": [],
   "source": [
    "# your answer"
   ]
  },
  {
   "cell_type": "markdown",
   "id": "641d2a75",
   "metadata": {},
   "source": []
  },
  {
   "cell_type": "code",
   "execution_count": null,
   "id": "fda35e66-8ef8-43a3-bb46-e30caa004d13",
   "metadata": {
    "id": "tgY8enOk82gU"
   },
   "outputs": [],
   "source": [
    "10 % 3"
   ]
  },
  {
   "cell_type": "code",
   "execution_count": null,
   "id": "cfc3dd93-1ae2-4515-aeab-f63bb37453e8",
   "metadata": {
    "id": "b1Pkpca1sKCJ"
   },
   "outputs": [],
   "source": [
    "10 % 5"
   ]
  },
  {
   "cell_type": "code",
   "execution_count": null,
   "id": "b7ebd1bd-cdee-4d60-bf47-89780c135c2d",
   "metadata": {
    "id": "PN0m6b9jsM-h"
   },
   "outputs": [],
   "source": [
    "10 % 4"
   ]
  },
  {
   "cell_type": "markdown",
   "id": "49c392ef-7b6f-484f-93dc-9fb5e9bfa717",
   "metadata": {
    "id": "EOO26iUq9G7y"
   },
   "source": [
    "**Erklären Sie die Funktionsweise des sog. Modulo-Operators:** "
   ]
  },
  {
   "cell_type": "code",
   "execution_count": null,
   "id": "fc815e70",
   "metadata": {},
   "outputs": [],
   "source": [
    "# your answer"
   ]
  },
  {
   "cell_type": "markdown",
   "id": "2a6a65de",
   "metadata": {},
   "source": []
  },
  {
   "cell_type": "code",
   "execution_count": null,
   "id": "84622f4a-e7e8-45d4-8053-5392ef4a0041",
   "metadata": {
    "id": "zUwUTeu9gqrC"
   },
   "outputs": [],
   "source": [
    "\"5\" + \"13\""
   ]
  },
  {
   "cell_type": "code",
   "execution_count": null,
   "id": "003fdc94-d874-465f-9725-c48e4c2530b2",
   "metadata": {
    "id": "pADPhy1mg9kC"
   },
   "outputs": [],
   "source": [
    "\"5\" * 13"
   ]
  },
  {
   "cell_type": "code",
   "execution_count": null,
   "id": "e5851dbb-36a6-4f19-b97d-e0fb3c2d37ce",
   "metadata": {
    "id": "Uk5EgJ1GhI3s"
   },
   "outputs": [],
   "source": [
    "int(\"5\") + int(\"13\")"
   ]
  },
  {
   "cell_type": "code",
   "execution_count": null,
   "id": "58b807a2-1b38-46e9-ba64-f2d72847a61d",
   "metadata": {
    "id": "Z6QQmbqKhS9P"
   },
   "outputs": [],
   "source": [
    "float(\"5\") * 13"
   ]
  },
  {
   "cell_type": "code",
   "execution_count": null,
   "id": "e0559f30-09ce-424b-9c68-6882fc970018",
   "metadata": {
    "id": "oh_uTIJ5jy3u"
   },
   "outputs": [],
   "source": [
    "str(30) * 2"
   ]
  },
  {
   "cell_type": "markdown",
   "id": "a140d225-9454-4ba6-ac84-8245a8804407",
   "metadata": {
    "id": "7D4OltVBhYp2"
   },
   "source": [
    "**Erklären Sie, was in den einzelnen Codezeilen passiert ist:** "
   ]
  },
  {
   "cell_type": "code",
   "execution_count": null,
   "id": "0b3d7748",
   "metadata": {},
   "outputs": [],
   "source": [
    "# your answer"
   ]
  }
 ],
 "metadata": {
  "kernelspec": {
   "display_name": "Python 3.8.3 ('base')",
   "language": "python",
   "name": "python3"
  },
  "language_info": {
   "codemirror_mode": {
    "name": "ipython",
    "version": 3
   },
   "file_extension": ".py",
   "mimetype": "text/x-python",
   "name": "python",
   "nbconvert_exporter": "python",
   "pygments_lexer": "ipython3",
   "version": "3.8.3"
  },
  "vscode": {
   "interpreter": {
    "hash": "fb539783ae425cb9a41fd0e05fac6b0c01245dc8f3eb338114414f2eedb48908"
   }
  }
 },
 "nbformat": 4,
 "nbformat_minor": 5
}