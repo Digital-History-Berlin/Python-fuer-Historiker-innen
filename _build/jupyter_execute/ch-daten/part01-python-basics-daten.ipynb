{
 "cells": [
  {
   "cell_type": "markdown",
   "metadata": {},
   "source": [
    "# Nachweis der Daten\n",
    "\n",
    "## Informationen zu den Daten aus Python Basics\n",
    "\n",
    "Die Dateien `books.csv` und `library.json` sind selbst erstellt.\n",
    "\n",
    "Die Datei `adliger_vergleich.txt` ist eine eigene Transkription, entnommen aus: *Nachlassenschaft des Grafen Ferdinand von Plettenbergs, welche zu Wien obsigniret worden und welche Franz Joseph als Erbe fordert, LWL-Archivamt für Westfalen Nor.K 13 Nr. 21, 1737.*\n",
    "\n",
    "Die iiif-Manifeste sind aus den Beständen der [Französischen Nationalbibliothek](https://www.bnf.fr) entnommen:\n",
    "* [BnF. Departement des Manuscrits. Francais 1950](https://gallica.bnf.fr/iiif/ark:/12148/btv1b8447758z/manifest.json)\n",
    "* [BnF. Departement des Manuscrits. Francais 2170](https://gallica.bnf.fr/iiif/ark:/12148/btv1b9059916f/manifest.json)\n",
    "* [BnF. Departement des Manuscrits. Francais 2187](https://gallica.bnf.fr/iiif/ark:/12148/btv1b9060645m/manifest.json)\n",
    "* [BnF. Departement des Manuscrits. Francais 2196](https://gallica.bnf.fr/iiif/ark:/12148/btv1b6000339k/manifest.json)\n",
    "* [BnF. Departement des Manuscrits. Francais 2228](https://gallica.bnf.fr/iiif/ark:/12148/btv1b8426259s/manifest.json)\n",
    "* [BnF. Departement des Manuscrits. Francais 2608](https://gallica.bnf.fr/iiif/ark:/12148/btv1b8451604g/manifest.json)\n",
    "\n",
    "Alle Beispieldaten finden Sie auch [hier](https://github.com/Digital-History-Berlin/Python-fuer-Historiker-innen/tree/main/ch04-dateien-verarbeiten/example_data) in unserem GitHub-Repository."
   ]
  }
 ],
 "metadata": {
  "language_info": {
   "name": "python"
  }
 },
 "nbformat": 4,
 "nbformat_minor": 2
}