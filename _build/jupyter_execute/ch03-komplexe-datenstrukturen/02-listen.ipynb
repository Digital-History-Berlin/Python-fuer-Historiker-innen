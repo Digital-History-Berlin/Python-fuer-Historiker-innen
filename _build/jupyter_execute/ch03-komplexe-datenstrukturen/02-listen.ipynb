{
 "cells": [
  {
   "cell_type": "markdown",
   "id": "10bedcb3-aee1-46f4-be3e-22f8fbc27f7e",
   "metadata": {
    "id": "yur7RoGzPsfW"
   },
   "source": [
    "## [Listen](https://docs.python.org/3.7/tutorial/datastructures.html#more-on-lists)\n",
    "\n",
    "Im Alltag greifen wir häufig auf Sie zurück: ob zur Planung des Wocheneinkaufs, zur Erstellung von Gästelisten oder zur Organisation anstehender Aufgaben. Listen sind allgegenwärtig. \n",
    "\n",
    "Im Coding-Kontext gehören sie zu den sequenziellen beziehungsweise iterierbaren Datentypen, d.h., dass jedes einzelne Element für sich genommen adressierbar ist. In den ersten beiden Übungseinheiten haben Sie bereits mit Strings gearbeitet, die ganz ähnlich funktionieren. Als Datentyp bilden Listen eine Vielzahl von Werten in einer geordneten Sequenz ab. Das können entweder singuläre Elemente (auch *items* oder *Instanzen* genannt) oder wiederum Listen sein (sie lassen sich beliebig tief verschachteln). Auf diese Weise lassen sich Daten hierarchisch strukturieren. Insofern eine Liste nun einer Variablen zugewiesen wird spricht man auch von *list value*. Ein solcher *list value* sieht wie folgt aus:\n",
    "\n",
    "`[1, 2, 3, 4]`\n",
    "\n",
    "Analog zu Strings, die Sie an einfachen oder doppelten Anführungszeichen erkennen können, werden Anfang und Ende von Listen durch eckige Klammern angezeigt. Die einzelnen in der Liste enthaltenen Elemente bzw. *items* werden voneinander durch Kommata getrennt. Als Werte können beliebige Datentypen in den Listen gespeichert werden. Hier einige Beispiele:"
   ]
  },
  {
   "cell_type": "code",
   "execution_count": 1,
   "id": "163890b8-9e20-43ad-b3a6-4cfa45fbdd4a",
   "metadata": {
    "colab": {
     "base_uri": "https://localhost:8080/"
    },
    "executionInfo": {
     "elapsed": 6,
     "status": "ok",
     "timestamp": 1644319189348,
     "user": {
      "displayName": "Martin Dröge",
      "photoUrl": "https://lh3.googleusercontent.com/a-/AOh14GjDUAoqLrc0VGVRwrz65Ow9v0C9CkY0wvhEhRv1=s64",
      "userId": "08475768952355690669"
     },
     "user_tz": -60
    },
    "id": "UEqImPhGZH1Z",
    "outputId": "ddc3df2d-d7af-47bc-d5ec-579e26368f1a"
   },
   "outputs": [
    {
     "name": "stdout",
     "output_type": "stream",
     "text": [
      "['Die Verwandlung', 'Die Pest', 'Eine Geschichte aus zwei Städten', 'Digital Humanities. Eine Einführung', ['Harry Potter und der Stein der Weisen', 'Harry Potter und die Kammer des Schreckens', 'Harry Potter und der Gefangene von Askaban', '...']]\n"
     ]
    }
   ],
   "source": [
    "# list containing integers \n",
    "[1, 2, 3, 4]\n",
    "\n",
    "# list containing strings\n",
    "[\"egg\", \"banana\", \"bread\", \"cheese\"]\n",
    "\n",
    "# list containing multiple datatypes\n",
    "[\"string\", 2, True, 2.76]\n",
    "\n",
    "# assigning list of book titles\n",
    "book_titles = [\"Die Verwandlung\", \"Die Pest\", \"Eine Geschichte aus zwei Städten\", \"Digital Humanities. Eine Einführung\", [\"Harry Potter und der Stein der Weisen\", \"Harry Potter und die Kammer des Schreckens\", \"Harry Potter und der Gefangene von Askaban\", \"...\"]]\n",
    "print(book_titles)"
   ]
  },
  {
   "cell_type": "markdown",
   "id": "7dc959c6-8761-4f25-b5f3-451b70a4b406",
   "metadata": {
    "id": "Qe2gDldwbFuD"
   },
   "source": [
    "Die Variable `book_titles` enthält neben Strings als Werten auch eine Liste und diese Liste wiederum enthält andere Werte vom Datentyp *string*. \n",
    "\n",
    "Ebenso ist es möglich, ähnlich wie bei der Arbeit mit Strings, mit leeren Listen zu arbeiten. Dazu weisen Sie einer Variablen schlicht die beiden Indikatoren `[` und `]` für Listenobjekte zu:"
   ]
  },
  {
   "cell_type": "code",
   "execution_count": 2,
   "id": "72fd3dc7-595d-4f54-94f3-392db8804969",
   "metadata": {
    "colab": {
     "base_uri": "https://localhost:8080/"
    },
    "executionInfo": {
     "elapsed": 374,
     "status": "ok",
     "timestamp": 1644319267824,
     "user": {
      "displayName": "Martin Dröge",
      "photoUrl": "https://lh3.googleusercontent.com/a-/AOh14GjDUAoqLrc0VGVRwrz65Ow9v0C9CkY0wvhEhRv1=s64",
      "userId": "08475768952355690669"
     },
     "user_tz": -60
    },
    "id": "SAGUunFabgkH",
    "outputId": "746f33ac-2c64-4aee-937e-1e619f18774b"
   },
   "outputs": [
    {
     "name": "stdout",
     "output_type": "stream",
     "text": [
      "[]\n"
     ]
    }
   ],
   "source": [
    "# assign empty list\n",
    "some_list = []\n",
    "print(some_list)"
   ]
  },
  {
   "cell_type": "markdown",
   "id": "6db6233c-d347-450c-aadd-5be8b410fffa",
   "metadata": {
    "id": "C0Xx8KwgbnoM"
   },
   "source": [
    "### Listen bearbeiten\n",
    "\n",
    "Die Variable `some_list` enthält nun einen *list value*, der individuell mit Inhalt befüllt werden könnte. Das ist nützlich, wenn Sie Daten aus unterschiedlichen Quellen zusammenführen möchten. Dazu und für die Bearbeitung schon angereicherter Listen können folgende Methoden genutzt werden:\n",
    "- Konkatenierung mittels \"+\"-Operator\n",
    "- `append()`\n",
    "- `extend()`\n",
    "- `insert()`\n",
    "\n"
   ]
  },
  {
   "cell_type": "markdown",
   "id": "0d0dda81-52bd-45a2-aa50-b52d7931e14d",
   "metadata": {
    "id": "oUzQM2psW4cG"
   },
   "source": [
    "#### Konkatenierung\n",
    "\n",
    "Verschiedene Listen können durch sehr einfache Weise mittels des \"+\"-Operators zusammengefügt werden. "
   ]
  },
  {
   "cell_type": "code",
   "execution_count": 3,
   "id": "863891c4-1d48-4c2d-990e-653cb184d3b5",
   "metadata": {
    "colab": {
     "base_uri": "https://localhost:8080/"
    },
    "executionInfo": {
     "elapsed": 258,
     "status": "ok",
     "timestamp": 1644319439432,
     "user": {
      "displayName": "Martin Dröge",
      "photoUrl": "https://lh3.googleusercontent.com/a-/AOh14GjDUAoqLrc0VGVRwrz65Ow9v0C9CkY0wvhEhRv1=s64",
      "userId": "08475768952355690669"
     },
     "user_tz": -60
    },
    "id": "GVIauQx4XPCJ",
    "outputId": "fcce1950-9dd8-4b60-ddbc-37946767f2a0"
   },
   "outputs": [
    {
     "name": "stdout",
     "output_type": "stream",
     "text": [
      "['Die Verwandlung', 'Die Pest', 'Eine Geschichte aus zwei Städten', 'Digital Humanities. Eine Einführung', ['Harry Potter und der Stein der Weisen', 'Harry Potter und die Kammer des Schreckens', 'Harry Potter und der Gefangene von Askaban', '...'], 'Stolz und Vorurteil', 'Woyzeck']\n"
     ]
    }
   ],
   "source": [
    "# assign values to new list\n",
    "another_list = [\"Stolz und Vorurteil\", \"Woyzeck\"]\n",
    "\n",
    "# concatenate two lists\n",
    "book_titles = book_titles + another_list\n",
    "print(book_titles)"
   ]
  },
  {
   "cell_type": "markdown",
   "id": "4e7016d0-0bee-4fc2-81df-c1ac661b31af",
   "metadata": {
    "id": "kKQdaxYTYY_B"
   },
   "source": [
    "Die Ordnung der zusammengefügten Listenelemente ergibt sich aus der Formulierung der Konkatenierung. In diesem Fall werden die Instanzen aus `another_list` an die Instanzen in `book_titles` angehängt und die Variable `book_titles` wiederum mit dem aus der Konkatenierung resultierenden Listenobjekt überschrieben."
   ]
  },
  {
   "cell_type": "markdown",
   "id": "b723f1de-777b-4336-aa5f-78ea3f9458bc",
   "metadata": {
    "id": "DoQopM7sZRIv"
   },
   "source": [
    "#### `append()` und `extend()`\n",
    "Die Methoden `append()` und `extend()` funktionieren ähnlich. Mit ersterer wird ein hinzuzufügendes Element an das Ende der Liste angehängt. Letztere hängt alle Elemente eines iterierbaren Objekts an das Ende eines bestehenden Listenobjekts an."
   ]
  },
  {
   "cell_type": "code",
   "execution_count": 4,
   "id": "ea8f29e9-ff08-43db-a631-65d3d3d8f1ea",
   "metadata": {
    "id": "We_JPBr0cS02"
   },
   "outputs": [
    {
     "ename": "StdinNotImplementedError",
     "evalue": "raw_input was called, but this frontend does not support input requests.",
     "output_type": "error",
     "traceback": [
      "\u001b[1;31m---------------------------------------------------------------------------\u001b[0m",
      "\u001b[1;31mStdinNotImplementedError\u001b[0m                  Traceback (most recent call last)",
      "\u001b[1;32m~\\AppData\\Local\\Temp/ipykernel_3848/3473817475.py\u001b[0m in \u001b[0;36m<module>\u001b[1;34m\u001b[0m\n\u001b[0;32m      1\u001b[0m \u001b[1;31m# append list by user input\u001b[0m\u001b[1;33m\u001b[0m\u001b[1;33m\u001b[0m\u001b[1;33m\u001b[0m\u001b[0m\n\u001b[1;32m----> 2\u001b[1;33m \u001b[0mbook_titles\u001b[0m\u001b[1;33m.\u001b[0m\u001b[0mappend\u001b[0m\u001b[1;33m(\u001b[0m\u001b[0minput\u001b[0m\u001b[1;33m(\u001b[0m\u001b[1;34m\"Geben Sie einen Buchtitel ein, der einer bestehenden Liste hinzugefügt werden soll: \"\u001b[0m\u001b[1;33m)\u001b[0m\u001b[1;33m)\u001b[0m\u001b[1;33m\u001b[0m\u001b[1;33m\u001b[0m\u001b[0m\n\u001b[0m\u001b[0;32m      3\u001b[0m \u001b[0mprint\u001b[0m\u001b[1;33m(\u001b[0m\u001b[0mbook_titles\u001b[0m\u001b[1;33m)\u001b[0m\u001b[1;33m\u001b[0m\u001b[1;33m\u001b[0m\u001b[0m\n",
      "\u001b[1;32mC:\\JupyterLab\\resources\\jlab_server\\envs\\base2exp\\lib\\site-packages\\ipykernel\\kernelbase.py\u001b[0m in \u001b[0;36mraw_input\u001b[1;34m(self, prompt)\u001b[0m\n\u001b[0;32m   1001\u001b[0m         \"\"\"\n\u001b[0;32m   1002\u001b[0m         \u001b[1;32mif\u001b[0m \u001b[1;32mnot\u001b[0m \u001b[0mself\u001b[0m\u001b[1;33m.\u001b[0m\u001b[0m_allow_stdin\u001b[0m\u001b[1;33m:\u001b[0m\u001b[1;33m\u001b[0m\u001b[1;33m\u001b[0m\u001b[0m\n\u001b[1;32m-> 1003\u001b[1;33m             raise StdinNotImplementedError(\n\u001b[0m\u001b[0;32m   1004\u001b[0m                 \u001b[1;34m\"raw_input was called, but this frontend does not support input requests.\"\u001b[0m\u001b[1;33m\u001b[0m\u001b[1;33m\u001b[0m\u001b[0m\n\u001b[0;32m   1005\u001b[0m             )\n",
      "\u001b[1;31mStdinNotImplementedError\u001b[0m: raw_input was called, but this frontend does not support input requests."
     ]
    }
   ],
   "source": [
    "# append list by user input\n",
    "book_titles.append(input(\"Geben Sie einen Buchtitel ein, der einer bestehenden Liste hinzugefügt werden soll: \"))\n",
    "print(book_titles)"
   ]
  },
  {
   "cell_type": "code",
   "execution_count": null,
   "id": "78f5e81b-c85b-4760-ae0f-edf7219ce993",
   "metadata": {
    "colab": {
     "base_uri": "https://localhost:8080/"
    },
    "executionInfo": {
     "elapsed": 487,
     "status": "ok",
     "timestamp": 1644319451562,
     "user": {
      "displayName": "Martin Dröge",
      "photoUrl": "https://lh3.googleusercontent.com/a-/AOh14GjDUAoqLrc0VGVRwrz65Ow9v0C9CkY0wvhEhRv1=s64",
      "userId": "08475768952355690669"
     },
     "user_tz": -60
    },
    "id": "2OwZ9ewDbB6J",
    "outputId": "e1913ce2-dc3a-45ad-de9f-c16106867b17"
   },
   "outputs": [
    {
     "name": "stdout",
     "output_type": "stream",
     "text": [
      "['a', 'b', 'c', 'd', 'd', 'f', 'h', 'j', 'd', 'x', 'k', 'd', 1, 2, 3, 4]\n"
     ]
    }
   ],
   "source": [
    "# extend list by iterable\n",
    "some_list.extend(\"abcddfhjdxkd\")\n",
    "some_list.extend([1, 2, 3, 4])\n",
    "print(some_list)"
   ]
  },
  {
   "cell_type": "markdown",
   "id": "5b82bca3-1830-4ab8-88df-e78520b6a6c7",
   "metadata": {
    "id": "R1L5DIONh1P1"
   },
   "source": [
    "Mit `extend()` können Sie also direkt mehrere Elemente hinzufügen. Der Effekt ist dabei ähnlich dem der einfachen \"Addition\"."
   ]
  },
  {
   "cell_type": "markdown",
   "id": "d3cc2bb0-e8f6-4676-ad32-5f1520821241",
   "metadata": {
    "id": "HWFl1ssaZf4G"
   },
   "source": [
    "#### `insert()`\n",
    "Dagegen fügt die `insert()`-Funktion ein hinzuzufügendes Element durch die Spezifizierung der Indexposition an eine beliebige Position in der Liste: "
   ]
  },
  {
   "cell_type": "code",
   "execution_count": null,
   "id": "a3b5df28-a4fe-4b0b-847b-2cce7a4df1f9",
   "metadata": {
    "colab": {
     "base_uri": "https://localhost:8080/"
    },
    "executionInfo": {
     "elapsed": 14568,
     "status": "ok",
     "timestamp": 1644319515515,
     "user": {
      "displayName": "Martin Dröge",
      "photoUrl": "https://lh3.googleusercontent.com/a-/AOh14GjDUAoqLrc0VGVRwrz65Ow9v0C9CkY0wvhEhRv1=s64",
      "userId": "08475768952355690669"
     },
     "user_tz": -60
    },
    "id": "BFDSF8-jeeWJ",
    "outputId": "d3afbb29-bb5b-403b-e6e8-1d60747cae54"
   },
   "outputs": [
    {
     "name": "stdout",
     "output_type": "stream",
     "text": [
      "Geben Sie einen Buchtitel ein, der einer bestehenden Liste hinzugefügt werden soll: Harry Potter\n",
      "['Die Verwandlung', 'Die Pest', 'Harry Potter', 'Eine Geschichte aus zwei Städten', 'Digital Humanities. Eine Einführung', ['Harry Potter und der Stein der Weisen', 'Harry Potter und die Kammer des Schreckens', 'Harry Potter und der Gefangene von Askaban', '...'], 'Stolz und Vorurteil', 'Woyzeck']\n"
     ]
    }
   ],
   "source": [
    "# insert value at third position\n",
    "book_titles.insert(2, input(\"Geben Sie einen Buchtitel ein, der einer bestehenden Liste hinzugefügt werden soll: \"))\n",
    "print(book_titles)"
   ]
  },
  {
   "cell_type": "markdown",
   "id": "d1879897-7cad-4ec6-9b08-9ae254fbabf0",
   "metadata": {
    "id": "zlQdGLncetjD"
   },
   "source": [
    "\n",
    "Wir übergeben der Funktion als Parameter zunächst die Zielposition innerhalb der Liste und dann den hinzuzufügenden Wert (hier durch eine Nutzer*inneneingabe, aber es kann natürlich auch direkt ein Wert oder eine Variable übergeben werden). Zu beachten ist, dass auch bei Listen die Zählung stets bei 0 beginnt. Die Indexposition 2 entspricht folglich dem dritten Wert innerhalb einer Liste. Dieses Schema dürfte Ihnen schon von den Zeichenketten bekannt sein.\n",
    "\n",
    "### Indizieren\n",
    "\n",
    "Um nun auf die einzelnen Elemente zuzugreifen, können Sie folgerichtig ganz ähnliche Mechanismen wie bei der Arbeit mit Zeichenketten nutzen:\n",
    "\n"
   ]
  },
  {
   "cell_type": "code",
   "execution_count": null,
   "id": "2166ee48-ddc9-47dc-bdc3-86f7e466f868",
   "metadata": {
    "colab": {
     "base_uri": "https://localhost:8080/"
    },
    "executionInfo": {
     "elapsed": 228,
     "status": "ok",
     "timestamp": 1644319645164,
     "user": {
      "displayName": "Martin Dröge",
      "photoUrl": "https://lh3.googleusercontent.com/a-/AOh14GjDUAoqLrc0VGVRwrz65Ow9v0C9CkY0wvhEhRv1=s64",
      "userId": "08475768952355690669"
     },
     "user_tz": -60
    },
    "id": "qY4GUOoMjdal",
    "outputId": "8f39b1c3-fadd-40e1-c6a0-0ac77ff292c0"
   },
   "outputs": [
    {
     "name": "stdout",
     "output_type": "stream",
     "text": [
      "Die Verwandlung\n",
      "Eine Geschichte aus zwei Städten\n",
      "In der Coronakrise war \"Die Pest\" wieder auf der Bestsellerliste.\n",
      "['Harry Potter und der Stein der Weisen', 'Harry Potter und die Kammer des Schreckens', 'Harry Potter und der Gefangene von Askaban', '...'] und Eine Geschichte aus zwei Städten kann ich wirklich empfehlen.\n"
     ]
    }
   ],
   "source": [
    "print(book_titles[0])\n",
    "\n",
    "print(book_titles[3])\n",
    "\n",
    "print(\"In der Coronakrise war \\\"\" + book_titles[1] + \"\\\" wieder auf der Bestsellerliste.\")\n",
    "\n",
    "print(\"{} und {} kann ich wirklich empfehlen.\".format(book_titles[-3], book_titles[3]))"
   ]
  },
  {
   "cell_type": "markdown",
   "id": "4010a503-97f9-4da5-9031-a655a50e0425",
   "metadata": {
    "id": "rpBVjVVNk2yr"
   },
   "source": [
    "Auf die einzelnen Werte an den verschiedenen Positionen in der Liste greifen Sie also vermittels eckiger Klammern zu, die an die entsprechende Variable gehängt wird. Das kennen Sie schon von Strings. `book_titles[0]` repräsentiert in diesem Beispiel die Zeichenkette `\"Die Verwandlung\"`. Das ermöglicht es Ihnen, mit einzelnen Elementen weiterzuarbeiten, beispielsweise um sie gezielt in andere Zeichenketten einzusetzen. Wie bei Strings können Listen dabei sowohl von links nach rechts, als auch von rechts nach links gelesen werden.\n",
    "\n",
    "Wie eingangs festgelegt enthält unsere Liste von Buchtiteln selbst wiederum eine Liste. Um auf die Werte in verschachtelten Instanzen zuzugreifen, können mehrere Indizes nacheinander genutzt werden. Der erste bezieht sich dann auf die Instanz in der \"Mutterliste\" und der zweite auf den Wert innerhalb dieses Listenelements:\n",
    "\n"
   ]
  },
  {
   "cell_type": "code",
   "execution_count": null,
   "id": "53e2693b-14ce-4bfb-bac8-b95bc658bd91",
   "metadata": {
    "colab": {
     "base_uri": "https://localhost:8080/"
    },
    "executionInfo": {
     "elapsed": 234,
     "status": "ok",
     "timestamp": 1644319605831,
     "user": {
      "displayName": "Martin Dröge",
      "photoUrl": "https://lh3.googleusercontent.com/a-/AOh14GjDUAoqLrc0VGVRwrz65Ow9v0C9CkY0wvhEhRv1=s64",
      "userId": "08475768952355690669"
     },
     "user_tz": -60
    },
    "id": "-b9fH0a-oOyo",
    "outputId": "e3962594-b171-4a98-8f21-f01e6c6c4970"
   },
   "outputs": [
    {
     "name": "stdout",
     "output_type": "stream",
     "text": [
      "g ist von J.K. Rowling.\n"
     ]
    }
   ],
   "source": [
    "print(\"{} ist von J.K. Rowling.\".format(book_titles[-4][2]))"
   ]
  },
  {
   "cell_type": "markdown",
   "id": "9dab403a-4250-401c-9793-bb178075b290",
   "metadata": {
    "id": "9EuDf8GItUYN"
   },
   "source": [
    "Die Angabe einer genauen Listenposition kann auch genutzt werden, um vorhandene Einträge zu überschreiben. So könnten wir etwa den nichtssagenden String `\"...\"` durch die Angabe des Titels zum vierten Harry-Potter-Band ersetzen:"
   ]
  },
  {
   "cell_type": "code",
   "execution_count": null,
   "id": "55f0e5d4-4a0f-48a1-a8a6-154d48e696e0",
   "metadata": {
    "colab": {
     "base_uri": "https://localhost:8080/",
     "height": 189
    },
    "executionInfo": {
     "elapsed": 339,
     "status": "error",
     "timestamp": 1644319892790,
     "user": {
      "displayName": "Martin Dröge",
      "photoUrl": "https://lh3.googleusercontent.com/a-/AOh14GjDUAoqLrc0VGVRwrz65Ow9v0C9CkY0wvhEhRv1=s64",
      "userId": "08475768952355690669"
     },
     "user_tz": -60
    },
    "id": "uZEvETYHZG-M",
    "outputId": "54928e11-4a6c-41f7-8e37-d561073e53e5"
   },
   "outputs": [
    {
     "ename": "TypeError",
     "evalue": "ignored",
     "output_type": "error",
     "traceback": [
      "\u001b[0;31m---------------------------------------------------------------------------\u001b[0m",
      "\u001b[0;31mTypeError\u001b[0m                                 Traceback (most recent call last)",
      "\u001b[0;32m<ipython-input-8-5199b98112fb>\u001b[0m in \u001b[0;36m<module>\u001b[0;34m()\u001b[0m\n\u001b[0;32m----> 1\u001b[0;31m \u001b[0mbook_titles\u001b[0m\u001b[0;34m[\u001b[0m\u001b[0;34m-\u001b[0m\u001b[0;36m4\u001b[0m\u001b[0;34m]\u001b[0m\u001b[0;34m[\u001b[0m\u001b[0;36m3\u001b[0m\u001b[0;34m]\u001b[0m \u001b[0;34m=\u001b[0m \u001b[0;34m\"Harry Potter und der Feuerkelch\"\u001b[0m\u001b[0;34m\u001b[0m\u001b[0;34m\u001b[0m\u001b[0m\n\u001b[0m\u001b[1;32m      2\u001b[0m \u001b[0mprint\u001b[0m\u001b[0;34m(\u001b[0m\u001b[0mbook_titles\u001b[0m\u001b[0;34m)\u001b[0m\u001b[0;34m\u001b[0m\u001b[0;34m\u001b[0m\u001b[0m\n",
      "\u001b[0;31mTypeError\u001b[0m: 'str' object does not support item assignment"
     ]
    }
   ],
   "source": [
    "book_titles[-4][3] = \"Harry Potter und der Feuerkelch\"\n",
    "print(book_titles)"
   ]
  },
  {
   "cell_type": "markdown",
   "id": "d3c4768d-42af-4b18-9ee0-3f2318ead023",
   "metadata": {
    "id": "1Imu4lebnnm1"
   },
   "source": [
    "Wenn Sie eine Indexposition adressieren die hingegen größer als die Länge der Liste ist, dann erhalten Sie einen `IndexError`, der Ihnen signalisiert, dass Sie über das Ziel hinaus geschossen sind."
   ]
  },
  {
   "cell_type": "code",
   "execution_count": null,
   "id": "38757303-7ac0-4b4c-a219-58174c968b23",
   "metadata": {
    "colab": {
     "base_uri": "https://localhost:8080/",
     "height": 171
    },
    "executionInfo": {
     "elapsed": 250,
     "status": "error",
     "timestamp": 1644319901563,
     "user": {
      "displayName": "Martin Dröge",
      "photoUrl": "https://lh3.googleusercontent.com/a-/AOh14GjDUAoqLrc0VGVRwrz65Ow9v0C9CkY0wvhEhRv1=s64",
      "userId": "08475768952355690669"
     },
     "user_tz": -60
    },
    "id": "7zoFIjROZns0",
    "outputId": "0d8bca66-2a89-4016-f713-8c289e98331e"
   },
   "outputs": [
    {
     "ename": "TypeError",
     "evalue": "ignored",
     "output_type": "error",
     "traceback": [
      "\u001b[0;31m---------------------------------------------------------------------------\u001b[0m",
      "\u001b[0;31mTypeError\u001b[0m                                 Traceback (most recent call last)",
      "\u001b[0;32m<ipython-input-9-13f69eae1b03>\u001b[0m in \u001b[0;36m<module>\u001b[0;34m()\u001b[0m\n\u001b[0;32m----> 1\u001b[0;31m \u001b[0mbook_titles\u001b[0m\u001b[0;34m[\u001b[0m\u001b[0;34m-\u001b[0m\u001b[0;36m4\u001b[0m\u001b[0;34m]\u001b[0m\u001b[0;34m[\u001b[0m\u001b[0;36m4\u001b[0m\u001b[0;34m]\u001b[0m \u001b[0;34m=\u001b[0m \u001b[0;34m\"test\"\u001b[0m\u001b[0;34m\u001b[0m\u001b[0;34m\u001b[0m\u001b[0m\n\u001b[0m",
      "\u001b[0;31mTypeError\u001b[0m: 'str' object does not support item assignment"
     ]
    }
   ],
   "source": [
    "book_titles[-4][4] = \"test\""
   ]
  },
  {
   "cell_type": "markdown",
   "id": "8c3fd308-950c-463f-806b-41225c2f9ea9",
   "metadata": {
    "id": "JLyjN_VOZo9O"
   },
   "source": [
    "Das weist bereits auf eine Schwierigkeit hin. Häufig kann es vorkommen, dass Sie mit unbekannten oder so umfangreichen Datensammlungen arbeiten, dass Sie gar nicht so genau ihre Ausmaße kennen.\n",
    "\n",
    "### Länge bestimmen\n",
    "\n",
    "Das Ausmaß beziehungsweise die Länge einer Liste können Sie ganz einfach mit der Ihnen schon bekannten Methode `len()` ermitteln lassen. Probieren Sie es einmal mit der Ihnen bekannten Syntax aus:"
   ]
  },
  {
   "cell_type": "code",
   "execution_count": null,
   "id": "b1ed27e2-1e59-4205-a38f-7a1512f9a99a",
   "metadata": {
    "colab": {
     "base_uri": "https://localhost:8080/"
    },
    "executionInfo": {
     "elapsed": 240,
     "status": "ok",
     "timestamp": 1644320026142,
     "user": {
      "displayName": "Martin Dröge",
      "photoUrl": "https://lh3.googleusercontent.com/a-/AOh14GjDUAoqLrc0VGVRwrz65Ow9v0C9CkY0wvhEhRv1=s64",
      "userId": "08475768952355690669"
     },
     "user_tz": -60
    },
    "id": "xdNhol5CTbgi",
    "outputId": "d8239d52-9d83-432c-ffde-87e203147950"
   },
   "outputs": [
    {
     "data": {
      "text/plain": [
       "8"
      ]
     },
     "execution_count": 10,
     "metadata": {},
     "output_type": "execute_result"
    }
   ],
   "source": [
    "# ermitteln Sie die Länge der Liste book_titles\n",
    "len(book_titles)"
   ]
  },
  {
   "cell_type": "markdown",
   "id": "6d540e51-d0fe-415d-b5b9-00e7bdca850c",
   "metadata": {
    "id": "7KDw8o96tOTb"
   },
   "source": [
    "### Listen nach Vorkommen von Elementen prüfen\n",
    "\n",
    "Wenn Sie prüfen möchten, ob ein *item* in einer Liste enthalten ist, dann können Sie die Operatoren `in` und `not in` nutzen. Sie erhalten als Rückgabewert Boolesche Wahrheitswerte:"
   ]
  },
  {
   "cell_type": "code",
   "execution_count": null,
   "id": "948814a8-2526-413f-9504-848d7518cd3b",
   "metadata": {
    "colab": {
     "base_uri": "https://localhost:8080/"
    },
    "executionInfo": {
     "elapsed": 222,
     "status": "ok",
     "timestamp": 1644320038078,
     "user": {
      "displayName": "Martin Dröge",
      "photoUrl": "https://lh3.googleusercontent.com/a-/AOh14GjDUAoqLrc0VGVRwrz65Ow9v0C9CkY0wvhEhRv1=s64",
      "userId": "08475768952355690669"
     },
     "user_tz": -60
    },
    "id": "3ajlxDKEm9k0",
    "outputId": "f74a82d4-53a0-453e-eb0c-fd45cddd1256"
   },
   "outputs": [
    {
     "data": {
      "text/plain": [
       "True"
      ]
     },
     "execution_count": 11,
     "metadata": {},
     "output_type": "execute_result"
    }
   ],
   "source": [
    "\"Die Pest\" in book_titles"
   ]
  },
  {
   "cell_type": "code",
   "execution_count": null,
   "id": "40a6c41f-a8d0-4d1e-a9af-7775a7fe96af",
   "metadata": {
    "colab": {
     "base_uri": "https://localhost:8080/"
    },
    "executionInfo": {
     "elapsed": 311,
     "status": "ok",
     "timestamp": 1644320039744,
     "user": {
      "displayName": "Martin Dröge",
      "photoUrl": "https://lh3.googleusercontent.com/a-/AOh14GjDUAoqLrc0VGVRwrz65Ow9v0C9CkY0wvhEhRv1=s64",
      "userId": "08475768952355690669"
     },
     "user_tz": -60
    },
    "id": "p4nJk8iGnDUF",
    "outputId": "0b56c012-a420-4960-ff2a-cd18081583ce"
   },
   "outputs": [
    {
     "data": {
      "text/plain": [
       "False"
      ]
     },
     "execution_count": 12,
     "metadata": {},
     "output_type": "execute_result"
    }
   ],
   "source": [
    "\"Kulturgeschichte\" in book_titles"
   ]
  },
  {
   "cell_type": "markdown",
   "id": "21d3e91c-6960-47b1-92a7-2a4488274157",
   "metadata": {
    "id": "MViT5Rs_oZMO"
   },
   "source": [
    "Die Prüfung des Vorkommens können Sie mit der Formulierung von bedingten Anweisungen kombinieren. Schreiben Sie ein kurzes `If-Else-`Statement, das prüft, ob ein beliebiger Titel in der Liste `book_titles` vorhanden ist. Ist dies der Fall, soll eine entsprechende Mitteilung ausgegeben werden. Ist dies nicht der Fall, dann soll der Titel hinzugefügt werden."
   ]
  },
  {
   "cell_type": "code",
   "execution_count": null,
   "id": "b55ba2c0-452b-4938-8c24-d03ceeefc37b",
   "metadata": {
    "id": "_q_puUOunLsJ"
   },
   "outputs": [],
   "source": [
    "# your code"
   ]
  },
  {
   "cell_type": "markdown",
   "id": "7bd0096b-b4d0-415a-99b5-58edc888e269",
   "metadata": {
    "id": "VS7uj8qLFweD"
   },
   "source": [
    "Um zu ermitteln, an welcher Stelle ein Wert in einer Liste erstmals vorkommt, kann die `index()`-Funktion verwendet werden. "
   ]
  },
  {
   "cell_type": "code",
   "execution_count": null,
   "id": "6b00d360-1415-431f-8921-be459ab438b7",
   "metadata": {
    "colab": {
     "base_uri": "https://localhost:8080/"
    },
    "executionInfo": {
     "elapsed": 231,
     "status": "ok",
     "timestamp": 1644320058415,
     "user": {
      "displayName": "Martin Dröge",
      "photoUrl": "https://lh3.googleusercontent.com/a-/AOh14GjDUAoqLrc0VGVRwrz65Ow9v0C9CkY0wvhEhRv1=s64",
      "userId": "08475768952355690669"
     },
     "user_tz": -60
    },
    "id": "gr7DzGTnGMf8",
    "outputId": "be9666be-d103-42e9-c278-00bd5932e3f6"
   },
   "outputs": [
    {
     "data": {
      "text/plain": [
       "1"
      ]
     },
     "execution_count": 13,
     "metadata": {},
     "output_type": "execute_result"
    }
   ],
   "source": [
    "book_titles.index(\"Die Pest\")"
   ]
  },
  {
   "cell_type": "markdown",
   "id": "1cc711f4-9cbd-4227-bb8a-2f4c9b5feb7d",
   "metadata": {
    "id": "Qqvr2pVspkjZ"
   },
   "source": [
    "Da die Indizierung stets bei `0` beginnt, signalisiert Ihnen der Rückgabewert `1`, dass der Titel \"Die Pest\" sich an der zweiten Position in der Liste befindet. \n",
    "\n",
    "Optional kann der Funktion eine Start- und Endposition wie beim Slicing übergeben werden, um ggf. einen bestimmten Bereich zu definieren, in dem der Wert gefunden werden soll.\n",
    "\n",
    "Mit der Methode `count()` kann außerdem ermittelt werden, wie oft ein Element in einer Liste vorhanden ist. Als Rückgabewert erhalten wir ein *integer*. Wir demonstrieren das hier anhand der früher im Notebook definierten Liste `some_list`:"
   ]
  },
  {
   "cell_type": "code",
   "execution_count": null,
   "id": "6eaead34-c1bc-4ee9-98b1-0902f8bdeff2",
   "metadata": {
    "colab": {
     "base_uri": "https://localhost:8080/"
    },
    "executionInfo": {
     "elapsed": 228,
     "status": "ok",
     "timestamp": 1644320117248,
     "user": {
      "displayName": "Martin Dröge",
      "photoUrl": "https://lh3.googleusercontent.com/a-/AOh14GjDUAoqLrc0VGVRwrz65Ow9v0C9CkY0wvhEhRv1=s64",
      "userId": "08475768952355690669"
     },
     "user_tz": -60
    },
    "id": "ir-d9_5WFDEJ",
    "outputId": "56b40db9-8152-4a3e-d036-e9e48600031c"
   },
   "outputs": [
    {
     "data": {
      "text/plain": [
       "4"
      ]
     },
     "execution_count": 14,
     "metadata": {},
     "output_type": "execute_result"
    }
   ],
   "source": [
    "# count occurence of item \"d\" in some_list\n",
    "some_list.count(\"d\")"
   ]
  },
  {
   "cell_type": "markdown",
   "id": "3d4c0770-db6a-45bd-b22c-8c71ee9b96c9",
   "metadata": {
    "id": "v-OZAbUDJJd3"
   },
   "source": [
    "Das Zeichen \"d\" kommt als *item* also insgesamt viermal in der Liste `some_list` vor."
   ]
  },
  {
   "cell_type": "markdown",
   "id": "2e00962d-1afa-4bd5-b36c-c03e96ddce3b",
   "metadata": {
    "id": "qT_1l1MctCmZ"
   },
   "source": [
    "### Ausschneiden (Slicing)\n",
    "\n",
    "Nicht nur der Zugriff auf Instanzen in Listen funktioniert auf dieselbe Weise wie bei Zeichenketten. Auch das Slicing, das Sie bereits kennengelernt und angewendet haben, kann hier angewendet werden. Während Sie bei Strings dadurch einen Substring gewinnen, erhalten Sie bei Listen eine Subliste. Hierbei geben Sie wieder mindestens den Anfangs- und Startwert an sowie optional den Step.\n",
    "\n",
    "Probieren Sie es einmal anhand von `book_titles` aus:"
   ]
  },
  {
   "cell_type": "code",
   "execution_count": null,
   "id": "ee4d1661-21d3-44f0-b85b-f4344ebdf1db",
   "metadata": {
    "id": "fZoggeZDK-XB"
   },
   "outputs": [],
   "source": [
    "# Schneiden Sie eine beliebige Subliste aus\n",
    "\n",
    "# Schneiden Sie Band 2 bis 4 der Harry-Potter-Reihe aus\n",
    "\n",
    "# Schneiden Sie jede zweite Instanz aus\n"
   ]
  },
  {
   "cell_type": "markdown",
   "id": "f8ec8694-5163-40c5-9760-8e46bb38d7a2",
   "metadata": {
    "id": "1B9ZLto8V4iC"
   },
   "source": [
    "Sie können Slices auch verwenden um größere Teile von Listen mit neuen Daten zu überschreiben."
   ]
  },
  {
   "cell_type": "code",
   "execution_count": null,
   "id": "bcfc8691-a921-4c34-971a-13bb17246505",
   "metadata": {
    "id": "WJo8q6GFWFwo"
   },
   "outputs": [],
   "source": [
    "# Ersetzen Sie die Titel zwei bis vier in book_titles durch neue Titel\n"
   ]
  },
  {
   "cell_type": "markdown",
   "id": "eee9bb12-8399-4ef0-b3da-a07a65009208",
   "metadata": {
    "id": "JUXxj4FJZ-c-"
   },
   "source": [
    "### Elemente entfernen: `remove()`, `pop()`, `clear()` und `del`\n",
    "\n",
    "Freilich gibt es auch verschiedene Möglichkeiten um Instanzen aus Listen zu entfernen. \n",
    "\n",
    "Mit der Methode `remove()` wird das *erste* Element in einer Liste entfernt, das mit dem der Methode übergebenen Parameter identisch ist:\n"
   ]
  },
  {
   "cell_type": "code",
   "execution_count": null,
   "id": "7967bd78-e884-4cc8-ab0d-871f387af94c",
   "metadata": {
    "colab": {
     "base_uri": "https://localhost:8080/"
    },
    "executionInfo": {
     "elapsed": 251,
     "status": "ok",
     "timestamp": 1644320188080,
     "user": {
      "displayName": "Martin Dröge",
      "photoUrl": "https://lh3.googleusercontent.com/a-/AOh14GjDUAoqLrc0VGVRwrz65Ow9v0C9CkY0wvhEhRv1=s64",
      "userId": "08475768952355690669"
     },
     "user_tz": -60
    },
    "id": "M-f10LKdgQd0",
    "outputId": "96321a81-0fdb-4894-f4fc-28fec2347b81"
   },
   "outputs": [
    {
     "name": "stdout",
     "output_type": "stream",
     "text": [
      "3\n"
     ]
    }
   ],
   "source": [
    "some_list.remove(\"d\")\n",
    "print(some_list.count(\"d\"))"
   ]
  },
  {
   "cell_type": "markdown",
   "id": "f5d77c18-d5bc-4769-b8f3-57fecd1fb5d6",
   "metadata": {
    "id": "wwqCFEclFkUN"
   },
   "source": [
    "Per *default* entfernt `pop()` das letzte *item* einer Liste. Durch Angabe einer Indexposition können aber auch gezielt Elemente aus der Liste herausgelöst werden. "
   ]
  },
  {
   "cell_type": "code",
   "execution_count": null,
   "id": "4e3d2481-4ae9-469a-a572-700f81b995c4",
   "metadata": {
    "colab": {
     "base_uri": "https://localhost:8080/"
    },
    "executionInfo": {
     "elapsed": 247,
     "status": "ok",
     "timestamp": 1644320206086,
     "user": {
      "displayName": "Martin Dröge",
      "photoUrl": "https://lh3.googleusercontent.com/a-/AOh14GjDUAoqLrc0VGVRwrz65Ow9v0C9CkY0wvhEhRv1=s64",
      "userId": "08475768952355690669"
     },
     "user_tz": -60
    },
    "id": "uVmkSt_MHJpt",
    "outputId": "9b5eacc1-24f2-4244-ca0a-977211defa74"
   },
   "outputs": [
    {
     "name": "stdout",
     "output_type": "stream",
     "text": [
      "['a', 'b', 'c', 'd', 'f', 'h', 'j', 'd', 'x', 'k', 'd', 1, 2, 3, 4]\n",
      "['a', 'b', 'c', 'd', 'f', 'h', 'j', 'd', 'x', 'k', 'd', 1, 2, 3]\n",
      "['a', 'b', 'd', 'f', 'h', 'j', 'd', 'x', 'k', 'd', 1, 2, 3]\n",
      "a\n"
     ]
    }
   ],
   "source": [
    "print(some_list)\n",
    "\n",
    "# remove last item\n",
    "some_list.pop()\n",
    "print(some_list)\n",
    "\n",
    "# remove third item\n",
    "some_list.pop(2)\n",
    "print(some_list)\n",
    "\n",
    "# re-move first item\n",
    "first_item = some_list.pop(0)\n",
    "print(first_item)"
   ]
  },
  {
   "cell_type": "markdown",
   "id": "6da704ff-8f87-4683-952f-e829eadc619e",
   "metadata": {
    "id": "nQ54PjlXHfsl"
   },
   "source": [
    "Zwar wird mit `pop()` die gewünschte Instanz aus der Liste entfernt, doch bietet die Funktion zusätzlich die Möglichkeit, mit der aus der Liste herausgelösten Instanz weiterzuarbeiten. \n",
    "\n",
    "Mit `clear()` werden alle Elemente einer Liste gelöscht:"
   ]
  },
  {
   "cell_type": "code",
   "execution_count": null,
   "id": "f102753b-09d4-4e19-aecb-57b053ffcae4",
   "metadata": {
    "colab": {
     "base_uri": "https://localhost:8080/"
    },
    "executionInfo": {
     "elapsed": 239,
     "status": "ok",
     "timestamp": 1644320226697,
     "user": {
      "displayName": "Martin Dröge",
      "photoUrl": "https://lh3.googleusercontent.com/a-/AOh14GjDUAoqLrc0VGVRwrz65Ow9v0C9CkY0wvhEhRv1=s64",
      "userId": "08475768952355690669"
     },
     "user_tz": -60
    },
    "id": "y3yXP73ZHrRg",
    "outputId": "c9429f6b-0523-4c27-92a9-848b4c217c3e"
   },
   "outputs": [
    {
     "name": "stdout",
     "output_type": "stream",
     "text": [
      "[]\n"
     ]
    }
   ],
   "source": [
    "some_list.clear()\n",
    "print(some_list)"
   ]
  },
  {
   "cell_type": "markdown",
   "id": "2627c246-05de-44e8-9438-80253b5adaf4",
   "metadata": {
    "id": "FRQZLJpxH2ha"
   },
   "source": [
    "Das Resultat ist eine leere Liste, mit der bei Bedarf weiter gearbeitet werden kann.\n",
    "\n",
    "Das `del`-Statement verbindet einige dieser Funktionen und geht zum Teil noch darüber hinaus. Erklären Sie im vorgesehenen Kommentarbereich, was die nachfolgenden Anweisungen machen:"
   ]
  },
  {
   "cell_type": "code",
   "execution_count": null,
   "id": "e022c90f-ceb0-4b14-a6ef-93727e7881b8",
   "metadata": {
    "colab": {
     "base_uri": "https://localhost:8080/"
    },
    "executionInfo": {
     "elapsed": 250,
     "status": "ok",
     "timestamp": 1644320244975,
     "user": {
      "displayName": "Martin Dröge",
      "photoUrl": "https://lh3.googleusercontent.com/a-/AOh14GjDUAoqLrc0VGVRwrz65Ow9v0C9CkY0wvhEhRv1=s64",
      "userId": "08475768952355690669"
     },
     "user_tz": -60
    },
    "id": "KpKQi2vYJ0tZ",
    "outputId": "2f27a2a4-d367-4ad2-dabd-c2bbb11a952a"
   },
   "outputs": [
    {
     "name": "stdout",
     "output_type": "stream",
     "text": [
      "[1, 2, 3, 5, 6, 7, 8]\n"
     ]
    }
   ],
   "source": [
    "# assign list\n",
    "numbers = [1, 2, 3, 4, 5, 6, 7, 8]\n",
    "\n",
    "#\n",
    "del numbers[3]\n",
    "print(numbers)"
   ]
  },
  {
   "cell_type": "code",
   "execution_count": null,
   "id": "cf2721ae-6644-43bb-824d-324b28e312fe",
   "metadata": {
    "colab": {
     "base_uri": "https://localhost:8080/"
    },
    "executionInfo": {
     "elapsed": 248,
     "status": "ok",
     "timestamp": 1644320256751,
     "user": {
      "displayName": "Martin Dröge",
      "photoUrl": "https://lh3.googleusercontent.com/a-/AOh14GjDUAoqLrc0VGVRwrz65Ow9v0C9CkY0wvhEhRv1=s64",
      "userId": "08475768952355690669"
     },
     "user_tz": -60
    },
    "id": "FQ_3kqZGKLvO",
    "outputId": "ffb6605f-21cf-46ab-f506-6976adde96dc"
   },
   "outputs": [
    {
     "name": "stdout",
     "output_type": "stream",
     "text": [
      "[1, 2, 7, 8]\n"
     ]
    }
   ],
   "source": [
    "#\n",
    "del numbers[2:5]\n",
    "print(numbers)"
   ]
  },
  {
   "cell_type": "code",
   "execution_count": null,
   "id": "fbb4a221-a0c2-4db2-8933-71b7c58ec8aa",
   "metadata": {
    "colab": {
     "base_uri": "https://localhost:8080/"
    },
    "executionInfo": {
     "elapsed": 257,
     "status": "ok",
     "timestamp": 1644320260659,
     "user": {
      "displayName": "Martin Dröge",
      "photoUrl": "https://lh3.googleusercontent.com/a-/AOh14GjDUAoqLrc0VGVRwrz65Ow9v0C9CkY0wvhEhRv1=s64",
      "userId": "08475768952355690669"
     },
     "user_tz": -60
    },
    "id": "1t9WkmJUKUVg",
    "outputId": "bcdb178c-e38e-4080-fc19-057a45a47094"
   },
   "outputs": [
    {
     "name": "stdout",
     "output_type": "stream",
     "text": [
      "[]\n"
     ]
    }
   ],
   "source": [
    "# \n",
    "del numbers[:]\n",
    "print(numbers)"
   ]
  },
  {
   "cell_type": "code",
   "execution_count": null,
   "id": "234e0a3c-8369-44d6-9133-c835ccd80f08",
   "metadata": {
    "colab": {
     "base_uri": "https://localhost:8080/",
     "height": 207
    },
    "executionInfo": {
     "elapsed": 7,
     "status": "error",
     "timestamp": 1644320263647,
     "user": {
      "displayName": "Martin Dröge",
      "photoUrl": "https://lh3.googleusercontent.com/a-/AOh14GjDUAoqLrc0VGVRwrz65Ow9v0C9CkY0wvhEhRv1=s64",
      "userId": "08475768952355690669"
     },
     "user_tz": -60
    },
    "id": "CjvkotpYKZz0",
    "outputId": "f9fc0a37-fdbc-4791-acf6-bf3e9d1d38b1"
   },
   "outputs": [
    {
     "ename": "NameError",
     "evalue": "ignored",
     "output_type": "error",
     "traceback": [
      "\u001b[0;31m---------------------------------------------------------------------------\u001b[0m",
      "\u001b[0;31mNameError\u001b[0m                                 Traceback (most recent call last)",
      "\u001b[0;32m<ipython-input-21-77064592625e>\u001b[0m in \u001b[0;36m<module>\u001b[0;34m()\u001b[0m\n\u001b[1;32m      1\u001b[0m \u001b[0;31m#\u001b[0m\u001b[0;34m\u001b[0m\u001b[0;34m\u001b[0m\u001b[0;34m\u001b[0m\u001b[0m\n\u001b[1;32m      2\u001b[0m \u001b[0;32mdel\u001b[0m \u001b[0mnumbers\u001b[0m\u001b[0;34m\u001b[0m\u001b[0;34m\u001b[0m\u001b[0m\n\u001b[0;32m----> 3\u001b[0;31m \u001b[0mprint\u001b[0m\u001b[0;34m(\u001b[0m\u001b[0mnumbers\u001b[0m\u001b[0;34m)\u001b[0m\u001b[0;34m\u001b[0m\u001b[0;34m\u001b[0m\u001b[0m\n\u001b[0m",
      "\u001b[0;31mNameError\u001b[0m: name 'numbers' is not defined"
     ]
    }
   ],
   "source": [
    "#\n",
    "del numbers\n",
    "print(numbers)"
   ]
  },
  {
   "cell_type": "markdown",
   "id": "da46f79c-6425-473f-837f-dd182419f87c",
   "metadata": {
    "id": "xgDoRCQYKlC3"
   },
   "source": [
    "\n",
    "\n",
    "---\n",
    "\n"
   ]
  },
  {
   "cell_type": "markdown",
   "id": "9836d9c6-5732-49da-8dda-1c8733d34dca",
   "metadata": {
    "id": "bYggqJLeatFh"
   },
   "source": [
    "### Aufgabe: Text Preprocessing\n",
    "\n",
    "In unserer ersten Zwischenaufgabe werden wir nun versuchen, einen Text mit Hilfe der Strukturierungsmöglichkeiten von Listen zu segmentieren, d.h., wir wollen ihn in kleinere Teilbereiche zerlegen. Dabei arbeiten wir diesmal nicht auf Zeichen- sondern auf Wortebene.\n",
    "\n",
    "Dazu müssen wir eine weitere, zentrale Operation kennenlernen, die auf Zeichenketten angewendet werden kann: die `split()`-Funktion. Mit dieser Methode können Sie eine Zeichenkette durch die Angabe eines Separators teilen. Das kann ein Zeichen oder eine -folge sein. Per default werden Strings anhand der *whitespaces*, also der Leerzeichen zerteilt. Optional kann angegeben werden, wie oft eine Zeichenkette anhand des Separators maximal zerteilt werden soll. "
   ]
  },
  {
   "cell_type": "code",
   "execution_count": null,
   "id": "d1120e4a-c483-4371-840c-2480cef3db41",
   "metadata": {
    "colab": {
     "base_uri": "https://localhost:8080/"
    },
    "executionInfo": {
     "elapsed": 231,
     "status": "ok",
     "timestamp": 1644320378615,
     "user": {
      "displayName": "Martin Dröge",
      "photoUrl": "https://lh3.googleusercontent.com/a-/AOh14GjDUAoqLrc0VGVRwrz65Ow9v0C9CkY0wvhEhRv1=s64",
      "userId": "08475768952355690669"
     },
     "user_tz": -60
    },
    "id": "Ae7cgTnrQMvl",
    "outputId": "d12ebfe8-5b15-4fdc-c19a-ef8ebe07cd7a"
   },
   "outputs": [
    {
     "name": "stdout",
     "output_type": "stream",
     "text": [
      "['Die', 'Editionswissenschaft', 'erlebt', 'nicht', 'zuletzt', 'wegen', 'einer', 'erfolgreichen', 'Kombination', 'von', 'traditionellen', 'Arbeitsweisen', 'mit', 'Methoden', 'der', 'Digital', 'Humanities', 'einen', 'regelrechten', 'Hype.', 'Digitale', 'Methoden', 'drängen', 'sich', 'besonders', 'an', 'den', 'Stellen', 'auf,', 'wo', 'sie', 'eine', 'Überwindung', 'der', 'Beschränkungen', 'des', 'analogen', 'Drucks', 'versprechen.', 'Zugleich', 'zeichnet', 'sich', 'ab,', 'dass', 'mit', 'einem', 'Wechsel', 'zu', 'digitalen', 'Editionsformen', 'nicht', 'nur', 'neue', 'Werkzeuge', 'genutzt', 'werden,', 'sondern', 'dass', 'sich', 'prinzipielle', 'strukturelle', 'Änderungen', 'ergeben:', 'so', 'können', 'analoge', 'Editionen', 'angereichert', 'werden', 'oder', 'Editionen', 'können', 'als', 'Hybrid', 'durch', 'eine', 'gleichwertige', 'digitale', 'und', 'analoge', 'Version', 'repräsentiert', 'werden.', 'Editoren', 'werden', 'angesichts', 'dieser', 'neuen', 'Möglichkeiten', 'vor', 'neue', 'Herausforderungen', 'gestellt.', 'Gleiches', 'gilt', 'für', 'Infrastrukturen,', 'die', 'die', 'Produkte', 'der', 'Editionswissenschaft', 'publizieren', 'und', 'langfristig', 'verfügbar', 'machen', 'sollen.', 'Grundlegende', 'Fragen', 'der', 'Qualitätsmessung', 'und', '-bewertung,', 'der', 'Arbeitsorganisation,', 'Vernetzung', 'und', 'Distribution', 'müssen', 'bei', 'der', 'digitalen', 'Editionswissenschaft', 'anders', 'bzw.', 'neu', 'gestellt', 'und', 'bewertet', 'werden.', 'Die', 'vom', 'Forschungsverbund', 'Marbach', 'Weimar', 'Wolfenbüttel', 'veranstaltete', 'Tagung', '“Digitale', 'Metamorphose:', 'Digital', 'Humanities', 'und', 'Editionswissenschaft”', 'betrachtete', 'diese', 'neuen', 'Möglichkeiten', 'kritisch', 'und', 'ging', 'dabei', 'auch', 'der', 'Frage', 'nach,', 'welche', 'Grenzen', 'und', 'Gefahren', 'es', 'jenseits', 'der', 'offensichtlichen', 'Vorteile', 'für', 'die', 'Editionswissenschaft', 'gibt.']\n"
     ]
    }
   ],
   "source": [
    "report = \"Die Editionswissenschaft erlebt nicht zuletzt wegen einer erfolgreichen Kombination von traditionellen Arbeitsweisen mit Methoden der Digital Humanities einen regelrechten Hype. Digitale Methoden drängen sich besonders an den Stellen auf, wo sie eine Überwindung der Beschränkungen des analogen Drucks versprechen. Zugleich zeichnet sich ab, dass mit einem Wechsel zu digitalen Editionsformen nicht nur neue Werkzeuge genutzt werden, sondern dass sich prinzipielle strukturelle Änderungen ergeben: so können analoge Editionen angereichert werden oder Editionen können als Hybrid durch eine gleichwertige digitale und analoge Version repräsentiert werden. Editoren werden angesichts dieser neuen Möglichkeiten vor neue Herausforderungen gestellt. Gleiches gilt für Infrastrukturen, die die Produkte der Editionswissenschaft publizieren und langfristig verfügbar machen sollen. Grundlegende Fragen der Qualitätsmessung und -bewertung, der Arbeitsorganisation, Vernetzung und Distribution müssen bei der digitalen Editionswissenschaft anders bzw. neu gestellt und bewertet werden. Die vom Forschungsverbund Marbach Weimar Wolfenbüttel veranstaltete Tagung “Digitale Metamorphose: Digital Humanities und Editionswissenschaft” betrachtete diese neuen Möglichkeiten kritisch und ging dabei auch der Frage nach, welche Grenzen und Gefahren es jenseits der offensichtlichen Vorteile für die Editionswissenschaft gibt.\"\n",
    "\n",
    "# split text into list of words\n",
    "tokenized_report = report.split()\n",
    "print(tokenized_report)"
   ]
  },
  {
   "cell_type": "markdown",
   "id": "08c90469-c1e0-46b6-a9bd-9f3e1ddfb398",
   "metadata": {
    "id": "xZ4b69EYk2Rc"
   },
   "source": [
    "Mit der Split-Funktion können textuelle Daten auf eine sehr simple Weise *tokenisiert* werden. Das sogenannte [*tokenizing*](https://de.wikipedia.org/wiki/Tokenisierung) von Textdaten ist ein grundlegender Arbeitsschritt im Bereich der Textanalyse beziehungsweise allgemeiner des [*Natural Language Processing*](https://en.wikipedia.org/wiki/Natural_language_processing), das ist ein Forschungsfeld, in dem sich intensiv mit der Verarbeitung von natürlichsprachlichen Daten auseinandergesetzt wird. \n",
    "Eine Zeichenkette wird dabei in kleinere Einheiten, die sogenannten *Tokens* zerlegt, die dann verschiedentlich weiterarbeitet werden können. Oft werden einfache Wörter als Token operationalisiert, aber auch Mehrwort-Einheiten oder gebräuchliche Phrasen können zu Untersuchungselementen werden. Die Tokenisierung ist ein sehr komplexer Vorgang. Für uns genügt aber zunächst die Zerlegung anhand von Leerzeichen.\n",
    "\n"
   ]
  },
  {
   "cell_type": "markdown",
   "id": "ed1d78c4-b16c-49a7-a07f-80c859c1acff",
   "metadata": {
    "id": "Z5jkXw52mzBE"
   },
   "source": [
    "**Aufgabenstellung:**\n",
    "\n",
    "1. Suchen Sie sich einen Beispieltext aus, den Sie im Rahmen dieser Übungseinheit basal verarbeiten und analysieren wollen. Weisen Sie ihn einer Variablen zu.\n",
    "\n",
    "2. Definieren Sie zwei Funktionen:\n",
    "- `tokenize_text()` soll folgende Operationen beinhalten: \n",
    " - Entfernung von Interpunktionszeichen\n",
    " - Lowercasing aller Großbuchstaben\n",
    " - Tokenisierung der Textdaten anhand von Whitespaces\n",
    "- `segment_text()` soll die tokenisierten Textdaten zu Segmenten in folgender Art weiterverarbeiten:\n",
    " - Segmente sollten nicht länger als 10 Wörter sein\n",
    " - Der Text soll am Ende zeilenweise (`\\n`) als zusammenhängende Zeichenkette ausgegeben werden.\n",
    "\n",
    "**Hinweise:**\n",
    "- Ihre Funktionen sollten auf beliebige Texte anwendbar sein\n",
    "- nutzen Sie bedingte Anweisungen und Schleifen\n",
    "- machen Sie Gebrauch von den Listenfunktionen, Ranges und Konkatenierungs- oder auch von Formatierungsmöglichkeiten bei Zeichenketten"
   ]
  },
  {
   "cell_type": "code",
   "execution_count": null,
   "id": "89073c94-baa9-49e5-a28a-37b2f75d045e",
   "metadata": {
    "id": "KiELJWhNTczI"
   },
   "outputs": [],
   "source": [
    "# your code"
   ]
  }
 ],
 "metadata": {
  "kernelspec": {
   "display_name": "Python 3 (ipykernel)",
   "language": "python",
   "name": "python3"
  },
  "language_info": {
   "codemirror_mode": {
    "name": "ipython",
    "version": 3
   },
   "file_extension": ".py",
   "mimetype": "text/x-python",
   "name": "python",
   "nbconvert_exporter": "python",
   "pygments_lexer": "ipython3",
   "version": "3.8.12"
  }
 },
 "nbformat": 4,
 "nbformat_minor": 5
}