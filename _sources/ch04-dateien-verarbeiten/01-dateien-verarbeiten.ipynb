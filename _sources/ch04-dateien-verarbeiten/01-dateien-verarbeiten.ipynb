{
 "cells": [
  {
   "cell_type": "markdown",
   "id": "10d07c18-488f-4dbd-9f60-91b849da7189",
   "metadata": {
    "id": "FVukQXs_H8od",
    "tags": []
   },
   "source": [
    "# Dateien verarbeiten\n",
    "\n",
    "Nachdem Sie sich in den letzten Abschnitten mit komplexen Datenstrukturen auseinandergesetzt haben, beschäftigen wir uns in diesem Kapitel mit ein paar Möglichkeiten, strukturierte und unstrukturierte Daten dauerhaft vorhalten zu können. Hierfür müssen wir verstehen, wie Python mit Dateien arbeitet. Die folgenden Inhalte bauen in großen Teilen auf dem auf, was Sie in den letzten Abschnitten gelernt haben und dienen vor allem der Vertiefung und konkreten Anwendung dieser Inhalte."
   ]
  },
  {
   "cell_type": "markdown",
   "id": "ec81011f-2add-4f7c-8538-c7225333bf81",
   "metadata": {
    "id": "NeujOAPGIkLf"
   },
   "source": [
    "## Lernziele\n",
    "\n",
    "Was Sie am Ende der Lektion beantworten können sollen:\n",
    "* Wie lassen sich in Python Dateien öffnen, auslesen und erstellen?\n",
    "* Was sind JSONs und wie lassen sie sich mit Python verarbeiten?\n",
    "* Wie lassen sich CSV-Dateien auslesen und erstellen?"
   ]
  }
 ],
 "metadata": {
  "kernelspec": {
   "display_name": "Python 3 (ipykernel)",
   "language": "python",
   "name": "python3"
  },
  "language_info": {
   "codemirror_mode": {
    "name": "ipython",
    "version": 3
   },
   "file_extension": ".py",
   "mimetype": "text/x-python",
   "name": "python",
   "nbconvert_exporter": "python",
   "pygments_lexer": "ipython3",
   "version": "3.8.12"
  }
 },
 "nbformat": 4,
 "nbformat_minor": 5
}
