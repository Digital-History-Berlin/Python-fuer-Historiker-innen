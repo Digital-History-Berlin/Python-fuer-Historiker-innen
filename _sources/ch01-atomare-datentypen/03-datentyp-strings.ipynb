{
 "cells": [
  {
   "cell_type": "markdown",
   "id": "b6873739-5e1f-4f4a-b980-a48196108e5b",
   "metadata": {
    "id": "pI7IqHE5wfWD"
   },
   "source": [
    "# Arbeiten mit Strings\n",
    "\n",
    ":::{index} String\n",
    ":name: string\n",
    ":::\n",
    "\n",
    ":::{admonition} Information\n",
    ":class: note \n",
    "Aus Gründen der Lesbarkeit haben wir lange Strings, die im folgenden den Variablen zugewiesen werden, in drei einfache Anführungszeichen gesetzt. Auf diese Weise kann der String über mehrere Zeilen verlaufen und bleibt daher direkt lesbar, ohne dass die Leiste zum Scrollen bemüht werden muss.\n",
    ":::\n",
    "\n",
    ":::{index} Indizierung\n",
    ":name: indizierung\n",
    ":::\n",
    "\n",
    ":::{index} Slicing\n",
    ":name: slicing\n",
    ":::\n",
    "\n",
    "## Indizierung und Slicing\n",
    "\n",
    "Um eine Begrüßung aus dem Hello-World-Programm zu erstellen - wie im letzten Abschnitt geschehen - benötigen wir jedoch nur einen Teil der `Hello, World!`-Zeichenkette. Als Zeichenkette gehören Strings zu den sequentiellen Datentypen, d.h. sie stellen eine geordnete Folge von Elementen dar, den einzelnen Zeichen (*characters*). Durch diese Ordnung und Rangfolge ist es möglich, jedes einzelne Element des Strings über **Indices** direkt anzusteuern, indem die gewünschte Indexposition durch eckige Klammern angegeben wird: das \"e\" beispielsweise durch den Ausdruck `my_variable[1]`. \n",
    "\n",
    "Wundern Sie sich darüber, warum der zweite Buchstabe in der Zeichenkette an der Indexposition '1' steht? Schauen wir uns den String genauer an:\n",
    "\n",
    "![alt text](https://i.imgur.com/gGDkY0P.png)\n",
    "\n",
    "::::{margin}\n",
    ":::{admonition} Wichtig!\n",
    ":class: note\n",
    "Die Index-Zählung beginnt immer bei 0.\n",
    ":::\n",
    "::::\n",
    "\n",
    "Ein String ist von links nach rechts durchnummeriert. Die Zählung beginnt allerdings bei 0! Zeichenketten können auch umgekehrt gelesen werden, also von rechts nach links. Dann fangen wir bei -1 an. Auf diese Weise ist jedes Zeichen direkt ansteuerbar - auch Satzzeichen oder Leerzeichen, sogenannte *whitespaces*. Für unsere interaktive Abwandlung des Hallo-Welt-Programms haben wir in der Ausgabefunktion nur einen ganz bestimmten Wertbereich ausgewählt und zwar `Hello, `. Diesen Wertebereich können wir durch Nutzung der Indexpositionen ausschneiden (*slicing*).\n",
    "\n",
    "Wie bei der Indizierung benutzen wir für das **Slicing** eckige Klammern, statt einem Wert benötigen wir allerdings eine Start- und eine Endposition. Führen Sie die folgenden Slicing-Anweisungen aus und erklären Sie die Funktionsweise.\n"
   ]
  },
  {
   "cell_type": "code",
   "execution_count": null,
   "id": "f10ed9b4-6af9-4764-9deb-7ee8cf616c82",
   "metadata": {
    "colab": {
     "base_uri": "https://localhost:8080/",
     "height": 36
    },
    "executionInfo": {
     "elapsed": 292,
     "status": "ok",
     "timestamp": 1643729069334,
     "user": {
      "displayName": "Martin Dröge",
      "photoUrl": "https://lh3.googleusercontent.com/a-/AOh14GjDUAoqLrc0VGVRwrz65Ow9v0C9CkY0wvhEhRv1=s64",
      "userId": "08475768952355690669"
     },
     "user_tz": -60
    },
    "id": "bm9iB8W0DVcj",
    "outputId": "d86b102f-8643-46c3-a2ed-11ca1e1eb8b0"
   },
   "outputs": [],
   "source": [
    "my_variable[1:5]"
   ]
  },
  {
   "cell_type": "markdown",
   "id": "287e2071-6e89-4e32-82e4-5a492e22617b",
   "metadata": {
    "id": "0CVdVIo4EwaF"
   },
   "source": [
    "*Ihre Erklärung*"
   ]
  },
  {
   "cell_type": "code",
   "execution_count": null,
   "id": "06f36be2-dece-4aec-aa92-1315a849220c",
   "metadata": {
    "colab": {
     "base_uri": "https://localhost:8080/",
     "height": 36
    },
    "executionInfo": {
     "elapsed": 306,
     "status": "ok",
     "timestamp": 1643729076249,
     "user": {
      "displayName": "Martin Dröge",
      "photoUrl": "https://lh3.googleusercontent.com/a-/AOh14GjDUAoqLrc0VGVRwrz65Ow9v0C9CkY0wvhEhRv1=s64",
      "userId": "08475768952355690669"
     },
     "user_tz": -60
    },
    "id": "FWuemLIuDhxn",
    "outputId": "1fcb4eb2-35af-445f-e93c-77533613eff8"
   },
   "outputs": [],
   "source": [
    "my_variable[:7]"
   ]
  },
  {
   "cell_type": "markdown",
   "id": "c2267e84-4b5e-4fd2-841b-215a51ba8735",
   "metadata": {
    "id": "u7zdkwTpE2ju"
   },
   "source": [
    "*Ihre Erklärung*"
   ]
  },
  {
   "cell_type": "code",
   "execution_count": null,
   "id": "689b9238-27bb-4269-beec-f0fa58fd511a",
   "metadata": {
    "colab": {
     "base_uri": "https://localhost:8080/",
     "height": 36
    },
    "executionInfo": {
     "elapsed": 339,
     "status": "ok",
     "timestamp": 1643729081216,
     "user": {
      "displayName": "Martin Dröge",
      "photoUrl": "https://lh3.googleusercontent.com/a-/AOh14GjDUAoqLrc0VGVRwrz65Ow9v0C9CkY0wvhEhRv1=s64",
      "userId": "08475768952355690669"
     },
     "user_tz": -60
    },
    "id": "K7LGurh7DlDT",
    "outputId": "075a784e-372a-40be-df52-f22f1ed5e64f"
   },
   "outputs": [],
   "source": [
    "my_variable[4:]"
   ]
  },
  {
   "cell_type": "markdown",
   "id": "6a3ac722-7a45-4371-a51c-f66aba4ed58b",
   "metadata": {
    "id": "2aWltbsME4Bw"
   },
   "source": [
    "*Ihre Erklärung*"
   ]
  },
  {
   "cell_type": "code",
   "execution_count": null,
   "id": "ced92c92-620f-4f72-8b54-7f11f2489ea1",
   "metadata": {
    "colab": {
     "base_uri": "https://localhost:8080/",
     "height": 36
    },
    "executionInfo": {
     "elapsed": 505,
     "status": "ok",
     "timestamp": 1643729093019,
     "user": {
      "displayName": "Martin Dröge",
      "photoUrl": "https://lh3.googleusercontent.com/a-/AOh14GjDUAoqLrc0VGVRwrz65Ow9v0C9CkY0wvhEhRv1=s64",
      "userId": "08475768952355690669"
     },
     "user_tz": -60
    },
    "id": "T8x2XSjrD_9_",
    "outputId": "7cde14f1-652f-4ea7-e5e3-076c17aef287"
   },
   "outputs": [],
   "source": [
    "my_variable[:]"
   ]
  },
  {
   "cell_type": "markdown",
   "id": "c75da104-6eeb-469b-8406-e7be4afac637",
   "metadata": {
    "id": "Fj0E_OJbE5Ea"
   },
   "source": [
    "*Ihre Erklärung*"
   ]
  },
  {
   "cell_type": "code",
   "execution_count": null,
   "id": "01e9b764-4e85-4bde-96e1-edbda6e95797",
   "metadata": {
    "colab": {
     "base_uri": "https://localhost:8080/",
     "height": 36
    },
    "executionInfo": {
     "elapsed": 331,
     "status": "ok",
     "timestamp": 1643729096725,
     "user": {
      "displayName": "Martin Dröge",
      "photoUrl": "https://lh3.googleusercontent.com/a-/AOh14GjDUAoqLrc0VGVRwrz65Ow9v0C9CkY0wvhEhRv1=s64",
      "userId": "08475768952355690669"
     },
     "user_tz": -60
    },
    "id": "FNdhZ5RXEDrl",
    "outputId": "bda2e8bb-b60c-4759-ed5c-2b2f642ab117",
    "tags": []
   },
   "outputs": [],
   "source": [
    "my_variable[2:-6]"
   ]
  },
  {
   "cell_type": "markdown",
   "id": "b7b45a9c-eff5-4dd4-8d72-5713119302bd",
   "metadata": {
    "id": "XRwKWVzSE7RY"
   },
   "source": [
    "*Ihre Erklärung*"
   ]
  },
  {
   "cell_type": "code",
   "execution_count": null,
   "id": "78b81ec3-e865-40e6-8b78-0177a24b6c47",
   "metadata": {
    "colab": {
     "base_uri": "https://localhost:8080/",
     "height": 36
    },
    "executionInfo": {
     "elapsed": 314,
     "status": "ok",
     "timestamp": 1643729100675,
     "user": {
      "displayName": "Martin Dröge",
      "photoUrl": "https://lh3.googleusercontent.com/a-/AOh14GjDUAoqLrc0VGVRwrz65Ow9v0C9CkY0wvhEhRv1=s64",
      "userId": "08475768952355690669"
     },
     "user_tz": -60
    },
    "id": "q31mw4BQEiy7",
    "outputId": "342b9160-a99e-4a59-eb0a-35519f202e59"
   },
   "outputs": [],
   "source": [
    "my_variable[0:12:2]"
   ]
  },
  {
   "cell_type": "markdown",
   "id": "66f2f7f6-5c8d-49d7-9c51-81de3b30b49c",
   "metadata": {
    "id": "U2VRfDTSE8tT"
   },
   "source": [
    "*Ihre Erklärung*"
   ]
  },
  {
   "cell_type": "markdown",
   "id": "e68d3445-636b-40e9-8f5a-9e735c41df98",
   "metadata": {
    "id": "gczNazRppuHy"
   },
   "source": [
    "Üben wir das Ausschneiden von Strings noch ein wenig."
   ]
  },
  {
   "cell_type": "code",
   "execution_count": null,
   "id": "3a4c4ae1-e855-4621-83cf-d3d03f77d89f",
   "metadata": {
    "executionInfo": {
     "elapsed": 366,
     "status": "ok",
     "timestamp": 1643729205093,
     "user": {
      "displayName": "Martin Dröge",
      "photoUrl": "https://lh3.googleusercontent.com/a-/AOh14GjDUAoqLrc0VGVRwrz65Ow9v0C9CkY0wvhEhRv1=s64",
      "userId": "08475768952355690669"
     },
     "user_tz": -60
    },
    "id": "9-58cpqWpsDF"
   },
   "outputs": [],
   "source": [
    "example_text = '''Jemand musste Josef K. verleumdet haben, \n",
    "                  denn ohne dass er etwas Böses getan hätte, \n",
    "                  wurde er eines Morgens verhaftet.'''\n",
    "\n",
    "# schneiden Sie die Zeichenfolge \"Josef K.\" aus\n",
    "\n",
    "\n",
    "# schneiden Sie das letzte Wort aus\n",
    "\n",
    "\n",
    "# schneiden Sie ab \"denn\" (also mit d beginnend) jedes 3. Zeichen aus\n",
    "\n"
   ]
  },
  {
   "cell_type": "markdown",
   "id": "18b09b11-72ad-47cd-b8fa-c62b25995885",
   "metadata": {
    "id": "D1feKnd0HlyU",
    "tags": []
   },
   "source": [
    ":::{index} single: Funktion ; len()\n",
    ":name: len_\n",
    ":::\n",
    "\n",
    "## Länge von Strings bestimmen\n",
    "\n",
    "Mit der Funktion [`len()`](https://docs.python.org/3/library/functions.html#len) kann die Anzahl der Elemente in einer Zeichenkette ermittelt werden."
   ]
  },
  {
   "cell_type": "code",
   "execution_count": null,
   "id": "ba9cfb05-06cc-47a2-b898-bd2a8fa4c543",
   "metadata": {
    "colab": {
     "base_uri": "https://localhost:8080/"
    },
    "executionInfo": {
     "elapsed": 337,
     "status": "ok",
     "timestamp": 1643729267146,
     "user": {
      "displayName": "Martin Dröge",
      "photoUrl": "https://lh3.googleusercontent.com/a-/AOh14GjDUAoqLrc0VGVRwrz65Ow9v0C9CkY0wvhEhRv1=s64",
      "userId": "08475768952355690669"
     },
     "user_tz": -60
    },
    "id": "oy5eNpJYHq81",
    "outputId": "a830be75-2a8f-4c79-9b76-edc22047e5dc"
   },
   "outputs": [],
   "source": [
    "example_text = '''Jemand musste Josef K. verleumdet haben, \n",
    "                  denn ohne dass er etwas Böses getan hätte, \n",
    "                  wurde er eines Morgens verhaftet.'''\n",
    "len(example_text)"
   ]
  },
  {
   "cell_type": "markdown",
   "id": "93970554-1f5e-4091-b64a-c986e05787d8",
   "metadata": {
    "id": "ADz8x18Dz84m"
   },
   "source": [
    ":::{index} single: Funktion ; count()\n",
    ":name: count_\n",
    ":::\n",
    "\n",
    "## Zählen\n",
    "Mit der auf ein String-Objekt angewendeten Funktion [`count()`](https://docs.python.org/3/library/stdtypes.html#str.count) kann gezählt werden, wie oft ein Element in dem Objekt vorhanden ist. "
   ]
  },
  {
   "cell_type": "code",
   "execution_count": null,
   "id": "7cddd437-0e23-4ea2-95d0-5ec5cb8fdc30",
   "metadata": {
    "colab": {
     "base_uri": "https://localhost:8080/"
    },
    "executionInfo": {
     "elapsed": 388,
     "status": "ok",
     "timestamp": 1643729270810,
     "user": {
      "displayName": "Martin Dröge",
      "photoUrl": "https://lh3.googleusercontent.com/a-/AOh14GjDUAoqLrc0VGVRwrz65Ow9v0C9CkY0wvhEhRv1=s64",
      "userId": "08475768952355690669"
     },
     "user_tz": -60
    },
    "id": "s_14Rese0Sg9",
    "outputId": "41ecd6d0-ef2e-40dc-9dc6-d1f9fa8dc11a"
   },
   "outputs": [],
   "source": [
    "example_text.count(\"u\")"
   ]
  },
  {
   "cell_type": "code",
   "execution_count": null,
   "id": "6b7b935c-a522-46a5-8a57-48d02cfd27ea",
   "metadata": {
    "colab": {
     "base_uri": "https://localhost:8080/"
    },
    "executionInfo": {
     "elapsed": 315,
     "status": "ok",
     "timestamp": 1643729274228,
     "user": {
      "displayName": "Martin Dröge",
      "photoUrl": "https://lh3.googleusercontent.com/a-/AOh14GjDUAoqLrc0VGVRwrz65Ow9v0C9CkY0wvhEhRv1=s64",
      "userId": "08475768952355690669"
     },
     "user_tz": -60
    },
    "id": "ZoJoL3CE0-_3",
    "outputId": "a0605cb3-90b3-4ffd-aec0-24571d021e6a"
   },
   "outputs": [],
   "source": [
    "example_text.count(\"e\")"
   ]
  },
  {
   "cell_type": "markdown",
   "id": "0715ae17-f4c1-4e8b-9eb0-7f8fa50869d9",
   "metadata": {
    "id": "YV8d2TBr0aRT"
   },
   "source": [
    ":::{index} single: Funktion ; find()\n",
    ":name: find_\n",
    ":::\n",
    "\n",
    ":::{index} single: Funktion ; index()\n",
    ":name: index_\n",
    ":::\n",
    "\n",
    "## Finden\n",
    "Mit der auf ein String-Objekt angewendeten Funktion [`find()`](https://docs.python.org/3/library/stdtypes.html#str.find) kann ermittelt werden, an welcher Position im Objekt sich ein Element befindet. Die [`index()`-Funktion](https://docs.python.org/3/library/stdtypes.html#str.index) funktioniert auf ganz ähnliche Weise, mit dem Unterschied, dass statt einer '-1' eine Fehlermeldung ausgegeben wird, wenn ein gesuchter String sich nicht in der Zeichenkette befindet."
   ]
  },
  {
   "cell_type": "code",
   "execution_count": null,
   "id": "1b3930c2-5124-4bf6-b563-239269e36baa",
   "metadata": {
    "colab": {
     "base_uri": "https://localhost:8080/"
    },
    "executionInfo": {
     "elapsed": 401,
     "status": "ok",
     "timestamp": 1643729281539,
     "user": {
      "displayName": "Martin Dröge",
      "photoUrl": "https://lh3.googleusercontent.com/a-/AOh14GjDUAoqLrc0VGVRwrz65Ow9v0C9CkY0wvhEhRv1=s64",
      "userId": "08475768952355690669"
     },
     "user_tz": -60
    },
    "id": "XUts4orm0vVd",
    "outputId": "26385052-5c4e-49c5-a552-5386a936c7bd"
   },
   "outputs": [],
   "source": [
    "print(example_text.find(\"u\"))\n",
    "print(example_text.index(\"u\"))"
   ]
  },
  {
   "cell_type": "code",
   "execution_count": null,
   "id": "63682c71-f3e5-415d-b404-f2c9df37ae0f",
   "metadata": {
    "colab": {
     "base_uri": "https://localhost:8080/"
    },
    "executionInfo": {
     "elapsed": 308,
     "status": "ok",
     "timestamp": 1643729283891,
     "user": {
      "displayName": "Martin Dröge",
      "photoUrl": "https://lh3.googleusercontent.com/a-/AOh14GjDUAoqLrc0VGVRwrz65Ow9v0C9CkY0wvhEhRv1=s64",
      "userId": "08475768952355690669"
     },
     "user_tz": -60
    },
    "id": "zb5CTWT61HMN",
    "outputId": "12c977eb-4923-4ae4-e34c-f23b609816f6"
   },
   "outputs": [],
   "source": [
    "print(example_text.find(\"e\"))\n",
    "print(example_text.index(\"e\"))"
   ]
  },
  {
   "cell_type": "code",
   "execution_count": null,
   "id": "32139697-5018-4973-97ed-e3adb9b306a3",
   "metadata": {
    "colab": {
     "base_uri": "https://localhost:8080/",
     "height": 207
    },
    "executionInfo": {
     "elapsed": 400,
     "status": "error",
     "timestamp": 1643729286037,
     "user": {
      "displayName": "Martin Dröge",
      "photoUrl": "https://lh3.googleusercontent.com/a-/AOh14GjDUAoqLrc0VGVRwrz65Ow9v0C9CkY0wvhEhRv1=s64",
      "userId": "08475768952355690669"
     },
     "user_tz": -60
    },
    "id": "dD3rewNy8ISb",
    "outputId": "3ac1895d-733d-4466-f3bf-d5aedac702a9"
   },
   "outputs": [],
   "source": [
    "print(example_text.find(\"ß\"))\n",
    "print(example_text.index(\"ß\"))"
   ]
  },
  {
   "cell_type": "markdown",
   "id": "182082f8-150b-40f8-a43a-51d4295ad4ad",
   "metadata": {
    "id": "gUbT3P4t02p1"
   },
   "source": [
    "**Was fällt Ihnen einschränkend bei diesen Funktionen auf?** \n",
    "\n",
    "*Ihre Antwort*"
   ]
  },
  {
   "cell_type": "code",
   "execution_count": null,
   "id": "9fd1fb69",
   "metadata": {},
   "outputs": [],
   "source": [
    "# your answer"
   ]
  },
  {
   "cell_type": "markdown",
   "id": "46a0fd77-c485-4022-a85e-abf9f1015680",
   "metadata": {
    "id": "BlhQHDxJH8ny"
   },
   "source": [
    ":::{index} single: Funktion ; replace()\n",
    ":name: replace_\n",
    ":::\n",
    "\n",
    "## Strings ersetzen\n",
    "\n",
    "Strings sind wie eingangs erwähnt grundsätzlich unveränderbar. Mit der auf ein String-Objekt angewendeten Funktion [`replace()`](https://docs.python.org/3/library/stdtypes.html#str.replace) kann aber gewissermaßen ein zu definierender Substring durch einen anderen ersetzt werden. Genau genommen wird hierbei die ursprüngliche Zeichenkette nicht verändert, sondern eine Kopie generiert und entsprechend der angegebenen {term}`Parameter` verändert. Diese veränderte Kopie kann entweder den Wert der alten Variablen überschreiben oder einer neuen Variablen zugewiesen werden. Optional kann noch ein dritter Parameter, *count*, angegeben werden, der bestimmt, wie oft ein alter Teilstring durch einen neuen ersetzt werden soll. "
   ]
  },
  {
   "cell_type": "code",
   "execution_count": null,
   "id": "b535ad60-1c8f-4e22-84f1-c1294da4e40a",
   "metadata": {
    "colab": {
     "base_uri": "https://localhost:8080/"
    },
    "executionInfo": {
     "elapsed": 7415,
     "status": "ok",
     "timestamp": 1643729347956,
     "user": {
      "displayName": "Martin Dröge",
      "photoUrl": "https://lh3.googleusercontent.com/a-/AOh14GjDUAoqLrc0VGVRwrz65Ow9v0C9CkY0wvhEhRv1=s64",
      "userId": "08475768952355690669"
     },
     "user_tz": -60
    },
    "id": "XHl9G7PM0M-O",
    "outputId": "6cb7282b-e21f-457f-9eeb-ad997a87b9e9"
   },
   "outputs": [],
   "source": [
    "# replace old substring with new input\n",
    "name = input(\"What's your name? (press ENTER when finished)\")\n",
    "new_text = example_text.replace(\"Jemand\", name)\n",
    "print(new_text)"
   ]
  },
  {
   "cell_type": "code",
   "execution_count": null,
   "id": "991b3809-395b-447a-bcad-12ce6f19ef33",
   "metadata": {
    "colab": {
     "base_uri": "https://localhost:8080/"
    },
    "executionInfo": {
     "elapsed": 4,
     "status": "ok",
     "timestamp": 1643729348276,
     "user": {
      "displayName": "Martin Dröge",
      "photoUrl": "https://lh3.googleusercontent.com/a-/AOh14GjDUAoqLrc0VGVRwrz65Ow9v0C9CkY0wvhEhRv1=s64",
      "userId": "08475768952355690669"
     },
     "user_tz": -60
    },
    "id": "7_nAMrcl6jAh",
    "outputId": "c9fd5e81-5bd0-470d-bc3c-fdeaf703906d"
   },
   "outputs": [],
   "source": [
    "# replace character four times\n",
    "new_text = new_text.replace(\"e\", \"a\", 4)\n",
    "print(new_text)"
   ]
  },
  {
   "cell_type": "markdown",
   "id": "b4ae11da-d427-4751-b30d-3125dc224160",
   "metadata": {
    "id": "kIrpc94SKbBh",
    "tags": []
   },
   "source": [
    "## Wiederholungen\n",
    "\n",
    "Analog zur Verkettung können Strings auch multipliziert, also gewissermaßen mit sich selbst konkateniert werden. Dazu wird das Multiplikations-Symbol genutzt."
   ]
  },
  {
   "cell_type": "code",
   "execution_count": null,
   "id": "0bfd25b7-bafe-474e-9198-e924374feff8",
   "metadata": {
    "id": "y_Pxhi7hKEfF"
   },
   "outputs": [],
   "source": [
    "new_text[:10] * 3"
   ]
  },
  {
   "cell_type": "markdown",
   "id": "0b98b717-0eb6-4b5d-bdc8-c29ac41684f2",
   "metadata": {
    "id": "YQPRqoCDIQiD"
   },
   "source": [
    ":::{index} single: Funktion ; join()\n",
    ":name: join_\n",
    ":::\n",
    "\n",
    "## Konkatenierung \n",
    "\n",
    "Die Zusammenfügung von Strings durch die \"Addition\" und \"Multiplikation\" haben wir nun schon kennengelernt. Es gibt noch eine weitere Variante, mit der Sie Zeichenketten auf eine sehr spezifische Weise verknüpfen können: [`join()`](https://docs.python.org/3/library/stdtypes.html#str.join). Die Funktion wird auf ein String-Objekt angewendet und gibt eine Zeichenkette zurück, die um die Elemente eines sequenziellen Objekts angereichert wurde.\n",
    "\n"
   ]
  },
  {
   "cell_type": "code",
   "execution_count": null,
   "id": "d279ad98-ed8a-4b23-b40c-0da917022931",
   "metadata": {
    "id": "MLimi1nHm3XL"
   },
   "outputs": [],
   "source": [
    "# demonstrate join-function\n",
    "some_string = \"spam\"\n",
    "concat_some_string = some_string.join(\"IN SERT\")\n",
    "print(concat_some_string)"
   ]
  },
  {
   "cell_type": "markdown",
   "id": "e016ea11-7fa7-40e6-bb4c-b4147ad810f2",
   "metadata": {
    "id": "1TrCbvvCnKLP"
   },
   "source": [
    "**Frage an Sie: Was ist bei dem Join-Vorgang passiert?**"
   ]
  },
  {
   "cell_type": "markdown",
   "id": "9ae3f789-faf8-4c03-981a-f87b647fb7e4",
   "metadata": {
    "id": "667kjtuOnXob"
   },
   "source": [
    "Die `join()`-Funktion kann auch auf leere Strings angewendet werden:"
   ]
  },
  {
   "cell_type": "code",
   "execution_count": null,
   "id": "e1eab5a2-83c1-40c7-bc2b-48b596fb81d7",
   "metadata": {
    "id": "E9EJkuDSIcMM"
   },
   "outputs": [],
   "source": [
    "# demonstrate join-function with empty string\n",
    "first_sentence = '''Es war die beste und die schlimmste Zeit, \n",
    "                    ein Jahrhundert der Weisheit und des Unsinns, \n",
    "                    eine Epoche des Glaubens und des Unglaubens, \n",
    "                    eine Periode des Lichts und der Finsternis: \n",
    "                    es war der Frühling der Hoffnung und der Winter der Verzweiflung; \n",
    "                    wir hatten alles, wir hatten nichts vor uns; \n",
    "                    wir steuerten alle dem Himmel zu und auch alle unmittelbar in die \n",
    "                    entgegengesetzte Richtung – mit einem Wort, \n",
    "                    diese Zeit war der unsrigen so ähnlich, \n",
    "                    dass ihre geräuschvollsten Vertreter im guten wie im bösen nur \n",
    "                    den Superlativ auf sie angewendet haben wollten.'''\n",
    "concat = \"\".join(\"Der erste Satz in Franz Kafkas 'Der Prozeß': \" \\\n",
    "                    + example_text + \\\n",
    "                    \" Der erste Satz in Charles Dickens' 'Eine Geschichte aus zwei Städten': \" \\\n",
    "                    + first_sentence)\n",
    "print(concat)"
   ]
  },
  {
   "cell_type": "markdown",
   "id": "1086d66d-f312-4ef4-9cc7-3c53ed572277",
   "metadata": {
    "id": "YMmOm7bOg4a7"
   },
   "source": [
    "Die nun ausgegebene Zeichenkette ist sehr lang. Sie zu lesen ist umständlich. Sie können durch das Einfügen von `\\n` Zeilenumbrüche in Ihre Strings einbauen. Wandeln Sie das vorherige Beispiel so ab, dass zwischen dem ersten Satz von Kafkas \"Der Prozeß\" und dem ersten Satz von Dickens zwei Zeilenumbrüche erfolgen."
   ]
  },
  {
   "cell_type": "code",
   "execution_count": null,
   "id": "45250805-896f-4f50-afb4-71255b2b53c4",
   "metadata": {
    "id": "V67hkbcphn4H"
   },
   "outputs": [],
   "source": [
    "# your code"
   ]
  },
  {
   "cell_type": "markdown",
   "id": "289e2db2-554f-4cdf-a935-557e601f0db0",
   "metadata": {
    "id": "_IFUU2UwLH9T"
   },
   "source": [
    ":::{index} single: Funktion ; upper()\n",
    ":name: upper_\n",
    ":::\n",
    "\n",
    ":::{index} single: Funktion ; lower()\n",
    ":name: lower_\n",
    ":::\n",
    "\n",
    "\n",
    ":::{index} single: Funktion ; swapcase()\n",
    ":name: swapcase_\n",
    ":::\n",
    "\n",
    ":::{index} single: Funktion ; title()\n",
    ":name: title_\n",
    ":::\n",
    "\n",
    ":::{index} single: Funktion ; capitalize()\n",
    ":name: capitalize_\n",
    ":::\n",
    "\n",
    "## Strings formatieren\n",
    "\n",
    "### Groß- und Kleinschreibung ändern\n",
    "\n",
    "Führen Sie den nachfolgenden Codeblock aus und ergänzen Sie anhand der Inspektion der Ausgabe als Kommentar im {term}`Codeblock` die Funktionsweise der jeweiligen Funktionen."
   ]
  },
  {
   "cell_type": "code",
   "execution_count": null,
   "id": "4201c0bc-686c-46fa-8ff8-5363364058a1",
   "metadata": {
    "id": "pQtFtKMaLNMU"
   },
   "outputs": [],
   "source": [
    "# describe\n",
    "example_text_upper = example_text.upper()\n",
    "\n",
    "# describe\n",
    "example_text_lower = example_text.lower()\n",
    "\n",
    "# describe\n",
    "example_text_swap = example_text.swapcase()\n",
    "\n",
    "# describe\n",
    "example_text_title = example_text.title()\n",
    "\n",
    "# describe\n",
    "example_text_capitalized = example_text.capitalize()\n",
    "\n",
    "print(example_text_upper)\n",
    "print(example_text_lower)\n",
    "print(example_text_swap)\n",
    "print(example_text_title)\n",
    "print(example_text_capitalized)"
   ]
  },
  {
   "cell_type": "markdown",
   "id": "bfd36552-e860-4142-ae04-1846703c2dea",
   "metadata": {
    "id": "DaTb8owKLenN"
   },
   "source": [
    ":::{index} Ausgabe formatieren\n",
    ":name: ausgabe_formatieren\n",
    ":::\n",
    "\n",
    "## Ausgabe formatieren\n",
    "\n",
    "Bislang sah die Ausgabe unserer Ergebnisse mit der `print()`-Funktion recht schmucklos aus. Python bietet für String-Objekte umfangreiche und komplexe Formatierungsmöglichkeiten. Für diesen Abschnitt soll uns eine ganz einfache Herangehensweise genügen, die es ermöglicht, unsere Datenausgabe einzuordnen beziehungsweise zu strukturieren. Durch das Einfügen von geschweiften Klammern (`{}`) in einen String wird dem Python-Interpreter kenntlich gemacht, dass an diesen Stellen etwas eingefügt werden soll. In die geschweiften Klammern können wir Positionsargumente setzen, die sich auf die der Format-Funktion übergebenen Parameter beziehen. Wenn keine Positionsargumente angegeben werden, die geschweiften Klammern also leer bleiben, dann wird die Reihenfolge der Parameter als maßgeblich angenommen.\n",
    "\n",
    "**Ein Beispiel:**"
   ]
  },
  {
   "cell_type": "code",
   "execution_count": null,
   "id": "73a60afb-995e-4af8-b200-83a993865b2c",
   "metadata": {
    "colab": {
     "base_uri": "https://localhost:8080/"
    },
    "executionInfo": {
     "elapsed": 394,
     "status": "ok",
     "timestamp": 1643729502308,
     "user": {
      "displayName": "Martin Dröge",
      "photoUrl": "https://lh3.googleusercontent.com/a-/AOh14GjDUAoqLrc0VGVRwrz65Ow9v0C9CkY0wvhEhRv1=s64",
      "userId": "08475768952355690669"
     },
     "user_tz": -60
    },
    "id": "7RZXkmGTLiX1",
    "outputId": "bf58fcd3-fa8a-483f-dd6c-09763ba743a2"
   },
   "outputs": [],
   "source": [
    "print(\"Der Beispieltext '{0}'\\nist {1} Zeichen lang.\".format(example_text, len(example_text)))"
   ]
  },
  {
   "cell_type": "markdown",
   "id": "aea0d88e-06cd-4853-8fe6-27b3fdbe5c8d",
   "metadata": {
    "id": "00tNuZOL7Smt"
   },
   "source": [
    "::::{margin}\n",
    ":::{admonition} Hinweis\n",
    ":class: note\n",
    "In diesem Jupyter Book werden f-strings zur Formatierung von Strings genutzt.\n",
    ":::\n",
    "::::\n",
    "\n",
    ":::{index} f-strings\n",
    ":name: f-strings\n",
    ":::\n",
    "\n",
    "**f-strings**\n",
    "\n",
    "Eine alternative Schreibweise, um Ausgaben zu formatieren, sind die sog. f-strings. Dem ersten Anführungszeichen wird ein `f` vorangestellt und in den geschweiften Klammern können die Variablen direkt eingefügt werden. "
   ]
  },
  {
   "cell_type": "code",
   "execution_count": null,
   "id": "1147622d-5b3c-41ce-ba64-35add17c7d64",
   "metadata": {
    "colab": {
     "base_uri": "https://localhost:8080/"
    },
    "executionInfo": {
     "elapsed": 292,
     "status": "ok",
     "timestamp": 1643729882126,
     "user": {
      "displayName": "Martin Dröge",
      "photoUrl": "https://lh3.googleusercontent.com/a-/AOh14GjDUAoqLrc0VGVRwrz65Ow9v0C9CkY0wvhEhRv1=s64",
      "userId": "08475768952355690669"
     },
     "user_tz": -60
    },
    "id": "Mk7AFQ7R7Q81",
    "outputId": "1a92f4e4-6cf2-45a4-d80d-66e2ddf9d7c2"
   },
   "outputs": [],
   "source": [
    "print(f\"Der Beispieltext '{example_text}'\\nist {len(example_text)} Zeichen lang.\")"
   ]
  },
  {
   "cell_type": "markdown",
   "id": "14409897-082b-4a5d-89ff-52c523bba6dc",
   "metadata": {
    "id": "LuWrXO7ZbcC7"
   },
   "source": [
    "Ausführliche Informationen zu den Möglichkeiten der Formatierung von Strings finden Sie in der [Python-Dokumentation](https://docs.python.org/3/library/string.html#format-string-syntax)."
   ]
  },
  {
   "cell_type": "markdown",
   "id": "0540d469-bc82-4aa4-beda-8deacd2fc635",
   "metadata": {
    "id": "QN45KzFDzsxo"
   },
   "source": [
    "## Aufgabe: Skript überarbeiten\n",
    "\n",
    "Überarbeiten Sie das von Ihnen am Ende des letzten Abschnitts [konzipierte Skript](aufgabe-skript-schreiben) und beziehen Sie einige der neu dazu gekommenen Funktionen ein. Nutzen Sie insbesondere die Möglichkeit, die Ausgabe zu formatieren."
   ]
  },
  {
   "cell_type": "code",
   "execution_count": null,
   "id": "3e7c5aa6-3228-4f1a-a23f-7d7d57d29793",
   "metadata": {
    "id": "ta8C9-sEMzHP"
   },
   "outputs": [],
   "source": [
    "# your code"
   ]
  }
 ],
 "metadata": {
  "kernelspec": {
   "display_name": "Python 3 (ipykernel)",
   "language": "python",
   "name": "python3"
  },
  "language_info": {
   "codemirror_mode": {
    "name": "ipython",
    "version": 3
   },
   "file_extension": ".py",
   "mimetype": "text/x-python",
   "name": "python",
   "nbconvert_exporter": "python",
   "pygments_lexer": "ipython3",
   "version": "3.8.12"
  }
 },
 "nbformat": 4,
 "nbformat_minor": 5
}
