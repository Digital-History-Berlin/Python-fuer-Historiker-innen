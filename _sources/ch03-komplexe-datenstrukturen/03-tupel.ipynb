{
 "cells": [
  {
   "cell_type": "markdown",
   "id": "d1bed87c-b8f9-430f-8c89-e39b037a8019",
   "metadata": {
    "id": "vtAkRibOUMmi"
   },
   "source": [
    "# [Tupel](https://docs.python.org/3.7/tutorial/datastructures.html#tuples-and-sequences)\n",
    "\n",
    ":::{index} Tupel\n",
    ":name: tupel\n",
    "::: \n",
    "\n",
    "Tupel sind enge Verwandte von Listen. Aber während Sie Listen im Zuge eines Programmdurchlaufs beliebig manipulieren können, ist dies bei Tupeln nicht der Fall. Bei beiden Datenstrukturen haben Sie lesenden Zugriff, aber nur bei Listen auch einen schreibenden. Abgesehen davon können Sie mit Tupeln die meisten Operationen ausführen, die auch mit Strings und Listen funktionieren. Die Nutzung von Tupeln ist dann vorteilhaft, wenn Sie mit Daten arbeiten, die nicht veränderbar sein sollen. Sie können unveränderbare Daten sowohl in Listen einbauen als auch umgekehrt bearbeitbare Listen in Tupel.\n",
    "\n",
    "## Tupel erstellen\n",
    "\n",
    "Zugreifen können Sie auf die einzelnen Elemente wie gewohnt:\n",
    "\n"
   ]
  },
  {
   "cell_type": "code",
   "execution_count": null,
   "id": "f58a9780-b985-41f5-b778-06daea63fa5e",
   "metadata": {
    "colab": {
     "base_uri": "https://localhost:8080/"
    },
    "executionInfo": {
     "elapsed": 236,
     "status": "ok",
     "timestamp": 1644327736374,
     "user": {
      "displayName": "Martin Dröge",
      "photoUrl": "https://lh3.googleusercontent.com/a-/AOh14GjDUAoqLrc0VGVRwrz65Ow9v0C9CkY0wvhEhRv1=s64",
      "userId": "08475768952355690669"
     },
     "user_tz": -60
    },
    "id": "vN2kp9zbdDL_",
    "outputId": "a00afacb-cf06-4a26-fed4-13103cb462a6"
   },
   "outputs": [],
   "source": [
    "# assigning tuple of tuples\n",
    "some_tuple = ((\"Apfel\", \"Banane\"), (\"Milch\", \"Käse\"))\n",
    "another_tuple = (\"Brot\", \"Baguette\", some_tuple)\n",
    "\n",
    "print(some_tuple[0])\n",
    "print(some_tuple[1][1])\n",
    "print(another_tuple[2][1][0])"
   ]
  },
  {
   "cell_type": "markdown",
   "id": "e52ac662-d88c-46f5-85e4-de2af1a782f5",
   "metadata": {
    "id": "KmBBJvB9dwE0"
   },
   "source": [
    "Dass es sich um ein Tupel handelt, wird vom Interpreter anhand der runden Klammern `()` erkannt.\n",
    "\n",
    "Folgendes gilt es zu beachten:\n",
    "Leere Tupel erstellen Sie durch aufeinanderfolgende runde Klammern. "
   ]
  },
  {
   "cell_type": "code",
   "execution_count": null,
   "id": "4e2fd1db-1e2f-48d5-84d0-1848f9afd970",
   "metadata": {
    "id": "MzH7CIrae5vs"
   },
   "outputs": [],
   "source": [
    "# empty tuple\n",
    "\n",
    "some_data = ()"
   ]
  },
  {
   "cell_type": "markdown",
   "id": "564ea03f-3b52-41cd-a167-2c0895f8b942",
   "metadata": {
    "id": "hX0is6XYe_OI"
   },
   "source": [
    "Wenn Sie ein Tupel erstellen wollen, das lediglich einen Wert enthält, dann müssen Sie eine besondere Syntax beachten:"
   ]
  },
  {
   "cell_type": "code",
   "execution_count": null,
   "id": "ebd78002-f865-4b4a-bc64-44980210f4e3",
   "metadata": {
    "id": "jeuK9inafQXL"
   },
   "outputs": [],
   "source": [
    "one_value_tuple = (1,)"
   ]
  },
  {
   "cell_type": "markdown",
   "id": "82035862-7f2a-4aa4-9d0b-3b0c9ebddec4",
   "metadata": {
    "id": "U9jCuJy2fqzw"
   },
   "source": [
    "Damit der Interpreter erkennt, dass es sich um ein Tupel handelt, muss dem Element ein Komma angehängt werden. Warum das so ist, erhellt sich, wenn wir uns anschauen, wie Tupel erstellt werden können. Sie können einerseits Tupel durch die runden Klammern einer Variablen zuweisen, Sie können die Klammern aber auch einfach weglassen und die einzelnen Werte nur durch Kommata getrennt anführen:"
   ]
  },
  {
   "cell_type": "code",
   "execution_count": null,
   "id": "1f9f4ede-6714-41ee-8bc8-3bf79d2b6d04",
   "metadata": {
    "colab": {
     "base_uri": "https://localhost:8080/"
    },
    "executionInfo": {
     "elapsed": 247,
     "status": "ok",
     "timestamp": 1644327765427,
     "user": {
      "displayName": "Martin Dröge",
      "photoUrl": "https://lh3.googleusercontent.com/a-/AOh14GjDUAoqLrc0VGVRwrz65Ow9v0C9CkY0wvhEhRv1=s64",
      "userId": "08475768952355690669"
     },
     "user_tz": -60
    },
    "id": "eVbNdTSQl_In",
    "outputId": "ab6fa313-aff1-4496-a46c-309397eb6b68"
   },
   "outputs": [],
   "source": [
    "a = (\"Rosa Parks\", \"Daisy Bates\", \"Angela Davis\", \"Wangari Maathai\")\n",
    "print(type(a))\n",
    "\n",
    "b = \"Harriet Tubman\", \"Althea Gibson\", \"Marsha P. Johnson\", \"Mae Jemison\"\n",
    "print(type(b))\n",
    "\n",
    "c = \"Gwendolyn Brooks\"\n",
    "print(type(c))\n",
    "\n",
    "d = \"bell hooks\",\n",
    "print(type(d))"
   ]
  },
  {
   "cell_type": "markdown",
   "id": "94d0b8b6-f81d-48a1-a6f3-e4d4a4153feb",
   "metadata": {
    "id": "0v4rWU5IvuqB"
   },
   "source": [
    "**Erklären Sie für die Variablen `c` und `d` den Unterschied. Warum ist das angehängte Komma notwendig?** \n",
    "\n",
    "*Ihre Antwort*"
   ]
  },
  {
   "cell_type": "code",
   "execution_count": null,
   "id": "fc78fa8b",
   "metadata": {},
   "outputs": [],
   "source": [
    "# your answer"
   ]
  },
  {
   "cell_type": "markdown",
   "id": "cb7b5e85-a6da-48d0-af70-d92b719c6d12",
   "metadata": {
    "id": "XA4kVpfmzTt9"
   },
   "source": [
    "Auch wenn die runden Klammern für Tupel also optional sind, empfiehlt es sich, mit ihnen zu arbeiten, um Ihren Code explizit und leicht verständlich zu halten."
   ]
  },
  {
   "cell_type": "markdown",
   "id": "7aa65396-0882-48c4-859b-f3479eef8603",
   "metadata": {
    "id": "0tQ-ZwvzkudZ"
   },
   "source": [
    "## Aufgabe: Interaktives Programm gestalten\n",
    "\n",
    "Schreiben Sie ein kleines interaktives Programm, das eine Liste von Namen erstellt, solange der:die Nutzer:in einen Eintrag hinzufügen möchte. Die Namen sollen als Tupel strukturiert sein und jeweils Vor- und Nachnamen enthalten. Zum Abschluss des Programms soll dem:der Nutzer:in die Liste bestehend aus Tupeln ausgegeben werden."
   ]
  },
  {
   "cell_type": "code",
   "execution_count": null,
   "id": "8cfdd725-5908-4e43-b8a4-48161e1a27a8",
   "metadata": {
    "id": "G8SYiuJFlwK0"
   },
   "outputs": [],
   "source": [
    "# your code"
   ]
  }
 ],
 "metadata": {
  "kernelspec": {
   "display_name": "Python 3 (ipykernel)",
   "language": "python",
   "name": "python3"
  },
  "language_info": {
   "codemirror_mode": {
    "name": "ipython",
    "version": 3
   },
   "file_extension": ".py",
   "mimetype": "text/x-python",
   "name": "python",
   "nbconvert_exporter": "python",
   "pygments_lexer": "ipython3",
   "version": "3.8.12"
  }
 },
 "nbformat": 4,
 "nbformat_minor": 5
}
