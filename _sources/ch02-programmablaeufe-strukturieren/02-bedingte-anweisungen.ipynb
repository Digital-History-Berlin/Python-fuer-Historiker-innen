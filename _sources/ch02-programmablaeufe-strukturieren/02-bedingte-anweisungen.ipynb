{
 "cells": [
  {
   "cell_type": "markdown",
   "id": "1c4e7e95-d95f-4aeb-9f40-5eff62bb2db7",
   "metadata": {
    "id": "PHDUlFOYUxEn"
   },
   "source": [
    "# Bedingte Anweisungen\n",
    "\n",
    ":::{index} Bedingte Anweisungen\n",
    ":name: bedingte_anweisungen\n",
    ":::\n",
    "\n",
    ":::{index} Booleans\n",
    ":name: booleans\n",
    ":::\n",
    "\n",
    "## [Boolesche Werte](https://www.w3schools.com/python/python_booleans.asp)\n",
    "Nachdem Sie in der letzten Einheit schon einige Datentypen kennengelernt haben (*int*, *float*, *string* usw.), fügen wir nun dieser Liste noch einen Weiteren hinzu: den Datentyp *Boolean*. Er kann lediglich zwei Werte annehmen: `True` oder `False`. Sie können damit also sog. Wahrheitswerte abbilden. Benannt wurde dieser Datentyp übrigens nach [George Boole](https://de.wikipedia.org/wiki/George_Boole), der mit der [Booleschen Algebra](https://de.wikipedia.org/wiki/Boolesche_Algebra) einen für die Computertechnik grundlegenden Zweig der Mathematik begründete.\n",
    "\n",
    "In Python können wir boolesche Variablen durch die bekannte Form der Zuweisung deklarieren:"
   ]
  },
  {
   "cell_type": "code",
   "execution_count": null,
   "id": "f5ac8c49-9c36-4448-a194-74f82910615d",
   "metadata": {
    "id": "iAp48l_ddAGQ"
   },
   "outputs": [],
   "source": [
    "is_spam = True\n",
    "print(is_spam)\n",
    "\n",
    "is_spam = False\n",
    "print(is_spam)"
   ]
  },
  {
   "cell_type": "markdown",
   "id": "68d8eaac-fd28-4987-ad8d-33273133bfc0",
   "metadata": {
    "id": "lbjFMXh-dTQG"
   },
   "source": [
    "In den meisten Fällen werden wir uns diesen Datentyp aber zu Nutze machen, um zu prüfen, ob {term}`logische Aussagen` richtig oder falsch sind ... und das werden wir sehr häufig prüfen wollen. Oft möchten wir z.B. wissen, ob eine bestimmte Zeichenkette in einem Text auftaucht, dazu können wir das Schlüsselwort `in` nutzen:"
   ]
  },
  {
   "cell_type": "code",
   "execution_count": null,
   "id": "10305302-1447-4e89-bf8b-b2e4931568bd",
   "metadata": {
    "id": "H-wnfeCSZTpI"
   },
   "outputs": [],
   "source": [
    "example_text = '''Die Editionswissenschaft erlebt nicht zuletzt wegen einer \n",
    "erfolgreichen Kombination von traditionellen Arbeitsweisen mit Methoden \n",
    "der Digital Humanities einen regelrechten Hype.'''\n",
    "\n",
    "print(\"Editionswissenschaft\" in example_text)\n",
    "print(\"Text Mining\" in example_text)"
   ]
  },
  {
   "cell_type": "markdown",
   "id": "005eb00c-1f52-4590-b391-6c3188eea1c0",
   "metadata": {
    "id": "J3-AbI4VjxxA"
   },
   "source": [
    "Durch Ergänzung des Schlüsselworts `not` können Sie eine Abfrage auch negieren:"
   ]
  },
  {
   "cell_type": "code",
   "execution_count": null,
   "id": "d3b240ed-aae3-4951-bdf0-eede62b558d7",
   "metadata": {
    "id": "QGoVofQUj5fD"
   },
   "outputs": [],
   "source": [
    "print(\"Editionswissenschaft\" not in example_text)\n",
    "print(\"Text Mining\" not in example_text)"
   ]
  },
  {
   "cell_type": "markdown",
   "id": "a71a535a-9080-42dc-9a0b-61a9b9b2d4db",
   "metadata": {
    "id": "MQhwGgealn29"
   },
   "source": [
    ":::{index} Vergleichsoperatoren\n",
    ":name: vergleichsoperatoren\n",
    ":::\n",
    "\n",
    "## Vergleichsoperatoren\n",
    "\n",
    "Neben den Schlüsselwörtern `in` oder `not in` können Sie in Python auch klassische Vergleichsoperatoren zur Prüfung logischer Aussagen verwenden. Diese sind weitestgehend selbsterklärend und ergänzen die arithmetischen Operatoren, die Sie im letzten Kapitel kennengelernt haben. Gehen Sie die einzelnen Anweisungen durch und vollziehen Sie nach, was mit den Operatoren in den jeweilige Fällen geprüft wird. Tragen Sie - bevor Sie den Codeblock ausführen - in den Kommentarzeilen ein, welchen {term}`Wahrheitswert` die jeweiligen logischen Aussagen ergeben werden, also ob sie `True` oder `False` sind. Durch die Ausführung des Codeblocks können Sie dann prüfen, ob Sie richtig getippt haben:"
   ]
  },
  {
   "cell_type": "code",
   "execution_count": null,
   "id": "4bfa3e03-4641-4469-9985-e18f61b7d835",
   "metadata": {
    "id": "oI_LrLnhmG60"
   },
   "outputs": [],
   "source": [
    "# kleiner als; Notieren Sie sich vor der Ausführung des Codeblocks, \n",
    "# welchen Wahrheitswert Sie erwarten.\n",
    "print(5 < 10)\n",
    "\n",
    "# Länge 1 ist kleiner als Länge 2; Notieren Sie sich vor der Ausführung des Codeblocks, \n",
    "# welchen Wahrheitswert Sie erwarten.\n",
    "print(len(\"Text Mining\") < len(\"Editonswissenschaft\"))\n",
    "\n",
    "# größer als; Welchen Wahrheitswert erwarten Sie? \n",
    "print(5 > 10)\n",
    "\n",
    "# kleiner als oder gleich; Notieren Sie sich vor der Ausführung des Codeblocks, \n",
    "# welchen Wahrheitswert Sie erwarten.\n",
    "print(11 <= 10)\n",
    "\n",
    "# größer als oder gleich; Notieren Sie sich vor der Ausführung des Codeblocks, \n",
    "# welchen Wahrheitswert Sie erwarten.\n",
    "print(10 >= 10)\n",
    "\n",
    "# identisch; Notieren Sie sich vor der Ausführung des Codeblocks, \n",
    "# welchen Wahrheitswert Sie erwarten.\n",
    "print(5 == 5)\n",
    "\n",
    "# identisch; Notieren Sie sich vor der Ausführung des Codeblocks, \n",
    "# welchen Wahrheitswert Sie erwarten.\n",
    "print(\"42\" == 42)"
   ]
  },
  {
   "cell_type": "markdown",
   "id": "c1430a98-b040-4a10-b93d-f2a55d7f1b95",
   "metadata": {
    "id": "t7BY85VAmjG7"
   },
   "source": [
    "Kontraintuitiv sind auf den ersten Blick vielleicht nur die letzten beiden Abfragen, die prüfen, ob zwei Werte identisch sind. Hier müssen zwei Gleichheitszeichen (`==`) verwendet werden, da, wie Sie im [ersten Kapitel](variablen-definieren) gelernt haben, das einfache Gleichheitszeichen (`=`) bereits für die Zuweisung von Werten zu Variablen reserviert ist.\n",
    "\n",
    "Der Operator zur Prüfung der Ungleichheit hingegen besteht aus einem Ausrufezeichen gefolgt von einem einzelnen Gleichheitszeichen:"
   ]
  },
  {
   "cell_type": "code",
   "execution_count": null,
   "id": "a6a2cb91-fc50-4619-a42c-ce66798be230",
   "metadata": {
    "id": "lXDCSMUkqwpw"
   },
   "outputs": [],
   "source": [
    "print(5 != 5)"
   ]
  },
  {
   "cell_type": "markdown",
   "id": "add38c3f-f615-4bef-a1e4-e98891d020b4",
   "metadata": {
    "id": "9Acxdoxf35Zq"
   },
   "source": [
    ":::{index} Bedingte Abfragen\n",
    ":name: bedingte_abfragen\n",
    ":::\n",
    "\n",
    ":::{index} single: Bedingte Abfragen ; if\n",
    ":name: if_\n",
    ":::\n",
    "\n",
    ":::{index} single: Bedingte Abfragen ; else\n",
    ":name: else_\n",
    ":::\n",
    "\n",
    "## [Bedingte Abfragen mit if, elif und else](https://www.python-kurs.eu/python3_bedingte_anweisungen.php)\n",
    "\n",
    "Was können wir nun alles mit den Operatoren und den Datentypen, die wir bisher kennengelernt und in dieser Lektion noch kennenlernen werden, anstellen? \n",
    "\n",
    "Bisher haben wir unsere Programme vor allem als eine Abfolge von Instruktionen geschrieben:\n",
    "\n",
    ":::{epigraph}\n",
    "*Weise einen Wert einer Variablen zu.* \n",
    "\n",
    "*Addiere mehrere Werte und weise die Summe einer Variablen zu.*\n",
    "\n",
    "*Gib den Wert der Variablen aus ... usw.*\n",
    ":::\n",
    "\n",
    "Wirklich interessant wird es, wenn wir unsere Programme so gestalten, dass bestimmte Schritte nur dann ausgeführt werden, wenn etwaige Vorbedingungen erfüllt sind. Solche logischen Verzweigungen können wir mithilfe der eben kennengelernten Operatoren und Wahrheitswerte und den sogenannten `if`-Abfragen definieren:"
   ]
  },
  {
   "cell_type": "code",
   "execution_count": null,
   "id": "632ac1d0-d217-4697-9e45-d0972ffed37c",
   "metadata": {
    "id": "HPCBAx7d4CkT"
   },
   "outputs": [],
   "source": [
    "sub_string = input('''Geben Sie ein Wort ein, für das Sie prüfen wollen, \n",
    "ob es in unserem Beispieltext vorkommt: ''')\n",
    "\n",
    "if sub_string in example_text:\n",
    "    print(f\"Die Zeichenkette '{sub_string}' ist Teil von example_text.\")\n",
    "\n",
    "else:\n",
    "    print(f\"Tut mir leid, die Zeichenkette '{sub_string}' ist nicht Teil von example_text.\")\n",
    "\n",
    "print(\"Das Programm ist beendet.\")"
   ]
  },
  {
   "cell_type": "markdown",
   "id": "8b325fb2-3696-4cfb-9d76-6b3431f4bb3c",
   "metadata": {
    "id": "XqWPPIfDgVWT"
   },
   "source": [
    "Wie Sie sehen, müssen Sie einfach nur die Abfrage, die Sie stellen wollen, hinter das Schlüsselwort `if` einfügen. Nach einem Doppelpunkt folgt der Teil des Programmcodes, der nur dann ausgeführt wird, wenn die Abfrage den Wert `True` ergibt, andernfalls wird ausgeführt, was wir unter `else` definiert haben. Die Angabe einer `else`-Anweisung ist optional. Wir könnten sie im konkreten Fall auch weglassen, dann würde das Programm, wenn die `if`-Abfrage nicht den Wert `True` ergibt, einfach zum abschließenden `print`-Statement springen:"
   ]
  },
  {
   "cell_type": "code",
   "execution_count": null,
   "id": "9eabc898-2783-4d8d-9001-c35b13be3f4c",
   "metadata": {},
   "outputs": [],
   "source": [
    "sub_string = input('''Geben Sie ein Wort ein, für das Sie prüfen wollen, \n",
    "ob es in unserem Beispieltext vorkommt: ''')\n",
    "\n",
    "if sub_string in example_text:\n",
    "    print(f\"Die Zeichenkette '{sub_string}' ist Teil von example_text.\")\n",
    "\n",
    "print(\"Das Programm ist beendet.\")"
   ]
  },
  {
   "cell_type": "markdown",
   "id": "077fa354-e66f-45ec-bc0f-9b1a4570123e",
   "metadata": {},
   "source": [
    "::::{margin}\n",
    ":::{admonition} Wichtig!\n",
    ":class: note\n",
    "Nach dem Doppelpunkt einer `if`-Abfrage wird in der nächsten Zeile die Anweisung eingerückt.\n",
    ":::\n",
    "::::\n",
    "\n",
    "Mit `if`-Abfragen können wir also eine klassische Wenn-Dann-(Andernfalls-)Bedingung formalisieren:\n",
    "\n",
    ":::{epigraph}\n",
    "*Wenn die Bedingung \"sub_string ist in example_text\" wahr ist, dann gib die Meldung aus, dass die Zeichenkette im Beispieltext enthalten ist. Optional: Wenn die Bedingung nicht erfüllt ist, dann gib eine Meldung aus, dass die Zeichenkette nicht im Beispieltext enthalten ist.* \n",
    ":::\n",
    "\n",
    "Beachten Sie dabei aber bitte die Einrückungen, beispielsweise in Zeile 4. Die Einrückungen dienen nicht nur einer besseren Lesbarkeit, sondern bedeuten für den Python-Interpreter, dass die `if`-Abfrage und der nachfolgende eingerückte Code zusammengehören. Der nicht mehr eingerückte Code in Zeile 6 gehört nicht mehr zur `if`-Abfrage und wird immer ausgeführt; unabhängig davon, ob diese wahr oder falsch ist.\n",
    "\n",
    "Wenn Sie die Einrückung entfernen würden, ruft das den [Indentation-Fehler](indentationerror) hervor und Ihr Programm wird nicht ausgeführt: "
   ]
  },
  {
   "cell_type": "code",
   "execution_count": null,
   "id": "6353d628-51ff-4643-9dd1-7ee159026b4d",
   "metadata": {},
   "outputs": [],
   "source": [
    "sub_string = input('''Geben Sie ein Wort ein, für das Sie prüfen wollen, \n",
    "ob es in unserem Beispieltext vorkommt: ''')\n",
    "\n",
    "if sub_string in example_text:\n",
    "print(f\"Die Zeichenkette '{sub_string}' ist Teil von example_text.\")\n",
    "else:\n",
    "    print(f\"Tut mir leid, die Zeichenkette '{sub_string}' ist nicht Teil von example_text.\")\n",
    "\n",
    "print(\"Das Programm ist beendet.\")"
   ]
  },
  {
   "cell_type": "markdown",
   "id": "a7463b0a-a135-4f2a-ae39-78e849bd94e4",
   "metadata": {},
   "source": [
    "Das gilt es also zu vermeiden. Achten Sie also immer darauf, auf welcher Ebene, die durch Einrückung eröffnet wird, im Code etwas ausgeführt werden soll. Hier noch mal zur Illustration. Schauen Sie sich den Codeblock in Ruhe an:"
   ]
  },
  {
   "cell_type": "code",
   "execution_count": null,
   "id": "17be4c51-87fc-4bfa-abfa-1e5ecec237a4",
   "metadata": {},
   "outputs": [],
   "source": [
    "\"\"\"Die oberste Ebene ist immer die Ebene ohne Einrückung. \n",
    "Wir könnten Sie das EG unseres Codes nennen oder Ebene 0.\"\"\"\n",
    "\n",
    "sub_string = input('''Geben Sie ein Wort ein, für das Sie prüfen wollen, \n",
    "ob es in unserem Beispieltext vorkommt: ''')\n",
    "\n",
    "# immer noch Ebene 0\n",
    "if sub_string in example_text:\n",
    "\n",
    "    # Ebene 1\n",
    "    print(f\"Die Zeichenkette '{sub_string}' ist Teil von example_text.\")\n",
    "    print(\"Wir könnten hier jetzt komplexe Berechnungen anstellen oder eine weitere Bedingung prüfen.\")\n",
    "\n",
    "    if len(sub_string) < len(example_text):\n",
    "        # Ebene 2\n",
    "        print(f\"Zum Beispiel, ob die Zeichenkette '{sub_string}' kürzer ist als example_text - ist sie.\")\n",
    "\n",
    "    else:\n",
    "        # Ebene 2\n",
    "        print(f\"Zum Beispiel, ob die Zeichenkette '{sub_string}' kürzer ist als example_text - ist sie nicht.\")\n",
    "        \n",
    "else:\n",
    "    # Ebene 1\n",
    "    print(f\"Tut mir leid, die Zeichenkette '{sub_string}' ist nicht Teil von example_text.\")\n",
    "\n",
    "# wieder Ebene 0\n",
    "print(\"Das Programm ist beendet.\")"
   ]
  },
  {
   "cell_type": "markdown",
   "id": "61f9f09c-0ffc-40a5-b891-8369b54ac066",
   "metadata": {},
   "source": [
    "Der Code auf einer Ebene wird solange als zusammengehörig erkannt bis wieder auf die nächsthöhere Ebene oder Ebene 0 gesprungen wird. Die Zeilen 10 bis 20 sind ein zusammenhängender Codeblock (mit Untereinheiten), der nur ausgeführt wird, wenn die `if`-Bedingung in Zeile 8 erfüllt ist. Zeile 24 befindet sich zwar auf derselben Ebene, ist aber gebunden an Zeile 22 und stellt daher einen separaten Codeteil dar.\n",
    "\n",
    "Der Code in Zeile 27 gehört nicht mehr zur `if`-`else`-Abfrage und wird immer ausgeführt (solange kein Fehler im Code auftritt) -- unabhängig davon, ob die Auswertung der Bedingungen wahr oder falsch ist. \n",
    "\n",
    ":::{index} single: Bedingte Abfragen ; elif\n",
    ":name: elif_\n",
    ":::\n",
    "\n",
    "## Else-if: elif\n",
    "\n",
    "Außerdem haben Sie die Möglichkeit, mehrere `if`-Abfragen in einem Block zusammenzufassen. So können wir zum Beispiel eine dritte Option zu unserer Abfrage hinzufügen, die den Fall behandelt, in dem beide Zeichenketten identisch sind. Verwenden Sie hierfür das Schlüsselwort `elif` (kurz für \"else if\"). Die Syntax von `elif` ist identisch zu der von `if`."
   ]
  },
  {
   "cell_type": "code",
   "execution_count": null,
   "id": "b00b3fa8-cbd5-4abc-a4ea-565bfd8add30",
   "metadata": {},
   "outputs": [],
   "source": [
    "sub_string = example_text\n",
    "\n",
    "if sub_string in example_text:\n",
    "    print(f\"Die Zeichenkette '{sub_string}' ist Teil von example_text.\")\n",
    "elif sub_string == example_text:\n",
    "    print(f\"Die Zeichenkette '{sub_string}' ist mit example_text identisch.\")\n",
    "else:\n",
    "    print(f\"Tut mir leid, die Zeichenkette '{sub_string}' ist nicht Teil von example_text.\")"
   ]
  },
  {
   "cell_type": "markdown",
   "id": "e639723a-2bcb-4dc5-ab9e-6ae0649f3491",
   "metadata": {},
   "source": [
    "Das ist aber offensichtlich nicht das Ergebnis, das wir eigentlich erreichen wollten. Im Fall des obigen Codeblocks ist `sub_string` ja nicht nur ein Teil von `example_text`; die beiden Zeichenketten sind identisch. Trotzdem wird nur Zeile 4, nicht Zeile 6 ausgeführt. Das liegt daran, dass der Python-Interpreter den Code von oben nach unten durchgeht und ausführt. Zeile 3, die erste `if`-Abfrage, gibt bereits `True` als Ergebnis zurück; daher wird der entsprechende Block direkt ausgeführt und nicht mehr geprüft, ob andere Alternativen besser passen. Wir müssen daher `if`-Blöcke mit mehreren `elif`s so konstruieren, dass *spezifische* Aussagen abgefragt werden, bevor *allgemeine* Aussagen geprüft werden (\"ist gleich\" ist spezifischer als \"ist ein Teil von\"). Die Lösung ist daher relativ simpel; wir müssen nur Zeile 3 und 5 miteinander vertauschen:"
   ]
  },
  {
   "cell_type": "code",
   "execution_count": null,
   "id": "70b88214-0747-4096-b046-472a4fa4075a",
   "metadata": {},
   "outputs": [],
   "source": [
    "sub_string = example_text\n",
    "\n",
    "if sub_string == example_text:\n",
    "    print(f\"Die Zeichenkette '{sub_string}' ist mit example_text identisch.\")\n",
    "elif sub_string in example_text:\n",
    "    print(f\"Die Zeichenkette '{sub_string}' ist Teil von example_text.\")\n",
    "else:\n",
    "    print(f\"Die Zeichenkette '{sub_string}' ist nicht Teil von example_text.\")"
   ]
  },
  {
   "cell_type": "markdown",
   "id": "a4dae9f8-bb40-4b72-96d6-ffb92ae61229",
   "metadata": {},
   "source": [
    "Sie können beliebig viele `elif`-Abfragen hinzufügen, dabei ist aber grundsätzlich die Reihenfolge \"`if` ..., `elif` ..., `elif` ..., `elif` ..., [...], `else`\" zu berücksichtigen. "
   ]
  },
  {
   "cell_type": "markdown",
   "id": "4f30df12-5af4-4be6-a2f6-c4a7500d5717",
   "metadata": {
    "id": "AE--BqOorxNc"
   },
   "source": [
    ":::{index} single: Bedingte Abfragen ; Bedingungen verknüpfen\n",
    ":name: bedingungen_verknüpfen\n",
    ":::\n",
    "\n",
    "## Bedingungen verknüpfen\n",
    "\n",
    "Sie können in Ihren `if`-Blöcken auch mehrere Bedingungen gleichzeitig abfragen. Diese müssen Sie mit den Schlüsselwörtern `and` oder `or` miteinander verknüpfen. Diese entsprechen dem logischen UND bzw. ODER. Wie sich die Kombination von *wahren* (w) und *falschen* (f) Aussagen mit UND bzw. ODER auf den {term}`Wahrheitswert` der Gesamtaussage auswirkt, zeigt folgende Tabelle:\n",
    "\n",
    "| Aussage_1 | Aussage_2 | and | or |\n",
    "|:----------|-----------|-----|---:|\n",
    "| w | w | w | w  |\n",
    "| w | f | f | w  |\n",
    "| f | w | f | w  |\n",
    "| f | f | f | f  |\n",
    "\n",
    "Hier zwei Beispiele: Überlegen Sie bevor Sie den Code ausführen, ob die Bedingungen erfüllt sind oder nicht. Stimmt die Ausgabe mit Ihrer Vermutung überein?"
   ]
  },
  {
   "cell_type": "code",
   "execution_count": null,
   "id": "d631c629-5b52-4771-9d51-139991ec171f",
   "metadata": {
    "id": "LMpaZcyIsyD_"
   },
   "outputs": [],
   "source": [
    "dh_definition = '''Das interdisziplinär ausgerichtete Fach Digital Humanities \n",
    "                   (‚digitale Geisteswissenschaften‘) umfasst die systematische Nutzung \n",
    "                   computergestützter Verfahren und digitaler Ressourcen in den \n",
    "                   Geistes- und Kulturwissenschaften sowie die Reflexion über deren Anwendung.'''\n",
    "                   \n",
    "sub_string = \"Editionswissenschaft\"\n",
    "\n",
    "if sub_string in example_text and sub_string in dh_definition:\n",
    "    print(\"Die Aussage ist wahr.\")\n",
    "else:\n",
    "    print(\"Die Aussage ist falsch.\")"
   ]
  },
  {
   "cell_type": "code",
   "execution_count": null,
   "id": "6c1eae5d-172a-4d82-87e8-0600bdae7e50",
   "metadata": {
    "id": "lS8vpN3fte3Y"
   },
   "outputs": [],
   "source": [
    "sub_string = \"Editionswissenschaft\"\n",
    "\n",
    "if sub_string in example_text or sub_string in dh_definition:\n",
    "    print(\"Die Aussage ist wahr.\")\n",
    "else:\n",
    "    print(\"Die Aussage ist falsch.\")"
   ]
  },
  {
   "cell_type": "markdown",
   "id": "1987a5a3-b90a-425b-b2d9-7f58cc6f82b4",
   "metadata": {
    "id": "6tK8Ia_GvH4K"
   },
   "source": [
    "Durch Klammern können Sie verknüpfte Abfragen auch schachteln. Dann werden zuerst die {term}`Rückgabewerte` der Abfragen in den Klammern zurückgegeben und erst anschließend mit anderen Abfragen verknüpft. Beachten Sie den Unterschied zwischen folgenden beiden Programmen:"
   ]
  },
  {
   "cell_type": "code",
   "execution_count": null,
   "id": "4467b755-76b5-4720-afc8-edd74d6a2e45",
   "metadata": {
    "id": "M28IMgDSwvXv"
   },
   "outputs": [],
   "source": [
    "bool_1 = False\n",
    "bool_2 = True\n",
    "bool_3 = True\n",
    "\n",
    "if bool_1 and bool_2 or bool_3:\n",
    "    print(\"Die Aussage ist wahr.\")\n",
    "\n",
    "print(\"Das Programm ist beendet.\")"
   ]
  },
  {
   "cell_type": "code",
   "execution_count": null,
   "id": "0eb95ca1-df84-48c1-8e4f-7ed38133e7a7",
   "metadata": {
    "id": "pXfGHrRKves2"
   },
   "outputs": [],
   "source": [
    "bool_1 = False\n",
    "bool_2 = True\n",
    "bool_3 = True\n",
    "\n",
    "if bool_1 and (bool_2 or bool_3):\n",
    "    print(\"Die Aussage ist wahr.\")\n",
    "\n",
    "print(\"Das Programm ist beendet.\")"
   ]
  },
  {
   "cell_type": "markdown",
   "id": "a9dab1ad-ac78-493c-837c-d2829bc2332a",
   "metadata": {},
   "source": [
    "*Was fällt Ihnen auf? Tragen Sie es hier ein:*"
   ]
  },
  {
   "cell_type": "code",
   "execution_count": null,
   "id": "1b9a3d65",
   "metadata": {},
   "outputs": [],
   "source": [
    "# your answer"
   ]
  },
  {
   "cell_type": "markdown",
   "id": "a08a0271-2a63-48e2-bab7-176ca13f6bba",
   "metadata": {
    "id": "_krKN5LAxJmW"
   },
   "source": [
    "Wir können also mit Python Programme schreiben, die auf Basis der Auswertung von Aussagen entscheiden, ob eine Anweisung ausgeführt oder übersprungen wird oder Programme, die eine von mehreren Anweisungen zur Ausführung auswählen, je nachdem, welche Bedingungen erfüllt wurden."
   ]
  },
  {
   "cell_type": "markdown",
   "id": "e68fae0f",
   "metadata": {},
   "source": [
    "## Aufgabe: Bedingte Anweisungen\n",
    "\n",
    "Schreiben Sie ein kleines Programm, das eine:n Nutzer:in fragt, aus welchem Jahr die [Magna Carta](https://de.wikipedia.org/wiki/Magna_Carta) stammt. Abhängig von der Eingabe sollen verschiedene `print`-Kommandos ausgeführt werden: \"Die Magna Carta stammt aus einem späteren Jahr.\", \"Die Vereinbarungen stammen aus einem früheren Jahr.\", \"Die Eingabe ist korrekt!\". \n",
    "Denken Sie dabei daran, dass Sie den Wert der `input`-Funktion in ein `integer` umwandeln müssen. Wie das geht, können Sie im [ersten Kapitel](datentyp-aendern) noch mal nachlesen."
   ]
  },
  {
   "cell_type": "code",
   "execution_count": null,
   "id": "04493a26-1cd0-41a2-9c30-106fe5501812",
   "metadata": {
    "id": "imkas9ZixcJp"
   },
   "outputs": [],
   "source": [
    "# your code"
   ]
  }
 ],
 "metadata": {
  "kernelspec": {
   "display_name": "Python 3.8.3 ('base')",
   "language": "python",
   "name": "python3"
  },
  "language_info": {
   "codemirror_mode": {
    "name": "ipython",
    "version": 3
   },
   "file_extension": ".py",
   "mimetype": "text/x-python",
   "name": "python",
   "nbconvert_exporter": "python",
   "pygments_lexer": "ipython3",
   "version": "3.8.3"
  },
  "vscode": {
   "interpreter": {
    "hash": "fb539783ae425cb9a41fd0e05fac6b0c01245dc8f3eb338114414f2eedb48908"
   }
  }
 },
 "nbformat": 4,
 "nbformat_minor": 5
}
