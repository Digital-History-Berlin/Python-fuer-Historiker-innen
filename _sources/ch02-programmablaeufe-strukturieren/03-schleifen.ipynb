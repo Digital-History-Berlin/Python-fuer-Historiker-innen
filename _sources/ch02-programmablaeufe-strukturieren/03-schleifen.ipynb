{
 "cells": [
  {
   "cell_type": "markdown",
   "id": "8bfcfe7c-2978-4ab4-855d-f5805a66ea4c",
   "metadata": {
    "id": "Dh1YRA5AHxif"
   },
   "source": [
    "# Schleifen\n",
    "\n",
    "Nachdem wir gelernt haben, wie man ein Programm schreibt, das Anweisungen erst dann ausführt, wenn gewisse Bedingungen erfüllt sind (oder eben auch nicht), wollen wir uns nun anschauen, was wir tun müssen, wenn wir bestimmte Arbeitsschritte wiederholt ausführen möchten. Dazu können wir uns die Schleifen-Funktionen von Python zu Nutze machen. Hiervon gibt es im Wesentlichen zwei Typen, die wir sehr häufig verwenden werden: die `while`- und die `for`-Schleifen.\n",
    "\n",
    ":::{index} While-Schleife\n",
    ":name: while-schleife\n",
    ":::\n",
    "\n",
    "## [while-Schleifen](https://www.python-kurs.eu/python3_schleifen.php)\n",
    "\n",
    "Schauen wir uns zunächst die `while`-Schleife an.\n",
    "\n",
    "Mit einem `while`-Statement können wir einen Codeblock so lange ausführen wie die Bedingung der `while`-Anweisung den {term}`Wahrheitswert` `True` ergibt. Strukturell sieht die `while`-Schleife den `if`-Statements sehr ähnlich: Wir benötigen ein {term}`Schlüsselwort` und zwar das `while` und eine Bedingung, die einen Wahrheitswert ergibt, gefolgt von einem Doppelpunkt. In der nächsten Zeile schließt sich dann, mit einer Einrückung beginnend, ein Codeblock an, der in Abhängigkeit vom Wahrheitswert der `while`-Bedingung ausgeführt wird. `If` und `while` sehen demnach hinsichtlich ihres Aufbaus ähnlich aus, in Bezug auf ihr Verhalten unterscheiden sie sich allerdings deutlich.\n",
    "\n",
    "Sehen wir uns dazu diese Schleife an:"
   ]
  },
  {
   "cell_type": "code",
   "execution_count": null,
   "id": "8efb5b35-5864-48a0-9d0d-1364d22e7ef3",
   "metadata": {
    "id": "clVpBxeZKC3X"
   },
   "outputs": [],
   "source": [
    "my_number = 1\n",
    "\n",
    "while my_number < 10:\n",
    "    print(my_number)\n",
    "    print(\"my_number hat nicht den Wert 10\")\n",
    "    \n",
    "    my_number += 1\n",
    "\n",
    "print(f\"my_number = {my_number}\")"
   ]
  },
  {
   "cell_type": "markdown",
   "id": "54da02fc-fd56-4bbb-9380-56f1808d067a",
   "metadata": {
    "id": "-NgQ6vCaJ4Ub"
   },
   "source": [
    "Die `while`-Schleife ist genau wie eine `if`-Abfrage aufgebaut. Die Zeile hinter dem Schlüsselbegriff `while` muss also entweder den Wert `True` oder `False` annehmen können. Das Programm kehrt jedoch nach jedem Durchlauf des eingerückten Codeblocks zum Kopf der Schleife (hier in Zeile 3) zurück und prüft ob die Abfrage immer noch `True` zurückgibt. Erst wenn dies nicht mehr der Fall ist, wird die Schleife beendet und das Programm springt zu Zeile 9.\n",
    "\n",
    "::::{margin}\n",
    ":::{admonition} Achtung!\n",
    ":class: warning\n",
    "Führen Sie den Code nur aus, wenn Sie wissen, wie Sie eine Endlosschleife abbrechen können!\n",
    ":::\n",
    "::::\n",
    "\n",
    "Aber Vorsicht! `While`-Schleifen können ganz schön tricky sein, wenn wir nicht dafür sorgen, dass der Wahrheitswert der `while`-Bedingung irgendwann auf `False` springt. Vier zentrale Eigenschaften zeichnen einen Algorithmus aus: *Allgemeingültigkeit*, *Finitheit*, *Eindeutigkeit* und *Variabilität*. Insbesondere das Kriterium der *Finitheit* müssen Sie bei Schleifen im Hinterkopf behalten. Wenn Sie eine Schleife ohne Abbruchbedingung definieren, wird Ihr Programm immer weiterlaufen; wie etwa im nachfolgenden Beispiel:\n",
    "\n",
    "**Manueller Abbruch einer Endlosschleife:**\n",
    "\n",
    "Jupyter Notebook in Binder: Sie können das Programm durch einen Klick auf den Ausführbutton links oben im Codeblock oder in der Menüleiste durch Runtime->Interrupt execution abbrechen.\n",
    "\n",
    "Jupyter Notebook über Anaconda Distribution: Stop-Symbol in der Werkzeugleiste.[^fn1])"
   ]
  },
  {
   "cell_type": "code",
   "execution_count": null,
   "id": "d0fc576e-53bb-433a-83cc-9a49a20c85cd",
   "metadata": {
    "id": "5EQdVnYHBQTh"
   },
   "outputs": [],
   "source": [
    "# infinity loop: for testing uncomment the following rows:\n",
    "\n",
    "# is_spam = True\n",
    "\n",
    "# while is_spam:\n",
    "#     print(\"Spam!\")"
   ]
  },
  {
   "cell_type": "markdown",
   "id": "b6f2676e-eb56-445c-af40-87954ac76326",
   "metadata": {},
   "source": [
    "## Aufgaben: While-Schleifen\n",
    "\n",
    "**Aufgabe 1:** \n",
    "\n",
    "Schreiben Sie ein kurzes Programm, das prüft, ob ein durch eine:n Nutzer:in eingegebenes Wort in dem vorgegebenen ersten Absatz eines [Tagungsberichts](https://www.hsozkult.de/conferencereport/id/tagungsberichte-6455?title=digitale-metamorphose-digital-humanities-und-editionswissenschaft&recno=2313&page=116&q=&sort=&fq=&total=8538) vorkommt. Wenn das Wort vorkommt, dann soll eine entsprechende Bestätigung ausgegeben werden. Kommt das Wort nicht im Text vor, soll der:die Nutzer:in die Möglichkeit erhalten, erneut eine Eingabe zu tätigen. Möchte der:die Nutzer:in keine weitere Eingabe tätigen, dann soll das Programm eine Abschlussmeldung ausgeben und beendet werden. "
   ]
  },
  {
   "cell_type": "code",
   "execution_count": null,
   "id": "e257d8fe",
   "metadata": {},
   "outputs": [],
   "source": []
  },
  {
   "cell_type": "code",
   "execution_count": null,
   "id": "0acdde89-e766-498f-907c-556a7ae91a03",
   "metadata": {},
   "outputs": [],
   "source": [
    "report = '''Die Editionswissenschaft erlebt nicht zuletzt wegen einer \n",
    "            erfolgreichen Kombination von traditionellen Arbeitsweisen \n",
    "            mit Methoden der Digital Humanities einen regelrechten Hype. \n",
    "            Digitale Methoden drängen sich besonders an den Stellen auf, \n",
    "            wo sie eine Überwindung der Beschränkungen des analogen Drucks versprechen. \n",
    "            Zugleich zeichnet sich ab, dass mit einem Wechsel zu digitalen Editionsformen \n",
    "            nicht nur neue Werkzeuge genutzt werden, sondern dass sich prinzipielle \n",
    "            strukturelle Änderungen ergeben: so können analoge Editionen angereichert \n",
    "            werden oder Editionen können als Hybrid durch eine gleichwertige digitale und \n",
    "            analoge Version repräsentiert werden. Editoren werden angesichts dieser neuen\n",
    "            Möglichkeiten vor neue Herausforderungen gestellt. Gleiches gilt für Infrastrukturen, \n",
    "            die die Produkte der Editionswissenschaft publizieren und langfristig \n",
    "            verfügbar machen sollen. Grundlegende Fragen der Qualitätsmessung \n",
    "            und -bewertung, der Arbeitsorganisation, Vernetzung und Distribution \n",
    "            müssen bei der digitalen Editionswissenschaft anders bzw. neu gestellt \n",
    "            und bewertet werden. Die vom Forschungsverbund Marbach Weimar Wolfenbüttel \n",
    "            veranstaltete Tagung “Digitale Metamorphose: Digital Humanities und Editionswissenschaft” \n",
    "            betrachtete diese neuen Möglichkeiten kritisch und ging dabei auch der Frage nach, \n",
    "            welche Grenzen und Gefahren es jenseits der offensichtlichen Vorteile für \n",
    "            die Editionswissenschaft gibt.'''"
   ]
  },
  {
   "cell_type": "code",
   "execution_count": null,
   "id": "c2dfa026",
   "metadata": {},
   "outputs": [],
   "source": [
    "# your code"
   ]
  },
  {
   "cell_type": "markdown",
   "id": "a3106314-a808-4485-8efa-fd3684d8d8de",
   "metadata": {
    "id": "Ps1GIAe57tH8"
   },
   "source": [
    "**Aufgabe 2:** \n",
    "\n",
    "Schreiben Sie ein kurzes Programm, das eine:n Benutzer:in angeben lässt, in welchem Jahr die Französische Revolution begann. Das Programm soll dabei erst beendet werden, wenn das richtige Jahr angegeben wurde. Wurde ein falsches Jahr angegeben, soll dem:der Nutzer:in mitgeteilt werden, ob die Angabe zu groß oder zu klein war. Testen Sie Ihr Programm mit unterschiedlichen Eingaben um herauszufinden, ob es funktioniert."
   ]
  },
  {
   "cell_type": "code",
   "execution_count": null,
   "id": "ec27d934-67e0-4a8c-b0fe-d9523eaeadbd",
   "metadata": {
    "id": "Smh1avoP-2nd"
   },
   "outputs": [],
   "source": [
    "user_input = int(input(\"In welchem Jahr begann die Französische Revolution? \"))\n",
    "\n",
    "# your code"
   ]
  },
  {
   "cell_type": "markdown",
   "id": "b3333a11-022b-472f-b24c-cc3921b8dc50",
   "metadata": {
    "id": "Nn79MD52IswA"
   },
   "source": [
    ":::{index} For-Schleife\n",
    ":name: for-schleife\n",
    ":::\n",
    "\n",
    "(for-schleifen)=\n",
    "## [for-Schleifen](https://www.python-kurs.eu/python3_for-schleife.php)\n",
    "`while`-Schleifen setzen Sie also ein, wenn Sie einen Codeblock so lange wiederholt ausführen wollen, wie eine Bedingung erfüllt ist. Was aber, wenn Sie bereits wissen, dass ein Codeblock nur eine bestimmte Anzahl von Malen wiederholt werden soll? In diesem Fall können Sie auf die `for`-Schleife zurückgreifen (im Deutschen gelegentlich auch als *Zählschleife* bezeichnet):"
   ]
  },
  {
   "cell_type": "code",
   "execution_count": null,
   "id": "6c7a1ba1-c6d5-4516-9712-169c042ae0e5",
   "metadata": {
    "id": "3EdcZJNr7hLn"
   },
   "outputs": [],
   "source": [
    "for number in range(1, 11):\n",
    "    print(f\"number hat den Wert {number}\")\n",
    "\n",
    "print(f\"number = {number}\")"
   ]
  },
  {
   "cell_type": "markdown",
   "id": "28ac5352-c282-4aa7-a7b6-a6844c898a31",
   "metadata": {
    "id": "xyIApUXf9luV"
   },
   "source": [
    ":::{index} single: Funktion ; range()\n",
    ":name: range_\n",
    ":::\n",
    "\n",
    "Die Syntax ist hier etwas anders als bei `if` und `while`. Mit `number` wird eine Zählvariable definiert (die auch einen anderen Namen als `number` haben kann). Nach jedem Durchlauf der Schleife (also immer, wenn der eingerückte Codeblock einmal ausgeführt worden ist), wird diese Zählvariable automatisch um 1 erhöht. Hinter `in` wird ein Wertebereich angegeben. In diesem Fall handelt es sich um einen Wertebereich, der durch die Funktion `range()` definiert wird, Sie könnten dort aber auch beispielsweise eine Variable ansprechen, in der ein sequenzielles Objekt wie eine Zeichenkette oder Liste abgespeichert ist. Solange jedenfalls die Zählvariable einen Wert innerhalb dieses Wertebereichs hat, wird die Schleife wiederholt. Natürlichsprachlich könnten Sie Zeile 1 lesen als \"Wiederhole folgenden Codeblock solange `number` kleiner als 11 ist. Erhöhe bei jedem Durchlauf `number` um 1.\""
   ]
  },
  {
   "cell_type": "markdown",
   "id": "2dcc6106-0d61-4578-acb5-54bb48cc5793",
   "metadata": {
    "id": "CnXN_ZXyCFeD"
   },
   "source": [
    "Mit der Funktion `range()` können Sie auch angeben, in welchen Schritten die `for`-Schleife den Wertebereich durchlaufen soll. Wollen Sie `number` etwa nicht um 1, sondern um 2 erhöhen, können Sie das wie folgt angeben:"
   ]
  },
  {
   "cell_type": "code",
   "execution_count": null,
   "id": "a0870599-5ea1-4402-83cd-83e9edd5a313",
   "metadata": {
    "id": "g71XDjaZCatu"
   },
   "outputs": [],
   "source": [
    "for number in range(1, 11, 2):\n",
    "    print(f\"number hat den Wert {number}\")\n",
    "\n",
    "print(f\"number = {number}\")"
   ]
  },
  {
   "cell_type": "markdown",
   "id": "df613f22-e9e7-428a-b052-538282fb6a7d",
   "metadata": {
    "id": "l82dp24n_pBk"
   },
   "source": [
    "Bei der Definition einer `for`-Schleife müssen Sie noch nicht die genaue Anzahl der Durchläufe der Schleife kennen. Sie müssen nur wissen, *dass* es eine bestimmte Anzahl von Durchläufen geben soll und Sie müssen wissen *woher* diese Anzahl kommt. Schauen Sie sich hierzu folgendes Beispiel an:"
   ]
  },
  {
   "cell_type": "code",
   "execution_count": null,
   "id": "81f93c80-497a-41c0-ba4f-c2b67bf2ac2c",
   "metadata": {
    "id": "jDeemOB3AEvE"
   },
   "outputs": [],
   "source": [
    "max_number = int(input(\"Geben Sie eine natürliche Zahl ein: \"))\n",
    "\n",
    "for number in range(1, max_number+1):\n",
    "    print(f\"number hat den Wert {number}\")\n",
    "\n",
    "print(f\"number = {number}\")"
   ]
  },
  {
   "cell_type": "markdown",
   "id": "d33836aa-fef3-4da6-bc6e-81fe6e86de3d",
   "metadata": {
    "id": "8vzW6Z-qBNwX"
   },
   "source": [
    "Beachten Sie, dass Sie eine `for`-Schleife auch problemlos mit einer `while`-Schleife implementieren können. Das erste Codebeispiel zur `for`-Schleife ist identisch mit dem ersten Codebeispiel der `while`-Schleife etwas weiter oben. Wo möglich, sollten Sie jedoch `for`-Schleifen einsetzen. Dadurch wird Ihr Code nicht nur kürzer, sondern auch leichter verständlich. Wie Sie später sehen werden, lassen sich `for`-Schleifen in vielen Fällen außerdem wesentlich flexibler einsetzen."
   ]
  },
  {
   "cell_type": "markdown",
   "id": "656879dc-82cc-486d-a91c-a344109db1e3",
   "metadata": {
    "id": "2HgBTLrbEiwG"
   },
   "source": [
    "Gelegentlich kann es sein, dass Sie eine Schleife abbrechen möchten, obwohl ihre eigene Abbruchbedingung noch nicht erfüllt ist, etwa wenn Sie in unserem Beispiel verhindern wollen, dass es zur Überlastung des Systems durch eine zu hohe Usereingabe kommt. Nehmen wir dazu noch mal unser letztes Programm, fügen aber die Bedingung hinzu, dass die Schleife abbrechen soll, sobald `number` den Wert 21 annimmt. Hierfür benötigen Sie das {term}`Schlüsselwort` `break`:"
   ]
  },
  {
   "cell_type": "code",
   "execution_count": null,
   "id": "c93cfa86-aada-42c5-acc5-5c3a7fd82f93",
   "metadata": {
    "id": "6iNhdqPMFK4F"
   },
   "outputs": [],
   "source": [
    "max_number = int(input(\"Geben Sie eine natürliche Zahl größer 21 ein: \"))\n",
    "\n",
    "for number in range(1, max_number+1):\n",
    "    print(number)\n",
    "    print(f\"number hat nicht den Wert {max_number}\")\n",
    "    if number == 21:\n",
    "        break\n",
    "\n",
    "print(f\"number = {number}\")"
   ]
  },
  {
   "cell_type": "markdown",
   "id": "5b90641e-5812-4a96-8668-6788925d0f93",
   "metadata": {
    "id": "uFKQEaDgFkZ3"
   },
   "source": [
    "Generell erschweren Sprünge im Programm, wie man sie durch `break` umsetzen kann, jedoch die Lesbarkeit Ihres Codes. Versuchen Sie dessen Einsatz zu vermeiden, indem Sie die Abbruchbedingungen Ihrer Schleifen möglichst allgemein formulieren. Manchmal ist eine Lösung, wie die obige, jedoch einfacher und zielführender."
   ]
  },
  {
   "cell_type": "markdown",
   "id": "a7116308-4593-483f-878a-c5e096909ecf",
   "metadata": {
    "id": "a4TL6VieFPZ1"
   },
   "source": [
    "(aufgabe-primzahlen-ausgeben)=\n",
    "## Aufgabe: Primzahlen ausgeben\n",
    "\n",
    "Wenden Sie das Gelernte an, indem Sie ein Programm schreiben, das mit `print()` alle [Primzahlen](https://de.wikipedia.org/wiki/Primzahl) zwischen 3 und 200 ausgibt. Zur Erinnerung: Primzahlen sind natürliche Zahlen, die nur durch 1 und durch sich selbst, nicht aber durch andere Zahlen kleiner als sie selbst teilbar sind. Falls Ihnen der Anfang schwer fällt, schauen Sie sich nochmal die Rechenoperatoren aus dem letzten Kapitel an. Gegebenenfalls hilft es auch, wenn Sie sich ein Blatt Papier nehmen und in natürlicher Sprache eine auf Stichworten basierende [Schritt-für-Schritt-Anleitung](pseudocode) schreiben. Diese können Sie dann in Programmcode übersetzen."
   ]
  },
  {
   "cell_type": "code",
   "execution_count": null,
   "id": "10d91cfb-6a20-41f8-99a9-e48877471162",
   "metadata": {
    "id": "8MNnx8UuHl0i"
   },
   "outputs": [],
   "source": [
    "# your code"
   ]
  },
  {
   "cell_type": "markdown",
   "id": "e4704781",
   "metadata": {},
   "source": [
    "[^fn1]: Bei der Nutzung des Jupyter Notebooks über ein Terminal kann es zu Problemen beim Abbruch von Endlosschleifen kommen. Im Notfall können Sie im Terminal in diesen Fällen Strg+C zweimal eingeben. Aber Vorsicht: Nicht gespeicherte Änderungen gehen verloren und Sie müssen das Notebook neu starten."
   ]
  }
 ],
 "metadata": {
  "kernelspec": {
   "display_name": "Python 3.8.3 ('base')",
   "language": "python",
   "name": "python3"
  },
  "language_info": {
   "codemirror_mode": {
    "name": "ipython",
    "version": 3
   },
   "file_extension": ".py",
   "mimetype": "text/x-python",
   "name": "python",
   "nbconvert_exporter": "python",
   "pygments_lexer": "ipython3",
   "version": "3.8.3"
  },
  "vscode": {
   "interpreter": {
    "hash": "fb539783ae425cb9a41fd0e05fac6b0c01245dc8f3eb338114414f2eedb48908"
   }
  }
 },
 "nbformat": 4,
 "nbformat_minor": 5
}
