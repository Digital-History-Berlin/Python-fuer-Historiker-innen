{
 "cells": [
  {
   "cell_type": "markdown",
   "id": "d338e002-5e50-4db9-bad3-24a4c3720113",
   "metadata": {
    "cell_id": "00054-fadd069e-f9fa-4ff3-83e2-4e1a216deff8",
    "deepnote_cell_type": "markdown",
    "tags": []
   },
   "source": [
    "(pseudocode)=\n",
    "# Pseudocode\n",
    "\n",
    "Pseudcode hilft beim Strukturieren von Programmabläufen und unterstützt das algorithmische Denken. Dabei werden Probleme eines Programms in einzelne Schritte zerlegt, danach werden die auf diese Weise identifizierten Teilschritte zunächst generalisiert ausformuliert und als einzelne Bausteine wieder zusammengestellt. Ein Pseudcode, um zunächst zu prüfen, ob in einem Text Vokale enthalten sind, um diese danach auszugeben, könnte etwa wie folgt aussehen: \n",
    "\n",
    "    TEXT =  \"text\"\n",
    "\n",
    "    LOOP OVER TEXT\n",
    "\n",
    "        IF ELEMENT IS VOWEL\n",
    "    \n",
    "            PRINT ELEMENT\n",
    "\n",
    "Durch das Ausformulieren eines Programmablaufs in Pseudocode wird das Vorgehen klarer und mögliche Konzept, die zur Lösung einer Problemstellung in Frage kommen, können auf diese Weise leichter verstanden werden. Pseudocode liefert damit eine Vorlage, die zur Orientierung beim Schreiben des eigentlichen Codes dient. Zugleich ist Pseudocode auf alle Programmiersprachen übertragbar. Nachfolgend findet sich eine weitere beispielhafte Problemstellung, die zunächst in Pseudocode übersetzt und dann in Pythoncode ausgeschrieben ist. \n",
    "\n",
    "Für die Zahlen zwischen 1 und 50 soll:\n",
    "\n",
    "* FizzBuzz ausgegeben werden, wenn die Zahl durch 3 und 5 teilbar ist\n",
    "* Fizz ausgegeben werden, wenn die Zahl durch 3 teilbar ist\n",
    "* Buzz ausgegeben werden, wenn die Zahl durch 5 teilbar ist\n",
    "\n",
    "In Pseudocode geschrieben, sieht das Programm beispielweise wie folgt aus:\n",
    "\n",
    "    FOR i from 1 TO 50 DO\n",
    "        IF i is divisible by 3 AND i is divisible by 5 THEN\n",
    "            OUTPUT \"FizzBuzz\"\n",
    "        ELSE IF i is divisible by 3 THEN\n",
    "            OUTPUT \"Fizz\"\n",
    "        ELSE IF i is divisible by 5 THEN\n",
    "            OUTPUT \"Buzz\"\n",
    "        ELSE\n",
    "            OUTPUT i\n",
    "\n",
    "In Python ausformuliert ergibt sich der folgende Code:"
   ]
  },
  {
   "cell_type": "code",
   "execution_count": null,
   "id": "4f327dcc-e793-4083-a2cb-3b1eed6a4012",
   "metadata": {
    "cell_id": "00055-3cddb5c4-4f3e-4e46-b90c-138cfd3a78f0",
    "deepnote_cell_type": "code",
    "deepnote_to_be_reexecuted": false,
    "execution_millis": 6,
    "execution_start": 1612967683567,
    "source_hash": "67be8b46",
    "tags": []
   },
   "outputs": [],
   "source": [
    "for i in range(1,50):\n",
    "    \n",
    "    if i % 3 == 0 and i % 5 == 0:\n",
    "        print('FizzBuzz')\n",
    "        \n",
    "    elif i % 3 == 0:\n",
    "        print('Fizz')\n",
    "        \n",
    "    elif i % 5 == 0:\n",
    "        print('Buzz')\n",
    "        \n",
    "    else:\n",
    "        print(i)"
   ]
  }
 ],
 "metadata": {
  "kernelspec": {
   "display_name": "Python 3 (ipykernel)",
   "language": "python",
   "name": "python3"
  },
  "language_info": {
   "codemirror_mode": {
    "name": "ipython",
    "version": 3
   },
   "file_extension": ".py",
   "mimetype": "text/x-python",
   "name": "python",
   "nbconvert_exporter": "python",
   "pygments_lexer": "ipython3",
   "version": "3.8.12"
  }
 },
 "nbformat": 4,
 "nbformat_minor": 5
}
