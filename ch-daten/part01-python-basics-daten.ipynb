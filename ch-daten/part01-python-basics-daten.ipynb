{
 "cells": [
  {
   "cell_type": "markdown",
   "metadata": {},
   "source": [
    "# Informationen zu den Daten aus Python Basics\n",
    "\n",
    "Die Dateien `books.csv` und `library.json` sind selbst erstellt.\n",
    "\n",
    "Die Datei `adliger_vergleich.txt` ist eine eigene Transkription, entnommen aus: *Nachlassenschaft des Grafen Ferdinand von Plettenbergs, welche zu Wien obsigniret worden und welche Franz Joseph als Erbe fordert, LWL-Archivamt für Westfalen Nor.K 13 Nr. 21, 1737.*\n",
    "\n",
    "Die iiif-Manifeste sind aus den Beständen der [Französischen Nationalbibliothek](https://www.bnf.fr) entnommen:\n",
    "* [BnF. Departement des Manuscrits. Francais 1950](https://gallica.bnf.fr/iiif/ark:/12148/btv1b8447758z/manifest.json)\n",
    "* [BnF. Departement des Manuscrits. Francais 2170](https://gallica.bnf.fr/iiif/ark:/12148/btv1b9059916f/manifest.json)\n",
    "* [BnF. Departement des Manuscrits. Francais 2187](https://gallica.bnf.fr/iiif/ark:/12148/btv1b9060645m/manifest.json)\n",
    "* [BnF. Departement des Manuscrits. Francais 2196](https://gallica.bnf.fr/iiif/ark:/12148/btv1b6000339k/manifest.json)\n",
    "* [BnF. Departement des Manuscrits. Francais 2228](https://gallica.bnf.fr/iiif/ark:/12148/btv1b8426259s/manifest.json)\n",
    "* [BnF. Departement des Manuscrits. Francais 2608](https://gallica.bnf.fr/iiif/ark:/12148/btv1b8451604g/manifest.json)"
   ]
  }
 ],
 "metadata": {
  "language_info": {
   "name": "python"
  },
  "orig_nbformat": 4
 },
 "nbformat": 4,
 "nbformat_minor": 2
}
