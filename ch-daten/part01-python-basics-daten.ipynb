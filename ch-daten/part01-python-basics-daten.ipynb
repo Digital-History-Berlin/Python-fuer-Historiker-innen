{
 "cells": [
  {
   "cell_type": "markdown",
   "metadata": {},
   "source": [
    "# Informationen zu den Daten aus Part Python Basics\n",
    "\n",
    "Die Dateien `books.csv` und `library.json` sind selbst erstellt.\n",
    "\n",
    "Die Datei `adliger_vergleich.txt` ist entnommen aus: ####\n",
    "\n",
    "Die iiif-Manifeste sind aus den Beständen der [Französischen Nationalbibliothek](https://www.bnf.fr) entnommen: ####"
   ]
  }
 ],
 "metadata": {
  "language_info": {
   "name": "python"
  },
  "orig_nbformat": 4
 },
 "nbformat": 4,
 "nbformat_minor": 2
}
