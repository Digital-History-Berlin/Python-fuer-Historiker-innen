{
 "cells": [
  {
   "cell_type": "markdown",
   "id": "e76ff487-b3b0-4aad-80c3-dc60ae57df67",
   "metadata": {
    "id": "zfYOu5lPMCOG"
   },
   "source": [
    "# [JSON](https://de.wikipedia.org/wiki/JavaScript_Object_Notation)\n",
    "\n",
    "Einfache Textdateien, wie wir sie soeben eingelesen und geschrieben haben, sind für zahlreiche Anwendungsfälle schon sehr nützlich. Sie sind aber vergleichsweise unstrukturiert. Sehr oft wollen wir im Rahmen historischer Forschungsarbeiten aber mit eindeutig organsierten und strukturierten Informationen arbeiten. Wir können bei einem Korpus mit Briefen zum Beispiel folgende Informationen zu jedem Brief haben: Datum, Ort, Verfasser:in, Adressat:in, Brieftext sowie weiter Informationen. In einfachen Textdateien könnten wir nicht so ohne Weiteres auf diese Informationen zugreifen. Für solche Anwedungsszenarien gibt es allerdings eine Reihe von Dateiformaten, von denen wir im folgenden zwei genauer in den Blick nehmen werden.\n",
    "\n",
    "JSON ist ein verbreites Dateiformat zur textbasierten Speicherung strukturierter Daten. Ursprünglich wurde es im Rahmen der Programmiersprache [*JavaScript*](https://de.wikipedia.org/wiki/JavaScript) (JSON ist ein Akronym für \"JavaScript Object Notation\") zum Austausch von Daten verwendet. Inzwischen ist das Format zu einem wichtigen Standard zur maschinenbasierten Kommunikation zwischen unterschiedlichen Plattformen geworden. Es ist unabhängig von bestimmten Programmiersprachen. Die Strukturierung von JSON-Dateien unterliegt nur [wenigen Regeln](https://www.json.org/json-en.html). Lesen Sie sich die Inhalte der verlinkten Seite in Ruhe durch.\n",
    "\n",
    "## Aufbau einer JSON-Datei\n",
    "\n",
    "Betrachten wir einmal den Inhalt der Datei \"library.json\" in unserem Ordner \"example_data\". Es handelt sich hier nicht um einen ausführbaren Code:"
   ]
  },
  {
   "cell_type": "markdown",
   "id": "ac7ccd89-2c58-49c8-8f09-a2cc95f81508",
   "metadata": {
    "id": "gDZFeY1Xa0Go"
   },
   "source": [
    "```\n",
    "{\n",
    "    \"label\": \"My Library\",\n",
    "    \"books available\": true,\n",
    "    \"owner\": null,\n",
    "    \"books\": [\n",
    "        {\n",
    "            \"title\": \"Der Prozess\",\n",
    "            \"author\": \"Franz Kafka\",\n",
    "            \"year\": 1935,\n",
    "            \"editions\": [\n",
    "                1935,\n",
    "                1946,\n",
    "                1963,\n",
    "                1990,\n",
    "                2011,\n",
    "                2012\n",
    "            ]\n",
    "        },\n",
    "        {\n",
    "            \"title\": \"Half of a Yellow Sun\",\n",
    "            \"author\": \"Chimamanda Ngozi Adichie\",\n",
    "            \"year\": 2006,\n",
    "            \"editions\": [\n",
    "                2006,\n",
    "                2007,\n",
    "                2017\n",
    "            ]\n",
    "        },\n",
    "        {\n",
    "            \"title\": \"Network Effect\",\n",
    "            \"author\": \"Martha Wells\",\n",
    "            \"year\": 2020,\n",
    "            \"editions\": [\n",
    "                2020\n",
    "            ]\n",
    "        }\n",
    "    ]\n",
    "}\n",
    "```"
   ]
  },
  {
   "cell_type": "markdown",
   "id": "707b8adc-6c05-4a54-94ae-2a5fbc0f8732",
   "metadata": {
    "id": "jG4-JUwob4lt"
   },
   "source": [
    "Mit dem Wissen aus dem letzten Notebook wird Ihnen wahrscheinlich auffallen, dass der Inhalt der Datei wie eine Kombination aus Dictionaries und Listen aussieht. Tatsächlich sind die zugrundeliegenden Konzepte identisch. Einzig die Benennung ist etwas anders -- in JSON-Dateien heißen Dictionaries *Objekte*, Listen heißen *Arrays*. Ein weiterer feiner Unterschied ist die Verwendung von `null` für ein leeres Element in JSON. In Python verwenden Sie dagegen `None`, wenn eine Variable keinen Wert haben soll. Strings und Integers funktionieren, wie Sie es aus Python kennen.\n",
    "\n",
    "Der Inhalt der JSON-Datei \"library.json\" besteht demnach aus einem Dictionary mit vier Schlüssel-Wert-Paaren (\"label\", \"books available\", \"owner\", \"books\"). In \"books\" ist eine Liste bzw. - im JSON-Sprech - ein Array gespeichert, das weitere Dictionaries respektive Objekte enthält. Jedes Dictionary / Objekt modelliert dabei ein einzelnes Buch.\n",
    "\n",
    "Wenn Sie mit den hier verwendeten Begriffen Probleme haben, gehen Sie am besten nochmal die Abschnitte zu *Listen* und *Dictionaries* im letzten Kapitel durch."
   ]
  },
  {
   "cell_type": "markdown",
   "id": "afade07c-ea3f-4312-beec-b26520e31862",
   "metadata": {
    "id": "TYqxxc_kf19N"
   },
   "source": [
    "## JSONs in Python öffnen und speichern\n",
    "\n",
    "Nun wollen wir ein Programm schreiben, mit dem wir die Datei \"library.json\" auslesen und um weitere Bücher erweitern können. Mit dem unten angeführten Code, den Sie bereits aus dem letzten Kapitel kennen, können Sie auch JSON-Dateien öffnen und bearbeiten. Allerdings können wir den Inhalt der Datei dann nur als String verarbeiten -- die Struktur aus Dictionaries und Listen geht verloren. Natürlich können wir auch ein Programm schreiben, dass an den richtigen Stellen die richtigen Klammern einfügt -- dies ist jedoch aufwändiger als den Inhalt der JSON-Datei in ein einzelnes Dictionary zu konvertieren. Hierzu stellt Python die Programmbibliothek `json` zur Verfügung. Um diese in Ihrem Programm verwenden zu können, muss diese zunächst importiert werden. Das geschieht, wenn Sie folgende Zeile ausführen:"
   ]
  },
  {
   "cell_type": "code",
   "execution_count": null,
   "id": "b9d75774-1b39-4616-9103-293bac6e013e",
   "metadata": {
    "id": "DC0SUso-hLdn"
   },
   "outputs": [],
   "source": [
    "import json"
   ]
  },
  {
   "cell_type": "markdown",
   "id": "056f58ad-e1d6-40ec-bba0-4d511b6b7487",
   "metadata": {
    "id": "NM2YT1wChcAW"
   },
   "source": [
    "Anschließend können wir den Inhalt der Datei mit der Funktion `load()` auslesen und als Dictionary in einer Variable speichern:"
   ]
  },
  {
   "cell_type": "code",
   "execution_count": null,
   "id": "0e621755-d3f5-4892-9ae1-8dd3cea3aaa2",
   "metadata": {
    "id": "vDmTwRxlhiO4"
   },
   "outputs": [],
   "source": [
    "with open(\"example_data/library.json\", \"r\") as json_file:\n",
    "    library_content = json.load(json_file)\n",
    "\n",
    "print(type(library_content))\n",
    "print(library_content)"
   ]
  },
  {
   "cell_type": "markdown",
   "id": "d8b558b5-5183-4927-bdb1-2bc5fdfcff87",
   "metadata": {
    "id": "IETkIR61yPd4"
   },
   "source": [
    "Ab jetzt können wir die Daten weiterverarbeiten, wie im letzten Kapiteö behandelt: Sie können damit wie mit jedem anderen Dictionary arbeiten. Mit folgendem Code können Sie etwa alle in der Bibliothek gespeicherten Buchtitel, Autor:innen und das Jahr der letzten Auflage auslesen:"
   ]
  },
  {
   "cell_type": "code",
   "execution_count": null,
   "id": "ce567102-6b01-4041-ac39-6f2e9add55f7",
   "metadata": {
    "id": "122VuTi-ys1-"
   },
   "outputs": [],
   "source": [
    "book_list = library_content['books']\n",
    "\n",
    "for book in book_list:\n",
    "    print(f'''Das Buch '{book['title']}' von '{book['author']}' \n",
    "    wurde zuletzt im Jahr {book['editions'][-1]} aufgelegt.\\n''')"
   ]
  },
  {
   "cell_type": "markdown",
   "id": "55208a86-ea15-4b5e-91de-3ae072cb81d7",
   "metadata": {
    "id": "KnvhCLjizmyU"
   },
   "source": [
    "Änderungen an der *Datei* \"library.json\" können Sie ähnlich, wie im vorherigen Abschnitt beschrieben, vornehmen. Bereiten Sie zuerst die Dictionary-Variable vor, die den Inhalt der JSON-Datei speichert. Anschließend kann die Variable mit der Funktion `dump()` in eine JSON-Datei exportiert werden. Ähnlich wie die Funktion `write()`, die Sie weiter oben kennen gelernt haben, benötigt `dump()`, die Dictionary-Variable und ein Datei-Objekt als Parameter. Hier aktualisieren wir die fehlende Information unter \"owner\"."
   ]
  },
  {
   "cell_type": "code",
   "execution_count": null,
   "id": "5e0256bf-4667-4108-bcac-eb9836f04135",
   "metadata": {
    "id": "sqM7D8Vv0Jsv"
   },
   "outputs": [],
   "source": [
    "library_content['owner'] = \"Max Mustermann\"\n",
    "\n",
    "with open(\"example_data/library_version_2.json\", \"w\") as json_file:\n",
    "    json.dump(library_content, json_file)"
   ]
  },
  {
   "cell_type": "markdown",
   "id": "47acd206-1fd7-46d1-9331-1bcb3bfb68b5",
   "metadata": {
    "id": "ZpYDXUoI1TKg"
   },
   "source": [
    "Wenn Sie die JSON-Datei aus dem Ordner \"example_data\" heraus öffnen (zum Beispiel mittels Editor) werden Sie feststellen, dass der Inhalt nun in einer einzigen Zeile gespeichert ist. Insbesondere bei sehr großen JSON-Dateien lässt sich so Speicherplatz sparen.Zur Erinnerung: Zeilenumbrüche und Tabstobs werden durch \"\\\\n\" bzw. \"\\\\t\" repräsentiert; auch einzelne Zeichen verbrauchen Speicherkapazität. Oft müssen Sie bei der Arbeit mit JSON-Dateien aber auch in die Dateien reinschauen; hier helfen dann Zeilenumbrüche und Einrückungen. Sie können der Funktion `dump()` einen weiteren Parameter (`indent`) mit der Anzahl der Einrückungen nach einem Zeilenumbruch übergeben. Auf diese Weise wird die JSON-Datei lesbarer:"
   ]
  },
  {
   "cell_type": "code",
   "execution_count": null,
   "id": "c2ead44b-e503-4e33-b845-af2347c59f28",
   "metadata": {
    "id": "X5juwySO2Aso"
   },
   "outputs": [],
   "source": [
    "library_content['owner'] = \"Maxine Musterfrau\"\n",
    "\n",
    "with open(\"example_data/library_version_2.json\", \"w\") as json_file:\n",
    "    json.dump(library_content, json_file, indent = 4)"
   ]
  },
  {
   "cell_type": "markdown",
   "id": "d7733439-78fb-4364-ae2d-4f37a669b18f",
   "metadata": {
    "id": "AFvwZWxP6rDW"
   },
   "source": [
    "Wenn Sie die JSON-Datei nun noch einmal öffnen, dann sollte sie sich schon sehr viel übersichtlicher darstellen."
   ]
  },
  {
   "cell_type": "markdown",
   "id": "bedd359a-2c16-4a40-9fc2-b5627ea16ea0",
   "metadata": {
    "id": "4OpDa7A67hRH"
   },
   "source": [
    "## JSON in den Digitalen Geschichtswissenschaften: IIIF\n",
    "\n",
    "Ein zunehmend wichtig werdender Datenstandard im Cultural-Heritage-Bereich ist das [*International Image Interoperability Framework (IIIF)*](https://iiif.io/) (Aussprache: Triple-I-F). Es wurde ursprünglich von verschiedenen GLAM-Einrichtung (Galleries, Libraries, Archives, Museums) entwickelt. Ziel war es, ein standardisiertes Framework für ein Datenmodell zu schaffen, um bildbasiertes Kulturgut interoperabel, also unabhängig von den sich unterscheidenden Standards unterschiedlicher Kultureinrichtungen, online präsentieren und austauschen zu können. Dabei sollten nicht nur Metadaten zur Beschreibung des Kontextes der einzelnen Kulturgutobjekte gespeichert werden können, sondern insbesondere bei Werken, die aus mehreren Bilddateien bestehen, logische Zusammenhänge zwischen den Einzelbildern für das Gesamtwerk erhalten werden. Die Anwendungsmöglichkeiten von IIIF sind sehr vielfältig; [zahlreiche Einrichtungen und Projekte](https://github.com/IIIF/awesome-iiif) greifen mittlerweile darauf zurück.\n",
    "\n",
    "Sie müssen sich für diese Einführung nicht intensiv in IIIF einarbeiten. In der folgenden Übungsaufgabe werden wir uns ausschließlich auf die [Presentation API](http://ronallo.com/iiif-workshop/presentation/) konzentrieren. In aller Kürze beschrieben definiert die *Presentation API* einen Standard zur Strukturierung einer JSON-Datei um die Zusammenhänge eines bildbasierten Werkes beschreiben zu können ([Vollständige Dokumentation der *Presentation API*](https://iiif.io/api/presentation/3.0/)). Eine solche Datei wird *Manifest* genannt.\n",
    "\n",
    "In der folgenden Aufgabe werden wir mit mittelalterlichen Handschriften arbeiten. Eine einzelne Handschrift kann als ein einzelnes, bildbasiertes Werk verstanden werden. Beachten Sie dabei, dass es hier um das tatsächliche Buch, das in irgendeiner Bibliothek liegt, geht -- nicht um den Text der Handschrift oder um Faksimiles. Eine Handschrift kann somit durch ein IIIF-Manifest repräsentiert werden. Betrachten wir z.B. das Manuskript \"Grandes Chroniques de France\"; Sie finden es im Ordner im Pfad \"example_data/iiif-manifests\" unter \"BnF. Departement des Manuscrits. Français 2608.json\". Wir müssen an dieser Stelle nicht auf jedes Detail genau eingehen. Metadaten der Handschrift sind in der Liste \"metadata\" gespeichert. Hier finden Sie z.B. den Titel, die Datierung oder die Sprache, in der der Text verfasst ist. Das Manifest enthält außerdem die Links zu den Bilddateien der Scans der einzelnen Seiten. Diese sind im Manifest in der Liste \"canvases\" gespeichert (die ein Dictionary in der Liste \"sequences\" ist). Jede Seite der Handschrift wird dabei durch ein \"canvas\"-Dictionary repräsentiert. Um den Link zur Bilddatei der jeweiligen Seite zu finden, suchen Sie in der Liste \"images\" nach dem Schlüssel \"@id\".[^fn1] Der Link zur Bilddatei der ersten Seite der \"Grandes Chroniques de France\" ist z.B. [https://gallica.bnf.fr/iiif/ark:/12148/btv1b8451604g/f1/full/full/0/native.jpg](https://gallica.bnf.fr/iiif/ark:/12148/btv1b8451604g/f1/full/full/0/native.jpg). Schauen Sie sich die JSON-Datei gut an und vollziehen Sie ihren Aufbau nach.\n",
    "\n",
    "Angenommen, Sie wollen nun die Scans aller Seiten der Handschrift herunterladen. In diesem Fall können Sie natürlich auch die Handschrift im [Viewer der französischen Nationalbibliothek](https://gallica.bnf.fr/ark:/12148/btv1b8451604g) aufrufen und die Digitalisate dort herunterladen. Wollen Sie das jedoch für mehrere Dutzend oder gar Hundert Handschriften tun, bieten Ihnen die IIIF-Manifeste eine Möglichkeit den Download automatisiert durchzuführen."
   ]
  },
  {
   "cell_type": "markdown",
   "id": "3658c352-eac8-4ff1-a7cd-53993b851da9",
   "metadata": {
    "id": "KF7BFz0nLomA"
   },
   "source": [
    "## Aufgabe: JSON-Daten verarbeiten\n",
    "Schreiben Sie ein Programm zur Vorbereitung eines automatischen Downloads aller Bilddateien der Scans einer Reihe von vorgegebenen mittelalterlichen Handschriften. Die IIIF-Manifeste der einzelnen Handschriften finden Sie in im Ordner data/iiif-manifests. Ihr Programm sollte die folgenden Aufgaben durchführen:\n",
    "* Die Links zu den Bilddateien der Scans sollten in einer Textdatei (.txt) gespeichert werden. Nach jedem Link soll ein Zeilenumbruch erfolgen. Die Links werden also zeilenweise in der Datei aufgelistet.\n",
    "* Es soll für jede Handschrift jeweils eine eigene Textdatei erstellt werden, die die Links zu ihren Scans enthält.\n",
    "* Der Name jeder Textdatei soll der Titel der jeweiligen Handschrift sein (also z.B. \"Grandes Chroniques de France.txt\").\n",
    "* *Optional: Extrahieren Sie nur die Links aus den IIIF-Manifesten, deren Handschriften irgendwann zwischen den Jahren 1300 und 1400 datiert sind.*"
   ]
  },
  {
   "cell_type": "code",
   "execution_count": null,
   "id": "b83c44ef-5ed5-446b-8e57-44a2102fde9b",
   "metadata": {
    "id": "1cFJu9SrQNnu"
   },
   "outputs": [],
   "source": [
    "folder_path = \".example_data/iiif-manifests/\"\n",
    "manifests = [\n",
    "      \"BnF. Departement des Manuscrits. Francais 2170.json\",\n",
    "      \"BnF. Departement des Manuscrits. Francais 2187.json\",\n",
    "      \"BnF. Departement des Manuscrits. Francais 1950.json\",\n",
    "      \"BnF. Departement des Manuscrits. Francais 2196.json\",\n",
    "      \"BnF. Departement des Manuscrits. Francais 2228.json\",\n",
    "      \"BnF. Departement des Manuscrits. Francais 2608.json\"       \n",
    "]\n",
    "\n",
    "# Ihr Code"
   ]
  },
  {
   "cell_type": "code",
   "execution_count": null,
   "id": "55f0cef4-f43d-4411-a2e9-3d43a034e9db",
   "metadata": {
    "tags": [
     "thebe-init",
     "hide-input"
    ]
   },
   "outputs": [],
   "source": [
    "# hidden cell creates content for using with Thebe Live-Code\n",
    "# >>>change paths, when Jupyter Book is published<<<\n",
    "\n",
    "import requests\n",
    "import os\n",
    "\n",
    "data_folder = 'example_data'\n",
    "\n",
    "try:\n",
    "    os.mkdir(data_folder)\n",
    "except:\n",
    "    pass\n",
    "\n",
    "iiif_folder = 'example_data/iiif-manifests'\n",
    "\n",
    "try:\n",
    "    os.mkdir(iiif_folder)\n",
    "except:\n",
    "    pass  \n",
    "  \n",
    "file_list_1 = [('adliger_vergleich.txt', 'https://raw.githubusercontent.com/martindroege/jb-example-data/main/adliger_vergleich.txt'),\n",
    "             ('books.csv', 'https://raw.githubusercontent.com/martindroege/jb-example-data/main/books.csv'),\n",
    "             ('library.json', 'https://raw.githubusercontent.com/martindroege/jb-example-data/main/library.json')]\n",
    "\n",
    "for file_name, url in file_list_1:\n",
    "    response = requests.get(url)\n",
    "\n",
    "    with open(f'example_data/{file_name}', 'w', encoding='UTF8') as f:\n",
    "        f.write(response.text)\n",
    "        \n",
    "file_list_2 = [1950, 2228, 2608, 2170, 2187, 2196]\n",
    "base_url = 'https://raw.githubusercontent.com/martindroege/jb-example-data/main/iiif-manifests/BnF.%20Departement%20des%20Manuscrits.%20Francais%20'\n",
    "base_file_name = 'BnF. Departement des Manuscrits. Francais '\n",
    "\n",
    "for i in file_list_2:\n",
    "    response = requests.get(f'{base_url}{str(i)}.json')\n",
    "\n",
    "    with open(f'{iiif_folder}/{base_file_name}{str(i)}.json', 'w', encoding='UTF8') as f:\n",
    "        f.write(response.text)"
   ]
  },
  {
   "cell_type": "markdown",
   "id": "3492143e",
   "metadata": {},
   "source": [
    "[^fn1]: \"images\" muss eine Liste sein, da ein IIIF-\"canvas\" auch aus mehreren Bilddateien bestehen kann. So kann etwa im Manifest abgebildet werden, dass zu einer Seite einer Handschrift nur Fragmente existieren; jedes Fragment kann durch eine eigene Bilddatei dargestellt werden. Das nur als kleines Beispiel für die Flexibilität von IIIF."
   ]
  }
 ],
 "metadata": {
  "kernelspec": {
   "display_name": "Python 3 (ipykernel)",
   "language": "python",
   "name": "python3"
  },
  "language_info": {
   "codemirror_mode": {
    "name": "ipython",
    "version": 3
   },
   "file_extension": ".py",
   "mimetype": "text/x-python",
   "name": "python",
   "nbconvert_exporter": "python",
   "pygments_lexer": "ipython3",
   "version": "3.8.12"
  }
 },
 "nbformat": 4,
 "nbformat_minor": 5
}
