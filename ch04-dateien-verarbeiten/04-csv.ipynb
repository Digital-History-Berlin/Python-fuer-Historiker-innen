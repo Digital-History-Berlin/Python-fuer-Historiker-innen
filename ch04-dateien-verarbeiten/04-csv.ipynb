{
 "cells": [
  {
   "cell_type": "markdown",
   "id": "64e7abc3-ae6c-47c2-8f99-6b8ba1ea23e6",
   "metadata": {
    "id": "0QqG55mo1iUc"
   },
   "source": [
    "# CSV\n",
    "\n",
    "## Allgemeines\n",
    "\n",
    "Ein weiteres Format zur strukturierten Speicherung von Daten, mit dem Sie als Historiker:innen oft zu tun haben, ist CSV (Comma Separated Values). Es dient der textbasierten Speicherung von Tabellen. Sicher sind Sie mit Exceldateien vertraut. \"xls\" ist jedoch ein proprietäres Format -- CSV-Daten sind wesentlich interoperabler. Wie folgendes Beispiel zeigt, sind CSVs so strukturiert, dass eine Tabellen*zeile* durch eine Zeile dargestellt wird. Tabellen*spalten* sind dagegen durch ein Trennzeichen getrennt.\n",
    "\n",
    "**Darstellung als Tabelle**\n",
    "\n",
    "| ID | Titel | Autor | Erscheinungsjahr |\n",
    "|:---|-------|-------|-----------------:|\n",
    "| 1 | Der Prozess | Franz Kafka  | 1935 |\n",
    "| 2 | Half of a Yellow Sun | Chimanda Ngozi Adichie  | 2006 |\n",
    "| 3 | Network Effect | Martha Wells  | 2020 |\n",
    "\n",
    "**Darstellung als CSV**\n",
    "```\n",
    "ID;Titel;Autor;Erscheinungsjahr\n",
    "1;Der Prozess;Franz Kafka;1935\n",
    "2;Half of a Yellow Sun;Chimanda Ngozi Adichie;2006\n",
    "3;Network Effect;Martha Wells;2020\n",
    "```\n",
    "(aus der Datei: data/books.csv)\n",
    "\n",
    "\n",
    "Als Trennzeichen werden meist Kommata verwendet, sehr oft aber auch Semikolons. Der Grund dafür liegt in der unterschiedlichen Notation von Kommazahlen im deutsch- und englischsprachigen Raum (Deutsch: 4,2 / Englisch: 4.2). Das Komma in einer Zahl würde dann als Trennzeichen erkannt werden; 4,2 würde nicht mehr als einzelne Zahl sondern als zwei Spalten mit den Zahlen 4 und 2 interpretiert werden. Letztlich kann bei CSV jedes beliebige Zeichen als Trennzeichen verwendet werden; meist haben Sie mit \";\" die wenigsten Probleme.\n",
    "\n",
    "Sie können CSV-Dateien in allen gängigen Tabellenkalkulationsprogrammen (z.B. Microsoft Excel) öffnen und bearbeiten oder auch aus solchen Programmen CSVs exportieren."
   ]
  },
  {
   "cell_type": "markdown",
   "id": "2f78e3f5-1ff7-468b-8c07-41724f73a80b",
   "metadata": {
    "id": "nRiPrgwjcPZ-"
   },
   "source": [
    "## CSVs in Python öffnen und speichern\n",
    "\n",
    "Ähnlich wie für JSON gibt es auch für CSVs Python-Programmbibliotheken, mit denen Sie Daten auslesen und neue CSV-Dateien erstellen können. In dieser Einheit besprechen wir nur die [Standardbibliothek](https://docs.python.org/3/library/csv.html) von Python. Wie schon im vorherigen Abschnitt muss diese zuerst importiert werden."
   ]
  },
  {
   "cell_type": "code",
   "execution_count": 1,
   "id": "b08e1d45-8158-45ab-ba6e-7b1d52f94d0a",
   "metadata": {
    "id": "4_pFI1L5ckFn"
   },
   "outputs": [],
   "source": [
    "import csv"
   ]
  },
  {
   "cell_type": "markdown",
   "id": "20174264-9673-4724-9089-aedd2b8d7fb4",
   "metadata": {
    "id": "VYeyKOH1fl64"
   },
   "source": [
    "Mit dem folgenden Code können wir den Inhalt einer CSV-Datei auslesen:"
   ]
  },
  {
   "cell_type": "code",
   "execution_count": 2,
   "id": "7c457ede-5af4-4710-82fd-25057aadf354",
   "metadata": {
    "id": "DN368SnRgHnS"
   },
   "outputs": [
    {
     "name": "stdout",
     "output_type": "stream",
     "text": [
      "['ID', 'Titel', 'Autor', 'Erscheinungsjahr']\n",
      "['1', 'Der Prozess', 'Franz Kafka', '1935']\n",
      "['2', 'Half of a Yellow Sun', 'Chimanda Ngozi Adichie', '2006']\n",
      "['3', 'Network Effect', 'Martha Wells', '2020']\n"
     ]
    }
   ],
   "source": [
    "with open(\"../data/books.csv\", \"r\") as csv_file:\n",
    "    books_reader = csv.reader(csv_file, delimiter = \";\")\n",
    "\n",
    "    for row in books_reader:\n",
    "        print(row)"
   ]
  },
  {
   "cell_type": "markdown",
   "id": "f91da04e-d13e-4417-9352-e26df75e9399",
   "metadata": {
    "id": "qJIV43_ThRI2"
   },
   "source": [
    "Die Funktion `reader()` funktioniert ähnlich wie `readlines()`: Die Datei wird Zeile für Zeile ausgelesen; die einzelnen Zeilen können dann weiterverarbeitet werden. Wichtig ist hier der Paramter `delimiter`. Hier geben Sie an, welches Trennzeichen die CSV-Datei, die Sie öffnen wollen, verwendet. Wenn Sie mit fremden Daten arbeiten, öffnen Sie die CSV-Datei einfach kurz in einem Texteditor um herauszufinden, was Sie hier angeben müssen.\n",
    "\n",
    "Wie Sie sehen, werden in diesem Fall die Zeilen als Listen ausgegeben, sodass Sie auf die einzelnen Zellen der Tabelle zugreifen können:"
   ]
  },
  {
   "cell_type": "code",
   "execution_count": 4,
   "id": "94db145a-e566-4b9b-82d2-437b056ae266",
   "metadata": {
    "id": "R3HHc4gXidJW"
   },
   "outputs": [
    {
     "name": "stdout",
     "output_type": "stream",
     "text": [
      "Buch-ID: ID\n",
      "Titel: Titel\n",
      "Autor: Autor\n",
      "Erscheinungsjahr: Erscheinungsjahr\n",
      "---\n",
      "Buch-ID: 1\n",
      "Titel: Der Prozess\n",
      "Autor: Franz Kafka\n",
      "Erscheinungsjahr: 1935\n",
      "---\n",
      "Buch-ID: 2\n",
      "Titel: Half of a Yellow Sun\n",
      "Autor: Chimanda Ngozi Adichie\n",
      "Erscheinungsjahr: 2006\n",
      "---\n",
      "Buch-ID: 3\n",
      "Titel: Network Effect\n",
      "Autor: Martha Wells\n",
      "Erscheinungsjahr: 2020\n",
      "---\n"
     ]
    }
   ],
   "source": [
    "with open(\"../data/books.csv\", \"r\") as csv_file:\n",
    "    books_reader = csv.reader(csv_file, delimiter = \";\")\n",
    "\n",
    "    for row in books_reader:\n",
    "        print(f\"Buch-ID: {row[0]}\")\n",
    "        print(f\"Titel: {row[1]}\")\n",
    "        print(f\"Autor: {row[2]}\")\n",
    "        print(f\"Erscheinungsjahr: {row[3]}\")\n",
    "        print(\"---\")"
   ]
  },
  {
   "cell_type": "markdown",
   "id": "a28889f5-e2cc-428f-bf61-77ff7a27b781",
   "metadata": {
    "id": "LJANygMjjMZg"
   },
   "source": [
    "Wenn Sie den Header nicht berücksichtigen wollen, können Sie ihn z.B. mit `next()` überspringen:"
   ]
  },
  {
   "cell_type": "code",
   "execution_count": 6,
   "id": "9ff100cd-09fd-4bf4-8e75-b64125b205df",
   "metadata": {
    "id": "G7dGacwRjUno"
   },
   "outputs": [
    {
     "name": "stdout",
     "output_type": "stream",
     "text": [
      "Buch-ID: 1\n",
      "Titel: Der Prozess\n",
      "Autor: Franz Kafka\n",
      "Erscheinungsjahr: 1935\n",
      "---\n",
      "Buch-ID: 2\n",
      "Titel: Half of a Yellow Sun\n",
      "Autor: Chimanda Ngozi Adichie\n",
      "Erscheinungsjahr: 2006\n",
      "---\n",
      "Buch-ID: 3\n",
      "Titel: Network Effect\n",
      "Autor: Martha Wells\n",
      "Erscheinungsjahr: 2020\n",
      "---\n"
     ]
    }
   ],
   "source": [
    "with open(\"../data/books.csv\", \"r\") as csv_file:\n",
    "    books_reader = csv.reader(csv_file, delimiter = \";\")\n",
    "\n",
    "    next(books_reader)\n",
    "\n",
    "    for row in books_reader:\n",
    "        print(f\"Buch-ID: {row[0]}\")\n",
    "        print(f\"Titel: {row[1]}\")\n",
    "        print(f\"Autor: {row[2]}\")\n",
    "        print(f\"Erscheinungsjahr: {row[3]}\")\n",
    "        print(\"---\")"
   ]
  },
  {
   "cell_type": "markdown",
   "id": "e6812b52-0210-48b0-8c69-2a5da3a0e1d8",
   "metadata": {
    "id": "P_qJN5FjjiW6"
   },
   "source": [
    "Das Schreiben neuer CSV-Dateien funktioniert ebenfalls Zeile für Zeile. Hierbei müssen Sie für jede Zeile eine Liste erstellen, die Sie mit der Funktion `writerow()` zu einem neuen Dateiobjekt hinzufügen können. Bei Windows-Rechner müssen Sie beim Öffnen der Datei den Parameter newline auf einen leeren String (\"\") setzen, sonst wir nach jeder Zeile eine Leerzeile geschrieben."
   ]
  },
  {
   "cell_type": "code",
   "execution_count": 9,
   "id": "aff95fde-7ac4-4b81-a0fe-b14e2b6299c5",
   "metadata": {
    "id": "qLyMQafNkGRo"
   },
   "outputs": [],
   "source": [
    "with open(\"../data/more_books.csv\", \"w\", newline=\"\") as csv_file:\n",
    "    books_writer = csv.writer(csv_file, delimiter = \",\")\n",
    "\n",
    "    header = ['ID', ' Titel', ' Autor', ' Erscheinungsjahr']\n",
    "    books_writer.writerow(header)\n",
    "\n",
    "    book_id = 1\n",
    "    new_title = \"Die Pest\"\n",
    "    new_author = \"Albert Camus\"\n",
    "    new_year = \"1947\"\n",
    "    new_book = [book_id, new_title, new_author, new_year]\n",
    "\n",
    "    books_writer.writerow(new_book)\n",
    "\n",
    "    book_id = book_id + 1\n",
    "    new_book = [book_id, \"The Hobbit\", \"John Ronald Reuel Tolkien\", \"1937\"]\n",
    "\n",
    "    books_writer.writerow(new_book)"
   ]
  },
  {
   "cell_type": "markdown",
   "id": "359fbe82-7277-43b2-9f07-abecaab89a7e",
   "metadata": {
    "id": "mLm1tkQI6rDZ"
   },
   "source": [
    "Schauen Sie wieder im Ordner \"data\" nach: Finden Sie die Datei \"more_books.csv\" und enthält sie die gewünschten Informationen?"
   ]
  },
  {
   "cell_type": "markdown",
   "id": "3f03dbf7-d1a7-4b75-b46f-3c2c1c72dad8",
   "metadata": {
    "id": "YOXrDL_QmGr4"
   },
   "source": [
    "## DictReader: Eine Alternative zum Lesen und Erstellen von CSVs\n",
    "Neben dieser Methode zum Bearbeiten von CSV-Dateien stellt die Python-Bibliothek noch die Möglichkeit bereit, CSVs als Dictionaries zu öffnen. Dies kann hilfreich sein, wenn Ihnen die genaue Position der Zellen nicht bekannt ist und Sie stattdessen mit den *Namen* der Spalten arbeiten möchten. Das Auslesen funktioniert dabei ähnlich wie oben:"
   ]
  },
  {
   "cell_type": "code",
   "execution_count": 10,
   "id": "5bc3d2c9-254a-40f8-a1a4-9c3ce91dd228",
   "metadata": {
    "id": "1jF5iVjVmwep"
   },
   "outputs": [
    {
     "name": "stdout",
     "output_type": "stream",
     "text": [
      "Der Prozess\n",
      "1935\n",
      "Half of a Yellow Sun\n",
      "2006\n",
      "Network Effect\n",
      "2020\n"
     ]
    }
   ],
   "source": [
    "with open(\"../data/books.csv\", \"r\") as csv_file:\n",
    "    books_reader = csv.DictReader(csv_file, delimiter = \";\")\n",
    "\n",
    "    for row in books_reader:\n",
    "        print(row['Titel'])\n",
    "        print(row['Erscheinungsjahr'])"
   ]
  },
  {
   "cell_type": "markdown",
   "id": "ea4abaaa-f15c-4e01-9ec3-3322256c559a",
   "metadata": {
    "id": "JjGgN-2DQHQm"
   },
   "source": [
    "Ebenso können Sie neue CSVs erstellen. Hier gehen Sie so vor, dass Sie für jede Tabellenzeile ein eigenes Dictionary vorbereiten. Wichtig ist dabei, dass Sie die Kopfzeile der Tabelle (die ja die Spaltennamen enthält) vorher in einer Liste definieren und dem DictWriter-Objekt als Parameter übergeben."
   ]
  },
  {
   "cell_type": "code",
   "execution_count": 11,
   "id": "9d1b008e-ba68-472b-a37a-ce1e22cafdf3",
   "metadata": {
    "id": "C8YA67pDRPOo"
   },
   "outputs": [],
   "source": [
    "with open(\"../data/more_books.csv\", \"w\", newline=\"\") as csv_file:\n",
    "    header = [\"ID\",\n",
    "            \"Titel\",\n",
    "            \"Autor\",\n",
    "            \"Erscheinungsjahr\",\n",
    "            \"verfügbar\"]\n",
    "    books_writer = csv.DictWriter(csv_file, fieldnames = header)\n",
    "    books_writer.writeheader()\n",
    "\n",
    "    more_input = True\n",
    "    book_id = 1\n",
    "\n",
    "    while(more_input == True):\n",
    "        title = input(\"Geben Sie einen Titel ein: \")\n",
    "        author = input(\"Geben Sie eine Autor*in ein: \")\n",
    "        year = input(\"Geben Sie ein Erscheinungsjahr ein: \")\n",
    "        available = input(\"Ist das Buch verfügbar? (ja|nein) \")\n",
    "        more_input_answer = input(\"Möchten Sie weitere Titel eingeben? (j|n) \")\n",
    "\n",
    "        new_book = {\"ID\": book_id,\n",
    "            \"Titel\": title,\n",
    "            \"Autor\": author,\n",
    "            \"Erscheinungsjahr\": year,\n",
    "            \"verfügbar\": available}\n",
    "\n",
    "        books_writer.writerow(new_book)\n",
    "        book_id = book_id + 1\n",
    "\n",
    "        if more_input_answer == \"n\":\n",
    "            more_input = False"
   ]
  },
  {
   "cell_type": "markdown",
   "id": "b1e1a994-cad1-40a2-8873-7f08a3e2f7dc",
   "metadata": {
    "id": "JlZyDAzwWnMq"
   },
   "source": [
    "Neben der von Python bereitgestellten csv-Bibliothek, die wir hier behandelt haben, gibt es noch weitere Möglichkeiten der Verarbeitung. Eine ebenfalls viel genutzte Bibliothek ist z.B. [Pandas](https://pandas.pydata.org/). Diese ist zwar sehr mächtig, jedoch auch wesentlich komplexer als die hier vorgestellten Ansätze. Sie wird vor allem zur Datenanalyse verwendet. In vielen Fällen wird es ausreichen, auf die Bibliothek `csv` zurückzugreifen. Sollten Sie jedoch häufiger mit CSV-Dateien arbeiten und die Inhalte analysieren wollen, ist es gegebenenfalls empfehlenswert, sich Pandas einmal näher anzusehen."
   ]
  },
  {
   "cell_type": "markdown",
   "id": "29186f76-67f3-4748-bb9e-7f9a9229c8e7",
   "metadata": {
    "id": "wFHVNQM0VJAe"
   },
   "source": [
    "## Aufgabe: Daten strukturiert speichern\n",
    "Nun haben Sie gelernt Daten zu strukturieren und dauerhaft verfügbar zu halten. In dieser Aufgabe sollen Sie den Programmcode aus dem vorherigen Kapitel nachnutzen nachnutzen. Falls Sie diese Aufgaben in der letzten Einheit nicht lösen konnten, können Sie den Code aus der Musterlösung verwenden. Passen Sie das Programm wie folgt an:\n",
    "* Der zu verarbeitende Text soll dem Programm nun nicht mehr als Variable übergeben werden, sondern aus einer Textdatei extrahiert werden.\n",
    "* Die Ausgabe soll nun nicht mehr mit `print()`, sondern als CSV-Datei erfolgen. Anstatt eines Zeilenumbruchs, soll jede Zeile nun in einer eigenen Tabellenzeile gespeichert werden. Jede Tabellenzeile soll dabei auf folgende Weise strukturiert sein:\n",
    "\n",
    "| id | text | anzahl_zeichen|\n",
    "|:---|------|--------------:|\n",
    "\n",
    "`id` entspricht dabei der Nummerierung der einzelnen Zeilen des von Ihnen in der Aufgabe verwendeten Textes. Die Zeilennummerierung müssen Sie hier noch ergänzen. `text` enthält die aus maximal zehn Wörtern bestehende tokenisierte Zeile. `anzahl_zeichen` soll die Anzahl der Buchstaben in der jeweiligen Zeile enthalten.\n",
    "\n",
    "Führen Sie das Programm für mindestens einen Text Ihrer Wahl aus."
   ]
  },
  {
   "cell_type": "code",
   "execution_count": null,
   "id": "5dfa23d7-905a-4255-b3c2-5b980ffead39",
   "metadata": {
    "id": "ibMu5gGycPf_"
   },
   "outputs": [],
   "source": [
    "import csv\n",
    "\n",
    "# Ihr Code"
   ]
  }
 ],
 "metadata": {
  "kernelspec": {
   "display_name": "Python 3 (ipykernel)",
   "language": "python",
   "name": "python3"
  },
  "language_info": {
   "codemirror_mode": {
    "name": "ipython",
    "version": 3
   },
   "file_extension": ".py",
   "mimetype": "text/x-python",
   "name": "python",
   "nbconvert_exporter": "python",
   "pygments_lexer": "ipython3",
   "version": "3.8.12"
  }
 },
 "nbformat": 4,
 "nbformat_minor": 5
}
